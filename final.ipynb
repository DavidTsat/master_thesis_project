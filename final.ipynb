{
 "cells": [
  {
   "cell_type": "code",
   "execution_count": 5,
   "metadata": {},
   "outputs": [],
   "source": [
    "import numpy as np\n",
    "import os\n",
    "import pandas as pd\n",
    "import torch\n",
    "import torch.nn as nn\n",
    "import torch.nn.functional as F\n",
    "import torch.optim as optim\n",
    "# import torch.nn.init as init\n",
    "from torch.autograd import Variable\n",
    "from dataLoader import loadData\n",
    "from tensorflow import keras"
   ]
  },
  {
   "cell_type": "code",
   "execution_count": 6,
   "metadata": {},
   "outputs": [
    {
     "name": "stderr",
     "output_type": "stream",
     "text": [
      "  % Total    % Received % Xferd  Average Speed   Time    Time     Time  Current\n",
      "                                 Dload  Upload   Total   Spent    Left  Speed\n",
      "\n",
      "  0     0    0     0    0     0      0      0 --:--:-- --:--:-- --:--:--     0\n",
      "  0     0    0     0    0     0      0      0 --:--:-- --:--:-- --:--:--     0\n",
      "  3 5778k    3  220k    0     0   115k      0  0:00:50  0:00:01  0:00:49  115k\n",
      " 33 5778k   33 1940k    0     0   693k      0  0:00:08  0:00:02  0:00:06  693k\n",
      "100 5778k  100 5778k    0     0  1652k      0  0:00:03  0:00:03 --:--:-- 1652k\n",
      "\"unzip\" ­Ґ пў«пҐвбп ў­гваҐ­­Ґ© Ё«Ё ў­Ґи­Ґ©\n",
      "Є®¬ ­¤®©, ЁбЇ®«­пҐ¬®© Їа®Ја ¬¬®© Ё«Ё Ї ЄҐв­л¬ д ©«®¬.\n",
      "‘ЁбвҐ¬Ґ ­Ґ г¤ Ґвбп ­ ©вЁ гЄ § ­­л© Їгвм.\n"
     ]
    }
   ],
   "source": [
    "!curl -O http://files.grouplens.org/datasets/movielens/ml-1m.zip"
   ]
  },
  {
   "cell_type": "code",
   "execution_count": 77,
   "metadata": {},
   "outputs": [
    {
     "name": "stderr",
     "output_type": "stream",
     "text": [
      "  % Total    % Received % Xferd  Average Speed   Time    Time     Time  Current\n",
      "                                 Dload  Upload   Total   Spent    Left  Speed\n",
      "\n",
      "  0     0    0     0    0     0      0      0 --:--:-- --:--:-- --:--:--     0\n",
      "  0 4808k    0 11401    0     0  32855      0  0:02:29 --:--:--  0:02:29 32761\n",
      " 14 4808k   14  699k    0     0   512k      0  0:00:09  0:00:01  0:00:08  511k\n",
      " 22 4808k   22 1104k    0     0   451k      0  0:00:10  0:00:02  0:00:08  451k\n",
      " 59 4808k   59 2864k    0     0   867k      0  0:00:05  0:00:03  0:00:02  867k\n",
      "100 4808k  100 4808k    0     0  1157k      0  0:00:04  0:00:04 --:--:-- 1157k\n"
     ]
    }
   ],
   "source": [
    "!curl -O http://files.grouplens.org/datasets/movielens/ml-100k.zip"
   ]
  },
  {
   "cell_type": "code",
   "execution_count": 10,
   "metadata": {},
   "outputs": [],
   "source": [
    "import zipfile\n",
    "with zipfile.ZipFile('ml-1m.zip', 'r') as zip_ref:\n",
    "    zip_ref.extractall('./')\n",
    "    \n",
    "# !cd ml-1m/"
   ]
  },
  {
   "cell_type": "code",
   "execution_count": 78,
   "metadata": {},
   "outputs": [],
   "source": [
    "import zipfile\n",
    "with zipfile.ZipFile('ml-100k.zip', 'r') as zip_ref:\n",
    "    zip_ref.extractall('./')\n",
    "    \n",
    "# !cd ml-1m/"
   ]
  },
  {
   "cell_type": "code",
   "execution_count": 4,
   "metadata": {},
   "outputs": [],
   "source": [
    "seed = 47\n",
    "np.random.seed(seed)"
   ]
  },
  {
   "cell_type": "markdown",
   "metadata": {},
   "source": [
    "We will use the following blogpost's independent code to benchmark our experiments https://blog.insightdatascience.com/explicit-matrix-factorization-als-sgd-and-all-that-jazz-b00e4d9b21ea"
   ]
  },
  {
   "cell_type": "markdown",
   "metadata": {},
   "source": [
    "# Independent MF code"
   ]
  },
  {
   "cell_type": "code",
   "execution_count": 23,
   "metadata": {},
   "outputs": [
    {
     "name": "stderr",
     "output_type": "stream",
     "text": [
      "C:\\Users\\David\\Anaconda3\\lib\\site-packages\\ipykernel_launcher.py:2: ParserWarning: Falling back to the 'python' engine because the 'c' engine does not support regex separators (separators > 1 char and different from '\\s+' are interpreted as regex); you can avoid this warning by specifying engine='python'.\n",
      "  \n"
     ]
    },
    {
     "data": {
      "text/html": [
       "<div>\n",
       "<style scoped>\n",
       "    .dataframe tbody tr th:only-of-type {\n",
       "        vertical-align: middle;\n",
       "    }\n",
       "\n",
       "    .dataframe tbody tr th {\n",
       "        vertical-align: top;\n",
       "    }\n",
       "\n",
       "    .dataframe thead th {\n",
       "        text-align: right;\n",
       "    }\n",
       "</style>\n",
       "<table border=\"1\" class=\"dataframe\">\n",
       "  <thead>\n",
       "    <tr style=\"text-align: right;\">\n",
       "      <th></th>\n",
       "      <th>user_id</th>\n",
       "      <th>item_id</th>\n",
       "      <th>rating</th>\n",
       "    </tr>\n",
       "  </thead>\n",
       "  <tbody>\n",
       "    <tr>\n",
       "      <th>0</th>\n",
       "      <td>1</td>\n",
       "      <td>1193</td>\n",
       "      <td>5</td>\n",
       "    </tr>\n",
       "    <tr>\n",
       "      <th>1</th>\n",
       "      <td>1</td>\n",
       "      <td>661</td>\n",
       "      <td>3</td>\n",
       "    </tr>\n",
       "    <tr>\n",
       "      <th>2</th>\n",
       "      <td>1</td>\n",
       "      <td>914</td>\n",
       "      <td>3</td>\n",
       "    </tr>\n",
       "    <tr>\n",
       "      <th>3</th>\n",
       "      <td>1</td>\n",
       "      <td>3408</td>\n",
       "      <td>4</td>\n",
       "    </tr>\n",
       "    <tr>\n",
       "      <th>4</th>\n",
       "      <td>1</td>\n",
       "      <td>2355</td>\n",
       "      <td>5</td>\n",
       "    </tr>\n",
       "  </tbody>\n",
       "</table>\n",
       "</div>"
      ],
      "text/plain": [
       "   user_id  item_id  rating\n",
       "0        1     1193       5\n",
       "1        1      661       3\n",
       "2        1      914       3\n",
       "3        1     3408       4\n",
       "4        1     2355       5"
      ]
     },
     "execution_count": 23,
     "metadata": {},
     "output_type": "execute_result"
    }
   ],
   "source": [
    "names = ['user_id', 'item_id', 'rating']\n",
    "df = pd.read_csv('./ml-1m/ratings.dat', sep='::', usecols = [0, 1, 2], names=names)\n",
    "df.head()"
   ]
  },
  {
   "cell_type": "code",
   "execution_count": 25,
   "metadata": {},
   "outputs": [
    {
     "data": {
      "text/plain": [
       "(6040, 3706)"
      ]
     },
     "execution_count": 25,
     "metadata": {},
     "output_type": "execute_result"
    }
   ],
   "source": [
    "n_users = df.user_id.unique().shape[0]\n",
    "n_items = df.item_id.unique().shape[0]\n",
    "n_users, n_items"
   ]
  },
  {
   "cell_type": "code",
   "execution_count": 32,
   "metadata": {},
   "outputs": [
    {
     "data": {
      "text/plain": [
       "(3952, (3706,), 3952)"
      ]
     },
     "execution_count": 32,
     "metadata": {},
     "output_type": "execute_result"
    }
   ],
   "source": [
    "df.item_id.unique().max(), df.item_id.unique().shape, df.item_id.unique().max()"
   ]
  },
  {
   "cell_type": "code",
   "execution_count": 34,
   "metadata": {},
   "outputs": [
    {
     "data": {
      "text/plain": [
       "array([[5., 0., 0., ..., 0., 0., 0.],\n",
       "       [0., 0., 0., ..., 0., 0., 0.],\n",
       "       [0., 0., 0., ..., 0., 0., 0.],\n",
       "       ...,\n",
       "       [0., 0., 0., ..., 0., 0., 0.],\n",
       "       [0., 0., 0., ..., 0., 0., 0.],\n",
       "       [3., 0., 0., ..., 0., 0., 0.]])"
      ]
     },
     "execution_count": 34,
     "metadata": {},
     "output_type": "execute_result"
    }
   ],
   "source": [
    "n_users = df.user_id.unique().max()\n",
    "n_items = df.item_id.unique().max()\n",
    "ratings = np.zeros((n_users, n_items))\n",
    "for row in df.itertuples():\n",
    "#     print(row)\n",
    "    ratings[row[1]-1, row[2]-1] = row[3]\n",
    "ratings"
   ]
  },
  {
   "cell_type": "code",
   "execution_count": 36,
   "metadata": {},
   "outputs": [],
   "source": [
    "def get_sparsity(mat):\n",
    "    sparsity = float(len(mat.nonzero()[0]))\n",
    "    sparsity /= (mat.shape[0] * mat.shape[1])\n",
    "    sparsity *= 100\n",
    "    return sparsity"
   ]
  },
  {
   "cell_type": "code",
   "execution_count": 37,
   "metadata": {},
   "outputs": [
    {
     "data": {
      "text/plain": [
       "4.190220560634904"
      ]
     },
     "execution_count": 37,
     "metadata": {},
     "output_type": "execute_result"
    }
   ],
   "source": [
    "get_sparsity(ratings)"
   ]
  },
  {
   "cell_type": "code",
   "execution_count": 64,
   "metadata": {},
   "outputs": [],
   "source": [
    "def train_test_split(ratings):\n",
    "    np.random.seed(seed)\n",
    "    test = np.zeros(ratings.shape)\n",
    "    train = ratings.copy()\n",
    "    for user in range(ratings.shape[0]):\n",
    "        test_ratings = np.random.choice(ratings[user, :].nonzero()[0], \n",
    "                                        size=10, \n",
    "                                        replace=False)\n",
    "        train[user, test_ratings] = 0.\n",
    "        test[user, test_ratings] = ratings[user, test_ratings]\n",
    "        \n",
    "    # Test and training are truly disjoint\n",
    "    assert(np.all((train * test) == 0)) \n",
    "    return train, test"
   ]
  },
  {
   "cell_type": "code",
   "execution_count": 73,
   "metadata": {},
   "outputs": [],
   "source": [
    "train_1m, test_1m = train_test_split(ratings)"
   ]
  },
  {
   "cell_type": "code",
   "execution_count": 74,
   "metadata": {},
   "outputs": [
    {
     "data": {
      "text/plain": [
       "array([[5., 0., 0., ..., 0., 0., 0.],\n",
       "       [0., 0., 0., ..., 0., 0., 0.],\n",
       "       [0., 0., 0., ..., 0., 0., 0.],\n",
       "       ...,\n",
       "       [0., 0., 0., ..., 0., 0., 0.],\n",
       "       [0., 0., 0., ..., 0., 0., 0.],\n",
       "       [3., 0., 0., ..., 0., 0., 0.]])"
      ]
     },
     "execution_count": 74,
     "metadata": {},
     "output_type": "execute_result"
    }
   ],
   "source": [
    "train_1m"
   ]
  },
  {
   "cell_type": "code",
   "execution_count": 75,
   "metadata": {},
   "outputs": [
    {
     "data": {
      "text/plain": [
       "array([[0., 0., 0., ..., 0., 0., 0.],\n",
       "       [0., 0., 0., ..., 0., 0., 0.],\n",
       "       [0., 0., 0., ..., 0., 0., 0.],\n",
       "       ...,\n",
       "       [0., 0., 0., ..., 0., 0., 0.],\n",
       "       [0., 0., 0., ..., 0., 0., 0.],\n",
       "       [0., 0., 0., ..., 0., 0., 0.]])"
      ]
     },
     "execution_count": 75,
     "metadata": {},
     "output_type": "execute_result"
    }
   ],
   "source": [
    "test_1m"
   ]
  },
  {
   "cell_type": "code",
   "execution_count": 76,
   "metadata": {},
   "outputs": [
    {
     "data": {
      "text/plain": [
       "(3.93718412338794, 0.25303643724696356)"
      ]
     },
     "execution_count": 76,
     "metadata": {},
     "output_type": "execute_result"
    }
   ],
   "source": [
    "get_sparsity(train_1m), get_sparsity(test_1m)"
   ]
  },
  {
   "cell_type": "code",
   "execution_count": 81,
   "metadata": {},
   "outputs": [
    {
     "data": {
      "text/html": [
       "<div>\n",
       "<style scoped>\n",
       "    .dataframe tbody tr th:only-of-type {\n",
       "        vertical-align: middle;\n",
       "    }\n",
       "\n",
       "    .dataframe tbody tr th {\n",
       "        vertical-align: top;\n",
       "    }\n",
       "\n",
       "    .dataframe thead th {\n",
       "        text-align: right;\n",
       "    }\n",
       "</style>\n",
       "<table border=\"1\" class=\"dataframe\">\n",
       "  <thead>\n",
       "    <tr style=\"text-align: right;\">\n",
       "      <th></th>\n",
       "      <th>user_id</th>\n",
       "      <th>item_id</th>\n",
       "      <th>rating</th>\n",
       "      <th>timestamp</th>\n",
       "    </tr>\n",
       "  </thead>\n",
       "  <tbody>\n",
       "    <tr>\n",
       "      <th>0</th>\n",
       "      <td>196</td>\n",
       "      <td>242</td>\n",
       "      <td>3</td>\n",
       "      <td>881250949</td>\n",
       "    </tr>\n",
       "    <tr>\n",
       "      <th>1</th>\n",
       "      <td>186</td>\n",
       "      <td>302</td>\n",
       "      <td>3</td>\n",
       "      <td>891717742</td>\n",
       "    </tr>\n",
       "    <tr>\n",
       "      <th>2</th>\n",
       "      <td>22</td>\n",
       "      <td>377</td>\n",
       "      <td>1</td>\n",
       "      <td>878887116</td>\n",
       "    </tr>\n",
       "    <tr>\n",
       "      <th>3</th>\n",
       "      <td>244</td>\n",
       "      <td>51</td>\n",
       "      <td>2</td>\n",
       "      <td>880606923</td>\n",
       "    </tr>\n",
       "    <tr>\n",
       "      <th>4</th>\n",
       "      <td>166</td>\n",
       "      <td>346</td>\n",
       "      <td>1</td>\n",
       "      <td>886397596</td>\n",
       "    </tr>\n",
       "  </tbody>\n",
       "</table>\n",
       "</div>"
      ],
      "text/plain": [
       "   user_id  item_id  rating  timestamp\n",
       "0      196      242       3  881250949\n",
       "1      186      302       3  891717742\n",
       "2       22      377       1  878887116\n",
       "3      244       51       2  880606923\n",
       "4      166      346       1  886397596"
      ]
     },
     "execution_count": 81,
     "metadata": {},
     "output_type": "execute_result"
    }
   ],
   "source": [
    "# movielens-100k dataset\n",
    "names = ['user_id', 'item_id', 'rating', 'timestamp']\n",
    "df = pd.read_csv('./ml-100k/u.data', sep='\\t', names=names)\n",
    "df.head()"
   ]
  },
  {
   "cell_type": "code",
   "execution_count": 82,
   "metadata": {},
   "outputs": [
    {
     "data": {
      "text/plain": [
       "array([[5., 3., 4., ..., 0., 0., 0.],\n",
       "       [4., 0., 0., ..., 0., 0., 0.],\n",
       "       [0., 0., 0., ..., 0., 0., 0.],\n",
       "       ...,\n",
       "       [5., 0., 0., ..., 0., 0., 0.],\n",
       "       [0., 0., 0., ..., 0., 0., 0.],\n",
       "       [0., 5., 0., ..., 0., 0., 0.]])"
      ]
     },
     "execution_count": 82,
     "metadata": {},
     "output_type": "execute_result"
    }
   ],
   "source": [
    "n_users = df.user_id.unique().shape[0]\n",
    "n_items = df.item_id.unique().shape[0]\n",
    "ratings = np.zeros((n_users, n_items))\n",
    "for row in df.itertuples():\n",
    "    ratings[row[1]-1, row[2]-1] = row[3]\n",
    "ratings"
   ]
  },
  {
   "cell_type": "code",
   "execution_count": 83,
   "metadata": {},
   "outputs": [],
   "source": [
    "train_100k, test_100k = train_test_split(ratings)"
   ]
  },
  {
   "cell_type": "code",
   "execution_count": 84,
   "metadata": {},
   "outputs": [
    {
     "data": {
      "text/plain": [
       "(5.710139043178159, 0.5945303210463734)"
      ]
     },
     "execution_count": 84,
     "metadata": {},
     "output_type": "execute_result"
    }
   ],
   "source": [
    "get_sparsity(train_100k), get_sparsity(test_100k)"
   ]
  },
  {
   "cell_type": "code",
   "execution_count": 137,
   "metadata": {},
   "outputs": [
    {
     "data": {
      "text/plain": [
       "((943, 1682), (6040, 3952))"
      ]
     },
     "execution_count": 137,
     "metadata": {},
     "output_type": "execute_result"
    }
   ],
   "source": [
    "train_100k.shape, train_1m.shape"
   ]
  },
  {
   "cell_type": "code",
   "execution_count": 241,
   "metadata": {},
   "outputs": [],
   "source": [
    "class ExplicitMF():\n",
    "    def __init__(self, \n",
    "                 ratings,\n",
    "                 n_factors=40,\n",
    "                 learning='sgd',\n",
    "                 item_fact_reg=0.0, \n",
    "                 user_fact_reg=0.0,\n",
    "                 item_bias_reg=0.0,\n",
    "                 user_bias_reg=0.0,\n",
    "                 verbose=False):\n",
    "        \"\"\"\n",
    "        Train a matrix factorization model to predict empty \n",
    "        entries in a matrix. The terminology assumes a \n",
    "        ratings matrix which is ~ user x item\n",
    "        \n",
    "        Params\n",
    "        ======\n",
    "        ratings : (ndarray)\n",
    "            User x Item matrix with corresponding ratings\n",
    "        \n",
    "        n_factors : (int)\n",
    "            Number of latent factors to use in matrix \n",
    "            factorization model\n",
    "        learning : (str)\n",
    "            Method of optimization. Options include \n",
    "            'sgd' or 'als'.\n",
    "        \n",
    "        item_fact_reg : (float)\n",
    "            Regularization term for item latent factors\n",
    "        \n",
    "        user_fact_reg : (float)\n",
    "            Regularization term for user latent factors\n",
    "            \n",
    "        item_bias_reg : (float)\n",
    "            Regularization term for item biases\n",
    "        \n",
    "        user_bias_reg : (float)\n",
    "            Regularization term for user biases\n",
    "        \n",
    "        verbose : (bool)\n",
    "            Whether or not to printout training progress\n",
    "        \"\"\"\n",
    "        \n",
    "        self.ratings = ratings\n",
    "        self.n_users, self.n_items = ratings.shape\n",
    "        self.n_factors = n_factors\n",
    "        self.item_fact_reg = item_fact_reg\n",
    "        self.user_fact_reg = user_fact_reg\n",
    "        self.item_bias_reg = item_bias_reg\n",
    "        self.user_bias_reg = user_bias_reg\n",
    "        self.learning = learning\n",
    "        if self.learning == 'sgd':\n",
    "            self.sample_row, self.sample_col = self.ratings.nonzero()\n",
    "            self.n_samples = len(self.sample_row)\n",
    "        self._v = verbose\n",
    "\n",
    "    def als_step(self,\n",
    "                 latent_vectors,\n",
    "                 fixed_vecs,\n",
    "                 ratings,\n",
    "                 _lambda,\n",
    "                 type='user'):\n",
    "        np.random.seed(seed)\n",
    "        \"\"\"\n",
    "        One of the two ALS steps. Solve for the latent vectors\n",
    "        specified by type.\n",
    "        \"\"\"\n",
    "        if type == 'user':\n",
    "            # Precompute\n",
    "            YTY = fixed_vecs.T.dot(fixed_vecs)\n",
    "            lambdaI = np.eye(YTY.shape[0]) * _lambda\n",
    "\n",
    "            for u in range(latent_vectors.shape[0]):\n",
    "                latent_vectors[u, :] = solve((YTY + lambdaI), \n",
    "                                             ratings[u, :].dot(fixed_vecs))\n",
    "        elif type == 'item':\n",
    "            # Precompute\n",
    "            XTX = fixed_vecs.T.dot(fixed_vecs)\n",
    "            lambdaI = np.eye(XTX.shape[0]) * _lambda\n",
    "            \n",
    "            for i in range(latent_vectors.shape[0]):\n",
    "                latent_vectors[i, :] = solve((XTX + lambdaI), \n",
    "                                             ratings[:, i].T.dot(fixed_vecs))\n",
    "        return latent_vectors\n",
    "\n",
    "    def train(self, n_iter=10, learning_rate=0.1):\n",
    "        np.random.seed(seed)\n",
    "        \"\"\" Train model for n_iter iterations from scratch.\"\"\"\n",
    "        # initialize latent vectors        \n",
    "        self.user_vecs = np.random.normal(scale=1./self.n_factors,\\\n",
    "                                          size=(self.n_users, self.n_factors))\n",
    "        self.item_vecs = np.random.normal(scale=1./self.n_factors,\n",
    "                                          size=(self.n_items, self.n_factors))\n",
    "        \n",
    "        if self.learning == 'als':\n",
    "            self.partial_train(n_iter)\n",
    "        elif self.learning == 'sgd':\n",
    "            self.learning_rate = learning_rate\n",
    "            self.user_bias = np.zeros(self.n_users)\n",
    "            self.item_bias = np.zeros(self.n_items)\n",
    "            self.global_bias = np.mean(self.ratings[np.where(self.ratings != 0)])\n",
    "            self.partial_train(n_iter)\n",
    "    \n",
    "    \n",
    "    def partial_train(self, n_iter):\n",
    "        np.random.seed(seed)\n",
    "        \"\"\" \n",
    "        Train model for n_iter iterations. Can be \n",
    "        called multiple times for further training.\n",
    "        \"\"\"\n",
    "        ctr = 1\n",
    "        while ctr <= n_iter:\n",
    "            if ctr % 10 == 0 and self._v:\n",
    "                print ('\\tcurrent iteration: {}'.format(ctr))\n",
    "            if self.learning == 'als':\n",
    "                self.user_vecs = self.als_step(self.user_vecs, \n",
    "                                               self.item_vecs, \n",
    "                                               self.ratings, \n",
    "                                               self.user_fact_reg, \n",
    "                                               type='user')\n",
    "                self.item_vecs = self.als_step(self.item_vecs, \n",
    "                                               self.user_vecs, \n",
    "                                               self.ratings, \n",
    "                                               self.item_fact_reg, \n",
    "                                               type='item')\n",
    "            elif self.learning == 'sgd':\n",
    "                self.training_indices = np.arange(self.n_samples)\n",
    "                np.random.shuffle(self.training_indices)\n",
    "                self.sgd()\n",
    "            ctr += 1\n",
    "\n",
    "    def sgd(self):\n",
    "        np.random.seed(seed)\n",
    "        for idx in self.training_indices:\n",
    "            u = self.sample_row[idx]\n",
    "            i = self.sample_col[idx]\n",
    "            prediction = self.predict(u, i)\n",
    "            e = (self.ratings[u,i] - prediction) # error\n",
    "            \n",
    "            # Update biases\n",
    "            self.user_bias[u] += self.learning_rate * \\\n",
    "                                (e - self.user_bias_reg * self.user_bias[u])\n",
    "            self.item_bias[i] += self.learning_rate * \\\n",
    "                                (e - self.item_bias_reg * self.item_bias[i])\n",
    "            \n",
    "            #Update latent factors\n",
    "            self.user_vecs[u, :] += self.learning_rate * \\\n",
    "                                    (e * self.item_vecs[i, :] - \\\n",
    "                                     self.user_fact_reg * self.user_vecs[u,:])\n",
    "            self.item_vecs[i, :] += self.learning_rate * \\\n",
    "                                    (e * self.user_vecs[u, :] - \\\n",
    "                                     self.item_fact_reg * self.item_vecs[i,:])\n",
    "    def predict(self, u, i):\n",
    "        \"\"\" Single user and item prediction.\"\"\"\n",
    "        if self.learning == 'als':\n",
    "            return self.user_vecs[u, :].dot(self.item_vecs[i, :].T)\n",
    "        elif self.learning == 'sgd':\n",
    "            prediction = self.global_bias + self.user_bias[u] + self.item_bias[i]\n",
    "            prediction += self.user_vecs[u, :].dot(self.item_vecs[i, :].T)\n",
    "            return prediction\n",
    "    \n",
    "    def predict_all(self):\n",
    "        \"\"\" Predict ratings for every user and item.\"\"\"\n",
    "        predictions = np.zeros((self.user_vecs.shape[0], \n",
    "                                self.item_vecs.shape[0]))\n",
    "        for u in range(self.user_vecs.shape[0]):\n",
    "            for i in range(self.item_vecs.shape[0]):\n",
    "                predictions[u, i] = self.predict(u, i)\n",
    "                \n",
    "        return predictions\n",
    "    \n",
    "    def calculate_learning_curve(self, iter_array, test, learning_rate=0.1):\n",
    "        np.random.seed(seed)\n",
    "        \"\"\"\n",
    "        Keep track of MSE as a function of training iterations.\n",
    "        \n",
    "        Params\n",
    "        ======\n",
    "        iter_array : (list)\n",
    "            List of numbers of iterations to train for each step of \n",
    "            the learning curve. e.g. [1, 5, 10, 20]\n",
    "        test : (2D ndarray)\n",
    "            Testing dataset (assumed to be user x item).\n",
    "        \n",
    "        The function creates two new class attributes:\n",
    "        \n",
    "        train_mse : (list)\n",
    "            Training data MSE values for each value of iter_array\n",
    "        test_mse : (list)\n",
    "            Test data MSE values for each value of iter_array\n",
    "        \"\"\"\n",
    "        iter_array.sort()\n",
    "        self.train_mse =[]\n",
    "        self.test_mse = []\n",
    "        iter_diff = 0\n",
    "        for (i, n_iter) in enumerate(iter_array):\n",
    "            if self._v:\n",
    "                print ('Iteration: {}'.format(n_iter))\n",
    "            if i == 0:\n",
    "                self.train(n_iter - iter_diff, learning_rate)\n",
    "            else:\n",
    "                self.partial_train(n_iter - iter_diff)\n",
    "\n",
    "            predictions = self.predict_all()\n",
    "\n",
    "            self.train_mse += [get_mse(predictions, self.ratings)]\n",
    "            self.test_mse += [get_mse(predictions, test)]\n",
    "            if self._v:\n",
    "                print ('Train mse: ' + str(self.train_mse[-1]))\n",
    "                print ('Test mse: ' + str(self.test_mse[-1]))\n",
    "            iter_diff = n_iter"
   ]
  },
  {
   "cell_type": "code",
   "execution_count": 98,
   "metadata": {},
   "outputs": [],
   "source": [
    "from sklearn.metrics import mean_squared_error\n",
    "\n",
    "def get_mse(pred, actual):\n",
    "    # Ignore nonzero terms.\n",
    "    pred = pred[actual.nonzero()].flatten()\n",
    "    actual = actual[actual.nonzero()].flatten()\n",
    "    return mean_squared_error(pred, actual)"
   ]
  },
  {
   "cell_type": "code",
   "execution_count": 102,
   "metadata": {},
   "outputs": [
    {
     "name": "stdout",
     "output_type": "stream",
     "text": [
      "Iteration: 1\n",
      "Train mse: 8.162626454488155\n",
      "Test mse: 11.074297483666612\n",
      "Iteration: 2\n",
      "Train mse: 5.710628199541684\n",
      "Test mse: 8.654294898028265\n",
      "Iteration: 5\n",
      "Train mse: 5.421378301611028\n",
      "Test mse: 8.237957326989877\n",
      "Iteration: 10\n",
      "Train mse: 5.3966006950612435\n",
      "Test mse: 8.199281754444268\n",
      "Iteration: 25\n",
      "\tcurrent iteration: 10\n",
      "Train mse: 5.3948135876025365\n",
      "Test mse: 8.195283711199771\n",
      "Iteration: 50\n",
      "\tcurrent iteration: 10\n",
      "\tcurrent iteration: 20\n",
      "Train mse: 5.394753065812939\n",
      "Test mse: 8.195083034461906\n",
      "Iteration: 100\n",
      "\tcurrent iteration: 10\n",
      "\tcurrent iteration: 20\n",
      "\tcurrent iteration: 30\n",
      "\tcurrent iteration: 40\n",
      "\tcurrent iteration: 50\n",
      "Train mse: 5.394526731799798\n",
      "Test mse: 8.194863821632225\n"
     ]
    }
   ],
   "source": [
    "MF_ALS = ExplicitMF(train_100k, n_factors=10, learning='als',\n",
    "                    user_fact_reg=0.1, item_fact_reg=0.1, verbose=True)\n",
    "iter_array = [1, 2, 5, 10, 25, 50, 100]\n",
    "MF_ALS.calculate_learning_curve(iter_array, test_100k)"
   ]
  },
  {
   "cell_type": "code",
   "execution_count": 103,
   "metadata": {},
   "outputs": [],
   "source": [
    "%matplotlib inline\n",
    "import matplotlib.pyplot as plt\n",
    "import seaborn as sns\n",
    "sns.set()\n",
    "\n",
    "def plot_learning_curve(iter_array, model):\n",
    "    plt.plot(iter_array, model.train_mse, \\\n",
    "             label='Training', linewidth=5)\n",
    "    plt.plot(iter_array, model.test_mse, \\\n",
    "             label='Test', linewidth=5)\n",
    "\n",
    "\n",
    "    plt.xticks(fontsize=16);\n",
    "    plt.yticks(fontsize=16);\n",
    "    plt.xlabel('iterations', fontsize=30);\n",
    "    plt.ylabel('MSE', fontsize=30);\n",
    "    plt.legend(loc='best', fontsize=20);"
   ]
  },
  {
   "cell_type": "code",
   "execution_count": 104,
   "metadata": {},
   "outputs": [
    {
     "data": {
      "image/png": "[encoded data removed]",
      "text/plain": [
       "<Figure size 432x288 with 1 Axes>"
      ]
     },
     "metadata": {},
     "output_type": "display_data"
    }
   ],
   "source": [
    "plot_learning_curve(iter_array, MF_ALS)"
   ]
  },
  {
   "cell_type": "code",
   "execution_count": 105,
   "metadata": {},
   "outputs": [
    {
     "name": "stdout",
     "output_type": "stream",
     "text": [
      "Iteration: 1\n",
      "Train mse: 8.133017313467287\n",
      "Test mse: 11.385478952329686\n",
      "Iteration: 2\n",
      "Train mse: 6.181422331570321\n",
      "Test mse: 9.510432053967698\n",
      "Iteration: 5\n",
      "Train mse: 5.945868319505223\n",
      "Test mse: 9.181499199125527\n",
      "Iteration: 10\n",
      "Train mse: 5.929921005207816\n",
      "Test mse: 9.163591900058499\n",
      "Iteration: 25\n",
      "\tcurrent iteration: 10\n",
      "Train mse: 5.922879579194776\n",
      "Test mse: 9.155637570112932\n",
      "Iteration: 50\n",
      "\tcurrent iteration: 10\n",
      "\tcurrent iteration: 20\n",
      "Train mse: 5.921741164281515\n",
      "Test mse: 9.152673442345948\n",
      "Iteration: 100\n",
      "\tcurrent iteration: 10\n",
      "\tcurrent iteration: 20\n",
      "\tcurrent iteration: 30\n",
      "\tcurrent iteration: 40\n",
      "\tcurrent iteration: 50\n",
      "Train mse: 5.921434636456923\n",
      "Test mse: 9.152593151189302\n"
     ]
    }
   ],
   "source": [
    "MF_ALS = ExplicitMF(train_1m, n_factors=20, learning='als',\n",
    "                    user_fact_reg=0.1, item_fact_reg=0.1, verbose=True)\n",
    "iter_array = [1, 2, 5, 10, 25, 50, 100]\n",
    "MF_ALS.calculate_learning_curve(iter_array, test_1m)"
   ]
  },
  {
   "cell_type": "code",
   "execution_count": 110,
   "metadata": {},
   "outputs": [
    {
     "name": "stdout",
     "output_type": "stream",
     "text": [
      "Iteration: 1\n",
      "Train mse: 1.142807793060997\n",
      "Test mse: 1.1796269767247503\n",
      "Iteration: 2\n",
      "Train mse: 1.0730325987217215\n",
      "Test mse: 1.1283621352778417\n",
      "Iteration: 5\n",
      "Train mse: 0.9767157588922124\n",
      "Test mse: 1.0499014864558258\n",
      "Iteration: 10\n",
      "Train mse: 0.9190727366615857\n",
      "Test mse: 0.9988387536431501\n",
      "Iteration: 25\n",
      "\tcurrent iteration: 10\n",
      "Train mse: 0.8669457204379917\n",
      "Test mse: 0.9525818812444498\n",
      "Iteration: 50\n",
      "\tcurrent iteration: 10\n",
      "\tcurrent iteration: 20\n",
      "Train mse: 0.8387251669562131\n",
      "Test mse: 0.9343161812537658\n",
      "Iteration: 100\n",
      "\tcurrent iteration: 10\n",
      "\tcurrent iteration: 20\n",
      "\tcurrent iteration: 30\n",
      "\tcurrent iteration: 40\n",
      "\tcurrent iteration: 50\n",
      "Train mse: 0.7485848531412769\n",
      "Test mse: 0.9170005429005551\n",
      "Iteration: 200\n",
      "\tcurrent iteration: 10\n",
      "\tcurrent iteration: 20\n",
      "\tcurrent iteration: 30\n",
      "\tcurrent iteration: 40\n",
      "\tcurrent iteration: 50\n",
      "\tcurrent iteration: 60\n",
      "\tcurrent iteration: 70\n",
      "\tcurrent iteration: 80\n",
      "\tcurrent iteration: 90\n",
      "\tcurrent iteration: 100\n",
      "Train mse: 0.40410579696377263\n",
      "Test mse: 0.9148070379768369\n"
     ]
    }
   ],
   "source": [
    "MF_SGD = ExplicitMF(train_100k, 40, learning='sgd', verbose=True)\n",
    "iter_array = [1, 2, 5, 10, 25, 50, 100, 200]\n",
    "MF_SGD.calculate_learning_curve(iter_array, test_100k, learning_rate=0.001)"
   ]
  },
  {
   "cell_type": "markdown",
   "metadata": {},
   "source": [
    "# Our Proposed GAN"
   ]
  },
  {
   "cell_type": "code",
   "execution_count": 111,
   "metadata": {},
   "outputs": [],
   "source": [
    "if torch.cuda.is_available() == True:\n",
    "    device = \"cuda\"\n",
    "else:\n",
    "    device = \"cpu\""
   ]
  },
  {
   "cell_type": "code",
   "execution_count": 113,
   "metadata": {},
   "outputs": [],
   "source": [
    "zero_mask = (train_100k == 0)\n",
    "positive_feedback = (train_100k > 3)\n",
    "negative_feedback = ((train_100k < 4) * (1 - zero_mask))"
   ]
  },
  {
   "cell_type": "code",
   "execution_count": 114,
   "metadata": {},
   "outputs": [
    {
     "data": {
      "text/plain": [
       "(49901, 40669)"
      ]
     },
     "execution_count": 114,
     "metadata": {},
     "output_type": "execute_result"
    }
   ],
   "source": [
    "positive_feedback.sum(), negative_feedback.sum()"
   ]
  },
  {
   "cell_type": "code",
   "execution_count": 115,
   "metadata": {},
   "outputs": [],
   "source": [
    "assert (positive_feedback + negative_feedback != zero_mask).all()\n",
    "assert (positive_feedback + negative_feedback == 1 - zero_mask).all()"
   ]
  },
  {
   "cell_type": "code",
   "execution_count": 116,
   "metadata": {},
   "outputs": [
    {
     "data": {
      "text/plain": [
       "(94.28986095682184, 3.146093059441684, 2.5640459837364746)"
      ]
     },
     "execution_count": 116,
     "metadata": {},
     "output_type": "execute_result"
    }
   ],
   "source": [
    "get_sparsity(zero_mask), get_sparsity(positive_feedback), get_sparsity(negative_feedback)"
   ]
  },
  {
   "cell_type": "code",
   "execution_count": 335,
   "metadata": {},
   "outputs": [],
   "source": [
    "import numpy as np\n",
    "import keras\n",
    "\n",
    "class DataGenerator(keras.utils.Sequence):\n",
    "    def __init__(self, mat, p=0.4, batch_size=64):\n",
    "        '''\n",
    "        mat is a binary matrix (e.g. positive feedback, or negative feedback)\n",
    "        '''\n",
    "        self.batch_size = batch_size\n",
    "        self.mat = mat\n",
    "        self.p = p\n",
    "\n",
    "    def __len__(self):\n",
    "        return int(np.floor(self.mat.shape[0] / self.batch_size))\n",
    "    \n",
    "    def gen_item_GAN(self):\n",
    "        indexes = np.random.randint(self.mat.shape[0], size=self.batch_size)\n",
    "\n",
    "        mask = (np.random.rand(self.batch_size, self.mat.shape[1]) > self.p)\n",
    "        \n",
    "        y = self.mat[indexes]\n",
    "        X = self.mat[indexes]*mask # corrupting\n",
    "        \n",
    "        return X, y, indexes\n",
    "        \n",
    "    def __getitem__(self, index):\n",
    "        \n",
    "        indexes = np.random.randint(self.mat.shape[0], size=self.batch_size)\n",
    "\n",
    "        mask = (np.random.rand(self.batch_size, self.mat.shape[1]) > self.p)\n",
    "        \n",
    "        y = self.mat[indexes]\n",
    "        X = self.mat[indexes]*mask # corrupting\n",
    "        \n",
    "        return X, y"
   ]
  },
  {
   "cell_type": "code",
   "execution_count": 336,
   "metadata": {},
   "outputs": [],
   "source": [
    "generator_negative = DataGenerator(negative_feedback)"
   ]
  },
  {
   "cell_type": "code",
   "execution_count": 337,
   "metadata": {},
   "outputs": [],
   "source": [
    "x, y, _ = generator_negative.gen_item_GAN()"
   ]
  },
  {
   "cell_type": "code",
   "execution_count": 338,
   "metadata": {},
   "outputs": [
    {
     "data": {
      "text/plain": [
       "((64, 1682), (64, 1682))"
      ]
     },
     "execution_count": 338,
     "metadata": {},
     "output_type": "execute_result"
    }
   ],
   "source": [
    "x.shape, y.shape"
   ]
  },
  {
   "cell_type": "code",
   "execution_count": 339,
   "metadata": {},
   "outputs": [],
   "source": [
    "\n",
    "class NetD(torch.nn.Module):\n",
    "    def __init__(self, feat_size):\n",
    "        super(NetD, self).__init__()\n",
    "        self.feat_size = feat_size\n",
    "#         self.use_cuda = True\n",
    "#         self.feat_size = feat_size\n",
    "        # top\n",
    "#         print(self.feat_size*2)\n",
    "        self.t1 = torch.nn.Linear(self.feat_size, 512)\n",
    "        # bottom\n",
    "        self.b1 = torch.nn.Linear(self.feat_size, 512)\n",
    "        # combined\n",
    "        self.fc = torch.nn.Linear(2 * 512, self.feat_size)\n",
    "    def forward(self, xr, xf):\n",
    "        # get filt\n",
    "        \n",
    "        filt = 1 - (xr * (xf >= 0.5).float()) - ((1-xr) * (xf < 0.5).float())\n",
    "        # random swap\n",
    "        idr = torch.multinomial(torch.Tensor([0.5,0.5]), xr.size(0), replacement=True)\n",
    "        idrx = idr.float().unsqueeze(1).expand_as(xr)\n",
    "#         if self.use_cuda: \n",
    "        idrx = idrx.cuda()\n",
    "        idrx = Variable(idrx)\n",
    "        xt = xr * idrx + xf * (1 - idrx)\n",
    "        xb = xr * (1 - idrx) + xf * idrx\n",
    "        # top : real\n",
    "        xt = F.relu(self.t1(xt))\n",
    "        # bottom : fake\n",
    "        xb = F.relu(self.b1(xb))\n",
    "        # combined\n",
    "        x = torch.cat((xt, xb), 1)\n",
    "        x = torch.tanh(self.fc(x))\n",
    "        # apply filter, aggregate\n",
    "        x = filt * x\n",
    "        x = x.mean(dim = 1).squeeze()\n",
    "        # use sign, because of swapping\n",
    "        sgn = idr * 2 - 1\n",
    "        sgn = sgn.cuda()\n",
    "        sgn = Variable(sgn.float())\n",
    "        x = sgn * x\n",
    "        return x\n",
    "\n",
    "\n",
    "class NetG(nn.Module):\n",
    "    \n",
    "    def __init__(self, feat_size):\n",
    "\n",
    "        super(NetG, self).__init__()\n",
    "        self.feat_size = feat_size\n",
    "        self.netGen = torch.nn.Sequential( \n",
    "                                torch.nn.Linear(nz + self.feat_size, 512), \n",
    "#                                 torch.nn.BatchNorm1d(1024),\n",
    "#                                 torch.nn.ReLU(), \n",
    "# #                                 nn.Dropout(0.5),\n",
    "#                                 torch.nn.Linear(2048, 2048),\n",
    "                                torch.nn.ReLU(), \n",
    "#                                 torch.nn.BatchNorm1d(512),\n",
    "#                                 nn.Dropout(0.6),\n",
    "                                torch.nn.Linear(512, self.feat_size), \n",
    "                                torch.nn.Sigmoid()\n",
    "#                                 torch.nn.BatchNorm1d(features_length),\n",
    "#                                 nn.Dropout(0.7),\n",
    "#                                 torch.nn.Sigmoid()\n",
    "                                )\n",
    "\n",
    "        \n",
    "    def forward(self, e_mask, x):\n",
    "        x = self.netGen(x)\n",
    "#         print(x.shape, )\n",
    "        x = x * e_mask\n",
    "        return x\n",
    "#         return F.dropout(x, 0.7)\n",
    "#         return 5 * self.netGen(x)\n",
    "#         return torch.sigmoid(x) \n",
    "#         return x*5 # to get values in range [0,5]"
   ]
  },
  {
   "cell_type": "code",
   "execution_count": 340,
   "metadata": {},
   "outputs": [],
   "source": [
    "gen_losses = []\n",
    "disc_losses = []\n",
    "def train_GAN(netD, netG, negative, tr, steps_per_epoch = 200, epochs = 10):\n",
    "    d_iter = 5\n",
    "    g_iter = 1\n",
    "    gen_iterations = 0\n",
    "#     gen_losses = []\n",
    "#     disc_losses = []\n",
    "#     train_losses = []\n",
    "    for epoch in range(epochs):\n",
    "        for c in range(steps_per_epoch):\n",
    "            data_iter = 100\n",
    "            i = 0\n",
    "#             while i < 100:\n",
    "            ############################\n",
    "            # (1) Update D network\n",
    "            ###########################\n",
    "            for p in netD.parameters(): # reset requires_grad\n",
    "                p.requires_grad = True # they are set to False below in netG update\n",
    "#             d_iter = d_iter\n",
    "            j = 0\n",
    "            while j < d_iter*5:\n",
    "                j += 1\n",
    "                # load real data\n",
    "                i += 1\n",
    "                if negative:\n",
    "                    condition, X, idxs = generator_negative.gen_item_GAN()\n",
    "#                         condition, X, idxs = batch_generator(X_neg, y_neg)\n",
    "#                 X, _ = data_iter.next()\n",
    "#                 X = X.view(X.size(0), -1)\n",
    "#                 X = (X >= 0.5).float()\n",
    "#                     if cuda: \n",
    "                X = torch.from_numpy(X).float().cuda()\n",
    "#                     X = X + torch.randn(X.size()).cuda() * 0.2\n",
    "                condition = torch.from_numpy(condition).float().cuda() \n",
    "#     + torch.randn(X.size()).cuda() * 0.2\n",
    "#                 print(condition.shape, X_neg.shape, y_neg.shape)\n",
    "                real = Variable(X)\n",
    "\n",
    "                # generate fake data\n",
    "                noise = torch.randn(batch_size, nz)\n",
    "#                     if cuda: \n",
    "                noise = noise.cuda()\n",
    "#                     noisev = Variable(noise, volatile = True) # totally freeze netG\n",
    "                with torch.no_grad():\n",
    "                    noisev = Variable(noise) # totally freeze netG\n",
    "                concated = torch.cat((noisev, condition), 1)\n",
    "#                 print(condition.shape, condition.shape, X.shape, noisev.shape, )\n",
    "                e_mask = torch.Tensor(tr[idxs]>0).cuda()\n",
    "#                     print(e_mask.shape, concated.shape, condition.shape)\n",
    "                fake = Variable(netG(e_mask, concated).data)\n",
    "\n",
    "                # compute gradient, take step\n",
    "                netD.zero_grad()\n",
    "#                 concated_real = torch.cat((real, condition), 1)\n",
    "#                 print(concated_real)\n",
    "                out = netD(real, fake)\n",
    "                outputD = torch.mean(out) + lamba * out.norm()\n",
    "                stdD = torch.std(out)\n",
    "                outputD.backward(mone)\n",
    "                optimizerD.step()\n",
    "#                     print('AAAAAAAAA mse:=WWWWWWWWWWWWWWWWWWWWWW')\n",
    "        ############################\n",
    "        # (2) Update G network\n",
    "        ###########################\n",
    "\n",
    "#         g_iter = g_iter\n",
    "            j = 0\n",
    "            while j < g_iter:\n",
    "                j += 1\n",
    "                for p in netD.parameters():\n",
    "                    p.requires_grad = False # to avoid computation\n",
    "                netG.zero_grad()\n",
    "                # load real data\n",
    "\n",
    "                i += 1\n",
    "\n",
    "                if negative:\n",
    "                    condition, X, idxs = generator_negative.gen_item_GAN()\n",
    "\n",
    "                X = torch.from_numpy(X).float().cuda()\n",
    "    #                 X = X + torch.randn(X.size()).cuda() * 0.2\n",
    "                condition = torch.from_numpy(condition).float().cuda() \n",
    "                real = Variable(X)\n",
    "\n",
    "                # update generator\n",
    "                noise = torch.randn(batch_size, nz)\n",
    "                noise = noise.cuda()\n",
    "                noisev = Variable(noise)\n",
    "                concated_ = torch.cat((noisev, condition), 1)\n",
    "                e_mask_ = torch.Tensor(tr[idxs]>0).cuda()\n",
    "\n",
    "                fake = netG(e_mask_, concated_)\n",
    "                out = netD(real, fake)\n",
    "                outputG = torch.mean(out) + lamba * out.norm()\n",
    "                stdG = torch.std(out)\n",
    "                outputG.backward(one)\n",
    "                optimizerG.step()\n",
    "                gen_iterations += 1\n",
    "    #             print('AAAAAA')\n",
    "                eval_loss = F.mse_loss(fake, real, reduction='mean')\n",
    "    #             eval_losses.append(eval_loss)\n",
    "    #             print('mse:', eval_loss)\n",
    "    #             print(outputG.item(), outputD.item())\n",
    "                gen_losses.append(outputG.item())\n",
    "                disc_losses.append(outputD.item())\n",
    "                print('[%d/%d][%d/%d][%d] Loss_D: %f Loss_G: %f '% (epoch, epochs, i, 100, gen_iterations, outputD.item(), outputG.item()), eval_loss)\n",
    "    return gen_losses, disc_losses"
   ]
  },
  {
   "cell_type": "code",
   "execution_count": 341,
   "metadata": {},
   "outputs": [],
   "source": [
    "lrD = 5e-4\n",
    "lrG = 5e-4\n",
    "batch_size = 64\n",
    "cuda = True\n",
    "epochs = 10\n",
    "# device = 5\n",
    "seed = 1\n",
    "nz = 8\n",
    "lamba = 1e-3"
   ]
  },
  {
   "cell_type": "code",
   "execution_count": 342,
   "metadata": {},
   "outputs": [
    {
     "name": "stdout",
     "output_type": "stream",
     "text": [
      "NetD(\n",
      "  (t1): Linear(in_features=1682, out_features=512, bias=True)\n",
      "  (b1): Linear(in_features=1682, out_features=512, bias=True)\n",
      "  (fc): Linear(in_features=1024, out_features=1682, bias=True)\n",
      ")\n",
      "NetG(\n",
      "  (netGen): Sequential(\n",
      "    (0): Linear(in_features=1690, out_features=512, bias=True)\n",
      "    (1): ReLU()\n",
      "    (2): Linear(in_features=512, out_features=1682, bias=True)\n",
      "    (3): Sigmoid()\n",
      "  )\n",
      ")\n"
     ]
    }
   ],
   "source": [
    "# networks\n",
    "netD_neg = NetD(train_100k.shape[1]).cuda()\n",
    "netG_neg = NetG(train_100k.shape[1]).cuda()\n",
    "print(netD_neg)\n",
    "print(netG_neg)\n",
    "optimizerG = optim.RMSprop(netG_neg.parameters(), lr=lrG, weight_decay=1e-4)\n",
    "optimizerD = optim.RMSprop(netD_neg.parameters(), lr=lrD, weight_decay=1e-4)\n",
    "one = torch.FloatTensor([1]).cuda()\n",
    "mone = (-1 * one).cuda()"
   ]
  },
  {
   "cell_type": "code",
   "execution_count": 343,
   "metadata": {},
   "outputs": [
    {
     "name": "stdout",
     "output_type": "stream",
     "text": [
      "[0/10][26/100][1] Loss_D: 0.015396 Loss_G: 0.012399 \n",
      "[0/10][26/100][2] Loss_D: 0.008699 Loss_G: 0.009984 \n",
      "[0/10][26/100][3] Loss_D: 0.010232 Loss_G: 0.012696 \n",
      "[0/10][26/100][4] Loss_D: 0.007697 Loss_G: 0.004789 \n",
      "[0/10][26/100][5] Loss_D: 0.002852 Loss_G: 0.003720 \n",
      "[0/10][26/100][6] Loss_D: 0.001300 Loss_G: 0.001948 \n",
      "[0/10][26/100][7] Loss_D: 0.003648 Loss_G: 0.002399 \n",
      "[0/10][26/100][8] Loss_D: 0.001874 Loss_G: 0.003110 \n",
      "[0/10][26/100][9] Loss_D: 0.001165 Loss_G: 0.001428 \n",
      "[0/10][26/100][10] Loss_D: 0.001839 Loss_G: 0.002717 \n",
      "[0/10][26/100][11] Loss_D: 0.002029 Loss_G: 0.001121 \n",
      "[0/10][26/100][12] Loss_D: 0.001037 Loss_G: -0.000022 \n",
      "[0/10][26/100][13] Loss_D: 0.000467 Loss_G: 0.000503 \n",
      "[0/10][26/100][14] Loss_D: 0.002084 Loss_G: 0.002133 \n",
      "[0/10][26/100][15] Loss_D: 0.001187 Loss_G: 0.000905 \n",
      "[0/10][26/100][16] Loss_D: 0.000913 Loss_G: 0.002143 \n",
      "[0/10][26/100][17] Loss_D: 0.005114 Loss_G: 0.001427 \n",
      "[0/10][26/100][18] Loss_D: 0.003440 Loss_G: 0.002312 \n",
      "[0/10][26/100][19] Loss_D: 0.001970 Loss_G: 0.002330 \n",
      "[0/10][26/100][20] Loss_D: 0.002683 Loss_G: 0.000356 \n",
      "[0/10][26/100][21] Loss_D: 0.003398 Loss_G: 0.001479 \n",
      "[0/10][26/100][22] Loss_D: 0.004616 Loss_G: 0.003429 \n",
      "[0/10][26/100][23] Loss_D: 0.002514 Loss_G: 0.003152 \n",
      "[0/10][26/100][24] Loss_D: 0.002706 Loss_G: 0.001956 \n",
      "[0/10][26/100][25] Loss_D: 0.001575 Loss_G: 0.002517 \n",
      "[0/10][26/100][26] Loss_D: 0.001971 Loss_G: 0.004477 \n",
      "[0/10][26/100][27] Loss_D: 0.002128 Loss_G: 0.003369 \n",
      "[0/10][26/100][28] Loss_D: 0.003767 Loss_G: 0.002828 \n",
      "[0/10][26/100][29] Loss_D: 0.004764 Loss_G: 0.002792 \n",
      "[0/10][26/100][30] Loss_D: 0.001255 Loss_G: 0.002290 \n",
      "[0/10][26/100][31] Loss_D: 0.001118 Loss_G: 0.001991 \n",
      "[0/10][26/100][32] Loss_D: 0.003251 Loss_G: 0.002075 \n",
      "[0/10][26/100][33] Loss_D: 0.001590 Loss_G: 0.001594 \n",
      "[0/10][26/100][34] Loss_D: 0.000982 Loss_G: 0.003058 \n",
      "[0/10][26/100][35] Loss_D: 0.005063 Loss_G: -0.000976 \n",
      "[0/10][26/100][36] Loss_D: 0.003605 Loss_G: 0.003342 \n",
      "[0/10][26/100][37] Loss_D: 0.001352 Loss_G: 0.002059 \n",
      "[0/10][26/100][38] Loss_D: 0.004509 Loss_G: 0.004062 \n",
      "[0/10][26/100][39] Loss_D: 0.001611 Loss_G: 0.004333 \n",
      "[0/10][26/100][40] Loss_D: 0.002724 Loss_G: 0.005663 \n",
      "[0/10][26/100][41] Loss_D: 0.001453 Loss_G: 0.002492 \n",
      "[0/10][26/100][42] Loss_D: 0.001329 Loss_G: 0.001825 \n",
      "[0/10][26/100][43] Loss_D: 0.004419 Loss_G: 0.004652 \n",
      "[0/10][26/100][44] Loss_D: 0.001511 Loss_G: 0.000823 \n",
      "[0/10][26/100][45] Loss_D: 0.004014 Loss_G: 0.004798 \n",
      "[0/10][26/100][46] Loss_D: 0.001740 Loss_G: 0.001904 \n",
      "[0/10][26/100][47] Loss_D: 0.002114 Loss_G: 0.002247 \n",
      "[0/10][26/100][48] Loss_D: 0.002432 Loss_G: 0.002182 \n",
      "[0/10][26/100][49] Loss_D: 0.003106 Loss_G: 0.003064 \n",
      "[0/10][26/100][50] Loss_D: 0.002457 Loss_G: 0.003863 \n",
      "[0/10][26/100][51] Loss_D: 0.003679 Loss_G: 0.001456 \n",
      "[0/10][26/100][52] Loss_D: 0.002794 Loss_G: 0.002696 \n",
      "[0/10][26/100][53] Loss_D: 0.003719 Loss_G: 0.002600 \n",
      "[0/10][26/100][54] Loss_D: 0.003187 Loss_G: 0.004338 \n",
      "[0/10][26/100][55] Loss_D: 0.002752 Loss_G: 0.005054 \n",
      "[0/10][26/100][56] Loss_D: 0.005331 Loss_G: 0.002348 \n",
      "[0/10][26/100][57] Loss_D: 0.005581 Loss_G: 0.002214 \n",
      "[0/10][26/100][58] Loss_D: 0.002546 Loss_G: 0.002701 \n",
      "[0/10][26/100][59] Loss_D: 0.002447 Loss_G: 0.003260 \n",
      "[0/10][26/100][60] Loss_D: 0.002093 Loss_G: 0.002233 \n",
      "[0/10][26/100][61] Loss_D: 0.001220 Loss_G: 0.003107 \n",
      "[0/10][26/100][62] Loss_D: 0.003240 Loss_G: 0.000936 \n",
      "[0/10][26/100][63] Loss_D: 0.003147 Loss_G: 0.003763 \n",
      "[0/10][26/100][64] Loss_D: 0.002225 Loss_G: 0.003726 \n",
      "[0/10][26/100][65] Loss_D: 0.003249 Loss_G: 0.002099 \n",
      "[0/10][26/100][66] Loss_D: 0.004395 Loss_G: 0.003927 \n",
      "[0/10][26/100][67] Loss_D: 0.002671 Loss_G: 0.003174 \n",
      "[0/10][26/100][68] Loss_D: 0.004313 Loss_G: 0.002985 \n",
      "[0/10][26/100][69] Loss_D: 0.003293 Loss_G: 0.002054 \n",
      "[0/10][26/100][70] Loss_D: 0.001496 Loss_G: 0.003269 \n",
      "[0/10][26/100][71] Loss_D: 0.001787 Loss_G: 0.003404 \n",
      "[0/10][26/100][72] Loss_D: 0.002026 Loss_G: 0.004093 \n",
      "[0/10][26/100][73] Loss_D: 0.002444 Loss_G: 0.005453 \n",
      "[0/10][26/100][74] Loss_D: 0.000796 Loss_G: 0.002373 \n",
      "[0/10][26/100][75] Loss_D: 0.002518 Loss_G: 0.002672 \n",
      "[0/10][26/100][76] Loss_D: 0.003974 Loss_G: 0.001957 \n",
      "[0/10][26/100][77] Loss_D: 0.002191 Loss_G: 0.003017 \n",
      "[0/10][26/100][78] Loss_D: 0.003189 Loss_G: 0.003614 \n",
      "[0/10][26/100][79] Loss_D: 0.001700 Loss_G: 0.003429 \n",
      "[0/10][26/100][80] Loss_D: 0.000193 Loss_G: 0.003528 \n",
      "[0/10][26/100][81] Loss_D: 0.003931 Loss_G: 0.002791 \n",
      "[0/10][26/100][82] Loss_D: 0.004077 Loss_G: 0.002786 \n",
      "[0/10][26/100][83] Loss_D: 0.004234 Loss_G: 0.003731 \n",
      "[0/10][26/100][84] Loss_D: 0.003436 Loss_G: 0.003548 \n",
      "[0/10][26/100][85] Loss_D: 0.002203 Loss_G: 0.003017 \n",
      "[0/10][26/100][86] Loss_D: 0.003179 Loss_G: 0.003716 \n",
      "[0/10][26/100][87] Loss_D: 0.003323 Loss_G: 0.002709 \n",
      "[0/10][26/100][88] Loss_D: 0.003886 Loss_G: 0.001440 \n",
      "[0/10][26/100][89] Loss_D: 0.003226 Loss_G: 0.004230 \n",
      "[0/10][26/100][90] Loss_D: 0.003641 Loss_G: 0.002886 \n",
      "[0/10][26/100][91] Loss_D: 0.003522 Loss_G: 0.002323 \n",
      "[0/10][26/100][92] Loss_D: 0.004424 Loss_G: 0.001882 \n",
      "[0/10][26/100][93] Loss_D: 0.006579 Loss_G: 0.003337 \n",
      "[0/10][26/100][94] Loss_D: 0.002973 Loss_G: 0.000238 \n",
      "[0/10][26/100][95] Loss_D: 0.003709 Loss_G: 0.005404 \n",
      "[0/10][26/100][96] Loss_D: 0.005483 Loss_G: 0.002807 \n",
      "[0/10][26/100][97] Loss_D: 0.004259 Loss_G: 0.004288 \n",
      "[0/10][26/100][98] Loss_D: 0.001522 Loss_G: 0.002529 \n",
      "[0/10][26/100][99] Loss_D: 0.002189 Loss_G: 0.004709 \n",
      "[0/10][26/100][100] Loss_D: 0.001829 Loss_G: 0.004343 \n",
      "[0/10][26/100][101] Loss_D: 0.006062 Loss_G: 0.006248 \n",
      "[0/10][26/100][102] Loss_D: 0.002499 Loss_G: 0.003663 \n",
      "[0/10][26/100][103] Loss_D: 0.001266 Loss_G: 0.003362 \n",
      "[0/10][26/100][104] Loss_D: 0.003422 Loss_G: 0.003810 \n",
      "[0/10][26/100][105] Loss_D: 0.004041 Loss_G: 0.004914 \n",
      "[0/10][26/100][106] Loss_D: 0.001696 Loss_G: 0.004496 \n",
      "[0/10][26/100][107] Loss_D: 0.002772 Loss_G: 0.004670 \n",
      "[0/10][26/100][108] Loss_D: 0.003354 Loss_G: 0.004373 \n",
      "[0/10][26/100][109] Loss_D: 0.000982 Loss_G: 0.004363 \n",
      "[0/10][26/100][110] Loss_D: 0.002981 Loss_G: 0.003296 \n",
      "[0/10][26/100][111] Loss_D: 0.002518 Loss_G: 0.003114 \n",
      "[0/10][26/100][112] Loss_D: 0.004183 Loss_G: 0.004366 \n",
      "[0/10][26/100][113] Loss_D: 0.004294 Loss_G: 0.004313 \n",
      "[0/10][26/100][114] Loss_D: 0.003539 Loss_G: 0.004678 \n",
      "[0/10][26/100][115] Loss_D: 0.003206 Loss_G: 0.002047 \n",
      "[0/10][26/100][116] Loss_D: 0.003964 Loss_G: 0.004334 \n",
      "[0/10][26/100][117] Loss_D: 0.001858 Loss_G: 0.002287 \n",
      "[0/10][26/100][118] Loss_D: 0.002235 Loss_G: 0.001368 \n",
      "[0/10][26/100][119] Loss_D: 0.001725 Loss_G: 0.004655 \n",
      "[0/10][26/100][120] Loss_D: 0.003855 Loss_G: 0.000858 \n",
      "[0/10][26/100][121] Loss_D: 0.002764 Loss_G: 0.001902 \n",
      "[0/10][26/100][122] Loss_D: 0.001367 Loss_G: 0.001736 \n",
      "[0/10][26/100][123] Loss_D: 0.004296 Loss_G: 0.002594 \n",
      "[0/10][26/100][124] Loss_D: 0.003311 Loss_G: 0.002509 \n",
      "[0/10][26/100][125] Loss_D: 0.002318 Loss_G: 0.002469 \n",
      "[0/10][26/100][126] Loss_D: 0.002765 Loss_G: 0.005119 \n",
      "[0/10][26/100][127] Loss_D: 0.001633 Loss_G: 0.004719 \n",
      "[0/10][26/100][128] Loss_D: 0.002465 Loss_G: 0.004062 \n",
      "[0/10][26/100][129] Loss_D: 0.004204 Loss_G: 0.002930 \n",
      "[0/10][26/100][130] Loss_D: 0.002189 Loss_G: 0.002334 \n",
      "[0/10][26/100][131] Loss_D: 0.002089 Loss_G: 0.004550 \n",
      "[0/10][26/100][132] Loss_D: 0.003321 Loss_G: 0.006101 \n",
      "[0/10][26/100][133] Loss_D: 0.003409 Loss_G: 0.002272 \n",
      "[0/10][26/100][134] Loss_D: 0.001471 Loss_G: 0.003933 \n",
      "[0/10][26/100][135] Loss_D: 0.003469 Loss_G: 0.005808 \n",
      "[0/10][26/100][136] Loss_D: 0.001542 Loss_G: 0.002615 \n",
      "[0/10][26/100][137] Loss_D: 0.003553 Loss_G: 0.003774 \n",
      "[0/10][26/100][138] Loss_D: 0.003743 Loss_G: 0.004906 \n",
      "[0/10][26/100][139] Loss_D: 0.004094 Loss_G: 0.003999 \n",
      "[0/10][26/100][140] Loss_D: 0.003618 Loss_G: 0.001596 \n",
      "[0/10][26/100][141] Loss_D: 0.004723 Loss_G: 0.004121 \n",
      "[0/10][26/100][142] Loss_D: 0.002782 Loss_G: 0.002790 \n",
      "[0/10][26/100][143] Loss_D: 0.003007 Loss_G: 0.003645 \n",
      "[0/10][26/100][144] Loss_D: 0.003095 Loss_G: 0.003407 \n",
      "[0/10][26/100][145] Loss_D: 0.001295 Loss_G: 0.002476 \n",
      "[0/10][26/100][146] Loss_D: 0.000251 Loss_G: 0.002395 \n",
      "[0/10][26/100][147] Loss_D: 0.003687 Loss_G: 0.003249 \n",
      "[0/10][26/100][148] Loss_D: 0.002798 Loss_G: 0.003512 \n",
      "[0/10][26/100][149] Loss_D: 0.004171 Loss_G: 0.002722 \n",
      "[0/10][26/100][150] Loss_D: 0.003549 Loss_G: 0.002204 \n",
      "[0/10][26/100][151] Loss_D: 0.003890 Loss_G: 0.004833 \n"
     ]
    },
    {
     "name": "stdout",
     "output_type": "stream",
     "text": [
      "[0/10][26/100][152] Loss_D: 0.005536 Loss_G: 0.003550 \n",
      "[0/10][26/100][153] Loss_D: 0.002474 Loss_G: 0.001116 \n",
      "[0/10][26/100][154] Loss_D: 0.004742 Loss_G: 0.003278 \n",
      "[0/10][26/100][155] Loss_D: 0.003442 Loss_G: 0.004659 \n",
      "[0/10][26/100][156] Loss_D: 0.003816 Loss_G: 0.002365 \n",
      "[0/10][26/100][157] Loss_D: 0.002468 Loss_G: 0.001261 \n",
      "[0/10][26/100][158] Loss_D: 0.002932 Loss_G: 0.004094 \n",
      "[0/10][26/100][159] Loss_D: 0.002777 Loss_G: 0.002601 \n",
      "[0/10][26/100][160] Loss_D: 0.000639 Loss_G: 0.003937 \n",
      "[0/10][26/100][161] Loss_D: 0.003193 Loss_G: 0.004437 \n",
      "[0/10][26/100][162] Loss_D: 0.003551 Loss_G: 0.002200 \n",
      "[0/10][26/100][163] Loss_D: 0.003474 Loss_G: 0.003950 \n",
      "[0/10][26/100][164] Loss_D: 0.004544 Loss_G: 0.003059 \n",
      "[0/10][26/100][165] Loss_D: 0.001576 Loss_G: 0.003488 \n",
      "[0/10][26/100][166] Loss_D: 0.003523 Loss_G: 0.003235 \n",
      "[0/10][26/100][167] Loss_D: 0.002024 Loss_G: 0.002194 \n",
      "[0/10][26/100][168] Loss_D: 0.001142 Loss_G: 0.005256 \n",
      "[0/10][26/100][169] Loss_D: 0.005600 Loss_G: 0.002734 \n",
      "[0/10][26/100][170] Loss_D: 0.001416 Loss_G: 0.003424 \n",
      "[0/10][26/100][171] Loss_D: 0.003393 Loss_G: 0.001240 \n",
      "[0/10][26/100][172] Loss_D: 0.003495 Loss_G: 0.003376 \n",
      "[0/10][26/100][173] Loss_D: 0.002716 Loss_G: 0.001195 \n",
      "[0/10][26/100][174] Loss_D: 0.004954 Loss_G: 0.001793 \n",
      "[0/10][26/100][175] Loss_D: 0.004187 Loss_G: 0.001107 \n",
      "[0/10][26/100][176] Loss_D: 0.002672 Loss_G: 0.003053 \n",
      "[0/10][26/100][177] Loss_D: 0.004144 Loss_G: 0.006476 \n",
      "[0/10][26/100][178] Loss_D: 0.002613 Loss_G: 0.004063 \n",
      "[0/10][26/100][179] Loss_D: 0.002505 Loss_G: 0.003282 \n",
      "[0/10][26/100][180] Loss_D: 0.001779 Loss_G: 0.003162 \n",
      "[0/10][26/100][181] Loss_D: 0.001603 Loss_G: 0.005629 \n",
      "[0/10][26/100][182] Loss_D: 0.002557 Loss_G: 0.002718 \n",
      "[0/10][26/100][183] Loss_D: 0.003060 Loss_G: 0.003659 \n",
      "[0/10][26/100][184] Loss_D: 0.000917 Loss_G: 0.000946 \n",
      "[0/10][26/100][185] Loss_D: 0.003564 Loss_G: 0.003028 \n",
      "[0/10][26/100][186] Loss_D: 0.002526 Loss_G: 0.002020 \n",
      "[0/10][26/100][187] Loss_D: 0.001974 Loss_G: 0.002992 \n",
      "[0/10][26/100][188] Loss_D: 0.001537 Loss_G: 0.004211 \n",
      "[0/10][26/100][189] Loss_D: 0.001903 Loss_G: 0.004031 \n",
      "[0/10][26/100][190] Loss_D: 0.000974 Loss_G: 0.001990 \n",
      "[0/10][26/100][191] Loss_D: 0.005132 Loss_G: 0.003408 \n",
      "[0/10][26/100][192] Loss_D: 0.003850 Loss_G: 0.000908 \n",
      "[0/10][26/100][193] Loss_D: 0.003786 Loss_G: 0.001683 \n",
      "[0/10][26/100][194] Loss_D: 0.003023 Loss_G: 0.003126 \n",
      "[0/10][26/100][195] Loss_D: 0.001831 Loss_G: 0.001733 \n",
      "[0/10][26/100][196] Loss_D: 0.002256 Loss_G: 0.005580 \n",
      "[0/10][26/100][197] Loss_D: 0.004649 Loss_G: 0.003733 \n",
      "[0/10][26/100][198] Loss_D: 0.002239 Loss_G: 0.002411 \n",
      "[0/10][26/100][199] Loss_D: 0.004605 Loss_G: 0.004446 \n",
      "[0/10][26/100][200] Loss_D: 0.002830 Loss_G: 0.004455 \n",
      "[1/10][26/100][201] Loss_D: 0.002137 Loss_G: 0.003136 \n",
      "[1/10][26/100][202] Loss_D: 0.002831 Loss_G: 0.003501 \n",
      "[1/10][26/100][203] Loss_D: 0.002571 Loss_G: 0.003591 \n",
      "[1/10][26/100][204] Loss_D: 0.002972 Loss_G: 0.002084 \n",
      "[1/10][26/100][205] Loss_D: 0.002121 Loss_G: 0.003139 \n",
      "[1/10][26/100][206] Loss_D: 0.004659 Loss_G: 0.004246 \n",
      "[1/10][26/100][207] Loss_D: 0.002615 Loss_G: 0.002040 \n",
      "[1/10][26/100][208] Loss_D: 0.002654 Loss_G: 0.000957 \n",
      "[1/10][26/100][209] Loss_D: 0.002299 Loss_G: 0.001996 \n",
      "[1/10][26/100][210] Loss_D: 0.002673 Loss_G: 0.002364 \n",
      "[1/10][26/100][211] Loss_D: 0.002298 Loss_G: 0.002782 \n",
      "[1/10][26/100][212] Loss_D: 0.002053 Loss_G: 0.003208 \n",
      "[1/10][26/100][213] Loss_D: 0.001783 Loss_G: 0.002631 \n",
      "[1/10][26/100][214] Loss_D: 0.001985 Loss_G: 0.004534 \n",
      "[1/10][26/100][215] Loss_D: 0.002575 Loss_G: 0.002832 \n",
      "[1/10][26/100][216] Loss_D: 0.004498 Loss_G: 0.001807 \n",
      "[1/10][26/100][217] Loss_D: 0.002162 Loss_G: 0.004236 \n",
      "[1/10][26/100][218] Loss_D: 0.002409 Loss_G: 0.002494 \n",
      "[1/10][26/100][219] Loss_D: 0.004634 Loss_G: 0.003936 \n",
      "[1/10][26/100][220] Loss_D: 0.004444 Loss_G: 0.002922 \n",
      "[1/10][26/100][221] Loss_D: 0.002962 Loss_G: 0.002778 \n",
      "[1/10][26/100][222] Loss_D: 0.002599 Loss_G: 0.004413 \n",
      "[1/10][26/100][223] Loss_D: 0.002671 Loss_G: 0.002551 \n",
      "[1/10][26/100][224] Loss_D: 0.001244 Loss_G: 0.002201 \n",
      "[1/10][26/100][225] Loss_D: 0.004433 Loss_G: 0.001205 \n",
      "[1/10][26/100][226] Loss_D: 0.001613 Loss_G: 0.002192 \n",
      "[1/10][26/100][227] Loss_D: 0.004234 Loss_G: 0.004884 \n",
      "[1/10][26/100][228] Loss_D: 0.001616 Loss_G: 0.003499 \n",
      "[1/10][26/100][229] Loss_D: 0.002234 Loss_G: 0.005882 \n",
      "[1/10][26/100][230] Loss_D: 0.000924 Loss_G: 0.004721 \n",
      "[1/10][26/100][231] Loss_D: 0.005194 Loss_G: 0.001481 \n",
      "[1/10][26/100][232] Loss_D: 0.002352 Loss_G: 0.002378 \n",
      "[1/10][26/100][233] Loss_D: 0.005573 Loss_G: 0.000924 \n",
      "[1/10][26/100][234] Loss_D: 0.003757 Loss_G: 0.001566 \n",
      "[1/10][26/100][235] Loss_D: 0.002377 Loss_G: 0.006103 \n",
      "[1/10][26/100][236] Loss_D: 0.002979 Loss_G: 0.003421 \n",
      "[1/10][26/100][237] Loss_D: 0.003319 Loss_G: 0.006387 \n",
      "[1/10][26/100][238] Loss_D: 0.004300 Loss_G: 0.004726 \n",
      "[1/10][26/100][239] Loss_D: 0.003285 Loss_G: 0.001348 \n",
      "[1/10][26/100][240] Loss_D: 0.002083 Loss_G: 0.003060 \n",
      "[1/10][26/100][241] Loss_D: 0.002404 Loss_G: 0.002462 \n",
      "[1/10][26/100][242] Loss_D: 0.003452 Loss_G: 0.002585 \n",
      "[1/10][26/100][243] Loss_D: 0.002539 Loss_G: 0.001744 \n",
      "[1/10][26/100][244] Loss_D: 0.002923 Loss_G: 0.002627 \n",
      "[1/10][26/100][245] Loss_D: 0.005315 Loss_G: 0.003684 \n",
      "[1/10][26/100][246] Loss_D: 0.003647 Loss_G: 0.003987 \n",
      "[1/10][26/100][247] Loss_D: 0.002437 Loss_G: 0.003249 \n",
      "[1/10][26/100][248] Loss_D: 0.005681 Loss_G: 0.003081 \n",
      "[1/10][26/100][249] Loss_D: 0.003307 Loss_G: 0.005350 \n",
      "[1/10][26/100][250] Loss_D: 0.002642 Loss_G: 0.003091 \n",
      "[1/10][26/100][251] Loss_D: 0.004676 Loss_G: 0.005652 \n",
      "[1/10][26/100][252] Loss_D: 0.000795 Loss_G: 0.004412 \n",
      "[1/10][26/100][253] Loss_D: 0.002607 Loss_G: 0.003280 \n",
      "[1/10][26/100][254] Loss_D: 0.001146 Loss_G: 0.004980 \n",
      "[1/10][26/100][255] Loss_D: 0.003618 Loss_G: 0.003649 \n",
      "[1/10][26/100][256] Loss_D: 0.002007 Loss_G: 0.003202 \n",
      "[1/10][26/100][257] Loss_D: 0.004528 Loss_G: 0.002431 \n",
      "[1/10][26/100][258] Loss_D: 0.004551 Loss_G: 0.003967 \n",
      "[1/10][26/100][259] Loss_D: 0.002122 Loss_G: 0.002947 \n",
      "[1/10][26/100][260] Loss_D: 0.003622 Loss_G: 0.003896 \n",
      "[1/10][26/100][261] Loss_D: 0.003108 Loss_G: 0.003303 \n",
      "[1/10][26/100][262] Loss_D: 0.003135 Loss_G: 0.003625 \n",
      "[1/10][26/100][263] Loss_D: 0.002051 Loss_G: 0.002093 \n",
      "[1/10][26/100][264] Loss_D: 0.002043 Loss_G: 0.003377 \n",
      "[1/10][26/100][265] Loss_D: 0.003709 Loss_G: 0.003377 \n",
      "[1/10][26/100][266] Loss_D: 0.004488 Loss_G: 0.003488 \n",
      "[1/10][26/100][267] Loss_D: 0.001834 Loss_G: 0.001404 \n",
      "[1/10][26/100][268] Loss_D: 0.003553 Loss_G: 0.004317 \n",
      "[1/10][26/100][269] Loss_D: 0.004014 Loss_G: 0.002329 \n",
      "[1/10][26/100][270] Loss_D: 0.002708 Loss_G: 0.002615 \n",
      "[1/10][26/100][271] Loss_D: 0.003346 Loss_G: 0.004853 \n",
      "[1/10][26/100][272] Loss_D: 0.003114 Loss_G: 0.002695 \n",
      "[1/10][26/100][273] Loss_D: 0.004827 Loss_G: 0.003330 \n",
      "[1/10][26/100][274] Loss_D: 0.004011 Loss_G: 0.004526 \n",
      "[1/10][26/100][275] Loss_D: 0.004139 Loss_G: 0.003877 \n",
      "[1/10][26/100][276] Loss_D: 0.003228 Loss_G: 0.003256 \n",
      "[1/10][26/100][277] Loss_D: 0.001510 Loss_G: 0.001693 \n",
      "[1/10][26/100][278] Loss_D: 0.003229 Loss_G: 0.005033 \n",
      "[1/10][26/100][279] Loss_D: 0.001404 Loss_G: 0.004395 \n",
      "[1/10][26/100][280] Loss_D: 0.003605 Loss_G: 0.002738 \n",
      "[1/10][26/100][281] Loss_D: 0.002713 Loss_G: 0.001458 \n",
      "[1/10][26/100][282] Loss_D: 0.002705 Loss_G: 0.004668 \n",
      "[1/10][26/100][283] Loss_D: 0.001579 Loss_G: 0.002434 \n",
      "[1/10][26/100][284] Loss_D: 0.003209 Loss_G: 0.004568 \n",
      "[1/10][26/100][285] Loss_D: 0.003118 Loss_G: 0.003577 \n",
      "[1/10][26/100][286] Loss_D: 0.003715 Loss_G: 0.003164 \n",
      "[1/10][26/100][287] Loss_D: 0.002214 Loss_G: 0.005013 \n",
      "[1/10][26/100][288] Loss_D: 0.001208 Loss_G: 0.002877 \n",
      "[1/10][26/100][289] Loss_D: 0.002102 Loss_G: 0.003867 \n",
      "[1/10][26/100][290] Loss_D: 0.002925 Loss_G: 0.001822 \n",
      "[1/10][26/100][291] Loss_D: 0.005263 Loss_G: 0.002240 \n",
      "[1/10][26/100][292] Loss_D: 0.002623 Loss_G: 0.001771 \n",
      "[1/10][26/100][293] Loss_D: 0.003312 Loss_G: 0.000678 \n",
      "[1/10][26/100][294] Loss_D: 0.003020 Loss_G: 0.002848 \n",
      "[1/10][26/100][295] Loss_D: 0.001648 Loss_G: 0.002219 \n",
      "[1/10][26/100][296] Loss_D: 0.003846 Loss_G: 0.004864 \n",
      "[1/10][26/100][297] Loss_D: 0.005080 Loss_G: 0.001505 \n",
      "[1/10][26/100][298] Loss_D: 0.006741 Loss_G: 0.001830 \n",
      "[1/10][26/100][299] Loss_D: 0.003366 Loss_G: 0.004869 \n",
      "[1/10][26/100][300] Loss_D: 0.002302 Loss_G: 0.003956 \n"
     ]
    },
    {
     "name": "stdout",
     "output_type": "stream",
     "text": [
      "[1/10][26/100][301] Loss_D: 0.000032 Loss_G: 0.002480 \n",
      "[1/10][26/100][302] Loss_D: 0.004537 Loss_G: 0.005117 \n",
      "[1/10][26/100][303] Loss_D: 0.005361 Loss_G: 0.004975 \n",
      "[1/10][26/100][304] Loss_D: 0.002620 Loss_G: 0.003241 \n",
      "[1/10][26/100][305] Loss_D: 0.003712 Loss_G: 0.002655 \n",
      "[1/10][26/100][306] Loss_D: 0.002219 Loss_G: 0.002315 \n",
      "[1/10][26/100][307] Loss_D: 0.003433 Loss_G: 0.004483 \n",
      "[1/10][26/100][308] Loss_D: 0.003679 Loss_G: 0.003354 \n",
      "[1/10][26/100][309] Loss_D: 0.003732 Loss_G: 0.001947 \n",
      "[1/10][26/100][310] Loss_D: 0.001998 Loss_G: 0.003749 \n",
      "[1/10][26/100][311] Loss_D: 0.002352 Loss_G: 0.001317 \n",
      "[1/10][26/100][312] Loss_D: 0.001862 Loss_G: 0.001697 \n",
      "[1/10][26/100][313] Loss_D: 0.002955 Loss_G: 0.004951 \n",
      "[1/10][26/100][314] Loss_D: 0.002624 Loss_G: 0.002238 \n",
      "[1/10][26/100][315] Loss_D: 0.003031 Loss_G: 0.003324 \n",
      "[1/10][26/100][316] Loss_D: 0.002723 Loss_G: 0.002015 \n",
      "[1/10][26/100][317] Loss_D: 0.004062 Loss_G: 0.001314 \n",
      "[1/10][26/100][318] Loss_D: 0.002411 Loss_G: 0.003139 \n",
      "[1/10][26/100][319] Loss_D: 0.001479 Loss_G: 0.002102 \n",
      "[1/10][26/100][320] Loss_D: 0.003866 Loss_G: 0.002852 \n",
      "[1/10][26/100][321] Loss_D: 0.002909 Loss_G: 0.003657 \n",
      "[1/10][26/100][322] Loss_D: 0.004472 Loss_G: 0.004194 \n",
      "[1/10][26/100][323] Loss_D: 0.003300 Loss_G: 0.002468 \n",
      "[1/10][26/100][324] Loss_D: 0.004745 Loss_G: 0.003141 \n",
      "[1/10][26/100][325] Loss_D: 0.002559 Loss_G: 0.004989 \n",
      "[1/10][26/100][326] Loss_D: 0.002971 Loss_G: 0.004393 \n",
      "[1/10][26/100][327] Loss_D: 0.002671 Loss_G: 0.002417 \n",
      "[1/10][26/100][328] Loss_D: 0.002720 Loss_G: 0.004653 \n",
      "[1/10][26/100][329] Loss_D: 0.002529 Loss_G: 0.001744 \n",
      "[1/10][26/100][330] Loss_D: 0.001809 Loss_G: 0.003059 \n",
      "[1/10][26/100][331] Loss_D: 0.004052 Loss_G: 0.002678 \n",
      "[1/10][26/100][332] Loss_D: 0.002627 Loss_G: 0.002941 \n",
      "[1/10][26/100][333] Loss_D: 0.004170 Loss_G: 0.005081 \n",
      "[1/10][26/100][334] Loss_D: 0.003326 Loss_G: 0.002123 \n",
      "[1/10][26/100][335] Loss_D: 0.002990 Loss_G: 0.002259 \n",
      "[1/10][26/100][336] Loss_D: 0.003351 Loss_G: 0.004711 \n",
      "[1/10][26/100][337] Loss_D: 0.003509 Loss_G: 0.004803 \n",
      "[1/10][26/100][338] Loss_D: 0.003742 Loss_G: 0.002952 \n",
      "[1/10][26/100][339] Loss_D: 0.002449 Loss_G: 0.003339 \n",
      "[1/10][26/100][340] Loss_D: 0.003109 Loss_G: 0.004142 \n",
      "[1/10][26/100][341] Loss_D: 0.003213 Loss_G: 0.003516 \n",
      "[1/10][26/100][342] Loss_D: 0.001212 Loss_G: 0.002667 \n",
      "[1/10][26/100][343] Loss_D: 0.002181 Loss_G: 0.002196 \n",
      "[1/10][26/100][344] Loss_D: 0.002243 Loss_G: 0.003090 \n",
      "[1/10][26/100][345] Loss_D: 0.001201 Loss_G: 0.001526 \n",
      "[1/10][26/100][346] Loss_D: 0.003627 Loss_G: 0.003860 \n",
      "[1/10][26/100][347] Loss_D: 0.003714 Loss_G: 0.001922 \n",
      "[1/10][26/100][348] Loss_D: 0.002546 Loss_G: 0.006985 \n",
      "[1/10][26/100][349] Loss_D: 0.003359 Loss_G: 0.001908 \n",
      "[1/10][26/100][350] Loss_D: 0.002122 Loss_G: 0.003903 \n",
      "[1/10][26/100][351] Loss_D: 0.002454 Loss_G: 0.002068 \n",
      "[1/10][26/100][352] Loss_D: 0.003789 Loss_G: 0.004980 \n",
      "[1/10][26/100][353] Loss_D: 0.004585 Loss_G: 0.004072 \n",
      "[1/10][26/100][354] Loss_D: 0.002647 Loss_G: 0.001551 \n",
      "[1/10][26/100][355] Loss_D: 0.003916 Loss_G: 0.002615 \n",
      "[1/10][26/100][356] Loss_D: 0.000709 Loss_G: 0.001830 \n",
      "[1/10][26/100][357] Loss_D: 0.003447 Loss_G: 0.002638 \n",
      "[1/10][26/100][358] Loss_D: 0.003061 Loss_G: 0.002201 \n",
      "[1/10][26/100][359] Loss_D: 0.005054 Loss_G: 0.005861 \n",
      "[1/10][26/100][360] Loss_D: 0.002444 Loss_G: 0.003938 \n",
      "[1/10][26/100][361] Loss_D: 0.002706 Loss_G: 0.002663 \n",
      "[1/10][26/100][362] Loss_D: 0.003243 Loss_G: 0.002702 \n",
      "[1/10][26/100][363] Loss_D: 0.002739 Loss_G: 0.001668 \n",
      "[1/10][26/100][364] Loss_D: 0.003235 Loss_G: 0.004071 \n",
      "[1/10][26/100][365] Loss_D: 0.003751 Loss_G: 0.002950 \n",
      "[1/10][26/100][366] Loss_D: 0.003522 Loss_G: 0.003880 \n",
      "[1/10][26/100][367] Loss_D: 0.002454 Loss_G: 0.002529 \n",
      "[1/10][26/100][368] Loss_D: 0.002711 Loss_G: 0.004430 \n",
      "[1/10][26/100][369] Loss_D: 0.001607 Loss_G: 0.004020 \n",
      "[1/10][26/100][370] Loss_D: 0.002556 Loss_G: 0.001366 \n",
      "[1/10][26/100][371] Loss_D: 0.002321 Loss_G: 0.001712 \n",
      "[1/10][26/100][372] Loss_D: 0.002745 Loss_G: 0.002431 \n",
      "[1/10][26/100][373] Loss_D: 0.002165 Loss_G: 0.002382 \n",
      "[1/10][26/100][374] Loss_D: 0.003909 Loss_G: 0.003444 \n",
      "[1/10][26/100][375] Loss_D: 0.008734 Loss_G: 0.006268 \n",
      "[1/10][26/100][376] Loss_D: 0.002613 Loss_G: 0.002879 \n",
      "[1/10][26/100][377] Loss_D: 0.005638 Loss_G: 0.003118 \n",
      "[1/10][26/100][378] Loss_D: 0.002512 Loss_G: 0.001008 \n",
      "[1/10][26/100][379] Loss_D: 0.001226 Loss_G: 0.004676 \n",
      "[1/10][26/100][380] Loss_D: 0.002602 Loss_G: 0.002819 \n",
      "[1/10][26/100][381] Loss_D: 0.003865 Loss_G: 0.003782 \n",
      "[1/10][26/100][382] Loss_D: 0.001671 Loss_G: 0.002166 \n",
      "[1/10][26/100][383] Loss_D: 0.002319 Loss_G: 0.003254 \n",
      "[1/10][26/100][384] Loss_D: 0.002647 Loss_G: 0.002335 \n",
      "[1/10][26/100][385] Loss_D: 0.002119 Loss_G: 0.002328 \n",
      "[1/10][26/100][386] Loss_D: 0.003980 Loss_G: 0.002084 \n",
      "[1/10][26/100][387] Loss_D: 0.001874 Loss_G: 0.001974 \n",
      "[1/10][26/100][388] Loss_D: 0.004099 Loss_G: 0.004167 \n",
      "[1/10][26/100][389] Loss_D: 0.003648 Loss_G: 0.002134 \n",
      "[1/10][26/100][390] Loss_D: 0.002461 Loss_G: 0.002360 \n",
      "[1/10][26/100][391] Loss_D: 0.003027 Loss_G: 0.001940 \n",
      "[1/10][26/100][392] Loss_D: 0.002492 Loss_G: 0.002490 \n",
      "[1/10][26/100][393] Loss_D: 0.004002 Loss_G: 0.004664 \n",
      "[1/10][26/100][394] Loss_D: 0.002988 Loss_G: 0.004400 \n",
      "[1/10][26/100][395] Loss_D: 0.004551 Loss_G: 0.004444 \n",
      "[1/10][26/100][396] Loss_D: 0.002873 Loss_G: 0.003178 \n",
      "[1/10][26/100][397] Loss_D: 0.001537 Loss_G: 0.003616 \n",
      "[1/10][26/100][398] Loss_D: 0.001274 Loss_G: 0.002440 \n",
      "[1/10][26/100][399] Loss_D: 0.003463 Loss_G: 0.002162 \n",
      "[1/10][26/100][400] Loss_D: 0.003811 Loss_G: 0.001679 \n",
      "[2/10][26/100][401] Loss_D: 0.003141 Loss_G: 0.004373 \n",
      "[2/10][26/100][402] Loss_D: 0.004850 Loss_G: 0.005189 \n",
      "[2/10][26/100][403] Loss_D: 0.003978 Loss_G: 0.002492 \n",
      "[2/10][26/100][404] Loss_D: 0.001787 Loss_G: 0.003348 \n",
      "[2/10][26/100][405] Loss_D: 0.003410 Loss_G: 0.002773 \n",
      "[2/10][26/100][406] Loss_D: 0.003516 Loss_G: 0.003007 \n",
      "[2/10][26/100][407] Loss_D: 0.003704 Loss_G: 0.003819 \n",
      "[2/10][26/100][408] Loss_D: 0.002664 Loss_G: 0.002310 \n",
      "[2/10][26/100][409] Loss_D: 0.004940 Loss_G: 0.004626 \n",
      "[2/10][26/100][410] Loss_D: 0.001296 Loss_G: 0.005273 \n",
      "[2/10][26/100][411] Loss_D: 0.003448 Loss_G: 0.002354 \n",
      "[2/10][26/100][412] Loss_D: 0.002279 Loss_G: 0.004162 \n",
      "[2/10][26/100][413] Loss_D: 0.001340 Loss_G: 0.002157 \n",
      "[2/10][26/100][414] Loss_D: 0.003570 Loss_G: 0.003549 \n",
      "[2/10][26/100][415] Loss_D: 0.003330 Loss_G: 0.002624 \n",
      "[2/10][26/100][416] Loss_D: 0.002266 Loss_G: 0.001707 \n",
      "[2/10][26/100][417] Loss_D: 0.003305 Loss_G: 0.003010 \n",
      "[2/10][26/100][418] Loss_D: 0.002977 Loss_G: 0.003439 \n",
      "[2/10][26/100][419] Loss_D: 0.002737 Loss_G: 0.003312 \n",
      "[2/10][26/100][420] Loss_D: 0.004483 Loss_G: 0.001630 \n",
      "[2/10][26/100][421] Loss_D: 0.001867 Loss_G: 0.002356 \n",
      "[2/10][26/100][422] Loss_D: 0.001888 Loss_G: 0.001042 \n",
      "[2/10][26/100][423] Loss_D: 0.002120 Loss_G: 0.004004 \n",
      "[2/10][26/100][424] Loss_D: 0.002665 Loss_G: 0.001718 \n",
      "[2/10][26/100][425] Loss_D: 0.005135 Loss_G: 0.004462 \n",
      "[2/10][26/100][426] Loss_D: 0.004725 Loss_G: 0.004373 \n",
      "[2/10][26/100][427] Loss_D: 0.004562 Loss_G: 0.002647 \n",
      "[2/10][26/100][428] Loss_D: 0.004557 Loss_G: 0.002846 \n",
      "[2/10][26/100][429] Loss_D: 0.003845 Loss_G: 0.001911 \n",
      "[2/10][26/100][430] Loss_D: 0.002916 Loss_G: 0.003144 \n",
      "[2/10][26/100][431] Loss_D: 0.001048 Loss_G: 0.005869 \n",
      "[2/10][26/100][432] Loss_D: 0.005351 Loss_G: 0.003579 \n",
      "[2/10][26/100][433] Loss_D: 0.001297 Loss_G: 0.002879 \n",
      "[2/10][26/100][434] Loss_D: 0.003726 Loss_G: 0.002407 \n",
      "[2/10][26/100][435] Loss_D: 0.002475 Loss_G: 0.002130 \n",
      "[2/10][26/100][436] Loss_D: 0.003266 Loss_G: 0.003384 \n",
      "[2/10][26/100][437] Loss_D: 0.003468 Loss_G: 0.003362 \n",
      "[2/10][26/100][438] Loss_D: 0.003431 Loss_G: 0.002194 \n",
      "[2/10][26/100][439] Loss_D: 0.003231 Loss_G: 0.002174 \n",
      "[2/10][26/100][440] Loss_D: 0.001546 Loss_G: 0.003310 \n",
      "[2/10][26/100][441] Loss_D: 0.001865 Loss_G: 0.001745 \n",
      "[2/10][26/100][442] Loss_D: 0.003591 Loss_G: 0.002190 \n",
      "[2/10][26/100][443] Loss_D: 0.004809 Loss_G: 0.001571 \n",
      "[2/10][26/100][444] Loss_D: 0.004358 Loss_G: 0.001492 \n",
      "[2/10][26/100][445] Loss_D: 0.002026 Loss_G: 0.002239 \n",
      "[2/10][26/100][446] Loss_D: 0.002301 Loss_G: 0.002271 \n",
      "[2/10][26/100][447] Loss_D: 0.003254 Loss_G: 0.002911 \n",
      "[2/10][26/100][448] Loss_D: 0.003953 Loss_G: 0.003579 \n",
      "[2/10][26/100][449] Loss_D: 0.003574 Loss_G: 0.003551 \n"
     ]
    },
    {
     "name": "stdout",
     "output_type": "stream",
     "text": [
      "[2/10][26/100][450] Loss_D: 0.003610 Loss_G: 0.003299 \n",
      "[2/10][26/100][451] Loss_D: 0.003675 Loss_G: 0.004763 \n",
      "[2/10][26/100][452] Loss_D: 0.002241 Loss_G: 0.002938 \n",
      "[2/10][26/100][453] Loss_D: 0.002835 Loss_G: 0.004185 \n",
      "[2/10][26/100][454] Loss_D: 0.002765 Loss_G: 0.003533 \n",
      "[2/10][26/100][455] Loss_D: 0.003136 Loss_G: 0.001948 \n",
      "[2/10][26/100][456] Loss_D: 0.002970 Loss_G: 0.002815 \n",
      "[2/10][26/100][457] Loss_D: 0.002586 Loss_G: 0.001813 \n",
      "[2/10][26/100][458] Loss_D: 0.002609 Loss_G: 0.001417 \n",
      "[2/10][26/100][459] Loss_D: 0.003130 Loss_G: 0.001706 \n",
      "[2/10][26/100][460] Loss_D: 0.001854 Loss_G: 0.002468 \n",
      "[2/10][26/100][461] Loss_D: 0.002961 Loss_G: 0.002250 \n",
      "[2/10][26/100][462] Loss_D: 0.002596 Loss_G: 0.002183 \n",
      "[2/10][26/100][463] Loss_D: 0.002624 Loss_G: 0.002826 \n",
      "[2/10][26/100][464] Loss_D: 0.004170 Loss_G: 0.001324 \n",
      "[2/10][26/100][465] Loss_D: 0.003162 Loss_G: 0.005163 \n",
      "[2/10][26/100][466] Loss_D: 0.002802 Loss_G: 0.002031 \n",
      "[2/10][26/100][467] Loss_D: 0.003196 Loss_G: 0.002637 \n",
      "[2/10][26/100][468] Loss_D: 0.004129 Loss_G: 0.001133 \n",
      "[2/10][26/100][469] Loss_D: 0.003082 Loss_G: 0.002755 \n",
      "[2/10][26/100][470] Loss_D: 0.005065 Loss_G: 0.003591 \n",
      "[2/10][26/100][471] Loss_D: 0.003424 Loss_G: 0.004204 \n",
      "[2/10][26/100][472] Loss_D: 0.002854 Loss_G: 0.002216 \n",
      "[2/10][26/100][473] Loss_D: 0.003077 Loss_G: 0.003876 \n",
      "[2/10][26/100][474] Loss_D: 0.003207 Loss_G: 0.003399 \n",
      "[2/10][26/100][475] Loss_D: 0.004195 Loss_G: 0.002409 \n",
      "[2/10][26/100][476] Loss_D: 0.002603 Loss_G: 0.004017 \n",
      "[2/10][26/100][477] Loss_D: 0.003461 Loss_G: 0.003106 \n",
      "[2/10][26/100][478] Loss_D: 0.003100 Loss_G: 0.001589 \n",
      "[2/10][26/100][479] Loss_D: 0.003012 Loss_G: 0.002394 \n",
      "[2/10][26/100][480] Loss_D: 0.003790 Loss_G: 0.002664 \n",
      "[2/10][26/100][481] Loss_D: 0.002097 Loss_G: 0.003254 \n",
      "[2/10][26/100][482] Loss_D: 0.002142 Loss_G: 0.002777 \n",
      "[2/10][26/100][483] Loss_D: 0.002567 Loss_G: 0.002063 \n",
      "[2/10][26/100][484] Loss_D: 0.002879 Loss_G: 0.004023 \n",
      "[2/10][26/100][485] Loss_D: 0.002516 Loss_G: 0.004309 \n",
      "[2/10][26/100][486] Loss_D: 0.005084 Loss_G: 0.004474 \n",
      "[2/10][26/100][487] Loss_D: 0.003425 Loss_G: 0.002351 \n",
      "[2/10][26/100][488] Loss_D: 0.002821 Loss_G: 0.002870 \n",
      "[2/10][26/100][489] Loss_D: 0.004291 Loss_G: 0.001168 \n",
      "[2/10][26/100][490] Loss_D: 0.003977 Loss_G: 0.002668 \n",
      "[2/10][26/100][491] Loss_D: 0.003325 Loss_G: 0.003832 \n",
      "[2/10][26/100][492] Loss_D: 0.002206 Loss_G: 0.003279 \n",
      "[2/10][26/100][493] Loss_D: 0.005408 Loss_G: 0.003193 \n",
      "[2/10][26/100][494] Loss_D: 0.007591 Loss_G: 0.004631 \n",
      "[2/10][26/100][495] Loss_D: 0.002499 Loss_G: 0.002868 \n",
      "[2/10][26/100][496] Loss_D: 0.002577 Loss_G: 0.002665 \n",
      "[2/10][26/100][497] Loss_D: 0.001990 Loss_G: 0.002521 \n",
      "[2/10][26/100][498] Loss_D: 0.002610 Loss_G: 0.002228 \n",
      "[2/10][26/100][499] Loss_D: 0.003572 Loss_G: 0.003562 \n",
      "[2/10][26/100][500] Loss_D: 0.002818 Loss_G: 0.002497 \n",
      "[2/10][26/100][501] Loss_D: 0.002269 Loss_G: 0.001928 \n",
      "[2/10][26/100][502] Loss_D: 0.003420 Loss_G: 0.003330 \n",
      "[2/10][26/100][503] Loss_D: 0.001485 Loss_G: 0.001380 \n",
      "[2/10][26/100][504] Loss_D: 0.002851 Loss_G: 0.002687 \n",
      "[2/10][26/100][505] Loss_D: 0.002342 Loss_G: 0.003474 \n",
      "[2/10][26/100][506] Loss_D: 0.004433 Loss_G: 0.001520 \n",
      "[2/10][26/100][507] Loss_D: 0.006234 Loss_G: 0.003646 \n",
      "[2/10][26/100][508] Loss_D: 0.004165 Loss_G: 0.003790 \n",
      "[2/10][26/100][509] Loss_D: 0.003012 Loss_G: 0.002709 \n",
      "[2/10][26/100][510] Loss_D: 0.002771 Loss_G: 0.002214 \n",
      "[2/10][26/100][511] Loss_D: 0.003852 Loss_G: 0.001403 \n",
      "[2/10][26/100][512] Loss_D: 0.003089 Loss_G: 0.001099 \n",
      "[2/10][26/100][513] Loss_D: 0.003246 Loss_G: 0.002560 \n",
      "[2/10][26/100][514] Loss_D: 0.002097 Loss_G: 0.002859 \n",
      "[2/10][26/100][515] Loss_D: 0.002436 Loss_G: 0.002107 \n",
      "[2/10][26/100][516] Loss_D: 0.003337 Loss_G: 0.001208 \n",
      "[2/10][26/100][517] Loss_D: 0.002959 Loss_G: 0.003761 \n",
      "[2/10][26/100][518] Loss_D: 0.003403 Loss_G: 0.004791 \n",
      "[2/10][26/100][519] Loss_D: 0.006225 Loss_G: 0.002209 \n",
      "[2/10][26/100][520] Loss_D: 0.001898 Loss_G: 0.007370 \n",
      "[2/10][26/100][521] Loss_D: 0.005393 Loss_G: 0.003658 \n",
      "[2/10][26/100][522] Loss_D: 0.002207 Loss_G: 0.001438 \n",
      "[2/10][26/100][523] Loss_D: 0.002912 Loss_G: 0.003013 \n",
      "[2/10][26/100][524] Loss_D: 0.002687 Loss_G: 0.004007 \n",
      "[2/10][26/100][525] Loss_D: 0.003188 Loss_G: 0.003172 \n",
      "[2/10][26/100][526] Loss_D: 0.004059 Loss_G: 0.004036 \n",
      "[2/10][26/100][527] Loss_D: 0.003945 Loss_G: 0.002883 \n",
      "[2/10][26/100][528] Loss_D: 0.001716 Loss_G: 0.004080 \n",
      "[2/10][26/100][529] Loss_D: 0.002472 Loss_G: 0.005247 \n",
      "[2/10][26/100][530] Loss_D: 0.001250 Loss_G: 0.001833 \n",
      "[2/10][26/100][531] Loss_D: 0.001760 Loss_G: 0.001982 \n",
      "[2/10][26/100][532] Loss_D: 0.002673 Loss_G: 0.002335 \n",
      "[2/10][26/100][533] Loss_D: 0.001758 Loss_G: 0.002329 \n",
      "[2/10][26/100][534] Loss_D: 0.002847 Loss_G: 0.002355 \n",
      "[2/10][26/100][535] Loss_D: 0.002665 Loss_G: 0.001140 \n",
      "[2/10][26/100][536] Loss_D: 0.003087 Loss_G: 0.001683 \n",
      "[2/10][26/100][537] Loss_D: 0.003315 Loss_G: 0.004007 \n",
      "[2/10][26/100][538] Loss_D: 0.002560 Loss_G: 0.004146 \n",
      "[2/10][26/100][539] Loss_D: 0.002818 Loss_G: 0.001922 \n",
      "[2/10][26/100][540] Loss_D: 0.002529 Loss_G: 0.002553 \n",
      "[2/10][26/100][541] Loss_D: 0.005158 Loss_G: 0.003291 \n",
      "[2/10][26/100][542] Loss_D: 0.003135 Loss_G: 0.003023 \n",
      "[2/10][26/100][543] Loss_D: 0.005052 Loss_G: 0.003725 \n",
      "[2/10][26/100][544] Loss_D: 0.002187 Loss_G: 0.004139 \n",
      "[2/10][26/100][545] Loss_D: 0.002093 Loss_G: 0.003561 \n",
      "[2/10][26/100][546] Loss_D: 0.002429 Loss_G: 0.002694 \n",
      "[2/10][26/100][547] Loss_D: 0.001814 Loss_G: 0.002240 \n",
      "[2/10][26/100][548] Loss_D: 0.003054 Loss_G: 0.001197 \n",
      "[2/10][26/100][549] Loss_D: 0.002636 Loss_G: 0.001201 \n",
      "[2/10][26/100][550] Loss_D: 0.006160 Loss_G: 0.002287 \n",
      "[2/10][26/100][551] Loss_D: 0.004259 Loss_G: 0.002263 \n",
      "[2/10][26/100][552] Loss_D: 0.002534 Loss_G: 0.003192 \n",
      "[2/10][26/100][553] Loss_D: 0.003432 Loss_G: 0.001815 \n",
      "[2/10][26/100][554] Loss_D: 0.002818 Loss_G: 0.003460 \n",
      "[2/10][26/100][555] Loss_D: 0.004693 Loss_G: 0.005904 \n",
      "[2/10][26/100][556] Loss_D: 0.001750 Loss_G: 0.002281 \n",
      "[2/10][26/100][557] Loss_D: 0.003381 Loss_G: 0.005748 \n",
      "[2/10][26/100][558] Loss_D: 0.003254 Loss_G: 0.002378 \n",
      "[2/10][26/100][559] Loss_D: 0.004512 Loss_G: 0.002246 \n",
      "[2/10][26/100][560] Loss_D: 0.001896 Loss_G: 0.003630 \n",
      "[2/10][26/100][561] Loss_D: 0.003315 Loss_G: 0.003490 \n",
      "[2/10][26/100][562] Loss_D: 0.004311 Loss_G: 0.003259 \n",
      "[2/10][26/100][563] Loss_D: 0.003408 Loss_G: 0.005893 \n",
      "[2/10][26/100][564] Loss_D: 0.001967 Loss_G: 0.003066 \n",
      "[2/10][26/100][565] Loss_D: 0.001438 Loss_G: 0.001077 \n",
      "[2/10][26/100][566] Loss_D: 0.002322 Loss_G: 0.002996 \n",
      "[2/10][26/100][567] Loss_D: 0.002329 Loss_G: 0.001892 \n",
      "[2/10][26/100][568] Loss_D: 0.002659 Loss_G: 0.002143 \n",
      "[2/10][26/100][569] Loss_D: 0.001978 Loss_G: 0.001057 \n",
      "[2/10][26/100][570] Loss_D: 0.002680 Loss_G: 0.003078 \n",
      "[2/10][26/100][571] Loss_D: 0.003591 Loss_G: 0.003026 \n",
      "[2/10][26/100][572] Loss_D: 0.004211 Loss_G: 0.002929 \n",
      "[2/10][26/100][573] Loss_D: 0.002778 Loss_G: 0.001969 \n",
      "[2/10][26/100][574] Loss_D: 0.004585 Loss_G: 0.003917 \n",
      "[2/10][26/100][575] Loss_D: 0.006273 Loss_G: 0.005183 \n",
      "[2/10][26/100][576] Loss_D: 0.004423 Loss_G: 0.002694 \n",
      "[2/10][26/100][577] Loss_D: 0.004025 Loss_G: 0.003631 \n",
      "[2/10][26/100][578] Loss_D: 0.003054 Loss_G: 0.003605 \n",
      "[2/10][26/100][579] Loss_D: 0.002989 Loss_G: 0.003120 \n",
      "[2/10][26/100][580] Loss_D: 0.002509 Loss_G: 0.002397 \n",
      "[2/10][26/100][581] Loss_D: 0.004070 Loss_G: 0.004794 \n",
      "[2/10][26/100][582] Loss_D: 0.001054 Loss_G: 0.003548 \n",
      "[2/10][26/100][583] Loss_D: 0.002219 Loss_G: 0.002407 \n",
      "[2/10][26/100][584] Loss_D: 0.002292 Loss_G: 0.001345 \n",
      "[2/10][26/100][585] Loss_D: 0.002751 Loss_G: 0.001229 \n",
      "[2/10][26/100][586] Loss_D: 0.001896 Loss_G: 0.003172 \n",
      "[2/10][26/100][587] Loss_D: 0.005488 Loss_G: 0.001338 \n",
      "[2/10][26/100][588] Loss_D: 0.002974 Loss_G: 0.002515 \n",
      "[2/10][26/100][589] Loss_D: 0.002431 Loss_G: 0.002422 \n",
      "[2/10][26/100][590] Loss_D: 0.004495 Loss_G: 0.003721 \n",
      "[2/10][26/100][591] Loss_D: 0.003583 Loss_G: 0.003517 \n",
      "[2/10][26/100][592] Loss_D: 0.001106 Loss_G: 0.001321 \n",
      "[2/10][26/100][593] Loss_D: 0.003065 Loss_G: 0.003141 \n",
      "[2/10][26/100][594] Loss_D: 0.002271 Loss_G: 0.002813 \n",
      "[2/10][26/100][595] Loss_D: 0.003574 Loss_G: 0.002947 \n",
      "[2/10][26/100][596] Loss_D: 0.004337 Loss_G: 0.003304 \n",
      "[2/10][26/100][597] Loss_D: 0.003060 Loss_G: 0.001170 \n",
      "[2/10][26/100][598] Loss_D: 0.002504 Loss_G: 0.003480 \n"
     ]
    },
    {
     "name": "stdout",
     "output_type": "stream",
     "text": [
      "[2/10][26/100][599] Loss_D: 0.002520 Loss_G: 0.002468 \n",
      "[2/10][26/100][600] Loss_D: 0.002893 Loss_G: 0.003116 \n",
      "[3/10][26/100][601] Loss_D: 0.004093 Loss_G: 0.002176 \n",
      "[3/10][26/100][602] Loss_D: 0.003137 Loss_G: 0.003312 \n",
      "[3/10][26/100][603] Loss_D: 0.001907 Loss_G: 0.002240 \n",
      "[3/10][26/100][604] Loss_D: 0.002749 Loss_G: 0.003203 \n",
      "[3/10][26/100][605] Loss_D: 0.001670 Loss_G: 0.002336 \n",
      "[3/10][26/100][606] Loss_D: 0.004191 Loss_G: 0.002150 \n",
      "[3/10][26/100][607] Loss_D: 0.001085 Loss_G: 0.002404 \n",
      "[3/10][26/100][608] Loss_D: 0.004360 Loss_G: 0.001429 \n",
      "[3/10][26/100][609] Loss_D: 0.004606 Loss_G: 0.002639 \n",
      "[3/10][26/100][610] Loss_D: 0.003993 Loss_G: 0.002979 \n",
      "[3/10][26/100][611] Loss_D: 0.004061 Loss_G: 0.003927 \n",
      "[3/10][26/100][612] Loss_D: 0.003508 Loss_G: 0.003653 \n",
      "[3/10][26/100][613] Loss_D: 0.001862 Loss_G: 0.002002 \n",
      "[3/10][26/100][614] Loss_D: 0.002656 Loss_G: 0.002832 \n",
      "[3/10][26/100][615] Loss_D: 0.004895 Loss_G: 0.002247 \n",
      "[3/10][26/100][616] Loss_D: 0.001557 Loss_G: 0.003036 \n",
      "[3/10][26/100][617] Loss_D: 0.002080 Loss_G: 0.003839 \n",
      "[3/10][26/100][618] Loss_D: 0.003436 Loss_G: 0.002989 \n",
      "[3/10][26/100][619] Loss_D: 0.002337 Loss_G: 0.002161 \n",
      "[3/10][26/100][620] Loss_D: 0.001158 Loss_G: 0.003417 \n",
      "[3/10][26/100][621] Loss_D: 0.000817 Loss_G: 0.004558 \n",
      "[3/10][26/100][622] Loss_D: 0.002430 Loss_G: 0.001065 \n",
      "[3/10][26/100][623] Loss_D: 0.003682 Loss_G: 0.004168 \n",
      "[3/10][26/100][624] Loss_D: 0.003541 Loss_G: 0.003086 \n",
      "[3/10][26/100][625] Loss_D: 0.001140 Loss_G: 0.002436 \n",
      "[3/10][26/100][626] Loss_D: 0.002989 Loss_G: 0.004306 \n",
      "[3/10][26/100][627] Loss_D: 0.003594 Loss_G: 0.002650 \n",
      "[3/10][26/100][628] Loss_D: 0.003570 Loss_G: 0.002941 \n",
      "[3/10][26/100][629] Loss_D: 0.003325 Loss_G: 0.003007 \n",
      "[3/10][26/100][630] Loss_D: 0.004756 Loss_G: 0.002195 \n",
      "[3/10][26/100][631] Loss_D: 0.004155 Loss_G: 0.003004 \n",
      "[3/10][26/100][632] Loss_D: 0.002061 Loss_G: 0.002422 \n",
      "[3/10][26/100][633] Loss_D: 0.002970 Loss_G: 0.003628 \n",
      "[3/10][26/100][634] Loss_D: 0.001321 Loss_G: 0.001976 \n",
      "[3/10][26/100][635] Loss_D: 0.004388 Loss_G: 0.003234 \n",
      "[3/10][26/100][636] Loss_D: 0.002377 Loss_G: 0.004847 \n",
      "[3/10][26/100][637] Loss_D: 0.002662 Loss_G: 0.002556 \n",
      "[3/10][26/100][638] Loss_D: 0.002484 Loss_G: 0.002254 \n",
      "[3/10][26/100][639] Loss_D: 0.003054 Loss_G: 0.002034 \n",
      "[3/10][26/100][640] Loss_D: 0.000931 Loss_G: 0.004044 \n",
      "[3/10][26/100][641] Loss_D: 0.001356 Loss_G: 0.003290 \n",
      "[3/10][26/100][642] Loss_D: 0.005263 Loss_G: 0.003479 \n",
      "[3/10][26/100][643] Loss_D: 0.002743 Loss_G: 0.004137 \n",
      "[3/10][26/100][644] Loss_D: 0.002206 Loss_G: 0.003415 \n",
      "[3/10][26/100][645] Loss_D: 0.003459 Loss_G: 0.002582 \n",
      "[3/10][26/100][646] Loss_D: 0.001824 Loss_G: 0.003736 \n",
      "[3/10][26/100][647] Loss_D: 0.004667 Loss_G: 0.002946 \n",
      "[3/10][26/100][648] Loss_D: 0.002130 Loss_G: 0.003616 \n",
      "[3/10][26/100][649] Loss_D: 0.003194 Loss_G: 0.002551 \n",
      "[3/10][26/100][650] Loss_D: 0.003503 Loss_G: 0.003450 \n",
      "[3/10][26/100][651] Loss_D: 0.003165 Loss_G: 0.002218 \n",
      "[3/10][26/100][652] Loss_D: 0.002288 Loss_G: 0.000382 \n",
      "[3/10][26/100][653] Loss_D: 0.004559 Loss_G: 0.002322 \n",
      "[3/10][26/100][654] Loss_D: 0.003998 Loss_G: 0.002441 \n",
      "[3/10][26/100][655] Loss_D: 0.004807 Loss_G: 0.003493 \n",
      "[3/10][26/100][656] Loss_D: 0.000760 Loss_G: 0.003199 \n",
      "[3/10][26/100][657] Loss_D: 0.002462 Loss_G: 0.003669 \n",
      "[3/10][26/100][658] Loss_D: 0.004427 Loss_G: 0.003939 \n",
      "[3/10][26/100][659] Loss_D: 0.000457 Loss_G: 0.004873 \n",
      "[3/10][26/100][660] Loss_D: 0.001995 Loss_G: 0.002388 \n",
      "[3/10][26/100][661] Loss_D: 0.002056 Loss_G: 0.002613 \n",
      "[3/10][26/100][662] Loss_D: 0.002925 Loss_G: 0.002407 \n",
      "[3/10][26/100][663] Loss_D: 0.000856 Loss_G: 0.001248 \n",
      "[3/10][26/100][664] Loss_D: 0.003309 Loss_G: 0.003152 \n",
      "[3/10][26/100][665] Loss_D: 0.002809 Loss_G: 0.003077 \n",
      "[3/10][26/100][666] Loss_D: 0.004206 Loss_G: 0.003451 \n",
      "[3/10][26/100][667] Loss_D: 0.002800 Loss_G: 0.003568 \n",
      "[3/10][26/100][668] Loss_D: 0.001591 Loss_G: 0.001394 \n",
      "[3/10][26/100][669] Loss_D: 0.003477 Loss_G: 0.000573 \n",
      "[3/10][26/100][670] Loss_D: 0.001266 Loss_G: 0.003200 \n",
      "[3/10][26/100][671] Loss_D: 0.003037 Loss_G: 0.002442 \n",
      "[3/10][26/100][672] Loss_D: 0.001162 Loss_G: 0.002838 \n",
      "[3/10][26/100][673] Loss_D: 0.001148 Loss_G: 0.004382 \n",
      "[3/10][26/100][674] Loss_D: 0.003220 Loss_G: 0.004320 \n",
      "[3/10][26/100][675] Loss_D: 0.002430 Loss_G: 0.002373 \n",
      "[3/10][26/100][676] Loss_D: 0.000484 Loss_G: 0.003890 \n",
      "[3/10][26/100][677] Loss_D: 0.001655 Loss_G: 0.004213 \n",
      "[3/10][26/100][678] Loss_D: 0.002628 Loss_G: 0.003806 \n",
      "[3/10][26/100][679] Loss_D: 0.001987 Loss_G: 0.004032 \n",
      "[3/10][26/100][680] Loss_D: 0.003401 Loss_G: 0.004921 \n",
      "[3/10][26/100][681] Loss_D: 0.001775 Loss_G: 0.003378 \n",
      "[3/10][26/100][682] Loss_D: 0.001611 Loss_G: 0.002174 \n",
      "[3/10][26/100][683] Loss_D: 0.003128 Loss_G: 0.002937 \n",
      "[3/10][26/100][684] Loss_D: 0.005761 Loss_G: 0.001926 \n",
      "[3/10][26/100][685] Loss_D: 0.004088 Loss_G: 0.002789 \n",
      "[3/10][26/100][686] Loss_D: 0.003125 Loss_G: 0.002598 \n",
      "[3/10][26/100][687] Loss_D: 0.002005 Loss_G: 0.002061 \n",
      "[3/10][26/100][688] Loss_D: 0.003319 Loss_G: 0.002661 \n",
      "[3/10][26/100][689] Loss_D: 0.003571 Loss_G: 0.003245 \n",
      "[3/10][26/100][690] Loss_D: 0.002966 Loss_G: 0.000656 \n",
      "[3/10][26/100][691] Loss_D: 0.003972 Loss_G: 0.003503 \n",
      "[3/10][26/100][692] Loss_D: 0.003479 Loss_G: 0.002489 \n",
      "[3/10][26/100][693] Loss_D: 0.004066 Loss_G: 0.001375 \n",
      "[3/10][26/100][694] Loss_D: 0.002320 Loss_G: 0.000975 \n",
      "[3/10][26/100][695] Loss_D: 0.002845 Loss_G: 0.003036 \n",
      "[3/10][26/100][696] Loss_D: 0.003367 Loss_G: 0.003368 \n",
      "[3/10][26/100][697] Loss_D: 0.003217 Loss_G: 0.004622 \n",
      "[3/10][26/100][698] Loss_D: 0.002669 Loss_G: 0.001067 \n",
      "[3/10][26/100][699] Loss_D: 0.002316 Loss_G: 0.001283 \n",
      "[3/10][26/100][700] Loss_D: 0.000865 Loss_G: 0.003596 \n",
      "[3/10][26/100][701] Loss_D: 0.002916 Loss_G: 0.005878 \n",
      "[3/10][26/100][702] Loss_D: 0.004186 Loss_G: 0.000690 \n",
      "[3/10][26/100][703] Loss_D: 0.001876 Loss_G: 0.001980 \n",
      "[3/10][26/100][704] Loss_D: 0.003906 Loss_G: 0.001874 \n",
      "[3/10][26/100][705] Loss_D: 0.003323 Loss_G: 0.003120 \n",
      "[3/10][26/100][706] Loss_D: 0.004976 Loss_G: 0.006345 \n",
      "[3/10][26/100][707] Loss_D: 0.003968 Loss_G: 0.002122 \n",
      "[3/10][26/100][708] Loss_D: 0.003511 Loss_G: 0.003961 \n",
      "[3/10][26/100][709] Loss_D: 0.001256 Loss_G: 0.002693 \n",
      "[3/10][26/100][710] Loss_D: 0.002110 Loss_G: 0.003604 \n",
      "[3/10][26/100][711] Loss_D: 0.002506 Loss_G: 0.002392 \n",
      "[3/10][26/100][712] Loss_D: 0.002130 Loss_G: 0.003109 \n",
      "[3/10][26/100][713] Loss_D: 0.004190 Loss_G: 0.000466 \n",
      "[3/10][26/100][714] Loss_D: 0.003417 Loss_G: 0.001981 \n",
      "[3/10][26/100][715] Loss_D: 0.004176 Loss_G: 0.002688 \n",
      "[3/10][26/100][716] Loss_D: 0.002178 Loss_G: 0.001902 \n",
      "[3/10][26/100][717] Loss_D: 0.003913 Loss_G: 0.004942 \n",
      "[3/10][26/100][718] Loss_D: 0.004833 Loss_G: 0.002338 \n",
      "[3/10][26/100][719] Loss_D: 0.002456 Loss_G: 0.004217 \n",
      "[3/10][26/100][720] Loss_D: 0.001700 Loss_G: 0.002883 \n",
      "[3/10][26/100][721] Loss_D: 0.004705 Loss_G: 0.005275 \n",
      "[3/10][26/100][722] Loss_D: 0.001714 Loss_G: 0.002548 \n",
      "[3/10][26/100][723] Loss_D: 0.003740 Loss_G: 0.002227 \n",
      "[3/10][26/100][724] Loss_D: 0.003811 Loss_G: 0.001178 \n",
      "[3/10][26/100][725] Loss_D: 0.003105 Loss_G: 0.001713 \n",
      "[3/10][26/100][726] Loss_D: 0.001900 Loss_G: 0.002239 \n",
      "[3/10][26/100][727] Loss_D: 0.002375 Loss_G: 0.003513 \n",
      "[3/10][26/100][728] Loss_D: 0.004041 Loss_G: 0.003042 \n",
      "[3/10][26/100][729] Loss_D: 0.001790 Loss_G: 0.003669 \n",
      "[3/10][26/100][730] Loss_D: 0.003699 Loss_G: 0.004327 \n",
      "[3/10][26/100][731] Loss_D: 0.003832 Loss_G: 0.002463 \n",
      "[3/10][26/100][732] Loss_D: 0.000197 Loss_G: 0.002842 \n",
      "[3/10][26/100][733] Loss_D: 0.002612 Loss_G: 0.005720 \n",
      "[3/10][26/100][734] Loss_D: 0.003926 Loss_G: 0.002767 \n",
      "[3/10][26/100][735] Loss_D: 0.006043 Loss_G: 0.002193 \n",
      "[3/10][26/100][736] Loss_D: 0.002860 Loss_G: 0.002687 \n",
      "[3/10][26/100][737] Loss_D: 0.003172 Loss_G: 0.002221 \n",
      "[3/10][26/100][738] Loss_D: 0.001888 Loss_G: 0.003399 \n",
      "[3/10][26/100][739] Loss_D: 0.002183 Loss_G: 0.004157 \n",
      "[3/10][26/100][740] Loss_D: 0.002753 Loss_G: 0.002899 \n",
      "[3/10][26/100][741] Loss_D: 0.001743 Loss_G: 0.003732 \n",
      "[3/10][26/100][742] Loss_D: 0.003017 Loss_G: 0.003079 \n",
      "[3/10][26/100][743] Loss_D: 0.000033 Loss_G: 0.001499 \n",
      "[3/10][26/100][744] Loss_D: 0.002116 Loss_G: 0.001792 \n",
      "[3/10][26/100][745] Loss_D: 0.003219 Loss_G: 0.002835 \n",
      "[3/10][26/100][746] Loss_D: 0.002610 Loss_G: 0.003904 \n",
      "[3/10][26/100][747] Loss_D: 0.002567 Loss_G: 0.001964 \n"
     ]
    },
    {
     "name": "stdout",
     "output_type": "stream",
     "text": [
      "[3/10][26/100][748] Loss_D: 0.003058 Loss_G: 0.002309 \n",
      "[3/10][26/100][749] Loss_D: 0.002478 Loss_G: 0.001631 \n",
      "[3/10][26/100][750] Loss_D: 0.001417 Loss_G: 0.002758 \n",
      "[3/10][26/100][751] Loss_D: 0.002072 Loss_G: 0.002199 \n",
      "[3/10][26/100][752] Loss_D: 0.003244 Loss_G: 0.002624 \n",
      "[3/10][26/100][753] Loss_D: 0.000266 Loss_G: 0.001867 \n",
      "[3/10][26/100][754] Loss_D: 0.001712 Loss_G: 0.002381 \n",
      "[3/10][26/100][755] Loss_D: 0.001605 Loss_G: 0.002337 \n",
      "[3/10][26/100][756] Loss_D: 0.002321 Loss_G: 0.002074 \n",
      "[3/10][26/100][757] Loss_D: 0.002712 Loss_G: 0.001444 \n",
      "[3/10][26/100][758] Loss_D: 0.002429 Loss_G: 0.003667 \n",
      "[3/10][26/100][759] Loss_D: 0.003245 Loss_G: 0.002943 \n",
      "[3/10][26/100][760] Loss_D: 0.003304 Loss_G: 0.003131 \n",
      "[3/10][26/100][761] Loss_D: 0.003407 Loss_G: 0.002025 \n",
      "[3/10][26/100][762] Loss_D: 0.002675 Loss_G: 0.001929 \n",
      "[3/10][26/100][763] Loss_D: 0.003932 Loss_G: 0.001972 \n",
      "[3/10][26/100][764] Loss_D: 0.002406 Loss_G: 0.003742 \n",
      "[3/10][26/100][765] Loss_D: 0.003148 Loss_G: 0.002423 \n",
      "[3/10][26/100][766] Loss_D: 0.001815 Loss_G: 0.002592 \n",
      "[3/10][26/100][767] Loss_D: 0.002593 Loss_G: 0.002436 \n",
      "[3/10][26/100][768] Loss_D: 0.002064 Loss_G: 0.002851 \n",
      "[3/10][26/100][769] Loss_D: 0.003588 Loss_G: 0.003978 \n",
      "[3/10][26/100][770] Loss_D: 0.001717 Loss_G: 0.002896 \n",
      "[3/10][26/100][771] Loss_D: 0.001987 Loss_G: 0.001935 \n",
      "[3/10][26/100][772] Loss_D: 0.002389 Loss_G: 0.003532 \n",
      "[3/10][26/100][773] Loss_D: 0.002412 Loss_G: 0.003725 \n",
      "[3/10][26/100][774] Loss_D: 0.002994 Loss_G: 0.001540 \n",
      "[3/10][26/100][775] Loss_D: 0.003690 Loss_G: 0.002233 \n",
      "[3/10][26/100][776] Loss_D: 0.003191 Loss_G: 0.004501 \n",
      "[3/10][26/100][777] Loss_D: 0.004651 Loss_G: 0.003431 \n",
      "[3/10][26/100][778] Loss_D: 0.001871 Loss_G: 0.003011 \n",
      "[3/10][26/100][779] Loss_D: 0.005366 Loss_G: 0.001571 \n",
      "[3/10][26/100][780] Loss_D: 0.000114 Loss_G: 0.002920 \n",
      "[3/10][26/100][781] Loss_D: 0.001136 Loss_G: 0.003574 \n",
      "[3/10][26/100][782] Loss_D: 0.002217 Loss_G: 0.002930 \n",
      "[3/10][26/100][783] Loss_D: 0.002857 Loss_G: 0.003258 \n",
      "[3/10][26/100][784] Loss_D: 0.003689 Loss_G: 0.003225 \n",
      "[3/10][26/100][785] Loss_D: 0.003396 Loss_G: 0.001465 \n",
      "[3/10][26/100][786] Loss_D: 0.001945 Loss_G: 0.003297 \n",
      "[3/10][26/100][787] Loss_D: 0.002897 Loss_G: 0.001072 \n",
      "[3/10][26/100][788] Loss_D: 0.002719 Loss_G: 0.001133 \n",
      "[3/10][26/100][789] Loss_D: 0.002862 Loss_G: 0.003267 \n",
      "[3/10][26/100][790] Loss_D: 0.003559 Loss_G: 0.002552 \n",
      "[3/10][26/100][791] Loss_D: 0.002811 Loss_G: 0.004657 \n",
      "[3/10][26/100][792] Loss_D: 0.002491 Loss_G: 0.002215 \n",
      "[3/10][26/100][793] Loss_D: 0.004811 Loss_G: 0.003802 \n",
      "[3/10][26/100][794] Loss_D: 0.002743 Loss_G: 0.002917 \n",
      "[3/10][26/100][795] Loss_D: 0.001399 Loss_G: 0.002389 \n",
      "[3/10][26/100][796] Loss_D: 0.004191 Loss_G: 0.001997 \n",
      "[3/10][26/100][797] Loss_D: 0.003708 Loss_G: 0.000576 \n",
      "[3/10][26/100][798] Loss_D: 0.002585 Loss_G: 0.003490 \n",
      "[3/10][26/100][799] Loss_D: 0.001659 Loss_G: 0.001330 \n",
      "[3/10][26/100][800] Loss_D: 0.003135 Loss_G: 0.003385 \n",
      "[4/10][26/100][801] Loss_D: 0.000522 Loss_G: 0.002266 \n",
      "[4/10][26/100][802] Loss_D: 0.002834 Loss_G: 0.003812 \n",
      "[4/10][26/100][803] Loss_D: 0.002529 Loss_G: 0.001198 \n",
      "[4/10][26/100][804] Loss_D: 0.002111 Loss_G: 0.002312 \n",
      "[4/10][26/100][805] Loss_D: 0.005158 Loss_G: 0.002999 \n",
      "[4/10][26/100][806] Loss_D: 0.003815 Loss_G: 0.002184 \n",
      "[4/10][26/100][807] Loss_D: 0.003023 Loss_G: 0.003573 \n"
     ]
    },
    {
     "ename": "KeyboardInterrupt",
     "evalue": "",
     "output_type": "error",
     "traceback": [
      "\u001b[1;31m---------------------------------------------------------------------------\u001b[0m",
      "\u001b[1;31mKeyboardInterrupt\u001b[0m                         Traceback (most recent call last)",
      "\u001b[1;32m<ipython-input-343-944a0ce5cb73>\u001b[0m in \u001b[0;36m<module>\u001b[1;34m\u001b[0m\n\u001b[0;32m      2\u001b[0m \u001b[0mnetG_neg\u001b[0m\u001b[1;33m.\u001b[0m\u001b[0mtrain\u001b[0m\u001b[1;33m(\u001b[0m\u001b[1;33m)\u001b[0m\u001b[1;33m\u001b[0m\u001b[1;33m\u001b[0m\u001b[0m\n\u001b[0;32m      3\u001b[0m \u001b[1;31m# gen_losses, disc_losses = train_GAN(netD_neg, netG_neg, negative=True)\u001b[0m\u001b[1;33m\u001b[0m\u001b[1;33m\u001b[0m\u001b[1;33m\u001b[0m\u001b[0m\n\u001b[1;32m----> 4\u001b[1;33m \u001b[0mtrain_GAN\u001b[0m\u001b[1;33m(\u001b[0m\u001b[0mnetD_neg\u001b[0m\u001b[1;33m,\u001b[0m \u001b[0mnetG_neg\u001b[0m\u001b[1;33m,\u001b[0m \u001b[0mtr\u001b[0m\u001b[1;33m=\u001b[0m\u001b[0mtrain_100k\u001b[0m\u001b[1;33m,\u001b[0m \u001b[0mepochs\u001b[0m\u001b[1;33m=\u001b[0m\u001b[1;36m10\u001b[0m\u001b[1;33m,\u001b[0m \u001b[0mnegative\u001b[0m\u001b[1;33m=\u001b[0m\u001b[1;32mTrue\u001b[0m\u001b[1;33m)\u001b[0m\u001b[1;33m\u001b[0m\u001b[1;33m\u001b[0m\u001b[0m\n\u001b[0m",
      "\u001b[1;32m<ipython-input-340-60d54f04ce56>\u001b[0m in \u001b[0;36mtrain_GAN\u001b[1;34m(netD, netG, negative, tr, steps_per_epoch, epochs)\u001b[0m\n\u001b[0;32m     52\u001b[0m \u001b[1;33m\u001b[0m\u001b[0m\n\u001b[0;32m     53\u001b[0m                 \u001b[1;31m# compute gradient, take step\u001b[0m\u001b[1;33m\u001b[0m\u001b[1;33m\u001b[0m\u001b[1;33m\u001b[0m\u001b[0m\n\u001b[1;32m---> 54\u001b[1;33m                 \u001b[0mnetD\u001b[0m\u001b[1;33m.\u001b[0m\u001b[0mzero_grad\u001b[0m\u001b[1;33m(\u001b[0m\u001b[1;33m)\u001b[0m\u001b[1;33m\u001b[0m\u001b[1;33m\u001b[0m\u001b[0m\n\u001b[0m\u001b[0;32m     55\u001b[0m \u001b[1;31m#                 concated_real = torch.cat((real, condition), 1)\u001b[0m\u001b[1;33m\u001b[0m\u001b[1;33m\u001b[0m\u001b[1;33m\u001b[0m\u001b[0m\n\u001b[0;32m     56\u001b[0m \u001b[1;31m#                 print(concated_real)\u001b[0m\u001b[1;33m\u001b[0m\u001b[1;33m\u001b[0m\u001b[1;33m\u001b[0m\u001b[0m\n",
      "\u001b[1;32m~\\Anaconda3\\lib\\site-packages\\torch\\nn\\modules\\module.py\u001b[0m in \u001b[0;36mzero_grad\u001b[1;34m(self)\u001b[0m\n\u001b[0;32m   1014\u001b[0m             \u001b[1;32mif\u001b[0m \u001b[0mp\u001b[0m\u001b[1;33m.\u001b[0m\u001b[0mgrad\u001b[0m \u001b[1;32mis\u001b[0m \u001b[1;32mnot\u001b[0m \u001b[1;32mNone\u001b[0m\u001b[1;33m:\u001b[0m\u001b[1;33m\u001b[0m\u001b[1;33m\u001b[0m\u001b[0m\n\u001b[0;32m   1015\u001b[0m                 \u001b[0mp\u001b[0m\u001b[1;33m.\u001b[0m\u001b[0mgrad\u001b[0m\u001b[1;33m.\u001b[0m\u001b[0mdetach_\u001b[0m\u001b[1;33m(\u001b[0m\u001b[1;33m)\u001b[0m\u001b[1;33m\u001b[0m\u001b[1;33m\u001b[0m\u001b[0m\n\u001b[1;32m-> 1016\u001b[1;33m                 \u001b[0mp\u001b[0m\u001b[1;33m.\u001b[0m\u001b[0mgrad\u001b[0m\u001b[1;33m.\u001b[0m\u001b[0mzero_\u001b[0m\u001b[1;33m(\u001b[0m\u001b[1;33m)\u001b[0m\u001b[1;33m\u001b[0m\u001b[1;33m\u001b[0m\u001b[0m\n\u001b[0m\u001b[0;32m   1017\u001b[0m \u001b[1;33m\u001b[0m\u001b[0m\n\u001b[0;32m   1018\u001b[0m     \u001b[1;32mdef\u001b[0m \u001b[0mshare_memory\u001b[0m\u001b[1;33m(\u001b[0m\u001b[0mself\u001b[0m\u001b[1;33m)\u001b[0m\u001b[1;33m:\u001b[0m\u001b[1;33m\u001b[0m\u001b[1;33m\u001b[0m\u001b[0m\n",
      "\u001b[1;31mKeyboardInterrupt\u001b[0m: "
     ]
    }
   ],
   "source": [
    "netD_neg.train()\n",
    "netG_neg.train()\n",
    "# gen_losses, disc_losses = train_GAN(netD_neg, netG_neg, negative=True)\n",
    "train_GAN(netD_neg, netG_neg, tr=train_100k, epochs=10, negative=True)"
   ]
  },
  {
   "cell_type": "code",
   "execution_count": 344,
   "metadata": {},
   "outputs": [
    {
     "data": {
      "image/png": "[encoded data removed]",
      "text/plain": [
       "<Figure size 432x288 with 1 Axes>"
      ]
     },
     "metadata": {},
     "output_type": "display_data"
    }
   ],
   "source": [
    "plt.plot(gen_losses)\n",
    "plt.show()"
   ]
  },
  {
   "cell_type": "code",
   "execution_count": 345,
   "metadata": {},
   "outputs": [
    {
     "data": {
      "image/png": "[encoded data removed]",
      "text/plain": [
       "<Figure size 432x288 with 1 Axes>"
      ]
     },
     "metadata": {},
     "output_type": "display_data"
    }
   ],
   "source": [
    "plt.plot(disc_losses)\n",
    "plt.show()"
   ]
  },
  {
   "cell_type": "code",
   "execution_count": 346,
   "metadata": {},
   "outputs": [
    {
     "data": {
      "text/plain": [
       "NetG(\n",
       "  (netGen): Sequential(\n",
       "    (0): Linear(in_features=1690, out_features=512, bias=True)\n",
       "    (1): ReLU()\n",
       "    (2): Linear(in_features=512, out_features=1682, bias=True)\n",
       "    (3): Sigmoid()\n",
       "  )\n",
       ")"
      ]
     },
     "execution_count": 346,
     "metadata": {},
     "output_type": "execute_result"
    }
   ],
   "source": [
    "# to test without train\n",
    "netD_neg_test = NetD(train_100k.shape[1]).cuda()\n",
    "netG_neg_test = NetG(train_100k.shape[1]).cuda()\n",
    "\n",
    "netD_neg_test.eval()\n",
    "netG_neg_test.eval()"
   ]
  },
  {
   "cell_type": "code",
   "execution_count": 347,
   "metadata": {},
   "outputs": [
    {
     "data": {
      "text/plain": [
       "NetG(\n",
       "  (netGen): Sequential(\n",
       "    (0): Linear(in_features=1690, out_features=512, bias=True)\n",
       "    (1): ReLU()\n",
       "    (2): Linear(in_features=512, out_features=1682, bias=True)\n",
       "    (3): Sigmoid()\n",
       "  )\n",
       ")"
      ]
     },
     "execution_count": 347,
     "metadata": {},
     "output_type": "execute_result"
    }
   ],
   "source": [
    "netD_neg.eval()\n",
    "netG_neg.eval()"
   ]
  },
  {
   "cell_type": "code",
   "execution_count": 348,
   "metadata": {},
   "outputs": [],
   "source": [
    "# checking accuraccy\n",
    "condition = torch.from_numpy(negative_feedback).float().cuda() \n",
    "noise = torch.randn(condition.shape[0], nz).cuda()\n",
    "# e_mask = torch.Tensor(to_add_negative).cuda()\n",
    "e_mask = torch.Tensor(train_100k > 0).cuda()\n",
    "\n",
    "concated = torch.cat((noise, condition), 1)\n",
    "fake_accur_check = netG_neg(e_mask, concated)"
   ]
  },
  {
   "cell_type": "code",
   "execution_count": 349,
   "metadata": {},
   "outputs": [],
   "source": [
    "# without train\n",
    "fake_test_accur_check = netG_neg_test(e_mask, concated)"
   ]
  },
  {
   "cell_type": "code",
   "execution_count": 350,
   "metadata": {},
   "outputs": [],
   "source": [
    "fake_accur_check_ = (fake_accur_check.detach().cpu().numpy() > 0.5).astype(int)"
   ]
  },
  {
   "cell_type": "code",
   "execution_count": 351,
   "metadata": {},
   "outputs": [],
   "source": [
    "fake_test_accur_check = (fake_test_accur_check.detach().cpu().numpy() > 0.5).astype(int)"
   ]
  },
  {
   "cell_type": "code",
   "execution_count": 352,
   "metadata": {},
   "outputs": [
    {
     "data": {
      "text/plain": [
       "(24943, 13093)"
      ]
     },
     "execution_count": 352,
     "metadata": {},
     "output_type": "execute_result"
    }
   ],
   "source": [
    "(fake_accur_check_ * negative_feedback).sum(), (fake_accur_check_ * positive_feedback).sum()"
   ]
  },
  {
   "cell_type": "code",
   "execution_count": 353,
   "metadata": {},
   "outputs": [
    {
     "data": {
      "text/plain": [
       "(20943, 26242)"
      ]
     },
     "execution_count": 353,
     "metadata": {},
     "output_type": "execute_result"
    }
   ],
   "source": [
    "(fake_test_accur_check * negative_feedback).sum(), (fake_test_accur_check * positive_feedback).sum()"
   ]
  },
  {
   "cell_type": "code",
   "execution_count": 354,
   "metadata": {},
   "outputs": [
    {
     "data": {
      "text/plain": [
       "0.6133172686813052"
      ]
     },
     "execution_count": 354,
     "metadata": {},
     "output_type": "execute_result"
    }
   ],
   "source": [
    "# accuracy on negative items\n",
    "(fake_accur_check_ * negative_feedback).sum() / negative_feedback.sum()"
   ]
  },
  {
   "cell_type": "code",
   "execution_count": 355,
   "metadata": {},
   "outputs": [
    {
     "data": {
      "text/plain": [
       "0.5149622562639848"
      ]
     },
     "execution_count": 355,
     "metadata": {},
     "output_type": "execute_result"
    }
   ],
   "source": [
    "# accuracy on negative items - WITHOUT TRAIN \n",
    "(fake_test_accur_check * negative_feedback).sum() / negative_feedback.sum()"
   ]
  },
  {
   "cell_type": "code",
   "execution_count": 356,
   "metadata": {},
   "outputs": [
    {
     "data": {
      "text/plain": [
       "0.7376204885673634"
      ]
     },
     "execution_count": 356,
     "metadata": {},
     "output_type": "execute_result"
    }
   ],
   "source": [
    "# accuracy on positive items\n",
    "((1-fake_accur_check_) * positive_feedback).sum() / positive_feedback.sum()"
   ]
  },
  {
   "cell_type": "code",
   "execution_count": 357,
   "metadata": {},
   "outputs": [
    {
     "data": {
      "text/plain": [
       "0.47411875513516766"
      ]
     },
     "execution_count": 357,
     "metadata": {},
     "output_type": "execute_result"
    }
   ],
   "source": [
    "# accuracy on positive items - WITHOUT TRAIN \n",
    "((1-fake_test_accur_check) * positive_feedback).sum() / positive_feedback.sum()"
   ]
  },
  {
   "cell_type": "code",
   "execution_count": 358,
   "metadata": {},
   "outputs": [
    {
     "data": {
      "text/plain": [
       "0.47411875513516766"
      ]
     },
     "execution_count": 358,
     "metadata": {},
     "output_type": "execute_result"
    }
   ],
   "source": [
    "# accuracy on positive items - WITHOUT TRAIN \n",
    "((1-fake_test_accur_check) * positive_feedback).sum() / positive_feedback.sum()"
   ]
  },
  {
   "cell_type": "code",
   "execution_count": 359,
   "metadata": {},
   "outputs": [
    {
     "data": {
      "text/plain": [
       "12430"
      ]
     },
     "execution_count": 359,
     "metadata": {},
     "output_type": "execute_result"
    }
   ],
   "source": [
    "import gc\n",
    "gc.collect()"
   ]
  },
  {
   "cell_type": "code",
   "execution_count": 361,
   "metadata": {},
   "outputs": [],
   "source": [
    "torch.save(netD_neg.state_dict(), './netD_neg-100k')\n",
    "torch.save(netG_neg.state_dict(), './netG_neg-100k')"
   ]
  },
  {
   "cell_type": "code",
   "execution_count": 362,
   "metadata": {},
   "outputs": [
    {
     "ename": "NameError",
     "evalue": "name 'fake_accur_check' is not defined",
     "output_type": "error",
     "traceback": [
      "\u001b[1;31m---------------------------------------------------------------------------\u001b[0m",
      "\u001b[1;31mNameError\u001b[0m                                 Traceback (most recent call last)",
      "\u001b[1;32m<ipython-input-362-f2d3f5fa5f9d>\u001b[0m in \u001b[0;36m<module>\u001b[1;34m\u001b[0m\n\u001b[1;32m----> 1\u001b[1;33m \u001b[1;32mdel\u001b[0m \u001b[0mfake_accur_check\u001b[0m\u001b[1;33m\u001b[0m\u001b[1;33m\u001b[0m\u001b[0m\n\u001b[0m\u001b[0;32m      2\u001b[0m \u001b[1;32mdel\u001b[0m \u001b[0mfake_test_accur_check\u001b[0m\u001b[1;33m\u001b[0m\u001b[1;33m\u001b[0m\u001b[0m\n\u001b[0;32m      3\u001b[0m \u001b[1;32mdel\u001b[0m \u001b[0me_mask\u001b[0m\u001b[1;33m\u001b[0m\u001b[1;33m\u001b[0m\u001b[0m\n",
      "\u001b[1;31mNameError\u001b[0m: name 'fake_accur_check' is not defined"
     ]
    }
   ],
   "source": [
    "del fake_accur_check\n",
    "del fake_test_accur_check \n",
    "del e_mask"
   ]
  },
  {
   "cell_type": "code",
   "execution_count": 363,
   "metadata": {},
   "outputs": [],
   "source": [
    "# condition, X, idxs = batch_generator(y_neg, to_add_negative, batch_size=256)\n",
    "# predicting on ngetavie feedbacks\n",
    "condition = torch.from_numpy(negative_feedback).float().cuda()\n",
    "# X = torch.from_numpy(to_add_negative).cuda()\n",
    "\n",
    "\n",
    "noise = torch.randn(condition.shape[0], nz).cuda()\n",
    "# e_mask = torch.Tensor(to_add_negative).cuda()\n",
    "e_mask = torch.Tensor(train_100k == 0).cuda()\n",
    "\n",
    "concated = torch.cat((noise, condition), 1)\n",
    "fake = netG_neg(e_mask, concated)"
   ]
  },
  {
   "cell_type": "code",
   "execution_count": 364,
   "metadata": {},
   "outputs": [],
   "source": [
    "fake = (fake >0.9).cpu().numpy()"
   ]
  },
  {
   "cell_type": "code",
   "execution_count": 365,
   "metadata": {},
   "outputs": [
    {
     "data": {
      "text/plain": [
       "394"
      ]
     },
     "execution_count": 365,
     "metadata": {},
     "output_type": "execute_result"
    }
   ],
   "source": [
    "fake.sum()"
   ]
  },
  {
   "cell_type": "code",
   "execution_count": 366,
   "metadata": {},
   "outputs": [],
   "source": [
    "to_augment_negative = fake"
   ]
  },
  {
   "cell_type": "code",
   "execution_count": 367,
   "metadata": {},
   "outputs": [
    {
     "data": {
      "text/plain": [
       "[0.13777078364356143, 0.2542968846049817, 0.6079323317514569]"
      ]
     },
     "execution_count": 367,
     "metadata": {},
     "output_type": "execute_result"
    }
   ],
   "source": [
    "p_probs = [(train_100k == 1).sum()/((train_100k > 0) & (train_100k < 4)).sum(), (train_100k == 2).sum()/(((train_100k > 0) & (train_100k < 4))).sum(), (train_100k == 3).sum()/((train_100k > 0) & (train_100k < 4)).sum()]\n",
    "p_probs"
   ]
  },
  {
   "cell_type": "code",
   "execution_count": 368,
   "metadata": {},
   "outputs": [],
   "source": [
    "augmented_train_100k = train_100k + to_augment_negative"
   ]
  },
  {
   "cell_type": "code",
   "execution_count": 369,
   "metadata": {},
   "outputs": [
    {
     "data": {
      "text/plain": [
       "(5.710139043178159, 5.734979440473204)"
      ]
     },
     "execution_count": 369,
     "metadata": {},
     "output_type": "execute_result"
    }
   ],
   "source": [
    "get_sparsity(train_100k), get_sparsity(augmented_train_100k)"
   ]
  },
  {
   "cell_type": "code",
   "execution_count": 248,
   "metadata": {},
   "outputs": [
    {
     "name": "stdout",
     "output_type": "stream",
     "text": [
      "Iteration: 300\n",
      "\tcurrent iteration: 10\n",
      "\tcurrent iteration: 20\n",
      "\tcurrent iteration: 30\n",
      "\tcurrent iteration: 40\n",
      "\tcurrent iteration: 50\n",
      "\tcurrent iteration: 60\n",
      "\tcurrent iteration: 70\n",
      "\tcurrent iteration: 80\n",
      "\tcurrent iteration: 90\n",
      "\tcurrent iteration: 100\n",
      "\tcurrent iteration: 110\n",
      "\tcurrent iteration: 120\n",
      "\tcurrent iteration: 130\n",
      "\tcurrent iteration: 140\n",
      "\tcurrent iteration: 150\n",
      "\tcurrent iteration: 160\n",
      "\tcurrent iteration: 170\n",
      "\tcurrent iteration: 180\n",
      "\tcurrent iteration: 190\n",
      "\tcurrent iteration: 200\n",
      "\tcurrent iteration: 210\n",
      "\tcurrent iteration: 220\n",
      "\tcurrent iteration: 230\n",
      "\tcurrent iteration: 240\n",
      "\tcurrent iteration: 250\n",
      "\tcurrent iteration: 260\n",
      "\tcurrent iteration: 270\n",
      "\tcurrent iteration: 280\n",
      "\tcurrent iteration: 290\n",
      "\tcurrent iteration: 300\n",
      "Train mse: 0.24780276795013206\n",
      "Test mse: 0.9911321751624483\n"
     ]
    }
   ],
   "source": [
    "MF_SGD = ExplicitMF(train_100k, 40, learning='sgd', verbose=True)\n",
    "MF_SGD.calculate_learning_curve([300], test_100k, learning_rate=0.001)"
   ]
  },
  {
   "cell_type": "code",
   "execution_count": 249,
   "metadata": {},
   "outputs": [
    {
     "name": "stdout",
     "output_type": "stream",
     "text": [
      "Iteration: 300\n",
      "\tcurrent iteration: 10\n",
      "\tcurrent iteration: 20\n"
     ]
    },
    {
     "ename": "KeyboardInterrupt",
     "evalue": "",
     "output_type": "error",
     "traceback": [
      "\u001b[1;31m---------------------------------------------------------------------------\u001b[0m",
      "\u001b[1;31mKeyboardInterrupt\u001b[0m                         Traceback (most recent call last)",
      "\u001b[1;32m<ipython-input-249-da219d16cefc>\u001b[0m in \u001b[0;36m<module>\u001b[1;34m\u001b[0m\n\u001b[0;32m      1\u001b[0m \u001b[0mMF_SGD\u001b[0m \u001b[1;33m=\u001b[0m \u001b[0mExplicitMF\u001b[0m\u001b[1;33m(\u001b[0m\u001b[0maugmented_train_100k\u001b[0m\u001b[1;33m,\u001b[0m \u001b[1;36m40\u001b[0m\u001b[1;33m,\u001b[0m \u001b[0mlearning\u001b[0m\u001b[1;33m=\u001b[0m\u001b[1;34m'sgd'\u001b[0m\u001b[1;33m,\u001b[0m \u001b[0mverbose\u001b[0m\u001b[1;33m=\u001b[0m\u001b[1;32mTrue\u001b[0m\u001b[1;33m)\u001b[0m\u001b[1;33m\u001b[0m\u001b[1;33m\u001b[0m\u001b[0m\n\u001b[1;32m----> 2\u001b[1;33m \u001b[0mMF_SGD\u001b[0m\u001b[1;33m.\u001b[0m\u001b[0mcalculate_learning_curve\u001b[0m\u001b[1;33m(\u001b[0m\u001b[1;33m[\u001b[0m\u001b[1;36m300\u001b[0m\u001b[1;33m]\u001b[0m\u001b[1;33m,\u001b[0m \u001b[0mtest_100k\u001b[0m\u001b[1;33m,\u001b[0m \u001b[0mlearning_rate\u001b[0m\u001b[1;33m=\u001b[0m\u001b[1;36m0.001\u001b[0m\u001b[1;33m)\u001b[0m\u001b[1;33m\u001b[0m\u001b[1;33m\u001b[0m\u001b[0m\n\u001b[0m",
      "\u001b[1;32m<ipython-input-241-1992e68e1d60>\u001b[0m in \u001b[0;36mcalculate_learning_curve\u001b[1;34m(self, iter_array, test, learning_rate)\u001b[0m\n\u001b[0;32m    198\u001b[0m                 \u001b[0mprint\u001b[0m \u001b[1;33m(\u001b[0m\u001b[1;34m'Iteration: {}'\u001b[0m\u001b[1;33m.\u001b[0m\u001b[0mformat\u001b[0m\u001b[1;33m(\u001b[0m\u001b[0mn_iter\u001b[0m\u001b[1;33m)\u001b[0m\u001b[1;33m)\u001b[0m\u001b[1;33m\u001b[0m\u001b[1;33m\u001b[0m\u001b[0m\n\u001b[0;32m    199\u001b[0m             \u001b[1;32mif\u001b[0m \u001b[0mi\u001b[0m \u001b[1;33m==\u001b[0m \u001b[1;36m0\u001b[0m\u001b[1;33m:\u001b[0m\u001b[1;33m\u001b[0m\u001b[1;33m\u001b[0m\u001b[0m\n\u001b[1;32m--> 200\u001b[1;33m                 \u001b[0mself\u001b[0m\u001b[1;33m.\u001b[0m\u001b[0mtrain\u001b[0m\u001b[1;33m(\u001b[0m\u001b[0mn_iter\u001b[0m \u001b[1;33m-\u001b[0m \u001b[0miter_diff\u001b[0m\u001b[1;33m,\u001b[0m \u001b[0mlearning_rate\u001b[0m\u001b[1;33m)\u001b[0m\u001b[1;33m\u001b[0m\u001b[1;33m\u001b[0m\u001b[0m\n\u001b[0m\u001b[0;32m    201\u001b[0m             \u001b[1;32melse\u001b[0m\u001b[1;33m:\u001b[0m\u001b[1;33m\u001b[0m\u001b[1;33m\u001b[0m\u001b[0m\n\u001b[0;32m    202\u001b[0m                 \u001b[0mself\u001b[0m\u001b[1;33m.\u001b[0m\u001b[0mpartial_train\u001b[0m\u001b[1;33m(\u001b[0m\u001b[0mn_iter\u001b[0m \u001b[1;33m-\u001b[0m \u001b[0miter_diff\u001b[0m\u001b[1;33m)\u001b[0m\u001b[1;33m\u001b[0m\u001b[1;33m\u001b[0m\u001b[0m\n",
      "\u001b[1;32m<ipython-input-241-1992e68e1d60>\u001b[0m in \u001b[0;36mtrain\u001b[1;34m(self, n_iter, learning_rate)\u001b[0m\n\u001b[0;32m    100\u001b[0m             \u001b[0mself\u001b[0m\u001b[1;33m.\u001b[0m\u001b[0mitem_bias\u001b[0m \u001b[1;33m=\u001b[0m \u001b[0mnp\u001b[0m\u001b[1;33m.\u001b[0m\u001b[0mzeros\u001b[0m\u001b[1;33m(\u001b[0m\u001b[0mself\u001b[0m\u001b[1;33m.\u001b[0m\u001b[0mn_items\u001b[0m\u001b[1;33m)\u001b[0m\u001b[1;33m\u001b[0m\u001b[1;33m\u001b[0m\u001b[0m\n\u001b[0;32m    101\u001b[0m             \u001b[0mself\u001b[0m\u001b[1;33m.\u001b[0m\u001b[0mglobal_bias\u001b[0m \u001b[1;33m=\u001b[0m \u001b[0mnp\u001b[0m\u001b[1;33m.\u001b[0m\u001b[0mmean\u001b[0m\u001b[1;33m(\u001b[0m\u001b[0mself\u001b[0m\u001b[1;33m.\u001b[0m\u001b[0mratings\u001b[0m\u001b[1;33m[\u001b[0m\u001b[0mnp\u001b[0m\u001b[1;33m.\u001b[0m\u001b[0mwhere\u001b[0m\u001b[1;33m(\u001b[0m\u001b[0mself\u001b[0m\u001b[1;33m.\u001b[0m\u001b[0mratings\u001b[0m \u001b[1;33m!=\u001b[0m \u001b[1;36m0\u001b[0m\u001b[1;33m)\u001b[0m\u001b[1;33m]\u001b[0m\u001b[1;33m)\u001b[0m\u001b[1;33m\u001b[0m\u001b[1;33m\u001b[0m\u001b[0m\n\u001b[1;32m--> 102\u001b[1;33m             \u001b[0mself\u001b[0m\u001b[1;33m.\u001b[0m\u001b[0mpartial_train\u001b[0m\u001b[1;33m(\u001b[0m\u001b[0mn_iter\u001b[0m\u001b[1;33m)\u001b[0m\u001b[1;33m\u001b[0m\u001b[1;33m\u001b[0m\u001b[0m\n\u001b[0m\u001b[0;32m    103\u001b[0m \u001b[1;33m\u001b[0m\u001b[0m\n\u001b[0;32m    104\u001b[0m \u001b[1;33m\u001b[0m\u001b[0m\n",
      "\u001b[1;32m<ipython-input-241-1992e68e1d60>\u001b[0m in \u001b[0;36mpartial_train\u001b[1;34m(self, n_iter)\u001b[0m\n\u001b[0;32m    127\u001b[0m                 \u001b[0mself\u001b[0m\u001b[1;33m.\u001b[0m\u001b[0mtraining_indices\u001b[0m \u001b[1;33m=\u001b[0m \u001b[0mnp\u001b[0m\u001b[1;33m.\u001b[0m\u001b[0marange\u001b[0m\u001b[1;33m(\u001b[0m\u001b[0mself\u001b[0m\u001b[1;33m.\u001b[0m\u001b[0mn_samples\u001b[0m\u001b[1;33m)\u001b[0m\u001b[1;33m\u001b[0m\u001b[1;33m\u001b[0m\u001b[0m\n\u001b[0;32m    128\u001b[0m                 \u001b[0mnp\u001b[0m\u001b[1;33m.\u001b[0m\u001b[0mrandom\u001b[0m\u001b[1;33m.\u001b[0m\u001b[0mshuffle\u001b[0m\u001b[1;33m(\u001b[0m\u001b[0mself\u001b[0m\u001b[1;33m.\u001b[0m\u001b[0mtraining_indices\u001b[0m\u001b[1;33m)\u001b[0m\u001b[1;33m\u001b[0m\u001b[1;33m\u001b[0m\u001b[0m\n\u001b[1;32m--> 129\u001b[1;33m                 \u001b[0mself\u001b[0m\u001b[1;33m.\u001b[0m\u001b[0msgd\u001b[0m\u001b[1;33m(\u001b[0m\u001b[1;33m)\u001b[0m\u001b[1;33m\u001b[0m\u001b[1;33m\u001b[0m\u001b[0m\n\u001b[0m\u001b[0;32m    130\u001b[0m             \u001b[0mctr\u001b[0m \u001b[1;33m+=\u001b[0m \u001b[1;36m1\u001b[0m\u001b[1;33m\u001b[0m\u001b[1;33m\u001b[0m\u001b[0m\n\u001b[0;32m    131\u001b[0m \u001b[1;33m\u001b[0m\u001b[0m\n",
      "\u001b[1;32m<ipython-input-241-1992e68e1d60>\u001b[0m in \u001b[0;36msgd\u001b[1;34m(self)\u001b[0m\n\u001b[0;32m    135\u001b[0m             \u001b[0mu\u001b[0m \u001b[1;33m=\u001b[0m \u001b[0mself\u001b[0m\u001b[1;33m.\u001b[0m\u001b[0msample_row\u001b[0m\u001b[1;33m[\u001b[0m\u001b[0midx\u001b[0m\u001b[1;33m]\u001b[0m\u001b[1;33m\u001b[0m\u001b[1;33m\u001b[0m\u001b[0m\n\u001b[0;32m    136\u001b[0m             \u001b[0mi\u001b[0m \u001b[1;33m=\u001b[0m \u001b[0mself\u001b[0m\u001b[1;33m.\u001b[0m\u001b[0msample_col\u001b[0m\u001b[1;33m[\u001b[0m\u001b[0midx\u001b[0m\u001b[1;33m]\u001b[0m\u001b[1;33m\u001b[0m\u001b[1;33m\u001b[0m\u001b[0m\n\u001b[1;32m--> 137\u001b[1;33m             \u001b[0mprediction\u001b[0m \u001b[1;33m=\u001b[0m \u001b[0mself\u001b[0m\u001b[1;33m.\u001b[0m\u001b[0mpredict\u001b[0m\u001b[1;33m(\u001b[0m\u001b[0mu\u001b[0m\u001b[1;33m,\u001b[0m \u001b[0mi\u001b[0m\u001b[1;33m)\u001b[0m\u001b[1;33m\u001b[0m\u001b[1;33m\u001b[0m\u001b[0m\n\u001b[0m\u001b[0;32m    138\u001b[0m             \u001b[0me\u001b[0m \u001b[1;33m=\u001b[0m \u001b[1;33m(\u001b[0m\u001b[0mself\u001b[0m\u001b[1;33m.\u001b[0m\u001b[0mratings\u001b[0m\u001b[1;33m[\u001b[0m\u001b[0mu\u001b[0m\u001b[1;33m,\u001b[0m\u001b[0mi\u001b[0m\u001b[1;33m]\u001b[0m \u001b[1;33m-\u001b[0m \u001b[0mprediction\u001b[0m\u001b[1;33m)\u001b[0m \u001b[1;31m# error\u001b[0m\u001b[1;33m\u001b[0m\u001b[1;33m\u001b[0m\u001b[0m\n\u001b[0;32m    139\u001b[0m \u001b[1;33m\u001b[0m\u001b[0m\n",
      "\u001b[1;32m<ipython-input-241-1992e68e1d60>\u001b[0m in \u001b[0;36mpredict\u001b[1;34m(self, u, i)\u001b[0m\n\u001b[0;32m    157\u001b[0m         \u001b[1;32melif\u001b[0m \u001b[0mself\u001b[0m\u001b[1;33m.\u001b[0m\u001b[0mlearning\u001b[0m \u001b[1;33m==\u001b[0m \u001b[1;34m'sgd'\u001b[0m\u001b[1;33m:\u001b[0m\u001b[1;33m\u001b[0m\u001b[1;33m\u001b[0m\u001b[0m\n\u001b[0;32m    158\u001b[0m             \u001b[0mprediction\u001b[0m \u001b[1;33m=\u001b[0m \u001b[0mself\u001b[0m\u001b[1;33m.\u001b[0m\u001b[0mglobal_bias\u001b[0m \u001b[1;33m+\u001b[0m \u001b[0mself\u001b[0m\u001b[1;33m.\u001b[0m\u001b[0muser_bias\u001b[0m\u001b[1;33m[\u001b[0m\u001b[0mu\u001b[0m\u001b[1;33m]\u001b[0m \u001b[1;33m+\u001b[0m \u001b[0mself\u001b[0m\u001b[1;33m.\u001b[0m\u001b[0mitem_bias\u001b[0m\u001b[1;33m[\u001b[0m\u001b[0mi\u001b[0m\u001b[1;33m]\u001b[0m\u001b[1;33m\u001b[0m\u001b[1;33m\u001b[0m\u001b[0m\n\u001b[1;32m--> 159\u001b[1;33m             \u001b[0mprediction\u001b[0m \u001b[1;33m+=\u001b[0m \u001b[0mself\u001b[0m\u001b[1;33m.\u001b[0m\u001b[0muser_vecs\u001b[0m\u001b[1;33m[\u001b[0m\u001b[0mu\u001b[0m\u001b[1;33m,\u001b[0m \u001b[1;33m:\u001b[0m\u001b[1;33m]\u001b[0m\u001b[1;33m.\u001b[0m\u001b[0mdot\u001b[0m\u001b[1;33m(\u001b[0m\u001b[0mself\u001b[0m\u001b[1;33m.\u001b[0m\u001b[0mitem_vecs\u001b[0m\u001b[1;33m[\u001b[0m\u001b[0mi\u001b[0m\u001b[1;33m,\u001b[0m \u001b[1;33m:\u001b[0m\u001b[1;33m]\u001b[0m\u001b[1;33m.\u001b[0m\u001b[0mT\u001b[0m\u001b[1;33m)\u001b[0m\u001b[1;33m\u001b[0m\u001b[1;33m\u001b[0m\u001b[0m\n\u001b[0m\u001b[0;32m    160\u001b[0m             \u001b[1;32mreturn\u001b[0m \u001b[0mprediction\u001b[0m\u001b[1;33m\u001b[0m\u001b[1;33m\u001b[0m\u001b[0m\n\u001b[0;32m    161\u001b[0m \u001b[1;33m\u001b[0m\u001b[0m\n",
      "\u001b[1;31mKeyboardInterrupt\u001b[0m: "
     ]
    }
   ],
   "source": [
    "MF_SGD = ExplicitMF(augmented_train_100k, 40, learning='sgd', verbose=True)\n",
    "MF_SGD.calculate_learning_curve([300], test_100k, learning_rate=0.001)"
   ]
  },
  {
   "cell_type": "code",
   "execution_count": 247,
   "metadata": {},
   "outputs": [
    {
     "name": "stdout",
     "output_type": "stream",
     "text": [
      "Iteration: 1\n",
      "Train mse: 1.142822581632546\n",
      "Test mse: 1.179626365384201\n",
      "Iteration: 2\n",
      "Train mse: 1.0730309645422471\n",
      "Test mse: 1.1283647354414428\n",
      "Iteration: 5\n",
      "Train mse: 0.976704786728581\n",
      "Test mse: 1.0498895036356708\n",
      "Iteration: 10\n",
      "Train mse: 0.9191190735106731\n",
      "Test mse: 0.99882388507181\n",
      "Iteration: 25\n",
      "\tcurrent iteration: 10\n",
      "Train mse: 0.8670975465312848\n",
      "Test mse: 0.9525039875303193\n",
      "Iteration: 50\n",
      "\tcurrent iteration: 10\n",
      "\tcurrent iteration: 20\n",
      "Train mse: 0.8395297477072872\n",
      "Test mse: 0.9342662870213886\n",
      "Iteration: 100\n",
      "\tcurrent iteration: 10\n",
      "\tcurrent iteration: 20\n",
      "\tcurrent iteration: 30\n",
      "\tcurrent iteration: 40\n",
      "\tcurrent iteration: 50\n",
      "Train mse: 0.7572607163519403\n",
      "Test mse: 0.917558302954112\n",
      "Iteration: 200\n",
      "\tcurrent iteration: 10\n",
      "\tcurrent iteration: 20\n",
      "\tcurrent iteration: 30\n",
      "\tcurrent iteration: 40\n",
      "\tcurrent iteration: 50\n",
      "\tcurrent iteration: 60\n",
      "\tcurrent iteration: 70\n",
      "\tcurrent iteration: 80\n",
      "\tcurrent iteration: 90\n",
      "\tcurrent iteration: 100\n",
      "Train mse: 0.40646564364302945\n",
      "Test mse: 0.9047525011076776\n"
     ]
    }
   ],
   "source": [
    "MF_SGD = ExplicitMF(train_100k, 40, learning='sgd', verbose=True)\n",
    "iter_array = [1, 2, 5, 10, 25, 50, 100, 200]\n",
    "MF_SGD.calculate_learning_curve(iter_array, test_100k, learning_rate=0.001)"
   ]
  },
  {
   "cell_type": "code",
   "execution_count": 246,
   "metadata": {},
   "outputs": [
    {
     "name": "stdout",
     "output_type": "stream",
     "text": [
      "Iteration: 1\n",
      "Train mse: 1.1583192976603522\n",
      "Test mse: 1.1778921160446154\n",
      "Iteration: 2\n",
      "Train mse: 1.0827823219708648\n",
      "Test mse: 1.124826924658217\n",
      "Iteration: 5\n",
      "Train mse: 0.9809962544391533\n",
      "Test mse: 1.0456674228179015\n",
      "Iteration: 10\n",
      "Train mse: 0.9217915122656181\n",
      "Test mse: 0.9960992361685521\n",
      "Iteration: 25\n",
      "\tcurrent iteration: 10\n",
      "Train mse: 0.8695835693024129\n",
      "Test mse: 0.9521000726072203\n",
      "Iteration: 50\n",
      "\tcurrent iteration: 10\n",
      "\tcurrent iteration: 20\n",
      "Train mse: 0.8421152097706776\n",
      "Test mse: 0.9345373660525688\n",
      "Iteration: 100\n",
      "\tcurrent iteration: 10\n",
      "\tcurrent iteration: 20\n",
      "\tcurrent iteration: 30\n",
      "\tcurrent iteration: 40\n",
      "\tcurrent iteration: 50\n",
      "Train mse: 0.755397379978269\n",
      "Test mse: 0.916590796822304\n",
      "Iteration: 200\n",
      "\tcurrent iteration: 10\n",
      "\tcurrent iteration: 20\n",
      "\tcurrent iteration: 30\n",
      "\tcurrent iteration: 40\n",
      "\tcurrent iteration: 50\n",
      "\tcurrent iteration: 60\n",
      "\tcurrent iteration: 70\n",
      "\tcurrent iteration: 80\n",
      "\tcurrent iteration: 90\n",
      "\tcurrent iteration: 100\n",
      "Train mse: 0.40575111332308983\n",
      "Test mse: 0.906762464167835\n"
     ]
    }
   ],
   "source": [
    "MF_SGD = ExplicitMF(augmented_train_100k, 40, learning='sgd', verbose=True)\n",
    "iter_array = [1, 2, 5, 10, 25, 50, 100, 200]\n",
    "MF_SGD.calculate_learning_curve(iter_array, test_100k, learning_rate=0.001)"
   ]
  },
  {
   "cell_type": "code",
   "execution_count": 245,
   "metadata": {},
   "outputs": [
    {
     "name": "stdout",
     "output_type": "stream",
     "text": [
      "Iteration: 1\n",
      "Train mse: 7.365331085064962\n",
      "Test mse: 10.594736049344187\n",
      "Iteration: 2\n",
      "Train mse: 5.692327274625398\n",
      "Test mse: 8.63601159502765\n",
      "Iteration: 5\n",
      "Train mse: 5.390926482500714\n",
      "Test mse: 8.223490099578223\n",
      "Iteration: 10\n",
      "Train mse: 5.382053601809805\n",
      "Test mse: 8.224694402460047\n",
      "Iteration: 25\n",
      "\tcurrent iteration: 10\n",
      "Train mse: 5.365488278184999\n",
      "Test mse: 8.201579412685142\n",
      "Iteration: 50\n",
      "\tcurrent iteration: 10\n",
      "\tcurrent iteration: 20\n",
      "Train mse: 5.3600334033203785\n",
      "Test mse: 8.193471712808986\n",
      "Iteration: 100\n",
      "\tcurrent iteration: 10\n",
      "\tcurrent iteration: 20\n",
      "\tcurrent iteration: 30\n",
      "\tcurrent iteration: 40\n",
      "\tcurrent iteration: 50\n",
      "Train mse: 5.35983226130889\n",
      "Test mse: 8.193220337124336\n"
     ]
    }
   ],
   "source": [
    "MF_ALS = ExplicitMF(augmented_train_100k, n_factors=10, learning='als',\n",
    "                    user_fact_reg=0.1, item_fact_reg=0.1, verbose=True)\n",
    "iter_array = [1, 2, 5, 10, 25, 50, 100]\n",
    "MF_ALS.calculate_learning_curve(iter_array, test_100k)"
   ]
  },
  {
   "cell_type": "code",
   "execution_count": 243,
   "metadata": {},
   "outputs": [
    {
     "name": "stdout",
     "output_type": "stream",
     "text": [
      "Iteration: 1\n",
      "Train mse: 7.414043254856359\n",
      "Test mse: 10.597071517103002\n",
      "Iteration: 2\n",
      "Train mse: 5.729849556962303\n",
      "Test mse: 8.637501957776392\n",
      "Iteration: 5\n",
      "Train mse: 5.425216634306679\n",
      "Test mse: 8.224449939246286\n",
      "Iteration: 10\n",
      "Train mse: 5.416034494374579\n",
      "Test mse: 8.225911144030166\n",
      "Iteration: 25\n",
      "\tcurrent iteration: 10\n",
      "Train mse: 5.405244808568524\n",
      "Test mse: 8.212123871641975\n",
      "Iteration: 50\n",
      "\tcurrent iteration: 10\n",
      "\tcurrent iteration: 20\n",
      "Train mse: 5.394015977369497\n",
      "Test mse: 8.19475571062152\n",
      "Iteration: 100\n",
      "\tcurrent iteration: 10\n",
      "\tcurrent iteration: 20\n",
      "\tcurrent iteration: 30\n",
      "\tcurrent iteration: 40\n",
      "\tcurrent iteration: 50\n",
      "Train mse: 5.3937671853374605\n",
      "Test mse: 8.19442505144314\n"
     ]
    }
   ],
   "source": [
    "MF_ALS = ExplicitMF(train_100k, n_factors=10, learning='als',\n",
    "                    user_fact_reg=0.1, item_fact_reg=0.1, verbose=True)\n",
    "iter_array = [1, 2, 5, 10, 25, 50, 100]\n",
    "MF_ALS.calculate_learning_curve(iter_array, test_100k)"
   ]
  },
  {
   "cell_type": "code",
   "execution_count": 250,
   "metadata": {},
   "outputs": [
    {
     "name": "stdout",
     "output_type": "stream",
     "text": [
      "Iteration: 1\n",
      "Train mse: 7.365331085064962\n",
      "Test mse: 10.594736049344187\n",
      "Iteration: 2\n",
      "Train mse: 5.692327274625398\n",
      "Test mse: 8.63601159502765\n",
      "Iteration: 5\n",
      "Train mse: 5.390926482500714\n",
      "Test mse: 8.223490099578223\n",
      "Iteration: 10\n",
      "Train mse: 5.382053601809805\n",
      "Test mse: 8.224694402460047\n",
      "Iteration: 25\n",
      "\tcurrent iteration: 10\n",
      "Train mse: 5.365488278184999\n",
      "Test mse: 8.201579412685142\n",
      "Iteration: 50\n",
      "\tcurrent iteration: 10\n",
      "\tcurrent iteration: 20\n",
      "Train mse: 5.3600334033203785\n",
      "Test mse: 8.193471712808986\n",
      "Iteration: 100\n",
      "\tcurrent iteration: 10\n",
      "\tcurrent iteration: 20\n",
      "\tcurrent iteration: 30\n",
      "\tcurrent iteration: 40\n",
      "\tcurrent iteration: 50\n",
      "Train mse: 5.35983226130889\n",
      "Test mse: 8.193220337124336\n",
      "Iteration: 120\n",
      "\tcurrent iteration: 10\n",
      "\tcurrent iteration: 20\n",
      "Train mse: 5.35978032575701\n",
      "Test mse: 8.193157746225948\n",
      "Iteration: 140\n",
      "\tcurrent iteration: 10\n",
      "\tcurrent iteration: 20\n",
      "Train mse: 5.359732338000212\n",
      "Test mse: 8.193099816595986\n",
      "Iteration: 160\n",
      "\tcurrent iteration: 10\n",
      "\tcurrent iteration: 20\n",
      "Train mse: 5.359687859300425\n",
      "Test mse: 8.193046053932775\n",
      "Iteration: 180\n",
      "\tcurrent iteration: 10\n",
      "\tcurrent iteration: 20\n",
      "Train mse: 5.359646525578646\n",
      "Test mse: 8.192996043819882\n",
      "Iteration: 200\n",
      "\tcurrent iteration: 10\n",
      "\tcurrent iteration: 20\n",
      "Train mse: 5.3596080230681835\n",
      "Test mse: 8.192949426343956\n"
     ]
    }
   ],
   "source": [
    "# until test error starts to rise\n",
    "MF_ALS = ExplicitMF(augmented_train_100k, n_factors=10, learning='als',\n",
    "                    user_fact_reg=0.1, item_fact_reg=0.1, verbose=True)\n",
    "iter_array = [1, 2, 5, 10, 25, 50, 100, 120, 140, 160, 180, 200]\n",
    "MF_ALS.calculate_learning_curve(iter_array, test_100k)"
   ]
  },
  {
   "cell_type": "code",
   "execution_count": 251,
   "metadata": {},
   "outputs": [
    {
     "name": "stdout",
     "output_type": "stream",
     "text": [
      "Iteration: 1\n",
      "Train mse: 7.414043254856359\n",
      "Test mse: 10.597071517103002\n",
      "Iteration: 2\n",
      "Train mse: 5.729849556962303\n",
      "Test mse: 8.637501957776392\n",
      "Iteration: 5\n",
      "Train mse: 5.425216634306679\n",
      "Test mse: 8.224449939246286\n",
      "Iteration: 10\n",
      "Train mse: 5.416034494374579\n",
      "Test mse: 8.225911144030166\n",
      "Iteration: 25\n",
      "\tcurrent iteration: 10\n",
      "Train mse: 5.405244808568524\n",
      "Test mse: 8.212123871641975\n",
      "Iteration: 50\n",
      "\tcurrent iteration: 10\n",
      "\tcurrent iteration: 20\n",
      "Train mse: 5.394015977369497\n",
      "Test mse: 8.19475571062152\n",
      "Iteration: 100\n",
      "\tcurrent iteration: 10\n",
      "\tcurrent iteration: 20\n",
      "\tcurrent iteration: 30\n",
      "\tcurrent iteration: 40\n",
      "\tcurrent iteration: 50\n",
      "Train mse: 5.3937671853374605\n",
      "Test mse: 8.19442505144314\n",
      "Iteration: 120\n",
      "\tcurrent iteration: 10\n",
      "\tcurrent iteration: 20\n",
      "Train mse: 5.393714646752196\n",
      "Test mse: 8.194362304310943\n",
      "Iteration: 140\n",
      "\tcurrent iteration: 10\n",
      "\tcurrent iteration: 20\n",
      "Train mse: 5.393666122560651\n",
      "Test mse: 8.194304259396569\n",
      "Iteration: 160\n",
      "\tcurrent iteration: 10\n",
      "\tcurrent iteration: 20\n",
      "Train mse: 5.39362115513897\n",
      "Test mse: 8.194250397772203\n",
      "Iteration: 180\n",
      "\tcurrent iteration: 10\n",
      "\tcurrent iteration: 20\n",
      "Train mse: 5.393579374306474\n",
      "Test mse: 8.19420030178969\n",
      "Iteration: 200\n",
      "\tcurrent iteration: 10\n",
      "\tcurrent iteration: 20\n",
      "Train mse: 5.393540461520644\n",
      "Test mse: 8.19415360957236\n"
     ]
    }
   ],
   "source": [
    "# until test error starts to rise\n",
    "MF_ALS = ExplicitMF(train_100k, n_factors=10, learning='als',\n",
    "                    user_fact_reg=0.1, item_fact_reg=0.1, verbose=True)\n",
    "iter_array = [1, 2, 5, 10, 25, 50, 100, 120, 140, 160, 180, 200]\n",
    "MF_ALS.calculate_learning_curve(iter_array, test_100k)"
   ]
  },
  {
   "cell_type": "code",
   "execution_count": 253,
   "metadata": {},
   "outputs": [
    {
     "name": "stdout",
     "output_type": "stream",
     "text": [
      "Iteration: 1\n",
      "Train mse: 1.1583192976603522\n",
      "Test mse: 1.1778921160446154\n",
      "Iteration: 2\n",
      "Train mse: 1.0827823219708648\n",
      "Test mse: 1.124826924658217\n",
      "Iteration: 5\n",
      "Train mse: 0.9809962544391533\n",
      "Test mse: 1.0456674228179015\n",
      "Iteration: 10\n",
      "Train mse: 0.9217915122656181\n",
      "Test mse: 0.9960992361685521\n",
      "Iteration: 25\n",
      "\tcurrent iteration: 10\n",
      "Train mse: 0.8695835693024129\n",
      "Test mse: 0.9521000726072203\n",
      "Iteration: 50\n",
      "\tcurrent iteration: 10\n",
      "\tcurrent iteration: 20\n",
      "Train mse: 0.8421152097706776\n",
      "Test mse: 0.9345373660525688\n",
      "Iteration: 100\n",
      "\tcurrent iteration: 10\n",
      "\tcurrent iteration: 20\n",
      "\tcurrent iteration: 30\n",
      "\tcurrent iteration: 40\n",
      "\tcurrent iteration: 50\n",
      "Train mse: 0.755397379978269\n",
      "Test mse: 0.916590796822304\n",
      "Iteration: 120\n",
      "\tcurrent iteration: 10\n",
      "\tcurrent iteration: 20\n",
      "Train mse: 0.6846501387489577\n",
      "Test mse: 0.9047955049119271\n",
      "Iteration: 140\n",
      "\tcurrent iteration: 10\n",
      "\tcurrent iteration: 20\n",
      "Train mse: 0.6088625770108296\n",
      "Test mse: 0.8969742625646109\n",
      "Iteration: 160\n",
      "\tcurrent iteration: 10\n",
      "\tcurrent iteration: 20\n",
      "Train mse: 0.5326639192133193\n",
      "Test mse: 0.8944780567537973\n",
      "Iteration: 180\n",
      "\tcurrent iteration: 10\n",
      "\tcurrent iteration: 20\n",
      "Train mse: 0.4636710714200561\n",
      "Test mse: 0.8979252620915619\n",
      "Iteration: 200\n",
      "\tcurrent iteration: 10\n",
      "\tcurrent iteration: 20\n",
      "Train mse: 0.40575111332308983\n",
      "Test mse: 0.906762464167835\n",
      "Iteration: 220\n",
      "\tcurrent iteration: 10\n",
      "\tcurrent iteration: 20\n",
      "Train mse: 0.35905711689460085\n",
      "Test mse: 0.9198637997234861\n"
     ]
    }
   ],
   "source": [
    "# until test error starts to rise\n",
    "\n",
    "best_sgd_model = ExplicitMF(train_100k, n_factors=80, learning='sgd', \\\n",
    "                            item_fact_reg=0.01, user_fact_reg=0.01, \\\n",
    "                            user_bias_reg=0.01, item_bias_reg=0.01)\n",
    "iter_array = [1, 2, 5, 10, 25, 50, 100, 120, 140, 160, 180, 200, 220]\n",
    "best_sgd_model.calculate_learning_curve(iter_array, test_100k, learning_rate=0.001)"
   ]
  },
  {
   "cell_type": "code",
   "execution_count": 372,
   "metadata": {},
   "outputs": [
    {
     "name": "stdout",
     "output_type": "stream",
     "text": [
      "Iteration: 1\n",
      "Train mse: 1.1545119024961061\n",
      "Test mse: 1.178567399719999\n",
      "Iteration: 2\n",
      "Train mse: 1.0808310124661051\n",
      "Test mse: 1.1261795339578151\n",
      "Iteration: 5\n",
      "Train mse: 0.9808797891168647\n",
      "Test mse: 1.0474046524170364\n",
      "Iteration: 10\n",
      "Train mse: 0.9222637203091965\n",
      "Test mse: 0.997286882756945\n",
      "Iteration: 25\n",
      "\tcurrent iteration: 10\n",
      "Train mse: 0.8708585227221491\n",
      "Test mse: 0.9523215310455245\n",
      "Iteration: 50\n",
      "\tcurrent iteration: 10\n",
      "\tcurrent iteration: 20\n",
      "Train mse: 0.8464129951238863\n",
      "Test mse: 0.9346230958725521\n",
      "Iteration: 100\n",
      "\tcurrent iteration: 10\n",
      "\tcurrent iteration: 20\n",
      "\tcurrent iteration: 30\n",
      "\tcurrent iteration: 40\n",
      "\tcurrent iteration: 50\n",
      "Train mse: 0.7999830140159173\n",
      "Test mse: 0.9226304802126559\n",
      "Iteration: 120\n",
      "\tcurrent iteration: 10\n",
      "\tcurrent iteration: 20\n",
      "Train mse: 0.7510374101643228\n",
      "Test mse: 0.9117502158632841\n",
      "Iteration: 140\n",
      "\tcurrent iteration: 10\n",
      "\tcurrent iteration: 20\n",
      "Train mse: 0.6909018150472902\n",
      "Test mse: 0.9010086763640088\n",
      "Iteration: 160\n",
      "\tcurrent iteration: 10\n",
      "\tcurrent iteration: 20\n",
      "Train mse: 0.6230042394517625\n",
      "Test mse: 0.8922974818153959\n",
      "Iteration: 180\n",
      "\tcurrent iteration: 10\n",
      "\tcurrent iteration: 20\n",
      "Train mse: 0.5493002333842844\n",
      "Test mse: 0.8866310890559449\n",
      "Iteration: 200\n",
      "\tcurrent iteration: 10\n",
      "\tcurrent iteration: 20\n",
      "Train mse: 0.47529433983651304\n",
      "Test mse: 0.8848626444854254\n",
      "Iteration: 220\n",
      "\tcurrent iteration: 10\n",
      "\tcurrent iteration: 20\n",
      "Train mse: 0.4062577209484476\n",
      "Test mse: 0.8867158452927663\n"
     ]
    }
   ],
   "source": [
    "# until convergence\n",
    "best_sgd_model = ExplicitMF(augmented_train_100k, n_factors=80, learning='sgd', \\\n",
    "                            item_fact_reg=0.01, user_fact_reg=0.01, \\\n",
    "                            user_bias_reg=0.01, item_bias_reg=0.01, verbose=True)\n",
    "iter_array = [1, 2, 5, 10, 25, 50, 100, 120, 140, 160, 180, 200, 220]\n",
    "best_sgd_model.calculate_learning_curve(iter_array, test_100k, learning_rate=0.001)"
   ]
  },
  {
   "cell_type": "code",
   "execution_count": 257,
   "metadata": {},
   "outputs": [
    {
     "name": "stdout",
     "output_type": "stream",
     "text": [
      "Iteration: 1\n",
      "Train mse: 1.158486007439644\n",
      "Test mse: 1.1779978613000384\n",
      "Iteration: 2\n",
      "Train mse: 1.083171581612149\n",
      "Test mse: 1.125028404345431\n",
      "Iteration: 5\n",
      "Train mse: 0.9817048627613273\n",
      "Test mse: 1.0459868491969369\n",
      "Iteration: 10\n",
      "Train mse: 0.9227319825521801\n",
      "Test mse: 0.9963652377560377\n",
      "Iteration: 25\n",
      "\tcurrent iteration: 10\n",
      "Train mse: 0.8713373835757132\n",
      "Test mse: 0.9521701303030687\n",
      "Iteration: 50\n",
      "\tcurrent iteration: 10\n",
      "\tcurrent iteration: 20\n",
      "Train mse: 0.846936197066563\n",
      "Test mse: 0.934619043527751\n",
      "Iteration: 100\n",
      "\tcurrent iteration: 10\n",
      "\tcurrent iteration: 20\n",
      "\tcurrent iteration: 30\n",
      "\tcurrent iteration: 40\n",
      "\tcurrent iteration: 50\n",
      "Train mse: 0.8000609230973601\n",
      "Test mse: 0.9225265969757358\n",
      "Iteration: 120\n",
      "\tcurrent iteration: 10\n",
      "\tcurrent iteration: 20\n",
      "Train mse: 0.7503523923902362\n",
      "Test mse: 0.9115515826764651\n",
      "Iteration: 140\n",
      "\tcurrent iteration: 10\n",
      "\tcurrent iteration: 20\n",
      "Train mse: 0.689505366026202\n",
      "Test mse: 0.9008884227444379\n",
      "Iteration: 160\n",
      "\tcurrent iteration: 10\n",
      "\tcurrent iteration: 20\n",
      "Train mse: 0.6213034484620569\n",
      "Test mse: 0.8924318463805855\n",
      "Iteration: 180\n",
      "\tcurrent iteration: 10\n",
      "\tcurrent iteration: 20\n",
      "Train mse: 0.5475532983376317\n",
      "Test mse: 0.8870274449200776\n",
      "Iteration: 200\n",
      "\tcurrent iteration: 10\n",
      "\tcurrent iteration: 20\n",
      "Train mse: 0.4737341552445482\n",
      "Test mse: 0.8854985087833768\n",
      "Iteration: 220\n",
      "\tcurrent iteration: 10\n",
      "\tcurrent iteration: 20\n",
      "Train mse: 0.4050262870207811\n",
      "Test mse: 0.8875516903462294\n"
     ]
    }
   ],
   "source": [
    "# until convergence\n",
    "best_sgd_model = ExplicitMF(augmented_train_100k, n_factors=80, learning='sgd', \\\n",
    "                            item_fact_reg=0.01, user_fact_reg=0.01, \\\n",
    "                            user_bias_reg=0.01, item_bias_reg=0.01, verbose=True)\n",
    "iter_array = [1, 2, 5, 10, 25, 50, 100, 120, 140, 160, 180, 200, 220]\n",
    "best_sgd_model.calculate_learning_curve(iter_array, test_100k, learning_rate=0.001)"
   ]
  },
  {
   "cell_type": "code",
   "execution_count": 258,
   "metadata": {},
   "outputs": [
    {
     "name": "stdout",
     "output_type": "stream",
     "text": [
      "Iteration: 1\n",
      "Train mse: 1.142972933039822\n",
      "Test mse: 1.17972828223402\n",
      "Iteration: 2\n",
      "Train mse: 1.0733920132206576\n",
      "Test mse: 1.1285610630076768\n",
      "Iteration: 5\n",
      "Train mse: 0.9773881833559704\n",
      "Test mse: 1.0502187304294268\n",
      "Iteration: 10\n",
      "Train mse: 0.9200456767969902\n",
      "Test mse: 0.999134022874239\n",
      "Iteration: 25\n",
      "\tcurrent iteration: 10\n",
      "Train mse: 0.8688346580213652\n",
      "Test mse: 0.9526617108778075\n",
      "Iteration: 50\n",
      "\tcurrent iteration: 10\n",
      "\tcurrent iteration: 20\n",
      "Train mse: 0.8442347461991091\n",
      "Test mse: 0.934442842680263\n",
      "Iteration: 100\n",
      "\tcurrent iteration: 10\n",
      "\tcurrent iteration: 20\n",
      "\tcurrent iteration: 30\n",
      "\tcurrent iteration: 40\n",
      "\tcurrent iteration: 50\n",
      "Train mse: 0.7999403795934972\n",
      "Test mse: 0.9232297270102171\n",
      "Iteration: 120\n",
      "\tcurrent iteration: 10\n",
      "\tcurrent iteration: 20\n",
      "Train mse: 0.7525020754101615\n",
      "Test mse: 0.9130561640976463\n",
      "Iteration: 140\n",
      "\tcurrent iteration: 10\n",
      "\tcurrent iteration: 20\n",
      "Train mse: 0.6925429566514093\n",
      "Test mse: 0.902326297805037\n",
      "Iteration: 160\n",
      "\tcurrent iteration: 10\n",
      "\tcurrent iteration: 20\n",
      "Train mse: 0.6242821764329887\n",
      "Test mse: 0.8932252838608207\n",
      "Iteration: 180\n",
      "\tcurrent iteration: 10\n",
      "\tcurrent iteration: 20\n",
      "Train mse: 0.5502016125007768\n",
      "Test mse: 0.8871597136187851\n",
      "Iteration: 200\n",
      "\tcurrent iteration: 10\n",
      "\tcurrent iteration: 20\n",
      "Train mse: 0.4759825330856412\n",
      "Test mse: 0.8851292592272328\n",
      "Iteration: 220\n",
      "\tcurrent iteration: 10\n",
      "\tcurrent iteration: 20\n",
      "Train mse: 0.40684917561304956\n",
      "Test mse: 0.8868481394223161\n"
     ]
    }
   ],
   "source": [
    "# until convergence\n",
    "best_sgd_model = ExplicitMF(train_100k, n_factors=80, learning='sgd', \\\n",
    "                            item_fact_reg=0.01, user_fact_reg=0.01, \\\n",
    "                            user_bias_reg=0.01, item_bias_reg=0.01, verbose=True)\n",
    "iter_array = [1, 2, 5, 10, 25, 50, 100, 120, 140, 160, 180, 200, 220]\n",
    "best_sgd_model.calculate_learning_curve(iter_array, test_100k, learning_rate=0.001)"
   ]
  },
  {
   "cell_type": "code",
   "execution_count": 259,
   "metadata": {},
   "outputs": [
    {
     "name": "stdout",
     "output_type": "stream",
     "text": [
      "Iteration: 1\n",
      "Train mse: 7.414043254856359\n",
      "Test mse: 10.597071517103002\n",
      "Iteration: 2\n",
      "Train mse: 5.729849556962303\n",
      "Test mse: 8.637501957776392\n",
      "Iteration: 5\n",
      "Train mse: 5.425216634306679\n",
      "Test mse: 8.224449939246286\n",
      "Iteration: 10\n",
      "Train mse: 5.416034494374579\n",
      "Test mse: 8.225911144030166\n",
      "Iteration: 25\n",
      "\tcurrent iteration: 10\n",
      "Train mse: 5.405244808568524\n",
      "Test mse: 8.212123871641975\n",
      "Iteration: 50\n",
      "\tcurrent iteration: 10\n",
      "\tcurrent iteration: 20\n",
      "Train mse: 5.394015977369497\n",
      "Test mse: 8.19475571062152\n",
      "Iteration: 100\n",
      "\tcurrent iteration: 10\n",
      "\tcurrent iteration: 20\n",
      "\tcurrent iteration: 30\n",
      "\tcurrent iteration: 40\n",
      "\tcurrent iteration: 50\n",
      "Train mse: 5.3937671853374605\n",
      "Test mse: 8.19442505144314\n",
      "Iteration: 120\n",
      "\tcurrent iteration: 10\n",
      "\tcurrent iteration: 20\n",
      "Train mse: 5.393714646752196\n",
      "Test mse: 8.194362304310943\n",
      "Iteration: 140\n",
      "\tcurrent iteration: 10\n",
      "\tcurrent iteration: 20\n",
      "Train mse: 5.393666122560651\n",
      "Test mse: 8.194304259396569\n",
      "Iteration: 160\n",
      "\tcurrent iteration: 10\n",
      "\tcurrent iteration: 20\n",
      "Train mse: 5.39362115513897\n",
      "Test mse: 8.194250397772203\n",
      "Iteration: 180\n",
      "\tcurrent iteration: 10\n",
      "\tcurrent iteration: 20\n",
      "Train mse: 5.393579374306474\n",
      "Test mse: 8.19420030178969\n",
      "Iteration: 200\n",
      "\tcurrent iteration: 10\n",
      "\tcurrent iteration: 20\n",
      "Train mse: 5.393540461520644\n",
      "Test mse: 8.19415360957236\n",
      "Iteration: 220\n",
      "\tcurrent iteration: 10\n",
      "\tcurrent iteration: 20\n",
      "Train mse: 5.39350414020554\n",
      "Test mse: 8.194110004824077\n"
     ]
    }
   ],
   "source": [
    "best_als_model = ExplicitMF(train_100k, n_factors=10, learning='als', \\\n",
    "                            item_fact_reg=0.1, user_fact_reg=0.1, verbose=True)\n",
    "iter_array = [1, 2, 5, 10, 25, 50, 100, 120, 140, 160, 180, 200, 220]\n",
    "best_als_model.calculate_learning_curve(iter_array, test_100k, learning_rate=0.001)"
   ]
  },
  {
   "cell_type": "code",
   "execution_count": 260,
   "metadata": {},
   "outputs": [
    {
     "name": "stdout",
     "output_type": "stream",
     "text": [
      "Iteration: 1\n",
      "Train mse: 7.365331085064962\n",
      "Test mse: 10.594736049344187\n",
      "Iteration: 2\n",
      "Train mse: 5.692327274625398\n",
      "Test mse: 8.63601159502765\n",
      "Iteration: 5\n",
      "Train mse: 5.390926482500714\n",
      "Test mse: 8.223490099578223\n",
      "Iteration: 10\n",
      "Train mse: 5.382053601809805\n",
      "Test mse: 8.224694402460047\n",
      "Iteration: 25\n",
      "\tcurrent iteration: 10\n",
      "Train mse: 5.365488278184999\n",
      "Test mse: 8.201579412685142\n",
      "Iteration: 50\n",
      "\tcurrent iteration: 10\n",
      "\tcurrent iteration: 20\n",
      "Train mse: 5.3600334033203785\n",
      "Test mse: 8.193471712808986\n",
      "Iteration: 100\n",
      "\tcurrent iteration: 10\n",
      "\tcurrent iteration: 20\n",
      "\tcurrent iteration: 30\n",
      "\tcurrent iteration: 40\n",
      "\tcurrent iteration: 50\n",
      "Train mse: 5.35983226130889\n",
      "Test mse: 8.193220337124336\n",
      "Iteration: 120\n",
      "\tcurrent iteration: 10\n",
      "\tcurrent iteration: 20\n",
      "Train mse: 5.35978032575701\n",
      "Test mse: 8.193157746225948\n",
      "Iteration: 140\n",
      "\tcurrent iteration: 10\n",
      "\tcurrent iteration: 20\n",
      "Train mse: 5.359732338000212\n",
      "Test mse: 8.193099816595986\n",
      "Iteration: 160\n",
      "\tcurrent iteration: 10\n",
      "\tcurrent iteration: 20\n",
      "Train mse: 5.359687859300425\n",
      "Test mse: 8.193046053932775\n",
      "Iteration: 180\n",
      "\tcurrent iteration: 10\n",
      "\tcurrent iteration: 20\n",
      "Train mse: 5.359646525578646\n",
      "Test mse: 8.192996043819882\n",
      "Iteration: 200\n",
      "\tcurrent iteration: 10\n",
      "\tcurrent iteration: 20\n",
      "Train mse: 5.3596080230681835\n",
      "Test mse: 8.192949426343956\n",
      "Iteration: 220\n",
      "\tcurrent iteration: 10\n",
      "\tcurrent iteration: 20\n",
      "Train mse: 5.359572079254732\n",
      "Test mse: 8.192905886804215\n"
     ]
    }
   ],
   "source": [
    "best_als_model = ExplicitMF(augmented_train_100k, n_factors=10, learning='als', \\\n",
    "                            item_fact_reg=0.1, user_fact_reg=0.1, verbose=True)\n",
    "iter_array = [1, 2, 5, 10, 25, 50, 100, 120, 140, 160, 180, 200, 220]\n",
    "best_als_model.calculate_learning_curve(iter_array, test_100k, learning_rate=0.001)"
   ]
  },
  {
   "cell_type": "code",
   "execution_count": 330,
   "metadata": {},
   "outputs": [],
   "source": [
    "from sklearn.decomposition import NMF\n",
    "model = NMF(n_components=10, max_iter=400, alpha=0.1, init='nndsvdar', random_state=seed)\n",
    "W = model.fit_transform(train_100k)\n",
    "H = model.components_"
   ]
  },
  {
   "cell_type": "code",
   "execution_count": 331,
   "metadata": {},
   "outputs": [
    {
     "data": {
      "text/plain": [
       "((943, 10), (10, 1682))"
      ]
     },
     "execution_count": 331,
     "metadata": {},
     "output_type": "execute_result"
    }
   ],
   "source": [
    "W.shape, H.shape"
   ]
  },
  {
   "cell_type": "code",
   "execution_count": 332,
   "metadata": {},
   "outputs": [
    {
     "data": {
      "text/plain": [
       "0.4260560791980288"
      ]
     },
     "execution_count": 332,
     "metadata": {},
     "output_type": "execute_result"
    }
   ],
   "source": [
    "get_mse(test_100k, np.matmul(W,H))"
   ]
  },
  {
   "cell_type": "code",
   "execution_count": 333,
   "metadata": {},
   "outputs": [],
   "source": [
    "# model = NMF(n_components=20, max_iter=800, init='nndsvdar', beta_loss='frobenius', alpha=0.1, random_state=seed)\n",
    "model = NMF(n_components=10, max_iter=400, alpha=0.1, init='nndsvdar', random_state=seed)\n",
    "W = model.fit_transform(augmented_train_100k)\n",
    "H = model.components_"
   ]
  },
  {
   "cell_type": "code",
   "execution_count": 334,
   "metadata": {},
   "outputs": [
    {
     "data": {
      "text/plain": [
       "0.4275072124477104"
      ]
     },
     "execution_count": 334,
     "metadata": {},
     "output_type": "execute_result"
    }
   ],
   "source": [
    "get_mse(test_100k, np.matmul(W,H))"
   ]
  },
  {
   "cell_type": "code",
   "execution_count": 370,
   "metadata": {},
   "outputs": [],
   "source": [
    "# model = NMF(n_components=20, max_iter=800, init='nndsvdar', beta_loss='frobenius', alpha=0.1, random_state=seed)\n",
    "model = NMF(n_components=10, max_iter=400, alpha=0.1, init='nndsvdar', random_state=seed)\n",
    "W = model.fit_transform(augmented_train_100k)\n",
    "H = model.components_"
   ]
  },
  {
   "cell_type": "code",
   "execution_count": 371,
   "metadata": {},
   "outputs": [
    {
     "data": {
      "text/plain": [
       "0.4263249840862073"
      ]
     },
     "execution_count": 371,
     "metadata": {},
     "output_type": "execute_result"
    }
   ],
   "source": [
    "get_mse(test_100k, np.matmul(W,H))"
   ]
  },
  {
   "cell_type": "code",
   "execution_count": null,
   "metadata": {},
   "outputs": [],
   "source": []
  }
 ],
 "metadata": {
  "kernelspec": {
   "display_name": "Python 3",
   "language": "python",
   "name": "python3"
  },
  "language_info": {
   "codemirror_mode": {
    "name": "ipython",
    "version": 3
   },
   "file_extension": ".py",
   "mimetype": "text/x-python",
   "name": "python",
   "nbconvert_exporter": "python",
   "pygments_lexer": "ipython3",
   "version": "3.7.3"
  }
 },
 "nbformat": 4,
 "nbformat_minor": 2
}
