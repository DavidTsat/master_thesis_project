{
 "cells": [
  {
   "cell_type": "code",
   "execution_count": null,
   "metadata": {},
   "outputs": [],
   "source": [
    "!pip install nbimporter"
   ]
  },
  {
   "cell_type": "code",
   "execution_count": 1,
   "metadata": {},
   "outputs": [],
   "source": [
    "import numpy as np\n",
    "import os\n",
    "import torch\n",
    "import torch.nn as nn\n",
    "import torch.nn.functional as F\n",
    "import torch.optim as optim\n",
    "# import torch.nn.init as init\n",
    "from torch.autograd import Variable\n",
    "from dataLoader import loadData"
   ]
  },
  {
   "cell_type": "code",
   "execution_count": 2,
   "metadata": {},
   "outputs": [],
   "source": [
    "# # Downloading Movielens-1m\n",
    "# !curl -O http://files.grouplens.org/datasets/movielens/ml-1m.zip\n",
    "# #     http://www.grouplens.org/system/files/ml-1m.zip\n",
    "# !unzip ml-1m.zip\n",
    "# !cd ml-1m/"
   ]
  },
  {
   "cell_type": "code",
   "execution_count": 3,
   "metadata": {},
   "outputs": [],
   "source": [
    "# import zipfile\n",
    "# with zipfile.ZipFile('ml-1m.zip', 'r') as zip_ref:\n",
    "#     zip_ref.extractall('./')"
   ]
  },
  {
   "cell_type": "code",
   "execution_count": 4,
   "metadata": {},
   "outputs": [],
   "source": [
    "seed = 47\n",
    "np.random.seed(seed)"
   ]
  },
  {
   "cell_type": "code",
   "execution_count": 5,
   "metadata": {},
   "outputs": [
    {
     "name": "stdout",
     "output_type": "stream",
     "text": [
      "reading data...\n",
      "data read in 4.7516655921936035 seconds\n",
      "loaded dense data matrix\n"
     ]
    }
   ],
   "source": [
    "# load data\n",
    "tr, vr = loadData('./ml-1m/ratings.dat', delimiter='::', seed=seed, transpose=False, valfrac=0.1)"
   ]
  },
  {
   "cell_type": "code",
   "execution_count": 6,
   "metadata": {},
   "outputs": [],
   "source": [
    "np.save('./tr_movielens_1m', tr)\n",
    "np.save('./vr_movielens_1m', vr)"
   ]
  },
  {
   "cell_type": "code",
   "execution_count": 7,
   "metadata": {},
   "outputs": [
    {
     "data": {
      "text/plain": [
       "array([[5., 0., 0., ..., 0., 0., 0.],\n",
       "       [0., 0., 0., ..., 0., 0., 0.],\n",
       "       [0., 0., 0., ..., 0., 0., 0.],\n",
       "       ...,\n",
       "       [0., 0., 0., ..., 0., 0., 0.],\n",
       "       [0., 0., 0., ..., 0., 0., 0.],\n",
       "       [3., 0., 0., ..., 0., 0., 0.]], dtype=float32)"
      ]
     },
     "execution_count": 7,
     "metadata": {},
     "output_type": "execute_result"
    }
   ],
   "source": [
    "tr"
   ]
  },
  {
   "cell_type": "code",
   "execution_count": 8,
   "metadata": {},
   "outputs": [
    {
     "data": {
      "text/plain": [
       "array([[0., 0., 0., ..., 0., 0., 0.],\n",
       "       [0., 0., 0., ..., 0., 0., 0.],\n",
       "       [0., 0., 0., ..., 0., 0., 0.],\n",
       "       ...,\n",
       "       [0., 0., 0., ..., 0., 0., 0.],\n",
       "       [0., 0., 0., ..., 0., 0., 0.],\n",
       "       [0., 0., 0., ..., 0., 0., 0.]], dtype=float32)"
      ]
     },
     "execution_count": 8,
     "metadata": {},
     "output_type": "execute_result"
    }
   ],
   "source": [
    "vr"
   ]
  },
  {
   "cell_type": "code",
   "execution_count": 9,
   "metadata": {},
   "outputs": [],
   "source": [
    "def get_sparsity(mat):\n",
    "    sparsity = float(len(mat.nonzero()[0]))\n",
    "    sparsity /= (mat.shape[0] * mat.shape[1])\n",
    "    sparsity *= 100\n",
    "    return sparsity"
   ]
  },
  {
   "cell_type": "code",
   "execution_count": 10,
   "metadata": {},
   "outputs": [
    {
     "data": {
      "text/plain": [
       "4.021525859265269"
      ]
     },
     "execution_count": 10,
     "metadata": {},
     "output_type": "execute_result"
    }
   ],
   "source": [
    "get_sparsity(tr)"
   ]
  },
  {
   "cell_type": "code",
   "execution_count": 11,
   "metadata": {},
   "outputs": [
    {
     "data": {
      "text/plain": [
       "0.44683670296601535"
      ]
     },
     "execution_count": 11,
     "metadata": {},
     "output_type": "execute_result"
    }
   ],
   "source": [
    "get_sparsity(vr)"
   ]
  },
  {
   "cell_type": "code",
   "execution_count": 12,
   "metadata": {},
   "outputs": [],
   "source": [
    "train = tr.copy()"
   ]
  },
  {
   "cell_type": "code",
   "execution_count": 13,
   "metadata": {},
   "outputs": [],
   "source": [
    "if torch.cuda.is_available() == True:\n",
    "    device = \"cuda\"\n",
    "else:\n",
    "    device = \"cpu\""
   ]
  },
  {
   "cell_type": "markdown",
   "metadata": {},
   "source": [
    "# Training Denoising Autoencoder"
   ]
  },
  {
   "cell_type": "code",
   "execution_count": null,
   "metadata": {},
   "outputs": [],
   "source": [
    "############## Pytorch model doesn't converge - to do - check #################\n",
    "\n",
    "from keras.optimizers import Adam\n",
    "from keras.layers import Input, Dense, Dropout\n",
    "from keras.models import Model\n",
    "from keras import regularizers\n",
    "\n",
    "def autoEncoder(X):\n",
    "    '''\n",
    "    Autoencoder for Collaborative Filter Model\n",
    "    '''\n",
    "\n",
    "    # Input\n",
    "    input_layer = Input(shape=(X.shape[1],), name='UserScore')\n",
    "    \n",
    "    # Encoder\n",
    "    # -----------------------------\n",
    "    enc = Dense(512, activation='selu', name='EncLayer1', kernel_regularizer=regularizers.l2(0.000001))(input_layer)\n",
    "\n",
    "    # Latent Space\n",
    "    # -----------------------------\n",
    "    lat_space = Dense(512, activation='selu', name='LatentSpace', kernel_regularizer=regularizers.l2(0.000001))(enc)\n",
    "    lat_space = Dropout(0.5, name='Dropout')(lat_space) # Dropout\n",
    "\n",
    "    # Decoder\n",
    "    # -----------------------------\n",
    "    dec = Dense(512, activation='selu', name='DecLayer1', kernel_regularizer=regularizers.l2(0.000001))(lat_space)\n",
    "\n",
    "    # Output\n",
    "    output_layer = Dense(X.shape[1], activation='linear', name='UserScorePred', kernel_regularizer=regularizers.l2(0.000001))(dec)\n",
    "\n",
    "    # this model maps an input to its reconstruction\n",
    "    model = Model(input_layer, output_layer)    \n",
    "    \n",
    "    return model"
   ]
  },
  {
   "cell_type": "code",
   "execution_count": null,
   "metadata": {},
   "outputs": [],
   "source": [
    "zero_mask = (train == 0)\n",
    "positive_feedback_mask = (train > 3)\n",
    "negative_feedback_mask = ((train < 4) * (1 - zero_mask))"
   ]
  },
  {
   "cell_type": "code",
   "execution_count": null,
   "metadata": {},
   "outputs": [],
   "source": [
    "assert (positive_feedback_mask + negative_feedback_mask != zero_mask).all()\n",
    "assert (positive_feedback_mask + negative_feedback_mask == 1 - zero_mask).all()"
   ]
  },
  {
   "cell_type": "code",
   "execution_count": null,
   "metadata": {},
   "outputs": [],
   "source": [
    "get_sparsity(zero_mask), get_sparsity(positive_feedback_mask), get_sparsity(negative_feedback_mask)"
   ]
  },
  {
   "cell_type": "code",
   "execution_count": null,
   "metadata": {},
   "outputs": [],
   "source": [
    "100 - get_sparsity(zero_mask), get_sparsity(positive_feedback_mask) + get_sparsity(negative_feedback_mask)"
   ]
  },
  {
   "cell_type": "code",
   "execution_count": null,
   "metadata": {},
   "outputs": [],
   "source": [
    "P = 0.4\n",
    "mask_arr = (np.random.rand(negative_feedback_mask.shape[0], negative_feedback_mask.shape[1]) > P)\n",
    "y = negative_feedback_mask\n",
    "X = negative_feedback_mask*mask_arr"
   ]
  },
  {
   "cell_type": "code",
   "execution_count": null,
   "metadata": {},
   "outputs": [],
   "source": [
    "get_sparsity(X), get_sparsity(y)"
   ]
  },
  {
   "cell_type": "code",
   "execution_count": null,
   "metadata": {},
   "outputs": [],
   "source": [
    "model = autoEncoder(X)\n",
    "model.compile(optimizer = Adam(lr=0.0001), loss='mse')\n",
    "model.summary()"
   ]
  },
  {
   "cell_type": "code",
   "execution_count": 14,
   "metadata": {},
   "outputs": [],
   "source": [
    "predicted_tr = np.load('predicted_tr.npy')\n",
    "augmented_train = np.load('augmented_train.npy')"
   ]
  },
  {
   "cell_type": "code",
   "execution_count": 15,
   "metadata": {},
   "outputs": [],
   "source": [
    "# hist = model.fit(x=X, y=y,\n",
    "#                   epochs=300,\n",
    "#                   batch_size=128,\n",
    "#                   shuffle=True,\n",
    "#                   validation_split=0.0)"
   ]
  },
  {
   "cell_type": "code",
   "execution_count": null,
   "metadata": {},
   "outputs": [],
   "source": [
    "import matplotlib.pyplot as plt \n",
    "\n",
    "def plot_hist(hist):\n",
    "    # summarize history for loss\n",
    "    fig, ax = plt.subplots()  # create figure & 1 axis\n",
    "\n",
    "    plt.title('model loss')\n",
    "    plt.ylabel('loss')\n",
    "    plt.xlabel('epoch')\n",
    "    plt.legend(['train', 'test'], loc='upper left')\n",
    "\n",
    "    plt.plot(hist.history['loss'])\n",
    "    #plt.plot(hist.history['val_loss'])\n",
    "\n",
    "plot_hist(hist)"
   ]
  },
  {
   "cell_type": "code",
   "execution_count": null,
   "metadata": {},
   "outputs": [],
   "source": [
    "np.set_printoptions(precision=3)\n",
    "predicted_tr = model.predict(X)"
   ]
  },
  {
   "cell_type": "code",
   "execution_count": null,
   "metadata": {},
   "outputs": [],
   "source": [
    "(predicted_tr > 0.4).sum(), (y == 1).sum() # predicted vs real"
   ]
  },
  {
   "cell_type": "code",
   "execution_count": null,
   "metadata": {},
   "outputs": [],
   "source": [
    "(X>0.5).sum() # trained on"
   ]
  },
  {
   "cell_type": "code",
   "execution_count": null,
   "metadata": {},
   "outputs": [],
   "source": [
    "(y * (predicted_tr>0.4)).sum()/(predicted_tr>0.4).sum() # accuracy on actual "
   ]
  },
  {
   "cell_type": "code",
   "execution_count": null,
   "metadata": {},
   "outputs": [],
   "source": [
    "(y * (predicted_tr>0.5)).sum()/((predicted_tr>0.5).sum())"
   ]
  },
  {
   "cell_type": "code",
   "execution_count": null,
   "metadata": {},
   "outputs": [],
   "source": [
    "((predicted_tr>0.5)  * (X<0.5)).sum() # predicted values which were not in the train matrix"
   ]
  },
  {
   "cell_type": "code",
   "execution_count": null,
   "metadata": {},
   "outputs": [],
   "source": [
    "((y * (((predicted_tr>0.5)  * (X<0.5)))) == 1).sum()/(((predicted_tr>0.5)  * (X<0.5))).sum()"
   ]
  },
  {
   "cell_type": "code",
   "execution_count": null,
   "metadata": {},
   "outputs": [],
   "source": [
    "augmented_train = model.predict(y)"
   ]
  },
  {
   "cell_type": "code",
   "execution_count": null,
   "metadata": {},
   "outputs": [],
   "source": [
    "(augmented_train>0.5).sum()"
   ]
  },
  {
   "cell_type": "code",
   "execution_count": null,
   "metadata": {},
   "outputs": [],
   "source": [
    "(y* (augmented_train>0.8)).sum()/(((augmented_train>0.8)).sum())"
   ]
  },
  {
   "cell_type": "code",
   "execution_count": null,
   "metadata": {},
   "outputs": [],
   "source": [
    "threshold = 0.3"
   ]
  },
  {
   "cell_type": "code",
   "execution_count": null,
   "metadata": {},
   "outputs": [],
   "source": [
    "((augmented_train > threshold) * (tr==0)).sum() # new values"
   ]
  },
  {
   "cell_type": "code",
   "execution_count": null,
   "metadata": {},
   "outputs": [],
   "source": [
    "p_probs = [(tr == 1).sum()/((tr > 0) & (tr < 4)).sum(), (tr == 2).sum()/(((tr > 0) & (tr < 4))).sum(), (tr == 3).sum()/((tr > 0) & (tr < 4)).sum()]\n",
    "p_probs"
   ]
  },
  {
   "cell_type": "code",
   "execution_count": null,
   "metadata": {},
   "outputs": [],
   "source": [
    "augmented_train = tr + (predicted_tr > threshold) * (tr == 0) * np.random.choice(np.arange(1, 4), tr.shape, p=p_probs)"
   ]
  },
  {
   "cell_type": "code",
   "execution_count": 16,
   "metadata": {},
   "outputs": [
    {
     "data": {
      "text/plain": [
       "(4.021525859265269, 4.134020185630605)"
      ]
     },
     "execution_count": 16,
     "metadata": {},
     "output_type": "execute_result"
    }
   ],
   "source": [
    "get_sparsity(tr), get_sparsity(augmented_train)"
   ]
  },
  {
   "cell_type": "code",
   "execution_count": 17,
   "metadata": {},
   "outputs": [
    {
     "data": {
      "text/plain": [
       "True"
      ]
     },
     "execution_count": 17,
     "metadata": {},
     "output_type": "execute_result"
    }
   ],
   "source": [
    "(np.isin(tr, augmented_train)).all()"
   ]
  },
  {
   "cell_type": "code",
   "execution_count": 18,
   "metadata": {},
   "outputs": [
    {
     "data": {
      "text/plain": [
       "25181"
      ]
     },
     "execution_count": 18,
     "metadata": {},
     "output_type": "execute_result"
    }
   ],
   "source": [
    "((tr == 0) * (augmented_train > 0)).sum()"
   ]
  },
  {
   "cell_type": "code",
   "execution_count": null,
   "metadata": {},
   "outputs": [],
   "source": [
    "np.save('predicted_tr', predicted_tr)\n",
    "np.save('augmented_train', augmented_train)"
   ]
  },
  {
   "cell_type": "code",
   "execution_count": 19,
   "metadata": {},
   "outputs": [],
   "source": [
    "# gen_iterations = 5\n",
    "lrD = 5e-4\n",
    "lrG = 5e-4\n",
    "batch_size = 64\n",
    "d_iter = 5\n",
    "g_iter = 1\n",
    "nz = 16\n",
    "lamba = 1e-3\n",
    "features_length = train.shape[1]\n",
    "class NetD(torch.nn.Module):\n",
    "    def __init__(self, use_cuda=True):\n",
    "        super(NetD, self).__init__()\n",
    "        self.use_cuda = use_cuda\n",
    "        # top\n",
    "        self.t1 = torch.nn.Linear(features_length, 1024)\n",
    "        # bottom\n",
    "        self.b1 = torch.nn.Linear(features_length, 1024)\n",
    "        # combined\n",
    "        self.fc = torch.nn.Linear(2 * 1024, features_length)\n",
    "    def forward(self, xr, xf):\n",
    "        # get filt\n",
    "#         filt = (torch.abs((real > 0.3).float() * fake - real))/real.shape[0]\n",
    "        filt = torch.abs((xr != 0).float().cuda() * xf.cuda() - xr.cuda())/(xf == 0).sum()\n",
    "#         filt = torch.abs((real != 0).float().cuda() * fake.cuda() - real.cuda())\n",
    "\n",
    "#         filt = torch.abs((xr != 0).int() * xf - xr)\n",
    "#         filt = 1 - (xr * (xf >= 0.5).float()) - ((1-xr) * (xf < 0.5).float())\n",
    "        # random swap\n",
    "        idr = torch.multinomial(torch.Tensor([0.5,0.5]), xr.size(0), replacement=True)\n",
    "        idrx = idr.float().unsqueeze(1).expand_as(xr)\n",
    "        if self.use_cuda: \n",
    "            idrx = idrx.cuda()\n",
    "        idrx = Variable(idrx)\n",
    "        xt = xr * idrx + xf * (1 - idrx)\n",
    "        xb = xr * (1 - idrx) + xf * idrx\n",
    "        # top : real\n",
    "        xt = F.relu(self.t1(xt))\n",
    "        # bottom : fake\n",
    "        xb = F.relu(self.b1(xb))\n",
    "        # combined\n",
    "        x = torch.cat((xt, xb), 1)\n",
    "        x = torch.tanh(self.fc(x))\n",
    "        # apply filter, aggregate\n",
    "#         print(filt.type(), x.type())\n",
    "        x = filt * x\n",
    "\n",
    "        x = x.mean(dim = 1).squeeze()\n",
    "        # use sign, because of swapping\n",
    "        sgn = idr * 2 - 1\n",
    "        if self.use_cuda: \n",
    "            sgn = sgn.cuda()\n",
    "        sgn = Variable(sgn.float())\n",
    "        x = sgn * x\n",
    "        return x\n",
    "        \n",
    "# netG = torch.nn.Sequential(\n",
    "#     torch.nn.Linear(nz, 1024),\n",
    "#     torch.nn.ReLU(),\n",
    "#     torch.nn.Linear(1024, features_length),\n",
    "#     torch.nn.Sigmoid()*5\n",
    "#     )\n",
    "\n",
    "class NetG(nn.Module):\n",
    "    \n",
    "    def __init__(self):\n",
    "\n",
    "        super(NetG, self).__init__()\n",
    "\n",
    "        self.net = torch.nn.Sequential( \n",
    "                                torch.nn.Linear(nz, 1024), \n",
    "                                torch.nn.ReLU(), \n",
    "                                torch.nn.Linear(1024, 1024), \n",
    "                                torch.nn.Sigmoid(), \n",
    "                                nn.Dropout(0.5),\n",
    "                                torch.nn.Linear(1024, features_length), \n",
    "                                torch.nn.Sigmoid(), \n",
    "                                nn.Dropout(0.6)\n",
    "                                )\n",
    "\n",
    "#         self.net = nn.Sequential(\n",
    "#                                  nn.Linear(nz,1024),\n",
    "# #                                  nn.Dropout(0.3)\n",
    "#                                  nn.ReLU(),\n",
    "#                                  nn.Linear(1024,2048),\n",
    "#                                  nn.Sigmoid(),\n",
    "#                                  nn.Dropout(0.3),\n",
    "#                                  nn.Linear(2048,features_length),\n",
    "# #                                  nn.Sigmoid()\n",
    "#                                  nn.Dropout(0.5)\n",
    "#                                     )\n",
    "        \n",
    "    def forward(self, x):\n",
    "        x = self.net(x)\n",
    "#         return x\n",
    "        return x*5 # to get values in range [0,5]"
   ]
  },
  {
   "cell_type": "code",
   "execution_count": 20,
   "metadata": {},
   "outputs": [],
   "source": [
    "def get_random_batch(mat, batch_size=16):\n",
    "    '''\n",
    "    returns random rows of size batch_size\n",
    "    '''\n",
    "    rand_rows = np.random.randint(mat.shape[0], size=batch_size)\n",
    "#     print(mat.shape, rand_rows)\n",
    "#     print(mat[rand_rows].shape)\n",
    "    return mat[rand_rows]"
   ]
  },
  {
   "cell_type": "code",
   "execution_count": 21,
   "metadata": {},
   "outputs": [],
   "source": [
    "train = torch.autograd.Variable(torch.Tensor(train))\n",
    "augmented_train = torch.autograd.Variable(torch.Tensor(augmented_train))"
   ]
  },
  {
   "cell_type": "code",
   "execution_count": 22,
   "metadata": {},
   "outputs": [
    {
     "data": {
      "text/plain": [
       "(4.021525859265269, 4.134020185630605)"
      ]
     },
     "execution_count": 22,
     "metadata": {},
     "output_type": "execute_result"
    }
   ],
   "source": [
    "get_sparsity(train.cpu().numpy()), get_sparsity(augmented_train.cpu().numpy())"
   ]
  },
  {
   "cell_type": "code",
   "execution_count": 23,
   "metadata": {},
   "outputs": [],
   "source": [
    "def d_my(x_r, x_g): # custom loss -todo\n",
    "    return torch.sum(torch.abs((x_r != 0).float() * x_g - x_r))"
   ]
  },
  {
   "cell_type": "code",
   "execution_count": null,
   "metadata": {},
   "outputs": [],
   "source": [
    "# print(5, (5 == train.round()).sum(), (5 == (tr + vr)[:train.shape[0], :].round()).sum())\n",
    "# print(4, (4 == train.round()).sum(), (4 == (tr + vr)[:train.shape[0], :].round()).sum())\n",
    "# print(3, (3 == train.round()).sum(), (3 == (tr + vr)[:train.shape[0], :].round()).sum())\n",
    "# print(2, (2 == train.round()).sum(), (2 == (tr + vr)[:train.shape[0], :].round()).sum())\n",
    "# print(1, (1 == train.round()).sum(), (1 == (tr + vr)[:train.shape[0], :].round()).sum())\n",
    "# print(0, (0 == train.round()).sum(), (0 == (tr + vr)[:train.shape[0], :].round()).sum())"
   ]
  },
  {
   "cell_type": "code",
   "execution_count": null,
   "metadata": {},
   "outputs": [],
   "source": [
    "# print(5, (5 == aug_train.round()).sum(), (5 == (tr + vr)[:aug_train.shape[0], :].round()).sum())\n",
    "# print(4, (4 == aug_train.round()).sum(), (4 == (tr + vr)[:aug_train.shape[0], :].round()).sum())\n",
    "# print(3, (3 == aug_train.round()).sum(), (3 == (tr + vr)[:aug_train.shape[0], :].round()).sum())\n",
    "# print(2, (2 == aug_train.round()).sum(), (2 == (tr + vr)[:aug_train.shape[0], :].round()).sum())\n",
    "# print(1, (1 == aug_train.round()).sum(), (1 == (tr + vr)[:aug_train.shape[0], :].round()).sum())\n",
    "# print(0, (0 == aug_train.round()).sum(), (0 == (tr + vr)[:aug_train.shape[0], :].round()).sum())"
   ]
  },
  {
   "cell_type": "code",
   "execution_count": 28,
   "metadata": {},
   "outputs": [],
   "source": [
    "eval_losses = []\n",
    "def train_GAN(netD, netG, train_mat, steps_per_epoch = 300, epochs = 300):\n",
    "    gen_iterations = 0\n",
    "#     lrD = 5e-4\n",
    "#     lrG = 5e-4\n",
    "#     batch_size = 64\n",
    "#     d_iter = 5\n",
    "#     g_iter = 1\n",
    "\n",
    "    for epoch in range(epochs):\n",
    "#     data_iter = iter(data_loader)\n",
    "        i = 0\n",
    "        while i < steps_per_epoch:\n",
    "            ############################\n",
    "            # (1) Update D network\n",
    "            ###########################\n",
    "            for p in netD.parameters(): # reset requires_grad\n",
    "                p.requires_grad = True # they are set to False below in netG update\n",
    "#             d_iter = d_iter\n",
    "            j = 0\n",
    "            while j < d_iter*5:\n",
    "                j += 1\n",
    "                # load real data\n",
    "                i += 1\n",
    "    #             X, _ = data_iter.next()\n",
    "                X = get_random_batch(train, batch_size=batch_size)\n",
    "    #             X += torch.Tensor(np.random.normal(0, 0.2, X.shape))\n",
    "    #             print(X >= 0.5)\n",
    "    # #             X = X.view(X.size(0), -1)\n",
    "    #             X = (X >= 0.5).float()\n",
    "    #             if cuda: \n",
    "                X = X.cuda()\n",
    "                real = Variable(X)\n",
    "                # generate fake data\n",
    "                noise = torch.randn(batch_size, nz)\n",
    "    #             if cuda: \n",
    "                noise = noise.cuda()\n",
    "                with torch.no_grad():\n",
    "                    noisev = Variable(noise) # totally freeze netG\n",
    "                fake = Variable(netG(noisev).data)\n",
    "    #             print(real[0,:20], fake[0,:20])\n",
    "                real + fake * (real == 0).float()\n",
    "                fake = fake * Variable(real != 0).float().cuda()\n",
    "    #             real + fake * (real == 0).float()\n",
    "    #             print(real[0,:20], fake[0,:20])\n",
    "                fake.requires_grad = False\n",
    "    #             print(real.shape, fake.shape)\n",
    "\n",
    "                # compute gradient, take step\n",
    "                netD.zero_grad()\n",
    "    #             print('real', real[:10, :20])\n",
    "    #             print('fake', fake[:10, :20])\n",
    "    #             print(real.type(), fake.type())\n",
    "    #             print(fake)\n",
    "                out = netD(real, fake)\n",
    "\n",
    "                outputD = torch.mean(out) + lamba * out.norm()\n",
    "                stdD = torch.std(out)\n",
    "                outputD.backward(mone)\n",
    "                optimizerD.step()\n",
    "    #             print(out.shape)\n",
    "            ############################\n",
    "            # (2) Update G network\n",
    "            ###########################\n",
    "#             g_iter = g_iter\n",
    "            j = 0\n",
    "            while j < g_iter*5:\n",
    "                j += 1\n",
    "                for p in netD.parameters():\n",
    "                    p.requires_grad = False # to avoid computation\n",
    "                netG.zero_grad()\n",
    "\n",
    "                # load real data\n",
    "                i += 1\n",
    "                X = get_random_batch(train, batch_size=batch_size)\n",
    "    #             X += torch.Tensor(np.random.normal(0, 0.2, X.shape))\n",
    "    #             X = X.view(X.size(0), -1)\n",
    "    #             X = (X >= 0.5).float()\n",
    "    #             if cuda: \n",
    "                X = X.cuda()\n",
    "                real = Variable(X)\n",
    "\n",
    "                # update generator\n",
    "                noise = torch.randn(batch_size, nz)\n",
    "    #             if cuda: \n",
    "                noise = noise.cuda()\n",
    "                noisev = Variable(noise)\n",
    "\n",
    "                fake = netG(noisev)\n",
    "                real + fake * (real == 0).float()\n",
    "                fake = fake * Variable(real != 0).float().cuda()\n",
    "    #             fake = fake * Variable(real != 0).float().cuda()\n",
    "    #             fake.requires_grad = False\n",
    "    #             fake = Variable(netG(noisev)).data\n",
    "    #             fake = fake * Variable(((real != 0) & (fake > 0.8))).float().cuda()\n",
    "    #             fake.requires_grad = True\n",
    "\n",
    "                out = netD(real, fake)\n",
    "                outputG = torch.mean(out) + lamba * out.norm()\n",
    "                stdG = torch.std(out)\n",
    "                outputG.backward(one)\n",
    "                optimizerG.step()\n",
    "\n",
    "                gen_iterations = gen_iterations + 1\n",
    "\n",
    "    #             print('[%d/%d][%d/%d][%d] Loss_D: %f Loss_G: %f '% (epoch, epochs, i, len(data_loader), gen_iterations, outputD.item(), outputG.item()))\n",
    "    #             print('output_D', outputD.item(), gen_iterations)\n",
    "    #             print('output_G', outputG.item(), gen_iterations)\n",
    "    #             print('std_D', stdD.item(), gen_iterations)\n",
    "    #             print('std_G', stdG.item(), gen_iterations)\n",
    "\n",
    "                # evaluation\n",
    "                if gen_iterations % 100 == 0: # todo- to change\n",
    "    #                 gen.eval()\n",
    "    #                 z_vector_eval = make_some_noise(128)\n",
    "    #                 fake_rows_eval = gen(z_vector_eval)\n",
    "    #                 real_rows_eval = get_random_batch(train, 128)\n",
    "            #         print(fake_rows[0][:10]) enable to see some results\n",
    "    #                 fake = Variable(netG(noisev).data).round()\n",
    "    #                 fake = ((real != 0) & (fake != 0))\n",
    "    #                 print(fake)\n",
    "                    eval_loss = F.mse_loss(fake, real, reduction='mean')\n",
    "                    eval_losses.append(eval_loss)\n",
    "                    print('Epoch number {}. my distance between random real and fake samples {}'.format(epoch, d_my(real, fake)))\n",
    "                    print('Epoch number {}. MSE distance between random real and fake samples {}'.format(epoch, eval_loss))"
   ]
  },
  {
   "cell_type": "code",
   "execution_count": 29,
   "metadata": {},
   "outputs": [
    {
     "name": "stdout",
     "output_type": "stream",
     "text": [
      "NetD(\n",
      "  (t1): Linear(in_features=3706, out_features=1024, bias=True)\n",
      "  (b1): Linear(in_features=3706, out_features=1024, bias=True)\n",
      "  (fc): Linear(in_features=2048, out_features=3706, bias=True)\n",
      ")\n",
      "NetG(\n",
      "  (net): Sequential(\n",
      "    (0): Linear(in_features=16, out_features=1024, bias=True)\n",
      "    (1): ReLU()\n",
      "    (2): Linear(in_features=1024, out_features=1024, bias=True)\n",
      "    (3): Sigmoid()\n",
      "    (4): Dropout(p=0.5)\n",
      "    (5): Linear(in_features=1024, out_features=3706, bias=True)\n",
      "    (6): Sigmoid()\n",
      "    (7): Dropout(p=0.6)\n",
      "  )\n",
      ")\n"
     ]
    }
   ],
   "source": [
    "# networks\n",
    "netD_tr = NetD().to(device)\n",
    "netG_tr = NetG().to(device)\n",
    "print(netD_tr)\n",
    "print(netG_tr)\n",
    "optimizerG = optim.RMSprop(netG_tr.parameters(), lr=lrG)\n",
    "optimizerD = optim.RMSprop(netD_tr.parameters(), lr=lrD)\n",
    "one = torch.FloatTensor([1]).to(device)\n",
    "mone = (-1 * one).to(device)"
   ]
  },
  {
   "cell_type": "code",
   "execution_count": 30,
   "metadata": {},
   "outputs": [
    {
     "name": "stdout",
     "output_type": "stream",
     "text": [
      "Epoch number 1. my distance between random real and fake samples 25827.294921875\n",
      "Epoch number 1. MSE distance between random real and fake samples 0.4181431233882904\n",
      "Epoch number 3. my distance between random real and fake samples 31952.5390625\n",
      "Epoch number 3. MSE distance between random real and fake samples 0.5339747071266174\n",
      "Epoch number 5. my distance between random real and fake samples 34807.57421875\n",
      "Epoch number 5. MSE distance between random real and fake samples 0.6371153593063354\n",
      "Epoch number 7. my distance between random real and fake samples 35503.4296875\n",
      "Epoch number 7. MSE distance between random real and fake samples 0.7381928563117981\n",
      "Epoch number 9. my distance between random real and fake samples 38771.6484375\n",
      "Epoch number 9. MSE distance between random real and fake samples 0.8462054133415222\n",
      "Epoch number 11. my distance between random real and fake samples 46704.84765625\n",
      "Epoch number 11. MSE distance between random real and fake samples 1.0091856718063354\n",
      "Epoch number 13. my distance between random real and fake samples 44666.32421875\n",
      "Epoch number 13. MSE distance between random real and fake samples 0.9332494735717773\n",
      "Epoch number 15. my distance between random real and fake samples 44762.22265625\n",
      "Epoch number 15. MSE distance between random real and fake samples 0.9346705079078674\n",
      "Epoch number 17. my distance between random real and fake samples 55631.9765625\n",
      "Epoch number 17. MSE distance between random real and fake samples 1.1206587553024292\n",
      "Epoch number 19. my distance between random real and fake samples 44692.046875\n",
      "Epoch number 19. MSE distance between random real and fake samples 0.8864185214042664\n",
      "Epoch number 21. my distance between random real and fake samples 36030.375\n",
      "Epoch number 21. MSE distance between random real and fake samples 0.7015178203582764\n",
      "Epoch number 23. my distance between random real and fake samples 38335.5703125\n",
      "Epoch number 23. MSE distance between random real and fake samples 0.728848934173584\n",
      "Epoch number 25. my distance between random real and fake samples 39313.4765625\n",
      "Epoch number 25. MSE distance between random real and fake samples 0.7306464910507202\n",
      "Epoch number 27. my distance between random real and fake samples 31643.359375\n",
      "Epoch number 27. MSE distance between random real and fake samples 0.5922913551330566\n",
      "Epoch number 29. my distance between random real and fake samples 36680.09765625\n",
      "Epoch number 29. MSE distance between random real and fake samples 0.6789612174034119\n",
      "Epoch number 31. my distance between random real and fake samples 33451.0625\n",
      "Epoch number 31. MSE distance between random real and fake samples 0.6057242751121521\n",
      "Epoch number 33. my distance between random real and fake samples 45565.10546875\n",
      "Epoch number 33. MSE distance between random real and fake samples 0.8139366507530212\n",
      "Epoch number 35. my distance between random real and fake samples 36864.89453125\n",
      "Epoch number 35. MSE distance between random real and fake samples 0.644338846206665\n",
      "Epoch number 37. my distance between random real and fake samples 26692.029296875\n",
      "Epoch number 37. MSE distance between random real and fake samples 0.4628809988498688\n",
      "Epoch number 39. my distance between random real and fake samples 32681.662109375\n",
      "Epoch number 39. MSE distance between random real and fake samples 0.5720406770706177\n",
      "Epoch number 41. my distance between random real and fake samples 20960.6640625\n",
      "Epoch number 41. MSE distance between random real and fake samples 0.3614504039287567\n",
      "Epoch number 43. my distance between random real and fake samples 27310.89453125\n",
      "Epoch number 43. MSE distance between random real and fake samples 0.45575040578842163\n",
      "Epoch number 45. my distance between random real and fake samples 32285.677734375\n",
      "Epoch number 45. MSE distance between random real and fake samples 0.5170320868492126\n",
      "Epoch number 47. my distance between random real and fake samples 27785.1875\n",
      "Epoch number 47. MSE distance between random real and fake samples 0.44336801767349243\n",
      "Epoch number 49. my distance between random real and fake samples 25223.96875\n",
      "Epoch number 49. MSE distance between random real and fake samples 0.39727023243904114\n",
      "Epoch number 51. my distance between random real and fake samples 34765.79296875\n",
      "Epoch number 51. MSE distance between random real and fake samples 0.5437857508659363\n",
      "Epoch number 53. my distance between random real and fake samples 21292.48046875\n",
      "Epoch number 53. MSE distance between random real and fake samples 0.3399199843406677\n",
      "Epoch number 55. my distance between random real and fake samples 26223.81640625\n",
      "Epoch number 55. MSE distance between random real and fake samples 0.4179914891719818\n",
      "Epoch number 57. my distance between random real and fake samples 28172.548828125\n",
      "Epoch number 57. MSE distance between random real and fake samples 0.44137296080589294\n",
      "Epoch number 59. my distance between random real and fake samples 21871.650390625\n",
      "Epoch number 59. MSE distance between random real and fake samples 0.3501408100128174\n",
      "Epoch number 61. my distance between random real and fake samples 28690.796875\n",
      "Epoch number 61. MSE distance between random real and fake samples 0.4620695114135742\n",
      "Epoch number 63. my distance between random real and fake samples 29560.2734375\n",
      "Epoch number 63. MSE distance between random real and fake samples 0.4604334831237793\n",
      "Epoch number 65. my distance between random real and fake samples 23420.61328125\n",
      "Epoch number 65. MSE distance between random real and fake samples 0.36354973912239075\n",
      "Epoch number 67. my distance between random real and fake samples 29920.705078125\n",
      "Epoch number 67. MSE distance between random real and fake samples 0.46759679913520813\n",
      "Epoch number 69. my distance between random real and fake samples 21982.4453125\n",
      "Epoch number 69. MSE distance between random real and fake samples 0.33503198623657227\n",
      "Epoch number 71. my distance between random real and fake samples 24652.72265625\n",
      "Epoch number 71. MSE distance between random real and fake samples 0.38228264451026917\n",
      "Epoch number 73. my distance between random real and fake samples 23023.91015625\n",
      "Epoch number 73. MSE distance between random real and fake samples 0.3592173457145691\n",
      "Epoch number 75. my distance between random real and fake samples 23874.61328125\n",
      "Epoch number 75. MSE distance between random real and fake samples 0.3600815236568451\n",
      "Epoch number 77. my distance between random real and fake samples 24152.93359375\n",
      "Epoch number 77. MSE distance between random real and fake samples 0.3581610918045044\n",
      "Epoch number 79. my distance between random real and fake samples 19586.99609375\n",
      "Epoch number 79. MSE distance between random real and fake samples 0.2983446419239044\n",
      "Epoch number 81. my distance between random real and fake samples 27278.54296875\n",
      "Epoch number 81. MSE distance between random real and fake samples 0.42153388261795044\n",
      "Epoch number 83. my distance between random real and fake samples 30060.9140625\n",
      "Epoch number 83. MSE distance between random real and fake samples 0.4589994251728058\n",
      "Epoch number 85. my distance between random real and fake samples 28026.3671875\n",
      "Epoch number 85. MSE distance between random real and fake samples 0.4256570637226105\n",
      "Epoch number 87. my distance between random real and fake samples 17498.5625\n",
      "Epoch number 87. MSE distance between random real and fake samples 0.267253577709198\n",
      "Epoch number 89. my distance between random real and fake samples 26257.76171875\n",
      "Epoch number 89. MSE distance between random real and fake samples 0.40981072187423706\n",
      "Epoch number 91. my distance between random real and fake samples 27720.970703125\n",
      "Epoch number 91. MSE distance between random real and fake samples 0.4249362349510193\n",
      "Epoch number 93. my distance between random real and fake samples 32005.53515625\n",
      "Epoch number 93. MSE distance between random real and fake samples 0.4897707998752594\n",
      "Epoch number 95. my distance between random real and fake samples 27054.208984375\n",
      "Epoch number 95. MSE distance between random real and fake samples 0.40474173426628113\n",
      "Epoch number 97. my distance between random real and fake samples 22350.08203125\n",
      "Epoch number 97. MSE distance between random real and fake samples 0.33768001198768616\n"
     ]
    },
    {
     "name": "stdout",
     "output_type": "stream",
     "text": [
      "Epoch number 99. my distance between random real and fake samples 27905.234375\n",
      "Epoch number 99. MSE distance between random real and fake samples 0.4230198264122009\n",
      "Epoch number 101. my distance between random real and fake samples 19950.06640625\n",
      "Epoch number 101. MSE distance between random real and fake samples 0.3021640181541443\n",
      "Epoch number 103. my distance between random real and fake samples 22707.375\n",
      "Epoch number 103. MSE distance between random real and fake samples 0.340210497379303\n",
      "Epoch number 105. my distance between random real and fake samples 23508.51953125\n",
      "Epoch number 105. MSE distance between random real and fake samples 0.3507693409919739\n",
      "Epoch number 107. my distance between random real and fake samples 30810.8984375\n",
      "Epoch number 107. MSE distance between random real and fake samples 0.4705582559108734\n",
      "Epoch number 109. my distance between random real and fake samples 24048.271484375\n",
      "Epoch number 109. MSE distance between random real and fake samples 0.36199238896369934\n",
      "Epoch number 111. my distance between random real and fake samples 21940.43359375\n",
      "Epoch number 111. MSE distance between random real and fake samples 0.33350715041160583\n",
      "Epoch number 113. my distance between random real and fake samples 19151.115234375\n",
      "Epoch number 113. MSE distance between random real and fake samples 0.29507842659950256\n",
      "Epoch number 115. my distance between random real and fake samples 26768.181640625\n",
      "Epoch number 115. MSE distance between random real and fake samples 0.3947860896587372\n",
      "Epoch number 117. my distance between random real and fake samples 23367.9453125\n",
      "Epoch number 117. MSE distance between random real and fake samples 0.34886255860328674\n",
      "Epoch number 119. my distance between random real and fake samples 27527.736328125\n",
      "Epoch number 119. MSE distance between random real and fake samples 0.4093315303325653\n",
      "Epoch number 121. my distance between random real and fake samples 23472.65625\n",
      "Epoch number 121. MSE distance between random real and fake samples 0.3597957491874695\n",
      "Epoch number 123. my distance between random real and fake samples 26684.578125\n",
      "Epoch number 123. MSE distance between random real and fake samples 0.40704816579818726\n",
      "Epoch number 125. my distance between random real and fake samples 26961.205078125\n",
      "Epoch number 125. MSE distance between random real and fake samples 0.4061552584171295\n",
      "Epoch number 127. my distance between random real and fake samples 26261.28125\n",
      "Epoch number 127. MSE distance between random real and fake samples 0.3942544460296631\n",
      "Epoch number 129. my distance between random real and fake samples 25140.03515625\n",
      "Epoch number 129. MSE distance between random real and fake samples 0.370373398065567\n",
      "Epoch number 131. my distance between random real and fake samples 25351.8125\n",
      "Epoch number 131. MSE distance between random real and fake samples 0.3836973309516907\n",
      "Epoch number 133. my distance between random real and fake samples 24633.357421875\n",
      "Epoch number 133. MSE distance between random real and fake samples 0.3717942237854004\n",
      "Epoch number 135. my distance between random real and fake samples 21983.10546875\n",
      "Epoch number 135. MSE distance between random real and fake samples 0.3375196158885956\n",
      "Epoch number 137. my distance between random real and fake samples 22241.095703125\n",
      "Epoch number 137. MSE distance between random real and fake samples 0.3318013846874237\n",
      "Epoch number 139. my distance between random real and fake samples 25839.455078125\n",
      "Epoch number 139. MSE distance between random real and fake samples 0.39227378368377686\n",
      "Epoch number 141. my distance between random real and fake samples 20648.2890625\n",
      "Epoch number 141. MSE distance between random real and fake samples 0.3138487637042999\n",
      "Epoch number 143. my distance between random real and fake samples 29580.8515625\n",
      "Epoch number 143. MSE distance between random real and fake samples 0.44038549065589905\n",
      "Epoch number 145. my distance between random real and fake samples 27499.5078125\n",
      "Epoch number 145. MSE distance between random real and fake samples 0.4009976089000702\n",
      "Epoch number 147. my distance between random real and fake samples 26793.42578125\n",
      "Epoch number 147. MSE distance between random real and fake samples 0.40233486890792847\n",
      "Epoch number 149. my distance between random real and fake samples 18877.41015625\n",
      "Epoch number 149. MSE distance between random real and fake samples 0.2824288606643677\n",
      "Epoch number 151. my distance between random real and fake samples 25709.783203125\n",
      "Epoch number 151. MSE distance between random real and fake samples 0.38970422744750977\n",
      "Epoch number 153. my distance between random real and fake samples 18978.603515625\n",
      "Epoch number 153. MSE distance between random real and fake samples 0.2807115614414215\n",
      "Epoch number 155. my distance between random real and fake samples 24349.66015625\n",
      "Epoch number 155. MSE distance between random real and fake samples 0.3737546503543854\n",
      "Epoch number 157. my distance between random real and fake samples 24820.310546875\n",
      "Epoch number 157. MSE distance between random real and fake samples 0.3727370500564575\n",
      "Epoch number 159. my distance between random real and fake samples 23644.1015625\n",
      "Epoch number 159. MSE distance between random real and fake samples 0.3590831756591797\n",
      "Epoch number 161. my distance between random real and fake samples 30553.765625\n",
      "Epoch number 161. MSE distance between random real and fake samples 0.45098310708999634\n",
      "Epoch number 163. my distance between random real and fake samples 17579.00390625\n",
      "Epoch number 163. MSE distance between random real and fake samples 0.2706213593482971\n",
      "Epoch number 165. my distance between random real and fake samples 22003.908203125\n",
      "Epoch number 165. MSE distance between random real and fake samples 0.33020249009132385\n",
      "Epoch number 167. my distance between random real and fake samples 13500.50390625\n",
      "Epoch number 167. MSE distance between random real and fake samples 0.20720627903938293\n",
      "Epoch number 169. my distance between random real and fake samples 33164.30078125\n",
      "Epoch number 169. MSE distance between random real and fake samples 0.4859285056591034\n",
      "Epoch number 171. my distance between random real and fake samples 26840.546875\n",
      "Epoch number 171. MSE distance between random real and fake samples 0.4035957455635071\n",
      "Epoch number 173. my distance between random real and fake samples 25201.62109375\n",
      "Epoch number 173. MSE distance between random real and fake samples 0.38144993782043457\n",
      "Epoch number 175. my distance between random real and fake samples 21935.759765625\n",
      "Epoch number 175. MSE distance between random real and fake samples 0.3235863149166107\n",
      "Epoch number 177. my distance between random real and fake samples 26073.22265625\n",
      "Epoch number 177. MSE distance between random real and fake samples 0.39708656072616577\n",
      "Epoch number 179. my distance between random real and fake samples 23497.85546875\n",
      "Epoch number 179. MSE distance between random real and fake samples 0.3506498634815216\n",
      "Epoch number 181. my distance between random real and fake samples 24556.982421875\n",
      "Epoch number 181. MSE distance between random real and fake samples 0.366782546043396\n",
      "Epoch number 183. my distance between random real and fake samples 25383.751953125\n",
      "Epoch number 183. MSE distance between random real and fake samples 0.3791465759277344\n",
      "Epoch number 185. my distance between random real and fake samples 28644.037109375\n",
      "Epoch number 185. MSE distance between random real and fake samples 0.42547571659088135\n",
      "Epoch number 187. my distance between random real and fake samples 24190.7578125\n",
      "Epoch number 187. MSE distance between random real and fake samples 0.37048545479774475\n",
      "Epoch number 189. my distance between random real and fake samples 26177.81640625\n",
      "Epoch number 189. MSE distance between random real and fake samples 0.4019065201282501\n",
      "Epoch number 191. my distance between random real and fake samples 26447.4296875\n",
      "Epoch number 191. MSE distance between random real and fake samples 0.3907475769519806\n",
      "Epoch number 193. my distance between random real and fake samples 23875.703125\n",
      "Epoch number 193. MSE distance between random real and fake samples 0.3596324622631073\n",
      "Epoch number 195. my distance between random real and fake samples 23736.841796875\n"
     ]
    },
    {
     "name": "stdout",
     "output_type": "stream",
     "text": [
      "Epoch number 195. MSE distance between random real and fake samples 0.3466697335243225\n",
      "Epoch number 197. my distance between random real and fake samples 22303.69140625\n",
      "Epoch number 197. MSE distance between random real and fake samples 0.33095240592956543\n",
      "Epoch number 199. my distance between random real and fake samples 21787.4375\n",
      "Epoch number 199. MSE distance between random real and fake samples 0.32528647780418396\n",
      "Epoch number 201. my distance between random real and fake samples 23542.91796875\n",
      "Epoch number 201. MSE distance between random real and fake samples 0.35351333022117615\n",
      "Epoch number 203. my distance between random real and fake samples 27382.1171875\n",
      "Epoch number 203. MSE distance between random real and fake samples 0.4032948613166809\n",
      "Epoch number 205. my distance between random real and fake samples 25190.00390625\n",
      "Epoch number 205. MSE distance between random real and fake samples 0.3831724524497986\n",
      "Epoch number 207. my distance between random real and fake samples 26000.986328125\n",
      "Epoch number 207. MSE distance between random real and fake samples 0.3911970555782318\n",
      "Epoch number 209. my distance between random real and fake samples 24528.162109375\n",
      "Epoch number 209. MSE distance between random real and fake samples 0.36612391471862793\n",
      "Epoch number 211. my distance between random real and fake samples 26602.291015625\n",
      "Epoch number 211. MSE distance between random real and fake samples 0.4000563323497772\n",
      "Epoch number 213. my distance between random real and fake samples 22709.140625\n",
      "Epoch number 213. MSE distance between random real and fake samples 0.3429209291934967\n",
      "Epoch number 215. my distance between random real and fake samples 19576.0625\n",
      "Epoch number 215. MSE distance between random real and fake samples 0.28602755069732666\n",
      "Epoch number 217. my distance between random real and fake samples 20668.01171875\n",
      "Epoch number 217. MSE distance between random real and fake samples 0.3161199390888214\n",
      "Epoch number 219. my distance between random real and fake samples 22198.6640625\n",
      "Epoch number 219. MSE distance between random real and fake samples 0.33348509669303894\n",
      "Epoch number 221. my distance between random real and fake samples 26551.732421875\n",
      "Epoch number 221. MSE distance between random real and fake samples 0.3942108452320099\n",
      "Epoch number 223. my distance between random real and fake samples 24775.07421875\n",
      "Epoch number 223. MSE distance between random real and fake samples 0.368406742811203\n",
      "Epoch number 225. my distance between random real and fake samples 20271.171875\n",
      "Epoch number 225. MSE distance between random real and fake samples 0.3043900728225708\n",
      "Epoch number 227. my distance between random real and fake samples 21776.365234375\n",
      "Epoch number 227. MSE distance between random real and fake samples 0.32589611411094666\n",
      "Epoch number 229. my distance between random real and fake samples 22822.97265625\n",
      "Epoch number 229. MSE distance between random real and fake samples 0.3436530828475952\n",
      "Epoch number 231. my distance between random real and fake samples 20439.802734375\n",
      "Epoch number 231. MSE distance between random real and fake samples 0.31110695004463196\n",
      "Epoch number 233. my distance between random real and fake samples 23407.13671875\n",
      "Epoch number 233. MSE distance between random real and fake samples 0.35842233896255493\n",
      "Epoch number 235. my distance between random real and fake samples 21212.744140625\n",
      "Epoch number 235. MSE distance between random real and fake samples 0.3139123022556305\n",
      "Epoch number 237. my distance between random real and fake samples 25760.2890625\n",
      "Epoch number 237. MSE distance between random real and fake samples 0.3881763517856598\n",
      "Epoch number 239. my distance between random real and fake samples 22331.63671875\n",
      "Epoch number 239. MSE distance between random real and fake samples 0.34046390652656555\n",
      "Epoch number 241. my distance between random real and fake samples 26726.75390625\n",
      "Epoch number 241. MSE distance between random real and fake samples 0.41471460461616516\n",
      "Epoch number 243. my distance between random real and fake samples 19039.265625\n",
      "Epoch number 243. MSE distance between random real and fake samples 0.2876189947128296\n",
      "Epoch number 245. my distance between random real and fake samples 19556.587890625\n",
      "Epoch number 245. MSE distance between random real and fake samples 0.2925719618797302\n",
      "Epoch number 247. my distance between random real and fake samples 21701.58203125\n",
      "Epoch number 247. MSE distance between random real and fake samples 0.3301924765110016\n",
      "Epoch number 249. my distance between random real and fake samples 21716.263671875\n",
      "Epoch number 249. MSE distance between random real and fake samples 0.33435487747192383\n",
      "Epoch number 251. my distance between random real and fake samples 25754.0546875\n",
      "Epoch number 251. MSE distance between random real and fake samples 0.3815211057662964\n",
      "Epoch number 253. my distance between random real and fake samples 31471.25390625\n",
      "Epoch number 253. MSE distance between random real and fake samples 0.46480271220207214\n",
      "Epoch number 255. my distance between random real and fake samples 21127.44921875\n",
      "Epoch number 255. MSE distance between random real and fake samples 0.3250141739845276\n",
      "Epoch number 257. my distance between random real and fake samples 29673.4296875\n",
      "Epoch number 257. MSE distance between random real and fake samples 0.46735140681266785\n",
      "Epoch number 259. my distance between random real and fake samples 20232.255859375\n",
      "Epoch number 259. MSE distance between random real and fake samples 0.3107626438140869\n",
      "Epoch number 261. my distance between random real and fake samples 24542.2734375\n",
      "Epoch number 261. MSE distance between random real and fake samples 0.3793381452560425\n",
      "Epoch number 263. my distance between random real and fake samples 23756.1015625\n",
      "Epoch number 263. MSE distance between random real and fake samples 0.35684940218925476\n",
      "Epoch number 265. my distance between random real and fake samples 18722.3125\n",
      "Epoch number 265. MSE distance between random real and fake samples 0.29309844970703125\n",
      "Epoch number 267. my distance between random real and fake samples 25753.24609375\n",
      "Epoch number 267. MSE distance between random real and fake samples 0.3727610409259796\n",
      "Epoch number 269. my distance between random real and fake samples 24684.78515625\n",
      "Epoch number 269. MSE distance between random real and fake samples 0.3712192475795746\n",
      "Epoch number 271. my distance between random real and fake samples 23475.5859375\n",
      "Epoch number 271. MSE distance between random real and fake samples 0.3492732048034668\n",
      "Epoch number 273. my distance between random real and fake samples 18344.51953125\n",
      "Epoch number 273. MSE distance between random real and fake samples 0.27319660782814026\n",
      "Epoch number 275. my distance between random real and fake samples 22847.580078125\n",
      "Epoch number 275. MSE distance between random real and fake samples 0.3503156304359436\n",
      "Epoch number 277. my distance between random real and fake samples 29259.578125\n",
      "Epoch number 277. MSE distance between random real and fake samples 0.43517303466796875\n",
      "Epoch number 279. my distance between random real and fake samples 21390.615234375\n",
      "Epoch number 279. MSE distance between random real and fake samples 0.316153883934021\n",
      "Epoch number 281. my distance between random real and fake samples 24845.29296875\n",
      "Epoch number 281. MSE distance between random real and fake samples 0.3759043514728546\n",
      "Epoch number 283. my distance between random real and fake samples 29704.84375\n",
      "Epoch number 283. MSE distance between random real and fake samples 0.44872942566871643\n",
      "Epoch number 285. my distance between random real and fake samples 21895.09765625\n",
      "Epoch number 285. MSE distance between random real and fake samples 0.3327038586139679\n",
      "Epoch number 287. my distance between random real and fake samples 24963.828125\n",
      "Epoch number 287. MSE distance between random real and fake samples 0.36751288175582886\n",
      "Epoch number 289. my distance between random real and fake samples 22046.37890625\n",
      "Epoch number 289. MSE distance between random real and fake samples 0.3299909830093384\n",
      "Epoch number 291. my distance between random real and fake samples 25855.119140625\n"
     ]
    },
    {
     "name": "stdout",
     "output_type": "stream",
     "text": [
      "Epoch number 291. MSE distance between random real and fake samples 0.38453003764152527\n",
      "Epoch number 293. my distance between random real and fake samples 18331.5234375\n",
      "Epoch number 293. MSE distance between random real and fake samples 0.27359598875045776\n",
      "Epoch number 295. my distance between random real and fake samples 27791.1484375\n",
      "Epoch number 295. MSE distance between random real and fake samples 0.4210446774959564\n",
      "Epoch number 297. my distance between random real and fake samples 18481.234375\n",
      "Epoch number 297. MSE distance between random real and fake samples 0.2809845209121704\n",
      "Epoch number 299. my distance between random real and fake samples 18310.984375\n",
      "Epoch number 299. MSE distance between random real and fake samples 0.28803738951683044\n"
     ]
    }
   ],
   "source": [
    "train_GAN(netD_tr, netG_tr, train)"
   ]
  },
  {
   "cell_type": "code",
   "execution_count": null,
   "metadata": {},
   "outputs": [],
   "source": [
    "# torch.save(netG.state_dict(), './netG-1m')\n",
    "# torch.save(netD.state_dict(), './netD-1m')"
   ]
  },
  {
   "cell_type": "code",
   "execution_count": 32,
   "metadata": {},
   "outputs": [
    {
     "data": {
      "image/png": "[encoded data removed]",
      "text/plain": [
       "<Figure size 432x288 with 1 Axes>"
      ]
     },
     "metadata": {
      "needs_background": "light"
     },
     "output_type": "display_data"
    }
   ],
   "source": [
    "import matplotlib.pyplot as plt\n",
    "\n",
    "plt.plot(eval_losses)\n",
    "plt.show()"
   ]
  },
  {
   "cell_type": "code",
   "execution_count": 34,
   "metadata": {},
   "outputs": [],
   "source": [
    "noise = torch.randn(train.shape[0], nz).to(device)\n",
    "noisev = Variable(noise)\n",
    "fake = netG_tr(noisev)"
   ]
  },
  {
   "cell_type": "code",
   "execution_count": 35,
   "metadata": {},
   "outputs": [
    {
     "data": {
      "text/plain": [
       "torch.Size([6040, 3706])"
      ]
     },
     "execution_count": 35,
     "metadata": {},
     "output_type": "execute_result"
    }
   ],
   "source": [
    "fake.shape"
   ]
  },
  {
   "cell_type": "code",
   "execution_count": 36,
   "metadata": {},
   "outputs": [],
   "source": [
    "fake = np.around(fake.detach().cpu().numpy())"
   ]
  },
  {
   "cell_type": "code",
   "execution_count": 37,
   "metadata": {},
   "outputs": [
    {
     "data": {
      "text/plain": [
       "array([ 0.,  1.,  2.,  3.,  4.,  5.,  6.,  7.,  8.,  9., 10., 11.],\n",
       "      dtype=float32)"
      ]
     },
     "execution_count": 37,
     "metadata": {},
     "output_type": "execute_result"
    }
   ],
   "source": [
    "np.unique(fake)"
   ]
  },
  {
   "cell_type": "code",
   "execution_count": 38,
   "metadata": {},
   "outputs": [],
   "source": [
    "fake = fake * (fake <= 5).astype(int)"
   ]
  },
  {
   "cell_type": "code",
   "execution_count": 39,
   "metadata": {},
   "outputs": [
    {
     "name": "stdout",
     "output_type": "stream",
     "text": [
      "5 1465021 226310\n",
      "4 2819271 348971\n",
      "3 2622931 261197\n",
      "2 836925 107557\n",
      "1 44763 56174\n",
      "0 14595329 21384031\n"
     ]
    }
   ],
   "source": [
    "print(5, (5 == fake.round()).sum(), (5 == (tr + vr)[:fake.shape[0], :].round()).sum())\n",
    "print(4, (4 == fake.round()).sum(), (4 == (tr + vr)[:fake.shape[0], :].round()).sum())\n",
    "print(3, (3 == fake.round()).sum(), (3 == (tr + vr)[:fake.shape[0], :].round()).sum())\n",
    "print(2, (2 == fake.round()).sum(), (2 == (tr + vr)[:fake.shape[0], :].round()).sum())\n",
    "print(1, (1 == fake.round()).sum(), (1 == (tr + vr)[:fake.shape[0], :].round()).sum())\n",
    "print(0, (0 == fake.round()).sum(), (0 == (tr + vr)[:fake.shape[0], :].round()).sum())"
   ]
  },
  {
   "cell_type": "markdown",
   "metadata": {},
   "source": [
    "As we see there is a significant bias towards higher ratings"
   ]
  },
  {
   "cell_type": "code",
   "execution_count": 40,
   "metadata": {},
   "outputs": [
    {
     "name": "stdout",
     "output_type": "stream",
     "text": [
      "NetD(\n",
      "  (t1): Linear(in_features=3706, out_features=1024, bias=True)\n",
      "  (b1): Linear(in_features=3706, out_features=1024, bias=True)\n",
      "  (fc): Linear(in_features=2048, out_features=3706, bias=True)\n",
      ")\n",
      "NetG(\n",
      "  (net): Sequential(\n",
      "    (0): Linear(in_features=16, out_features=1024, bias=True)\n",
      "    (1): ReLU()\n",
      "    (2): Linear(in_features=1024, out_features=1024, bias=True)\n",
      "    (3): Sigmoid()\n",
      "    (4): Dropout(p=0.5)\n",
      "    (5): Linear(in_features=1024, out_features=3706, bias=True)\n",
      "    (6): Sigmoid()\n",
      "    (7): Dropout(p=0.6)\n",
      "  )\n",
      ")\n"
     ]
    }
   ],
   "source": [
    "# networks\n",
    "netD_augm = NetD().to(device)\n",
    "netG_augm = NetG().to(device)\n",
    "print(netD_augm)\n",
    "print(netG_augm)\n",
    "optimizerG = optim.RMSprop(netG_augm.parameters(), lr=lrG)\n",
    "optimizerD = optim.RMSprop(netD_augm.parameters(), lr=lrD)\n",
    "one = torch.FloatTensor([1]).to(device)\n",
    "mone = (-1 * one).to(device)"
   ]
  },
  {
   "cell_type": "code",
   "execution_count": 41,
   "metadata": {},
   "outputs": [],
   "source": [
    "noise = torch.randn(train.shape[0], nz).to(device)\n",
    "noisev = Variable(noise)\n",
    "fake = netG_augm(noisev)"
   ]
  },
  {
   "cell_type": "code",
   "execution_count": 42,
   "metadata": {},
   "outputs": [
    {
     "name": "stdout",
     "output_type": "stream",
     "text": [
      "5 tensor(1752921, device='cuda:0') 226310\n",
      "4 tensor(624216, device='cuda:0') 348971\n",
      "3 tensor(93823, device='cuda:0') 261197\n",
      "2 tensor(3141, device='cuda:0') 107557\n",
      "1 tensor(1, device='cuda:0') 56174\n",
      "0 tensor(13426588, device='cuda:0') 21384031\n"
     ]
    }
   ],
   "source": [
    "print(5, (5 == fake.round()).sum(), (5 == (tr + vr)[:fake.shape[0], :].round()).sum())\n",
    "print(4, (4 == fake.round()).sum(), (4 == (tr + vr)[:fake.shape[0], :].round()).sum())\n",
    "print(3, (3 == fake.round()).sum(), (3 == (tr + vr)[:fake.shape[0], :].round()).sum())\n",
    "print(2, (2 == fake.round()).sum(), (2 == (tr + vr)[:fake.shape[0], :].round()).sum())\n",
    "print(1, (1 == fake.round()).sum(), (1 == (tr + vr)[:fake.shape[0], :].round()).sum())\n",
    "print(0, (0 == fake.round()).sum(), (0 == (tr + vr)[:fake.shape[0], :].round()).sum())"
   ]
  },
  {
   "cell_type": "code",
   "execution_count": 44,
   "metadata": {},
   "outputs": [
    {
     "name": "stdout",
     "output_type": "stream",
     "text": [
      "Epoch number 1. my distance between random real and fake samples 27796.94921875\n",
      "Epoch number 1. MSE distance between random real and fake samples 0.46380364894866943\n",
      "Epoch number 3. my distance between random real and fake samples 33339.7890625\n",
      "Epoch number 3. MSE distance between random real and fake samples 0.5964004993438721\n",
      "Epoch number 5. my distance between random real and fake samples 35039.26953125\n",
      "Epoch number 5. MSE distance between random real and fake samples 0.7198690176010132\n",
      "Epoch number 7. my distance between random real and fake samples 54702.88671875\n",
      "Epoch number 7. MSE distance between random real and fake samples 1.1715189218521118\n",
      "Epoch number 9. my distance between random real and fake samples 32133.794921875\n",
      "Epoch number 9. MSE distance between random real and fake samples 0.6946011185646057\n",
      "Epoch number 11. my distance between random real and fake samples 48702.703125\n",
      "Epoch number 11. MSE distance between random real and fake samples 1.0291062593460083\n",
      "Epoch number 13. my distance between random real and fake samples 41387.3671875\n",
      "Epoch number 13. MSE distance between random real and fake samples 0.8770630955696106\n",
      "Epoch number 15. my distance between random real and fake samples 29704.044921875\n",
      "Epoch number 15. MSE distance between random real and fake samples 0.6123911738395691\n",
      "Epoch number 17. my distance between random real and fake samples 37680.2734375\n",
      "Epoch number 17. MSE distance between random real and fake samples 0.7545572519302368\n",
      "Epoch number 19. my distance between random real and fake samples 36673.1171875\n",
      "Epoch number 19. MSE distance between random real and fake samples 0.7066500782966614\n",
      "Epoch number 21. my distance between random real and fake samples 35134.53125\n",
      "Epoch number 21. MSE distance between random real and fake samples 0.6665993332862854\n",
      "Epoch number 23. my distance between random real and fake samples 40787.90234375\n",
      "Epoch number 23. MSE distance between random real and fake samples 0.7655326128005981\n",
      "Epoch number 25. my distance between random real and fake samples 34656.453125\n",
      "Epoch number 25. MSE distance between random real and fake samples 0.6418845653533936\n",
      "Epoch number 27. my distance between random real and fake samples 35562.60546875\n",
      "Epoch number 27. MSE distance between random real and fake samples 0.6630224585533142\n",
      "Epoch number 29. my distance between random real and fake samples 37682.578125\n",
      "Epoch number 29. MSE distance between random real and fake samples 0.6872434616088867\n",
      "Epoch number 31. my distance between random real and fake samples 29182.587890625\n",
      "Epoch number 31. MSE distance between random real and fake samples 0.519768238067627\n",
      "Epoch number 33. my distance between random real and fake samples 30803.41015625\n",
      "Epoch number 33. MSE distance between random real and fake samples 0.5462448000907898\n",
      "Epoch number 35. my distance between random real and fake samples 34720.45703125\n",
      "Epoch number 35. MSE distance between random real and fake samples 0.6050499081611633\n",
      "Epoch number 37. my distance between random real and fake samples 34061.265625\n",
      "Epoch number 37. MSE distance between random real and fake samples 0.5882612466812134\n",
      "Epoch number 39. my distance between random real and fake samples 41212.5390625\n",
      "Epoch number 39. MSE distance between random real and fake samples 0.6970362663269043\n",
      "Epoch number 41. my distance between random real and fake samples 29908.98046875\n",
      "Epoch number 41. MSE distance between random real and fake samples 0.4925168752670288\n",
      "Epoch number 43. my distance between random real and fake samples 27095.94921875\n",
      "Epoch number 43. MSE distance between random real and fake samples 0.4476775527000427\n",
      "Epoch number 45. my distance between random real and fake samples 29787.751953125\n",
      "Epoch number 45. MSE distance between random real and fake samples 0.4729015827178955\n",
      "Epoch number 47. my distance between random real and fake samples 22658.359375\n",
      "Epoch number 47. MSE distance between random real and fake samples 0.36480382084846497\n",
      "Epoch number 49. my distance between random real and fake samples 22645.353515625\n",
      "Epoch number 49. MSE distance between random real and fake samples 0.36178648471832275\n",
      "Epoch number 51. my distance between random real and fake samples 35511.2109375\n",
      "Epoch number 51. MSE distance between random real and fake samples 0.5694667100906372\n",
      "Epoch number 53. my distance between random real and fake samples 30966.6953125\n",
      "Epoch number 53. MSE distance between random real and fake samples 0.48972073197364807\n",
      "Epoch number 55. my distance between random real and fake samples 28497.46484375\n",
      "Epoch number 55. MSE distance between random real and fake samples 0.44955679774284363\n",
      "Epoch number 57. my distance between random real and fake samples 34830.06640625\n",
      "Epoch number 57. MSE distance between random real and fake samples 0.5256803035736084\n",
      "Epoch number 59. my distance between random real and fake samples 23378.638671875\n",
      "Epoch number 59. MSE distance between random real and fake samples 0.36688441038131714\n",
      "Epoch number 61. my distance between random real and fake samples 25438.578125\n",
      "Epoch number 61. MSE distance between random real and fake samples 0.395323783159256\n",
      "Epoch number 63. my distance between random real and fake samples 34736.6875\n",
      "Epoch number 63. MSE distance between random real and fake samples 0.5348813533782959\n",
      "Epoch number 65. my distance between random real and fake samples 20146.69140625\n",
      "Epoch number 65. MSE distance between random real and fake samples 0.31708329916000366\n",
      "Epoch number 67. my distance between random real and fake samples 25768.23828125\n",
      "Epoch number 67. MSE distance between random real and fake samples 0.40697017312049866\n",
      "Epoch number 69. my distance between random real and fake samples 24490.63671875\n",
      "Epoch number 69. MSE distance between random real and fake samples 0.3905000388622284\n",
      "Epoch number 71. my distance between random real and fake samples 27898.123046875\n",
      "Epoch number 71. MSE distance between random real and fake samples 0.4318619966506958\n",
      "Epoch number 73. my distance between random real and fake samples 22113.015625\n",
      "Epoch number 73. MSE distance between random real and fake samples 0.333609014749527\n",
      "Epoch number 75. my distance between random real and fake samples 23581.8515625\n",
      "Epoch number 75. MSE distance between random real and fake samples 0.35412225127220154\n",
      "Epoch number 77. my distance between random real and fake samples 24181.44921875\n",
      "Epoch number 77. MSE distance between random real and fake samples 0.3642881214618683\n",
      "Epoch number 79. my distance between random real and fake samples 24641.708984375\n",
      "Epoch number 79. MSE distance between random real and fake samples 0.3805884122848511\n",
      "Epoch number 81. my distance between random real and fake samples 22691.21484375\n",
      "Epoch number 81. MSE distance between random real and fake samples 0.3533160090446472\n",
      "Epoch number 83. my distance between random real and fake samples 24790.375\n",
      "Epoch number 83. MSE distance between random real and fake samples 0.3844313621520996\n",
      "Epoch number 85. my distance between random real and fake samples 28309.6953125\n",
      "Epoch number 85. MSE distance between random real and fake samples 0.4342455267906189\n",
      "Epoch number 87. my distance between random real and fake samples 28715.4453125\n",
      "Epoch number 87. MSE distance between random real and fake samples 0.44099530577659607\n",
      "Epoch number 89. my distance between random real and fake samples 24503.3828125\n",
      "Epoch number 89. MSE distance between random real and fake samples 0.3814889192581177\n",
      "Epoch number 91. my distance between random real and fake samples 26557.40234375\n",
      "Epoch number 91. MSE distance between random real and fake samples 0.415202260017395\n",
      "Epoch number 93. my distance between random real and fake samples 24921.25390625\n",
      "Epoch number 93. MSE distance between random real and fake samples 0.3814629018306732\n",
      "Epoch number 95. my distance between random real and fake samples 21503.96484375\n",
      "Epoch number 95. MSE distance between random real and fake samples 0.33789393305778503\n",
      "Epoch number 97. my distance between random real and fake samples 28733.87890625\n",
      "Epoch number 97. MSE distance between random real and fake samples 0.4340388774871826\n"
     ]
    },
    {
     "name": "stdout",
     "output_type": "stream",
     "text": [
      "Epoch number 99. my distance between random real and fake samples 22288.869140625\n",
      "Epoch number 99. MSE distance between random real and fake samples 0.3363337516784668\n",
      "Epoch number 101. my distance between random real and fake samples 22992.205078125\n",
      "Epoch number 101. MSE distance between random real and fake samples 0.3525981307029724\n",
      "Epoch number 103. my distance between random real and fake samples 23430.234375\n",
      "Epoch number 103. MSE distance between random real and fake samples 0.3511309027671814\n",
      "Epoch number 105. my distance between random real and fake samples 25422.236328125\n",
      "Epoch number 105. MSE distance between random real and fake samples 0.3868910074234009\n",
      "Epoch number 107. my distance between random real and fake samples 24883.759765625\n",
      "Epoch number 107. MSE distance between random real and fake samples 0.37296029925346375\n",
      "Epoch number 109. my distance between random real and fake samples 27345.15234375\n",
      "Epoch number 109. MSE distance between random real and fake samples 0.41453438997268677\n",
      "Epoch number 111. my distance between random real and fake samples 30971.1875\n",
      "Epoch number 111. MSE distance between random real and fake samples 0.4649317264556885\n",
      "Epoch number 113. my distance between random real and fake samples 23108.94140625\n",
      "Epoch number 113. MSE distance between random real and fake samples 0.35289546847343445\n",
      "Epoch number 115. my distance between random real and fake samples 25590.60546875\n",
      "Epoch number 115. MSE distance between random real and fake samples 0.3842889368534088\n",
      "Epoch number 117. my distance between random real and fake samples 20423.56640625\n",
      "Epoch number 117. MSE distance between random real and fake samples 0.3174407482147217\n",
      "Epoch number 119. my distance between random real and fake samples 24830.09375\n",
      "Epoch number 119. MSE distance between random real and fake samples 0.36088377237319946\n",
      "Epoch number 121. my distance between random real and fake samples 21900.876953125\n",
      "Epoch number 121. MSE distance between random real and fake samples 0.33149421215057373\n",
      "Epoch number 123. my distance between random real and fake samples 23916.779296875\n",
      "Epoch number 123. MSE distance between random real and fake samples 0.36219948530197144\n",
      "Epoch number 125. my distance between random real and fake samples 26204.033203125\n",
      "Epoch number 125. MSE distance between random real and fake samples 0.39627113938331604\n",
      "Epoch number 127. my distance between random real and fake samples 21313.5234375\n",
      "Epoch number 127. MSE distance between random real and fake samples 0.31507793068885803\n",
      "Epoch number 129. my distance between random real and fake samples 24582.1328125\n",
      "Epoch number 129. MSE distance between random real and fake samples 0.37330323457717896\n",
      "Epoch number 131. my distance between random real and fake samples 26209.396484375\n",
      "Epoch number 131. MSE distance between random real and fake samples 0.3972661793231964\n",
      "Epoch number 133. my distance between random real and fake samples 19016.470703125\n",
      "Epoch number 133. MSE distance between random real and fake samples 0.2843768000602722\n",
      "Epoch number 135. my distance between random real and fake samples 30056.498046875\n",
      "Epoch number 135. MSE distance between random real and fake samples 0.43100807070732117\n",
      "Epoch number 137. my distance between random real and fake samples 27867.845703125\n",
      "Epoch number 137. MSE distance between random real and fake samples 0.4307629466056824\n",
      "Epoch number 139. my distance between random real and fake samples 27503.337890625\n",
      "Epoch number 139. MSE distance between random real and fake samples 0.410795658826828\n",
      "Epoch number 141. my distance between random real and fake samples 19749.841796875\n",
      "Epoch number 141. MSE distance between random real and fake samples 0.2941274642944336\n",
      "Epoch number 143. my distance between random real and fake samples 28477.900390625\n",
      "Epoch number 143. MSE distance between random real and fake samples 0.4225744307041168\n",
      "Epoch number 145. my distance between random real and fake samples 15669.1220703125\n",
      "Epoch number 145. MSE distance between random real and fake samples 0.24124661087989807\n",
      "Epoch number 147. my distance between random real and fake samples 22068.47265625\n",
      "Epoch number 147. MSE distance between random real and fake samples 0.32555389404296875\n",
      "Epoch number 149. my distance between random real and fake samples 19159.78515625\n",
      "Epoch number 149. MSE distance between random real and fake samples 0.2916724979877472\n",
      "Epoch number 151. my distance between random real and fake samples 25441.212890625\n",
      "Epoch number 151. MSE distance between random real and fake samples 0.3758847415447235\n",
      "Epoch number 153. my distance between random real and fake samples 23358.05859375\n",
      "Epoch number 153. MSE distance between random real and fake samples 0.36079350113868713\n",
      "Epoch number 155. my distance between random real and fake samples 21468.666015625\n",
      "Epoch number 155. MSE distance between random real and fake samples 0.3302270472049713\n",
      "Epoch number 157. my distance between random real and fake samples 23865.5546875\n",
      "Epoch number 157. MSE distance between random real and fake samples 0.36348772048950195\n",
      "Epoch number 159. my distance between random real and fake samples 23714.705078125\n",
      "Epoch number 159. MSE distance between random real and fake samples 0.351004421710968\n",
      "Epoch number 161. my distance between random real and fake samples 20731.576171875\n",
      "Epoch number 161. MSE distance between random real and fake samples 0.31758183240890503\n",
      "Epoch number 163. my distance between random real and fake samples 29343.74609375\n",
      "Epoch number 163. MSE distance between random real and fake samples 0.44646772742271423\n",
      "Epoch number 165. my distance between random real and fake samples 25541.27734375\n",
      "Epoch number 165. MSE distance between random real and fake samples 0.39054107666015625\n",
      "Epoch number 167. my distance between random real and fake samples 25617.640625\n",
      "Epoch number 167. MSE distance between random real and fake samples 0.40050119161605835\n",
      "Epoch number 169. my distance between random real and fake samples 21851.22265625\n",
      "Epoch number 169. MSE distance between random real and fake samples 0.3268153667449951\n",
      "Epoch number 171. my distance between random real and fake samples 23901.9296875\n",
      "Epoch number 171. MSE distance between random real and fake samples 0.35960060358047485\n",
      "Epoch number 173. my distance between random real and fake samples 25553.611328125\n",
      "Epoch number 173. MSE distance between random real and fake samples 0.3878312408924103\n",
      "Epoch number 175. my distance between random real and fake samples 26054.00390625\n",
      "Epoch number 175. MSE distance between random real and fake samples 0.3817468583583832\n",
      "Epoch number 177. my distance between random real and fake samples 19837.97265625\n",
      "Epoch number 177. MSE distance between random real and fake samples 0.2974499464035034\n",
      "Epoch number 179. my distance between random real and fake samples 29129.58203125\n",
      "Epoch number 179. MSE distance between random real and fake samples 0.44324979186058044\n",
      "Epoch number 181. my distance between random real and fake samples 23079.16015625\n",
      "Epoch number 181. MSE distance between random real and fake samples 0.3529480993747711\n",
      "Epoch number 183. my distance between random real and fake samples 23652.16015625\n",
      "Epoch number 183. MSE distance between random real and fake samples 0.36579036712646484\n",
      "Epoch number 185. my distance between random real and fake samples 29956.701171875\n",
      "Epoch number 185. MSE distance between random real and fake samples 0.4633232057094574\n",
      "Epoch number 187. my distance between random real and fake samples 27752.5546875\n",
      "Epoch number 187. MSE distance between random real and fake samples 0.42294952273368835\n",
      "Epoch number 189. my distance between random real and fake samples 20812.77734375\n",
      "Epoch number 189. MSE distance between random real and fake samples 0.3208451271057129\n",
      "Epoch number 191. my distance between random real and fake samples 29629.40625\n",
      "Epoch number 191. MSE distance between random real and fake samples 0.44579043984413147\n",
      "Epoch number 193. my distance between random real and fake samples 27837.27734375\n",
      "Epoch number 193. MSE distance between random real and fake samples 0.4258987009525299\n"
     ]
    },
    {
     "name": "stdout",
     "output_type": "stream",
     "text": [
      "Epoch number 195. my distance between random real and fake samples 18432.5390625\n",
      "Epoch number 195. MSE distance between random real and fake samples 0.2825202941894531\n",
      "Epoch number 197. my distance between random real and fake samples 20937.763671875\n",
      "Epoch number 197. MSE distance between random real and fake samples 0.315379798412323\n",
      "Epoch number 199. my distance between random real and fake samples 26144.24609375\n",
      "Epoch number 199. MSE distance between random real and fake samples 0.386090487241745\n",
      "Epoch number 201. my distance between random real and fake samples 19612.2265625\n",
      "Epoch number 201. MSE distance between random real and fake samples 0.2961622178554535\n",
      "Epoch number 203. my distance between random real and fake samples 27350.72265625\n",
      "Epoch number 203. MSE distance between random real and fake samples 0.4189007878303528\n",
      "Epoch number 205. my distance between random real and fake samples 36302.46484375\n",
      "Epoch number 205. MSE distance between random real and fake samples 0.53180330991745\n",
      "Epoch number 207. my distance between random real and fake samples 26996.0703125\n",
      "Epoch number 207. MSE distance between random real and fake samples 0.4079376459121704\n",
      "Epoch number 209. my distance between random real and fake samples 23576.58203125\n",
      "Epoch number 209. MSE distance between random real and fake samples 0.3498147130012512\n",
      "Epoch number 211. my distance between random real and fake samples 25972.771484375\n",
      "Epoch number 211. MSE distance between random real and fake samples 0.38212230801582336\n",
      "Epoch number 213. my distance between random real and fake samples 19177.125\n",
      "Epoch number 213. MSE distance between random real and fake samples 0.2954029440879822\n",
      "Epoch number 215. my distance between random real and fake samples 24040.35546875\n",
      "Epoch number 215. MSE distance between random real and fake samples 0.3603193759918213\n",
      "Epoch number 217. my distance between random real and fake samples 22144.814453125\n",
      "Epoch number 217. MSE distance between random real and fake samples 0.33425915241241455\n",
      "Epoch number 219. my distance between random real and fake samples 23266.453125\n",
      "Epoch number 219. MSE distance between random real and fake samples 0.35078251361846924\n",
      "Epoch number 221. my distance between random real and fake samples 23247.349609375\n",
      "Epoch number 221. MSE distance between random real and fake samples 0.3515464663505554\n",
      "Epoch number 223. my distance between random real and fake samples 25840.125\n",
      "Epoch number 223. MSE distance between random real and fake samples 0.37684178352355957\n",
      "Epoch number 225. my distance between random real and fake samples 22682.2265625\n",
      "Epoch number 225. MSE distance between random real and fake samples 0.3473796546459198\n",
      "Epoch number 227. my distance between random real and fake samples 26861.931640625\n",
      "Epoch number 227. MSE distance between random real and fake samples 0.3996785283088684\n",
      "Epoch number 229. my distance between random real and fake samples 21925.5859375\n",
      "Epoch number 229. MSE distance between random real and fake samples 0.32956787943840027\n",
      "Epoch number 231. my distance between random real and fake samples 22354.798828125\n",
      "Epoch number 231. MSE distance between random real and fake samples 0.33739617466926575\n",
      "Epoch number 233. my distance between random real and fake samples 20699.07421875\n",
      "Epoch number 233. MSE distance between random real and fake samples 0.31537488102912903\n",
      "Epoch number 235. my distance between random real and fake samples 31876.0078125\n",
      "Epoch number 235. MSE distance between random real and fake samples 0.48751723766326904\n",
      "Epoch number 237. my distance between random real and fake samples 34180.25\n",
      "Epoch number 237. MSE distance between random real and fake samples 0.5060368776321411\n",
      "Epoch number 239. my distance between random real and fake samples 29730.060546875\n",
      "Epoch number 239. MSE distance between random real and fake samples 0.44098663330078125\n",
      "Epoch number 241. my distance between random real and fake samples 20040.064453125\n",
      "Epoch number 241. MSE distance between random real and fake samples 0.29315185546875\n",
      "Epoch number 243. my distance between random real and fake samples 22523.28515625\n",
      "Epoch number 243. MSE distance between random real and fake samples 0.34038621187210083\n",
      "Epoch number 245. my distance between random real and fake samples 22206.357421875\n",
      "Epoch number 245. MSE distance between random real and fake samples 0.32946157455444336\n",
      "Epoch number 247. my distance between random real and fake samples 32165.34765625\n",
      "Epoch number 247. MSE distance between random real and fake samples 0.4892423450946808\n",
      "Epoch number 249. my distance between random real and fake samples 25204.390625\n",
      "Epoch number 249. MSE distance between random real and fake samples 0.3786742389202118\n",
      "Epoch number 251. my distance between random real and fake samples 26280.71875\n",
      "Epoch number 251. MSE distance between random real and fake samples 0.39143460988998413\n",
      "Epoch number 253. my distance between random real and fake samples 18625.5234375\n",
      "Epoch number 253. MSE distance between random real and fake samples 0.28168079257011414\n",
      "Epoch number 255. my distance between random real and fake samples 29764.4453125\n",
      "Epoch number 255. MSE distance between random real and fake samples 0.4492188096046448\n",
      "Epoch number 257. my distance between random real and fake samples 22547.19140625\n",
      "Epoch number 257. MSE distance between random real and fake samples 0.33748945593833923\n",
      "Epoch number 259. my distance between random real and fake samples 23930.99609375\n",
      "Epoch number 259. MSE distance between random real and fake samples 0.354338139295578\n",
      "Epoch number 261. my distance between random real and fake samples 19146.34375\n",
      "Epoch number 261. MSE distance between random real and fake samples 0.2877127230167389\n",
      "Epoch number 263. my distance between random real and fake samples 24508.11328125\n",
      "Epoch number 263. MSE distance between random real and fake samples 0.3764212727546692\n",
      "Epoch number 265. my distance between random real and fake samples 24097.572265625\n",
      "Epoch number 265. MSE distance between random real and fake samples 0.3693888783454895\n",
      "Epoch number 267. my distance between random real and fake samples 21298.11328125\n",
      "Epoch number 267. MSE distance between random real and fake samples 0.32668012380599976\n",
      "Epoch number 269. my distance between random real and fake samples 28760.1796875\n",
      "Epoch number 269. MSE distance between random real and fake samples 0.4383470416069031\n",
      "Epoch number 271. my distance between random real and fake samples 25559.30078125\n",
      "Epoch number 271. MSE distance between random real and fake samples 0.3852567970752716\n",
      "Epoch number 273. my distance between random real and fake samples 22587.65234375\n",
      "Epoch number 273. MSE distance between random real and fake samples 0.3324242830276489\n",
      "Epoch number 275. my distance between random real and fake samples 16946.169921875\n",
      "Epoch number 275. MSE distance between random real and fake samples 0.2615453898906708\n",
      "Epoch number 277. my distance between random real and fake samples 23382.23828125\n",
      "Epoch number 277. MSE distance between random real and fake samples 0.35157662630081177\n",
      "Epoch number 279. my distance between random real and fake samples 31369.775390625\n",
      "Epoch number 279. MSE distance between random real and fake samples 0.4470950663089752\n",
      "Epoch number 281. my distance between random real and fake samples 24497.3203125\n",
      "Epoch number 281. MSE distance between random real and fake samples 0.3670576512813568\n",
      "Epoch number 283. my distance between random real and fake samples 25347.845703125\n",
      "Epoch number 283. MSE distance between random real and fake samples 0.37431013584136963\n",
      "Epoch number 285. my distance between random real and fake samples 22842.34765625\n",
      "Epoch number 285. MSE distance between random real and fake samples 0.33066844940185547\n",
      "Epoch number 287. my distance between random real and fake samples 21428.78125\n",
      "Epoch number 287. MSE distance between random real and fake samples 0.32805904746055603\n",
      "Epoch number 289. my distance between random real and fake samples 21759.1875\n",
      "Epoch number 289. MSE distance between random real and fake samples 0.3254375159740448\n",
      "Epoch number 291. my distance between random real and fake samples 17776.677734375\n"
     ]
    },
    {
     "name": "stdout",
     "output_type": "stream",
     "text": [
      "Epoch number 291. MSE distance between random real and fake samples 0.2762313187122345\n",
      "Epoch number 293. my distance between random real and fake samples 22676.5703125\n",
      "Epoch number 293. MSE distance between random real and fake samples 0.33846592903137207\n",
      "Epoch number 295. my distance between random real and fake samples 27362.423828125\n",
      "Epoch number 295. MSE distance between random real and fake samples 0.411761999130249\n",
      "Epoch number 297. my distance between random real and fake samples 24244.328125\n",
      "Epoch number 297. MSE distance between random real and fake samples 0.3624785244464874\n",
      "Epoch number 299. my distance between random real and fake samples 25390.75\n",
      "Epoch number 299. MSE distance between random real and fake samples 0.36495715379714966\n"
     ]
    }
   ],
   "source": [
    "train_GAN(netD_augm, netG_augm, augmented_train)"
   ]
  },
  {
   "cell_type": "code",
   "execution_count": 45,
   "metadata": {},
   "outputs": [
    {
     "data": {
      "image/png": "[encoded data removed]",
      "text/plain": [
       "<Figure size 432x288 with 1 Axes>"
      ]
     },
     "metadata": {
      "needs_background": "light"
     },
     "output_type": "display_data"
    }
   ],
   "source": [
    "import matplotlib.pyplot as plt\n",
    "\n",
    "plt.plot(eval_losses)\n",
    "plt.show()"
   ]
  },
  {
   "cell_type": "code",
   "execution_count": 50,
   "metadata": {},
   "outputs": [],
   "source": [
    "noise = torch.randn(train.shape[0], nz).to(device)\n",
    "noisev = Variable(noise)\n",
    "fake = netG_augm(noisev)"
   ]
  },
  {
   "cell_type": "code",
   "execution_count": 51,
   "metadata": {},
   "outputs": [],
   "source": [
    "fake = np.around(fake.detach().cpu().numpy())"
   ]
  },
  {
   "cell_type": "code",
   "execution_count": 52,
   "metadata": {},
   "outputs": [
    {
     "data": {
      "text/plain": [
       "array([ 0.,  1.,  2.,  3.,  4.,  5.,  6.,  7.,  8.,  9., 10., 11.],\n",
       "      dtype=float32)"
      ]
     },
     "execution_count": 52,
     "metadata": {},
     "output_type": "execute_result"
    }
   ],
   "source": [
    "np.unique(fake)"
   ]
  },
  {
   "cell_type": "code",
   "execution_count": 53,
   "metadata": {},
   "outputs": [],
   "source": [
    "fake = fake * (fake <= 5).astype(int)"
   ]
  },
  {
   "cell_type": "code",
   "execution_count": 54,
   "metadata": {},
   "outputs": [
    {
     "name": "stdout",
     "output_type": "stream",
     "text": [
      "5 1436913 226310\n",
      "4 2788828 348971\n",
      "3 2627194 261197\n",
      "2 849886 107557\n",
      "1 45757 56174\n",
      "0 14635662 21384031\n"
     ]
    }
   ],
   "source": [
    "print(5, (5 == fake.round()).sum(), (5 == (tr + vr)[:fake.shape[0], :].round()).sum())\n",
    "print(4, (4 == fake.round()).sum(), (4 == (tr + vr)[:fake.shape[0], :].round()).sum())\n",
    "print(3, (3 == fake.round()).sum(), (3 == (tr + vr)[:fake.shape[0], :].round()).sum())\n",
    "print(2, (2 == fake.round()).sum(), (2 == (tr + vr)[:fake.shape[0], :].round()).sum())\n",
    "print(1, (1 == fake.round()).sum(), (1 == (tr + vr)[:fake.shape[0], :].round()).sum())\n",
    "print(0, (0 == fake.round()).sum(), (0 == (tr + vr)[:fake.shape[0], :].round()).sum())"
   ]
  },
  {
   "cell_type": "code",
   "execution_count": 55,
   "metadata": {},
   "outputs": [],
   "source": [
    "noise = torch.randn(train.shape[0], nz).to(device)\n",
    "noisev = Variable(noise)\n",
    "\n",
    "fake_tr = netG_tr(noisev)\n",
    "fake_aug = netG_augm(noisev)"
   ]
  },
  {
   "cell_type": "code",
   "execution_count": 57,
   "metadata": {},
   "outputs": [
    {
     "name": "stdout",
     "output_type": "stream",
     "text": [
      "5 tensor(1462331, device='cuda:0') 226310\n",
      "4 tensor(2819034, device='cuda:0') 348971\n",
      "3 tensor(2621625, device='cuda:0') 261197\n",
      "2 tensor(837891, device='cuda:0') 107557\n",
      "1 tensor(44331, device='cuda:0') 56174\n",
      "0 tensor(13432479, device='cuda:0') 21384031\n"
     ]
    }
   ],
   "source": [
    "print(5, (5 == fake_tr.round()).sum(), (5 == (tr + vr)[:fake.shape[0], :].round()).sum())\n",
    "print(4, (4 == fake_tr.round()).sum(), (4 == (tr + vr)[:fake.shape[0], :].round()).sum())\n",
    "print(3, (3 == fake_tr.round()).sum(), (3 == (tr + vr)[:fake.shape[0], :].round()).sum())\n",
    "print(2, (2 == fake_tr.round()).sum(), (2 == (tr + vr)[:fake.shape[0], :].round()).sum())\n",
    "print(1, (1 == fake_tr.round()).sum(), (1 == (tr + vr)[:fake.shape[0], :].round()).sum())\n",
    "print(0, (0 == fake_tr.round()).sum(), (0 == (tr + vr)[:fake.shape[0], :].round()).sum())"
   ]
  },
  {
   "cell_type": "code",
   "execution_count": 58,
   "metadata": {},
   "outputs": [
    {
     "name": "stdout",
     "output_type": "stream",
     "text": [
      "5 tensor(1436910, device='cuda:0') 226310\n",
      "4 tensor(2791855, device='cuda:0') 348971\n",
      "3 tensor(2625343, device='cuda:0') 261197\n",
      "2 tensor(848793, device='cuda:0') 107557\n",
      "1 tensor(45754, device='cuda:0') 56174\n",
      "0 tensor(13430978, device='cuda:0') 21384031\n"
     ]
    }
   ],
   "source": [
    "print(5, (5 == fake_aug.round()).sum(), (5 == (tr + vr)[:fake.shape[0], :].round()).sum())\n",
    "print(4, (4 == fake_aug.round()).sum(), (4 == (tr + vr)[:fake.shape[0], :].round()).sum())\n",
    "print(3, (3 == fake_aug.round()).sum(), (3 == (tr + vr)[:fake.shape[0], :].round()).sum())\n",
    "print(2, (2 == fake_aug.round()).sum(), (2 == (tr + vr)[:fake.shape[0], :].round()).sum())\n",
    "print(1, (1 == fake_aug.round()).sum(), (1 == (tr + vr)[:fake.shape[0], :].round()).sum())\n",
    "print(0, (0 == fake_aug.round()).sum(), (0 == (tr + vr)[:fake.shape[0], :].round()).sum())"
   ]
  },
  {
   "cell_type": "code",
   "execution_count": null,
   "metadata": {},
   "outputs": [],
   "source": []
  },
  {
   "cell_type": "code",
   "execution_count": null,
   "metadata": {},
   "outputs": [],
   "source": [
    "# tr_orig, vr_1 = loadData('./ml-1m/ratings.dat', delimiter='::', seed=seed,  transpose=False, valfrac=0.1)"
   ]
  },
  {
   "cell_type": "code",
   "execution_count": null,
   "metadata": {},
   "outputs": [],
   "source": [
    "import nbimporter \n",
    "import matrix_factorization"
   ]
  },
  {
   "cell_type": "code",
   "execution_count": null,
   "metadata": {},
   "outputs": [],
   "source": [
    "y"
   ]
  },
  {
   "cell_type": "code",
   "execution_count": null,
   "metadata": {},
   "outputs": [],
   "source": [
    "iter_array = [1, 2, 5, 10, 25, 40]\n",
    "MF_SGD = matrix_factorization.ExplicitMF(train.cpu().numpy(), 40, learning='sgd', verbose=True)\n",
    "# iter_array = [1, 2, 5, 10, 25, 50, 100, 200]\n",
    "\n",
    "# iter_array = [10]\n",
    "# iter_array = [1, 2, 5, 10, 25]\n",
    "MF_SGD.calculate_learning_curve(iter_array, vr, learning_rate=0.001)"
   ]
  },
  {
   "cell_type": "code",
   "execution_count": null,
   "metadata": {},
   "outputs": [],
   "source": [
    "iter_array = [1, 2, 5, 10, 25, 40]\n",
    "MF_SGD = matrix_factorization.ExplicitMF(aug_train, 40, learning='sgd', verbose=True)\n",
    "# iter_array = [1, 2, 5, 10, 25, 50, 100, 200]\n",
    "\n",
    "# iter_array = [10]\n",
    "# iter_array = [1, 2, 5, 10, 25]\n",
    "MF_SGD.calculate_learning_curve(iter_array, vr, learning_rate=0.001)"
   ]
  },
  {
   "cell_type": "code",
   "execution_count": null,
   "metadata": {},
   "outputs": [],
   "source": [
    "rand_ix = np.random.randint(0, fake.shape[0], 300)"
   ]
  },
  {
   "cell_type": "code",
   "execution_count": null,
   "metadata": {},
   "outputs": [],
   "source": [
    "adding_fake = fake[rand_ix,:]"
   ]
  },
  {
   "cell_type": "code",
   "execution_count": null,
   "metadata": {},
   "outputs": [],
   "source": [
    "adding_fake"
   ]
  },
  {
   "cell_type": "code",
   "execution_count": null,
   "metadata": {},
   "outputs": [],
   "source": [
    "tr = np.append(aug_train.cpu().numpy(), adding_fake, axis=0)"
   ]
  },
  {
   "cell_type": "code",
   "execution_count": null,
   "metadata": {},
   "outputs": [],
   "source": [
    "iter_array = [1, 2, 5, 10, 25, 40]\n",
    "MF_SGD = matrix_factorization.ExplicitMF(tr, 40, learning='sgd', verbose=True)\n",
    "# iter_array = [1, 2, 5, 10, 25, 50, 100, 200]\n",
    "\n",
    "# iter_array = [10]\n",
    "# iter_array = [1, 2, 5, 10, 25]\n",
    "MF_SGD.calculate_learning_curve(iter_array, vr, learning_rate=0.001)"
   ]
  },
  {
   "cell_type": "code",
   "execution_count": null,
   "metadata": {},
   "outputs": [],
   "source": [
    "iter_array = [1, 2, 5, 10, 25, 40]\n",
    "MF_SGD = matrix_factorization.ExplicitMF(tr, 40, learning='sgd', verbose=True)\n",
    "# iter_array = [1, 2, 5, 10, 25, 50, 100, 200]\n",
    "\n",
    "# iter_array = [10]\n",
    "# iter_array = [1, 2, 5, 10, 25]\n",
    "MF_SGD.calculate_learning_curve(iter_array, vr, learning_rate=0.001)"
   ]
  },
  {
   "cell_type": "code",
   "execution_count": null,
   "metadata": {},
   "outputs": [],
   "source": [
    "aug_train = torch.Tensor(aug_train).float().to(device)"
   ]
  },
  {
   "cell_type": "code",
   "execution_count": null,
   "metadata": {},
   "outputs": [],
   "source": [
    "steps_per_epoch = 300\n",
    "gen_iterations = 0\n",
    "eval_losses = []\n",
    "epochs = 300\n",
    "for epoch in range(epochs):\n",
    "#     data_iter = iter(data_loader)\n",
    "    i = 0\n",
    "    while i < steps_per_epoch:\n",
    "        ############################\n",
    "        # (1) Update D network\n",
    "        ###########################\n",
    "        for p in netD.parameters(): # reset requires_grad\n",
    "            p.requires_grad = True # they are set to False below in netG update\n",
    "        d_iter = d_iter\n",
    "        j = 0\n",
    "        while j < d_iter*5:\n",
    "            j += 1\n",
    "            # load real data\n",
    "            i += 1\n",
    "#             X, _ = data_iter.next()\n",
    "            X = get_random_batch(aug_train, batch_size=batch_size)\n",
    "#             X += torch.Tensor(np.random.normal(0, 0.2, X.shape))\n",
    "#             print(X >= 0.5)\n",
    "# #             X = X.view(X.size(0), -1)\n",
    "#             X = (X >= 0.5).float()\n",
    "            if cuda: \n",
    "                X = X.cuda()\n",
    "            real = Variable(X)\n",
    "            # generate fake data\n",
    "            noise = torch.randn(batch_size, nz)\n",
    "            if cuda: \n",
    "                noise = noise.cuda()\n",
    "            with torch.no_grad():\n",
    "                noisev = Variable(noise) # totally freeze netG\n",
    "            fake = Variable(netG(noisev).data)\n",
    "#             print(real[0,:20], fake[0,:20])\n",
    "            real + fake * (real == 0).float()\n",
    "            fake = fake * Variable(real != 0).float().cuda()\n",
    "#             real + fake * (real == 0).float()\n",
    "#             print(real[0,:20], fake[0,:20])\n",
    "            fake.requires_grad = False\n",
    "#             print(real.shape, fake.shape)\n",
    "    \n",
    "            # compute gradient, take step\n",
    "            netD.zero_grad()\n",
    "#             print('real', real[:10, :20])\n",
    "#             print('fake', fake[:10, :20])\n",
    "#             print(real.type(), fake.type())\n",
    "#             print(fake)\n",
    "            out = netD(real, fake)\n",
    "            \n",
    "            outputD = torch.mean(out) + lamba * out.norm()\n",
    "            stdD = torch.std(out)\n",
    "            outputD.backward(mone)\n",
    "            optimizerD.step()\n",
    "#             print(out.shape)\n",
    "        ############################\n",
    "        # (2) Update G network\n",
    "        ###########################\n",
    "        g_iter = g_iter\n",
    "        j = 0\n",
    "        while j < g_iter*5:\n",
    "            j += 1\n",
    "            for p in netD.parameters():\n",
    "                p.requires_grad = False # to avoid computation\n",
    "            netG.zero_grad()\n",
    "            \n",
    "            # load real data\n",
    "            i += 1\n",
    "            X = get_random_batch(aug_train, batch_size=batch_size)\n",
    "#             X += torch.Tensor(np.random.normal(0, 0.2, X.shape))\n",
    "#             X = X.view(X.size(0), -1)\n",
    "#             X = (X >= 0.5).float()\n",
    "            if cuda: \n",
    "                X = X.cuda()\n",
    "            real = Variable(X)\n",
    "            \n",
    "            # update generator\n",
    "            noise = torch.randn(batch_size, nz)\n",
    "            if cuda: \n",
    "                noise = noise.cuda()\n",
    "            noisev = Variable(noise)\n",
    "            \n",
    "            fake = netG(noisev)\n",
    "            real + fake * (real == 0).float()\n",
    "            fake = fake * Variable(real != 0).float().cuda()\n",
    "#             fake = fake * Variable(real != 0).float().cuda()\n",
    "#             fake.requires_grad = False\n",
    "#             fake = Variable(netG(noisev)).data\n",
    "#             fake = fake * Variable(((real != 0) & (fake > 0.8))).float().cuda()\n",
    "#             fake.requires_grad = True\n",
    "            \n",
    "            out = netD(real, fake)\n",
    "            outputG = torch.mean(out) + lamba * out.norm()\n",
    "            stdG = torch.std(out)\n",
    "            outputG.backward(one)\n",
    "            optimizerG.step()\n",
    "\n",
    "            gen_iterations += 1\n",
    "\n",
    "#             print('[%d/%d][%d/%d][%d] Loss_D: %f Loss_G: %f '% (epoch, epochs, i, len(data_loader), gen_iterations, outputD.item(), outputG.item()))\n",
    "#             print('output_D', outputD.item(), gen_iterations)\n",
    "#             print('output_G', outputG.item(), gen_iterations)\n",
    "#             print('std_D', stdD.item(), gen_iterations)\n",
    "#             print('std_G', stdG.item(), gen_iterations)\n",
    "            torch.save(netG.state_dict(), './netG-1m')\n",
    "            torch.save(netD.state_dict(), './netD-1m')\n",
    "            # evaluation\n",
    "            if gen_iterations % 100 == 0: # todo- to change\n",
    "#                 gen.eval()\n",
    "#                 z_vector_eval = make_some_noise(128)\n",
    "#                 fake_rows_eval = gen(z_vector_eval)\n",
    "#                 real_rows_eval = get_random_batch(train, 128)\n",
    "        #         print(fake_rows[0][:10]) enable to see some results\n",
    "#                 fake = Variable(netG(noisev).data).round()\n",
    "#                 fake = ((real != 0) & (fake != 0))\n",
    "#                 print(fake)\n",
    "                eval_loss = F.mse_loss(fake, real, reduction='mean')\n",
    "                eval_losses.append(eval_loss)\n",
    "                print('Epoch number {}. my distance between random real and fake samples {}'.format(epoch, d_my(real, fake)))\n",
    "                print('Epoch number {}. MSE distance between random real and fake samples {}'.format(epoch, eval_loss))"
   ]
  },
  {
   "cell_type": "code",
   "execution_count": null,
   "metadata": {},
   "outputs": [],
   "source": []
  },
  {
   "cell_type": "code",
   "execution_count": null,
   "metadata": {},
   "outputs": [],
   "source": []
  },
  {
   "cell_type": "code",
   "execution_count": null,
   "metadata": {},
   "outputs": [],
   "source": []
  },
  {
   "cell_type": "code",
   "execution_count": null,
   "metadata": {},
   "outputs": [],
   "source": []
  },
  {
   "cell_type": "code",
   "execution_count": null,
   "metadata": {},
   "outputs": [],
   "source": []
  },
  {
   "cell_type": "code",
   "execution_count": null,
   "metadata": {},
   "outputs": [],
   "source": []
  },
  {
   "cell_type": "code",
   "execution_count": null,
   "metadata": {},
   "outputs": [],
   "source": [
    "tr = np.append(aug, adding_fake, axis=0)"
   ]
  },
  {
   "cell_type": "code",
   "execution_count": null,
   "metadata": {},
   "outputs": [],
   "source": [
    "iter_array = [1, 2, 5, 10, 25, 40]\n",
    "MF_SGD = matrix_factorization.ExplicitMF(tr, 40, learning='sgd', verbose=True)\n",
    "# iter_array = [1, 2, 5, 10, 25, 50, 100, 200]\n",
    "\n",
    "# iter_array = [10]\n",
    "# iter_array = [1, 2, 5, 10, 25]\n",
    "MF_SGD.calculate_learning_curve(iter_array, vr, learning_rate=0.001)"
   ]
  },
  {
   "cell_type": "code",
   "execution_count": null,
   "metadata": {},
   "outputs": [],
   "source": []
  },
  {
   "cell_type": "code",
   "execution_count": null,
   "metadata": {},
   "outputs": [],
   "source": []
  },
  {
   "cell_type": "code",
   "execution_count": null,
   "metadata": {},
   "outputs": [],
   "source": [
    "train > 3 "
   ]
  },
  {
   "cell_type": "code",
   "execution_count": null,
   "metadata": {},
   "outputs": [],
   "source": [
    "get_sparsity(train > 3)"
   ]
  },
  {
   "cell_type": "code",
   "execution_count": null,
   "metadata": {},
   "outputs": [],
   "source": [
    "(train[0,:] > 3).sum()"
   ]
  },
  {
   "cell_type": "code",
   "execution_count": null,
   "metadata": {},
   "outputs": [],
   "source": [
    "train"
   ]
  },
  {
   "cell_type": "code",
   "execution_count": null,
   "metadata": {},
   "outputs": [],
   "source": [
    "train = torch.Tensor(tr.copy()).to(device)"
   ]
  },
  {
   "cell_type": "code",
   "execution_count": null,
   "metadata": {},
   "outputs": [],
   "source": [
    "get_sparsity(train.cpu().numpy())"
   ]
  },
  {
   "cell_type": "code",
   "execution_count": null,
   "metadata": {},
   "outputs": [],
   "source": [
    "train > 3"
   ]
  },
  {
   "cell_type": "code",
   "execution_count": null,
   "metadata": {},
   "outputs": [],
   "source": [
    "zero_mask = (train == 0).to(device).float()"
   ]
  },
  {
   "cell_type": "code",
   "execution_count": null,
   "metadata": {},
   "outputs": [],
   "source": [
    "positive_feedback_mask = (train > 3).to(device).float()"
   ]
  },
  {
   "cell_type": "code",
   "execution_count": null,
   "metadata": {},
   "outputs": [],
   "source": [
    "negative_feedback_mask = ((train < 4).to(device).float() * (1 - zero_mask)).to(device).float()"
   ]
  },
  {
   "cell_type": "code",
   "execution_count": null,
   "metadata": {},
   "outputs": [],
   "source": [
    "((positive_feedback_mask + negative_feedback_mask) != zero_mask).all()"
   ]
  },
  {
   "cell_type": "code",
   "execution_count": null,
   "metadata": {},
   "outputs": [],
   "source": [
    "get_sparsity(negative_feedback_mask.cpu().numpy())"
   ]
  },
  {
   "cell_type": "code",
   "execution_count": null,
   "metadata": {},
   "outputs": [],
   "source": [
    "# class denoising_autoencoder(nn.Module):\n",
    "#     def __init__(self, n_users, input_size, z=256):\n",
    "#         ''' \n",
    "#         mimic the network architecture from the paper\n",
    "#         '''\n",
    "#         super(denoising_autoencoder, self).__init__()\n",
    "        \n",
    "#         self.V = torch.FloatTensor(n_users, z).to(device)\n",
    "#         self.b = torch.FloatTensor(n_users, 1).to(device)\n",
    "#         self.b_shtrix = torch.FloatTensor(n_users, 1).to(device)\n",
    "    \n",
    "#         self.encoder = nn.Linear(input_size, z)\n",
    "#         self.decoder = nn.Linear(z, input_size)\n",
    "        \n",
    "#         torch.nn.init.xavier_uniform_(self.encoder.weight)\n",
    "#         torch.nn.init.xavier_uniform_(self.encoder.weight)\n",
    " \n",
    "#     def forward(self, x, i):\n",
    "#         z = self.encoder(x)\n",
    "#         z = z + self.V[i, :] + self.b[i, :] \n",
    "#         z = torch.nn.functional.relu(z)\n",
    "#         x = self.decoder(z)\n",
    "#         x = x + self.b_shtrix[i, :]\n",
    "#         return torch.sigmoid(x)\n",
    "\n",
    "\n",
    "# # class denoising_autoencoder(nn.Module):\n",
    "# #     def __init__(self, n_users, input_size, z=256):\n",
    "# #         super(denoising_autoencoder, self).__init__()\n",
    "        \n",
    "# # #         torch.nn.init.xavier_uniform(self.V)\n",
    "# # #         torch.nn.init.xavier_uniform(self.b.weight)\n",
    "# # #         torch.nn.init.xavier_uniform(self.b_shtrix.weight)\n",
    "\n",
    "# #         self.encoder=nn.Sequential(\n",
    "# #                       nn.Linear(input_size, 1024),\n",
    "# #                       nn.Dropout(0.4),\n",
    "# #                       nn.ReLU(),\n",
    "# #                       nn.Linear(1024,512),\n",
    "# #                       nn.Dropout(0.6),\n",
    "# #                       nn.ReLU(),\n",
    "# #                       nn.Linear(512, z),\n",
    "# # #                       nn.Sigmoid()\n",
    "# #                       )\n",
    "\n",
    "# #         self.decoder=nn.Sequential(\n",
    "# #                       nn.Linear(z, 512),\n",
    "# #                       nn.Dropout(0.4),\n",
    "# #                       nn.ReLU(),\n",
    "# #                       nn.Linear(512, 1024),\n",
    "# #                       nn.Dropout(0.6),\n",
    "# #                       nn.ReLU(),\n",
    "# #                       nn.Linear(1024, input_size),\n",
    "# # #                       nn.Sigmoid(),\n",
    "# #                       )\n",
    "        \n",
    "# #         self.init_weights()\n",
    "    \n",
    "# #     def init_weights(self):\n",
    "\n",
    "# #         for l, ll in zip(self.encoder, self.decoder):\n",
    "# #             if type(l) == torch.nn.Linear:\n",
    "# #                 torch.nn.init.xavier_uniform_(l.weight)\n",
    "# #             if type(ll) == torch.nn.Linear:\n",
    "# #                 torch.nn.init.xavier_uniform_(ll.weight)\n",
    "\n",
    "# #     def forward(self, x, i):\n",
    "# #         z = self.encoder(x)\n",
    "# #         x = self.decoder(z)\n",
    "    \n",
    "# #         return x"
   ]
  },
  {
   "cell_type": "code",
   "execution_count": null,
   "metadata": {},
   "outputs": [],
   "source": [
    "# model = denoising_autoencoder(input_size=train[0,:].shape[0], n_users=train.shape[0]).to(device)\n",
    "# criterion = nn.MSELoss()\n",
    "# optimizer = optim.Adam(model.parameters(), lr=0.0001, weight_decay=1e-5)"
   ]
  },
  {
   "cell_type": "code",
   "execution_count": null,
   "metadata": {},
   "outputs": [],
   "source": [
    "# model"
   ]
  },
  {
   "cell_type": "code",
   "execution_count": null,
   "metadata": {},
   "outputs": [],
   "source": [
    "def get_random_batch(orig_mat, corrupted_mat, batch_size = 64):\n",
    "    '''\n",
    "    This works as a trainloader for denoising autoencoder.\n",
    "    Randomly masks observed entries (replaces 1s with 0s) to add a noise\n",
    "    '''\n",
    "    rand_rows = np.random.randint(orig_mat.shape[0], size=batch_size)\n",
    "#     print(rand_rows)\n",
    "#     return mat[rand_rows], mat[rand_rows]\n",
    "    orig = orig_mat[rand_rows].clone()\n",
    "    corrupted = corrupted_mat[rand_rows].clone()\n",
    "\n",
    "    return orig, corrupted, rand_rows"
   ]
  },
  {
   "cell_type": "code",
   "execution_count": null,
   "metadata": {},
   "outputs": [],
   "source": [
    "def get_random_masked_batch(mat, batch_size = 32, p=0.5):\n",
    "    '''\n",
    "    This works as a trainloader for denoising autoencoder.\n",
    "    Randomly masks observed entries (replaces 1s with 0s) to add a noise\n",
    "    '''\n",
    "    rand_rows = np.random.randint(mat.shape[0], size=batch_size)\n",
    "#     print(rand_rows)\n",
    "#     return mat[rand_rows], mat[rand_rows]\n",
    "    orig = mat[rand_rows].clone()\n",
    "    corrupted = mat[rand_rows].clone()\n",
    "    mask_arr = torch.FloatTensor((np.random.rand(orig.shape[0], orig.shape[1]) > p)).to(device)\n",
    "\n",
    "    return orig, corrupted*mask_arr, rand_rows\n",
    "\n",
    "orig, masked, _ = get_random_masked_batch(negative_feedback_mask)"
   ]
  },
  {
   "cell_type": "code",
   "execution_count": null,
   "metadata": {},
   "outputs": [],
   "source": [
    "get_sparsity(orig.cpu().numpy())"
   ]
  },
  {
   "cell_type": "code",
   "execution_count": null,
   "metadata": {},
   "outputs": [],
   "source": [
    "get_sparsity(masked.cpu().numpy())"
   ]
  },
  {
   "cell_type": "code",
   "execution_count": null,
   "metadata": {},
   "outputs": [],
   "source": [
    "P = 0.4\n",
    "mask_arr = torch.FloatTensor((np.random.rand(negative_feedback_mask.shape[0], negative_feedback_mask.shape[1]) > P)).to(device)\n",
    "y = negative_feedback_mask\n",
    "X = negative_feedback_mask*mask_arr"
   ]
  },
  {
   "cell_type": "code",
   "execution_count": null,
   "metadata": {},
   "outputs": [],
   "source": [
    "get_sparsity(X.cpu().numpy()), get_sparsity(y.cpu().numpy())"
   ]
  },
  {
   "cell_type": "code",
   "execution_count": null,
   "metadata": {},
   "outputs": [],
   "source": [
    "losslist = []\n",
    "model.train()\n",
    "def train_den_ae(mat,epochs= 400,steps_per_epoch = 300, _unsqueeze=True):\n",
    "    epochloss = 0\n",
    "    running_loss = 0\n",
    "    steps_per_epoch = 1000\n",
    "\n",
    "    for epoch in range(epochs):\n",
    "\n",
    "        for i in range(steps_per_epoch):\n",
    "            orig, masked, idxs = get_random_batch(y, X, batch_size=batch_size)\n",
    "\n",
    "            if _unsqueeze:\n",
    "                masked = masked.unsqueeze(2)\n",
    "            output = model(masked, idxs)\n",
    "            loss = criterion(output, orig)\n",
    "            \n",
    "            optimizer.zero_grad()\n",
    "            loss.backward()\n",
    "            optimizer.step()\n",
    "\n",
    "            if i%20 == 0:\n",
    "                running_loss += loss.item()\n",
    "                epochloss += loss.item()\n",
    "                losslist.append(loss.item())\n",
    "                running_loss=0\n",
    "                print(\"======> epoch: {}/{}, Loss:{}\".format(epoch,epochs,loss.item()))\n",
    "                \n",
    "train_den_ae(negative_feedback_mask, _unsqueeze=False)"
   ]
  },
  {
   "cell_type": "code",
   "execution_count": null,
   "metadata": {},
   "outputs": [],
   "source": [
    "import matplotlib.pyplot as plt\n",
    "\n",
    "plt.plot(losslist)\n",
    "plt.show()"
   ]
  },
  {
   "cell_type": "code",
   "execution_count": null,
   "metadata": {},
   "outputs": [],
   "source": [
    "orig, masked, _ = get_random_masked_batch(negative_feedback_mask, batch_size=1, p=0.5)"
   ]
  },
  {
   "cell_type": "code",
   "execution_count": null,
   "metadata": {},
   "outputs": [],
   "source": [
    "(orig[0][:400] > 0).sum(), (masked[0][:400] > 0).sum()"
   ]
  },
  {
   "cell_type": "code",
   "execution_count": null,
   "metadata": {},
   "outputs": [],
   "source": [
    "orig[0][:100]"
   ]
  },
  {
   "cell_type": "code",
   "execution_count": null,
   "metadata": {},
   "outputs": [],
   "source": [
    "masked[0][:100]"
   ]
  },
  {
   "cell_type": "code",
   "execution_count": null,
   "metadata": {},
   "outputs": [],
   "source": [
    "model.eval()"
   ]
  },
  {
   "cell_type": "code",
   "execution_count": null,
   "metadata": {},
   "outputs": [],
   "source": [
    "#-----------------Forward Pass----------------------\n",
    "output = model(masked, _)"
   ]
  },
  {
   "cell_type": "code",
   "execution_count": null,
   "metadata": {},
   "outputs": [],
   "source": [
    "(masked[0] >0.8).sum()"
   ]
  },
  {
   "cell_type": "code",
   "execution_count": null,
   "metadata": {},
   "outputs": [],
   "source": [
    "(output[0] >0.2).sum()"
   ]
  },
  {
   "cell_type": "code",
   "execution_count": null,
   "metadata": {},
   "outputs": [],
   "source": [
    "masked[0][0:100]"
   ]
  },
  {
   "cell_type": "code",
   "execution_count": null,
   "metadata": {},
   "outputs": [],
   "source": [
    "output[0][0:100]"
   ]
  },
  {
   "cell_type": "code",
   "execution_count": null,
   "metadata": {},
   "outputs": [],
   "source": [
    "orig, masked, _ = get_random_masked_batch(negative_feedback_mask, batch_size=1)"
   ]
  },
  {
   "cell_type": "code",
   "execution_count": null,
   "metadata": {
    "scrolled": true
   },
   "outputs": [],
   "source": [
    "orig[0][:400]"
   ]
  },
  {
   "cell_type": "code",
   "execution_count": null,
   "metadata": {},
   "outputs": [],
   "source": [
    "masked[0][:400]"
   ]
  },
  {
   "cell_type": "code",
   "execution_count": null,
   "metadata": {},
   "outputs": [],
   "source": [
    "#-----------------Forward Pass----------------------\n",
    "output = model(masked)"
   ]
  },
  {
   "cell_type": "code",
   "execution_count": null,
   "metadata": {},
   "outputs": [],
   "source": [
    "orig[0][:400](orig.round() > 0).sum()"
   ]
  },
  {
   "cell_type": "code",
   "execution_count": null,
   "metadata": {},
   "outputs": [],
   "source": [
    "(masked.round() > 0).sum()"
   ]
  },
  {
   "cell_type": "code",
   "execution_count": null,
   "metadata": {},
   "outputs": [],
   "source": [
    "(output.round() > 0).sum()"
   ]
  },
  {
   "cell_type": "code",
   "execution_count": null,
   "metadata": {},
   "outputs": [],
   "source": [
    "output.round()[0,100:400]"
   ]
  },
  {
   "cell_type": "code",
   "execution_count": null,
   "metadata": {},
   "outputs": [],
   "source": [
    "orig[0,100:400]"
   ]
  },
  {
   "cell_type": "code",
   "execution_count": null,
   "metadata": {},
   "outputs": [],
   "source": [
    "# class conv_denoising_autoencoder(nn.Module):\n",
    "\n",
    "#     def __init__(self, inSize,fSize = 32, nz=24):  #sigma is the corruption level\n",
    "#         super(conv_denoising_autoencoder, self).__init__()\n",
    "#         #define layers here\n",
    "\n",
    "#         self.inp_size = inSize\n",
    "#         self.nz = nz\n",
    "#         self.fSize = 32\n",
    "# #         self.imSize = imSize\n",
    "# #         self.sigma = sigma\n",
    "# #         self.multimodalZ = multimodalZ\n",
    "\n",
    "# #         inSize = imSize / ( 2 ** 4)\n",
    "# #         self.inSize = inSize\n",
    "    \n",
    "#         self.enc1 = nn.Conv1d(self.inp_size, fSize, 5, stride=2, padding=2)\n",
    "#         self.enc2 = nn.Conv1d(fSize, fSize * 2, 5, stride=2, padding=2)\n",
    "#         self.enc3 = nn.Conv1d(fSize * 2, fSize * 4, 5, stride=2, padding=2)\n",
    "#         self.enc4 = nn.Conv1d(fSize * 4, fSize * 8, 5, stride=2, padding=2)\n",
    "#         self.enc5 = nn.Linear(fSize * 8, self.nz)\n",
    "\n",
    "#         self.dec1 = nn.Linear(self.nz, fSize * 8)\n",
    "#         self.dec2 = nn.ConvTranspose1d(fSize * 8, fSize * 4, 3, stride=2, padding=1, output_padding=1)\n",
    "#         self.dec3 = nn.ConvTranspose1d(fSize * 4, fSize * 2, 3, stride=2, padding=1, output_padding=1)\n",
    "#         self.dec4 = nn.ConvTranspose1d(fSize * 2, fSize, 3, stride=2, padding=1, output_padding=1)\n",
    "#         self.dec5 = nn.ConvTranspose1d(fSize, 32, 3, stride=2, padding=1, output_padding=1)\n",
    "#         self.last_dec = nn.Linear(32*16, self.inp_size)\n",
    "        \n",
    "#         self.useCUDA = torch.cuda.is_available()\n",
    "\n",
    "# #     def norm_prior(self, noSamples=25):\n",
    "# #         z = torch.randn(noSamples, self.nz)\n",
    "# #         return z\n",
    "\n",
    "# #     def multi_prior(self, noSamples=25, mode=None):\n",
    "# #         #make a 2D sqrt(nz)-by-sqrt(nz) grid of gaussians\n",
    "# #         num = np.sqrt(self.nz) #no of modes in x and y\n",
    "# #         STD = 1.0\n",
    "# #         modes = np.arange(-num,num)\n",
    "# #         p = np.random.uniform(0, num,(noSamples*2))\n",
    "\n",
    "# #         if mode is None:\n",
    "# #             mu = modes[np.floor(2 * p).astype(int)]\n",
    "# #         else:\n",
    "# #             mu = modes[np.ones((noSamples, 2), dtype=int) * int(mode)]\n",
    "\n",
    "# #         z = torch.Tensor(mu).view(-1,2) + STD * torch.randn(noSamples, 2)\n",
    "# #         return z\n",
    "\n",
    "#     def encode(self, x):\n",
    "#         self.batch_size = x.shape[0]\n",
    "#         #define the encoder here return mu(x) and sigma(x)\n",
    "#         x = F.relu(self.enc1(x))\n",
    "#         x = F.relu(self.enc2(x))\n",
    "#         x = F.relu(self.enc3(x))\n",
    "#         x = F.relu(self.enc4(x))\n",
    "#         x = x.view(x.size(0), -1)\n",
    "#         x = self.enc5(x)\n",
    "\n",
    "#         return x\n",
    "\n",
    "# #     def corrupt(self, x):\n",
    "# #         noise = self.sigma * Variable(torch.randn(x.size())).type_as(x)\n",
    "# #         return x + noise\n",
    "\n",
    "# #     def sample_z(self, noSamples=25, mode=None):\n",
    "# #         if not self.multimodalZ:\n",
    "# #             z = self.norm_prior(noSamples=noSamples)\n",
    "# #         else:\n",
    "# #             z = self.multi_prior(noSamples=noSamples, mode=mode)\n",
    "# #         if self.useCUDA:\n",
    "# #             return Variable(z.cuda())\n",
    "# #         else:\n",
    "# #             return Variable(z)\n",
    "\n",
    "#     def decode(self, z):\n",
    "#         #define the decoder here\n",
    "#         z = F.relu(self.dec1(z))\n",
    "#         z = z.unsqueeze(2)\n",
    "# #         print(z.shape)\n",
    "# #         z = z.view(z.size(0), -1, self.inp_size)\n",
    "#         z = F.relu(self.dec2(z))\n",
    "#         z = F.relu(self.dec3(z))\n",
    "#         z = F.relu(self.dec4(z))\n",
    "#         z = F.sigmoid(self.dec5(z))\n",
    "# #         print(z.shape)\n",
    "# #         z = F.sigmoid(self.last_dec(z.view(self.batch_size, -1)))\n",
    "#         z = F.sigmoid(self.last_dec(z.view(self.batch_size, -1)))\n",
    "    \n",
    "#         return z\n",
    "\n",
    "#     def forward(self, x):\n",
    "#         # the outputs needed for training\n",
    "# #         x_corr = self.corrupt(x)\n",
    "#         z = self.encode(x)\n",
    "#         return self.decode(z)"
   ]
  },
  {
   "cell_type": "code",
   "execution_count": null,
   "metadata": {},
   "outputs": [],
   "source": [
    "model = conv_denoising_autoencoder(train[0,:].shape[0]).to(device)\n",
    "criterion = nn.MSELoss()\n",
    "optimizer = optim.RMSprop(model.parameters(),lr=0.01, weight_decay=1e-5)"
   ]
  },
  {
   "cell_type": "code",
   "execution_count": null,
   "metadata": {},
   "outputs": [],
   "source": [
    "steps_per_epoch = 500\n",
    "train_den_ae(negative_feedback_mask, steps_per_epoch=steps_per_epoch, _unsqueeze=True)"
   ]
  },
  {
   "cell_type": "code",
   "execution_count": null,
   "metadata": {},
   "outputs": [],
   "source": [
    "import matplotlib.pyplot as plt\n",
    "\n",
    "plt.plot(losslist)\n",
    "plt.show()"
   ]
  },
  {
   "cell_type": "code",
   "execution_count": null,
   "metadata": {},
   "outputs": [],
   "source": [
    "orig, masked, _ = get_random_masked_batch(negative_feedback_mask, batch_size=64)"
   ]
  },
  {
   "cell_type": "code",
   "execution_count": null,
   "metadata": {},
   "outputs": [],
   "source": [
    "(orig[0][:400] > 0).sum(), (masked[0][:400] > 0).sum()"
   ]
  },
  {
   "cell_type": "code",
   "execution_count": null,
   "metadata": {},
   "outputs": [],
   "source": [
    "orig[0][:400]"
   ]
  },
  {
   "cell_type": "code",
   "execution_count": null,
   "metadata": {},
   "outputs": [],
   "source": [
    "masked[0][:400]"
   ]
  },
  {
   "cell_type": "code",
   "execution_count": null,
   "metadata": {},
   "outputs": [],
   "source": [
    "#-----------------Forward Pass----------------------\n",
    "output = model(masked.unsqueeze(2))"
   ]
  },
  {
   "cell_type": "code",
   "execution_count": null,
   "metadata": {},
   "outputs": [],
   "source": [
    "output.shape"
   ]
  },
  {
   "cell_type": "code",
   "execution_count": null,
   "metadata": {},
   "outputs": [],
   "source": [
    "((output[7]).round() >0).sum()"
   ]
  },
  {
   "cell_type": "code",
   "execution_count": null,
   "metadata": {},
   "outputs": [],
   "source": [
    "for i in range(output.shape[0]):\n",
    "    print(((output[i]).round() >0).sum())"
   ]
  },
  {
   "cell_type": "code",
   "execution_count": null,
   "metadata": {},
   "outputs": [],
   "source": [
    "((output).round() >= 1 ).sum()"
   ]
  },
  {
   "cell_type": "code",
   "execution_count": null,
   "metadata": {},
   "outputs": [],
   "source": [
    "(output).round()[0][2000:3000]"
   ]
  },
  {
   "cell_type": "code",
   "execution_count": null,
   "metadata": {},
   "outputs": [],
   "source": [
    "(output > 0.5).sum()"
   ]
  },
  {
   "cell_type": "code",
   "execution_count": null,
   "metadata": {},
   "outputs": [],
   "source": [
    "!git clone https://github.com/gtshs2/Collaborative-Denoising-Auto-Encoder"
   ]
  },
  {
   "cell_type": "code",
   "execution_count": null,
   "metadata": {},
   "outputs": [],
   "source": [
    "((tr + vr) > 0).sum()"
   ]
  },
  {
   "cell_type": "code",
   "execution_count": null,
   "metadata": {},
   "outputs": [],
   "source": []
  },
  {
   "cell_type": "code",
   "execution_count": null,
   "metadata": {},
   "outputs": [],
   "source": []
  },
  {
   "cell_type": "code",
   "execution_count": null,
   "metadata": {},
   "outputs": [],
   "source": []
  },
  {
   "cell_type": "code",
   "execution_count": null,
   "metadata": {},
   "outputs": [],
   "source": [
    "from keras.optimizers import Adam\n",
    "from keras.layers import Input, Dense, Dropout\n",
    "from keras.models import Model\n",
    "from keras import regularizers\n",
    "\n",
    "def autoEncoder(X):\n",
    "    '''\n",
    "    Autoencoder for Collaborative Filter Model\n",
    "    '''\n",
    "\n",
    "    # Input\n",
    "    input_layer = Input(shape=(X.shape[1],), name='UserScore')\n",
    "    \n",
    "    # Encoder\n",
    "    # -----------------------------\n",
    "    enc = Dense(512, activation='selu', name='EncLayer1', kernel_regularizer=regularizers.l2(0.000001))(input_layer)\n",
    "\n",
    "    # Latent Space\n",
    "    # -----------------------------\n",
    "    lat_space = Dense(512, activation='selu', name='LatentSpace', kernel_regularizer=regularizers.l2(0.000001))(enc)\n",
    "    lat_space = Dropout(0.5, name='Dropout')(lat_space) # Dropout\n",
    "\n",
    "    # Decoder\n",
    "    # -----------------------------\n",
    "    dec = Dense(512, activation='selu', name='DecLayer1', kernel_regularizer=regularizers.l2(0.000001))(lat_space)\n",
    "\n",
    "    # Output\n",
    "    output_layer = Dense(X.shape[1], activation='linear', name='UserScorePred', kernel_regularizer=regularizers.l2(0.000001))(dec)\n",
    "\n",
    "    # this model maps an input to its reconstruction\n",
    "    model = Model(input_layer, output_layer)    \n",
    "    \n",
    "    return model"
   ]
  },
  {
   "cell_type": "code",
   "execution_count": null,
   "metadata": {},
   "outputs": [],
   "source": [
    "mask_arr = torch.FloatTensor((np.random.rand(negative_feedback_mask.shape[0], negative_feedback_mask.shape[1]) > 0.4)).to(device)"
   ]
  },
  {
   "cell_type": "code",
   "execution_count": null,
   "metadata": {},
   "outputs": [],
   "source": [
    "mask_arr = torch.FloatTensor((np.random.rand(negative_feedback_mask.shape[0], negative_feedback_mask.shape[1]) > 0.4)).to(device)\n",
    "y = negative_feedback_mask.cpu().numpy()\n",
    "X = (negative_feedback_mask*mask_arr).cpu().numpy()"
   ]
  },
  {
   "cell_type": "code",
   "execution_count": null,
   "metadata": {},
   "outputs": [],
   "source": [
    "get_sparsity(y), get_sparsity(X)"
   ]
  },
  {
   "cell_type": "code",
   "execution_count": null,
   "metadata": {},
   "outputs": [],
   "source": [
    "model = autoEncoder(X)\n",
    "\n",
    "model.compile(optimizer = Adam(lr=0.0001), loss='mse')\n",
    "    \n",
    "model.summary()"
   ]
  },
  {
   "cell_type": "code",
   "execution_count": null,
   "metadata": {},
   "outputs": [],
   "source": [
    "hist = model.fit(x=X, y=y,\n",
    "                  epochs=300,\n",
    "                  batch_size=128,\n",
    "                  shuffle=True,\n",
    "                  validation_split=0.0)"
   ]
  },
  {
   "cell_type": "code",
   "execution_count": null,
   "metadata": {},
   "outputs": [],
   "source": [
    "def plot_hist(hist):\n",
    "    # summarize history for loss\n",
    "    fig, ax = plt.subplots()  # create figure & 1 axis\n",
    "\n",
    "    plt.title('model loss')\n",
    "    plt.ylabel('loss')\n",
    "    plt.xlabel('epoch')\n",
    "    plt.legend(['train', 'test'], loc='upper left')\n",
    "\n",
    "    plt.plot(hist.history['loss'])\n",
    "    #plt.plot(hist.history['val_loss'])\n",
    "\n",
    "plot_hist(hist)"
   ]
  },
  {
   "cell_type": "code",
   "execution_count": null,
   "metadata": {},
   "outputs": [],
   "source": [
    "\n",
    "# Predict new Matrix Interactions, set score zero on visualized games\n",
    "# new_matrix = model.predict(X) * (X == 0)\n",
    "new_matrix = model.predict(X)"
   ]
  },
  {
   "cell_type": "code",
   "execution_count": null,
   "metadata": {},
   "outputs": [],
   "source": [
    "# # converting the reconstructed matrix back to a Pandas dataframe\n",
    "# new_users_items_matrix_df  = pd.DataFrame(new_matrix, \n",
    "#                                           columns = users_items_matrix_df.columns, \n",
    "#                                           index   = users_items_matrix_df.index)\n",
    "# new_users_items_matrix_df.head()\n",
    "\n",
    "new_matrix"
   ]
  },
  {
   "cell_type": "code",
   "execution_count": null,
   "metadata": {},
   "outputs": [],
   "source": [
    "torch.set_printoptions(precision=3)"
   ]
  },
  {
   "cell_type": "code",
   "execution_count": null,
   "metadata": {},
   "outputs": [],
   "source": [
    "np.set_printoptions(precision=3)"
   ]
  },
  {
   "cell_type": "code",
   "execution_count": null,
   "metadata": {},
   "outputs": [],
   "source": [
    "(new_matrix>0.4).sum() # predicted"
   ]
  },
  {
   "cell_type": "code",
   "execution_count": null,
   "metadata": {},
   "outputs": [],
   "source": [
    "(X>0.5).sum() # trained on"
   ]
  },
  {
   "cell_type": "code",
   "execution_count": null,
   "metadata": {},
   "outputs": [],
   "source": [
    "(y > 0.99).sum() # actual"
   ]
  },
  {
   "cell_type": "code",
   "execution_count": null,
   "metadata": {},
   "outputs": [],
   "source": [
    "(y * (new_matrix>0.4) == 1).sum()/(new_matrix>0.4).sum() # accuracy on actual "
   ]
  },
  {
   "cell_type": "code",
   "execution_count": null,
   "metadata": {},
   "outputs": [],
   "source": [
    "(y * (new_matrix>0.5)).sum()/((new_matrix>0.5).sum())"
   ]
  },
  {
   "cell_type": "code",
   "execution_count": null,
   "metadata": {},
   "outputs": [],
   "source": [
    "(y * (new_matrix>0.5)).sum()/((new_matrix>0.5).sum())"
   ]
  },
  {
   "cell_type": "code",
   "execution_count": null,
   "metadata": {},
   "outputs": [],
   "source": [
    "((y * (((new_matrix>0.8)  * (X<0.5)))) == 1).sum()/(((new_matrix>0.8)  * (X<0.5))).sum()"
   ]
  },
  {
   "cell_type": "code",
   "execution_count": null,
   "metadata": {},
   "outputs": [],
   "source": [
    "new_matrix_2 = model.predict(y)"
   ]
  },
  {
   "cell_type": "code",
   "execution_count": null,
   "metadata": {},
   "outputs": [],
   "source": [
    "(new_matrix_2>0.5).sum()"
   ]
  },
  {
   "cell_type": "code",
   "execution_count": null,
   "metadata": {},
   "outputs": [],
   "source": [
    "((y* (((new_matrix_2>0.5)) == 1))).sum()/(((new_matrix_2>0.5)).sum())"
   ]
  },
  {
   "cell_type": "code",
   "execution_count": null,
   "metadata": {},
   "outputs": [],
   "source": [
    "np.set_printoptions(suppress=True)\n",
    "np.set_printoptions(precision=1)\n",
    "new_matrix[:20, :20]"
   ]
  },
  {
   "cell_type": "code",
   "execution_count": null,
   "metadata": {},
   "outputs": [],
   "source": [
    "y[:20, :20]"
   ]
  },
  {
   "cell_type": "code",
   "execution_count": null,
   "metadata": {},
   "outputs": [],
   "source": [
    "(new_matrix_2>0.3).sum()"
   ]
  },
  {
   "cell_type": "code",
   "execution_count": null,
   "metadata": {},
   "outputs": [],
   "source": [
    "(new_matrix>0.5).sum()"
   ]
  },
  {
   "cell_type": "code",
   "execution_count": null,
   "metadata": {},
   "outputs": [],
   "source": [
    "(new_matrix_2 > 0.3).sum()"
   ]
  },
  {
   "cell_type": "code",
   "execution_count": null,
   "metadata": {},
   "outputs": [],
   "source": [
    "(y > 0.5).sum()"
   ]
  },
  {
   "cell_type": "code",
   "execution_count": null,
   "metadata": {},
   "outputs": [],
   "source": [
    "threshold = 0.4"
   ]
  },
  {
   "cell_type": "code",
   "execution_count": null,
   "metadata": {},
   "outputs": [],
   "source": [
    "((new_matrix_2 > threshold).astype(float) * (train > 0).cpu().numpy().astype(float)).sum()"
   ]
  },
  {
   "cell_type": "code",
   "execution_count": null,
   "metadata": {},
   "outputs": [],
   "source": [
    "((new_matrix_2 > threshold).astype(float) * (train == 0).cpu().numpy().astype(float)).sum() # new values"
   ]
  },
  {
   "cell_type": "code",
   "execution_count": null,
   "metadata": {},
   "outputs": [],
   "source": [
    "delta = 3 # delta could be 1,2,3"
   ]
  },
  {
   "cell_type": "code",
   "execution_count": null,
   "metadata": {},
   "outputs": [],
   "source": [
    "(((train > 0).cpu().numpy().astype(float) > 0) *(new_matrix_2 > threshold).astype(float) * (train == 0).cpu().numpy().astype(float)).sum() # checking"
   ]
  },
  {
   "cell_type": "code",
   "execution_count": null,
   "metadata": {},
   "outputs": [],
   "source": [
    "augmented_train = train.cpu().numpy().astype(float) + delta * (new_matrix_2 > threshold).astype(float) * (train == 0).cpu().numpy().astype(float)"
   ]
  },
  {
   "cell_type": "code",
   "execution_count": null,
   "metadata": {},
   "outputs": [],
   "source": [
    "get_sparsity(train.cpu().numpy())"
   ]
  },
  {
   "cell_type": "code",
   "execution_count": null,
   "metadata": {},
   "outputs": [],
   "source": [
    "get_sparsity(augmented_train)"
   ]
  },
  {
   "cell_type": "code",
   "execution_count": null,
   "metadata": {},
   "outputs": [],
   "source": [
    "p_probs = [(train == 1).sum().item()/((train > 0) & (train < 4)).sum().item(), (train == 2).sum().item()/(((train > 0) & (train < 4))).sum().item(), (train == 3).sum().item()/((train > 0) & (train < 4)).sum().item()]\n",
    "p_probs"
   ]
  },
  {
   "cell_type": "code",
   "execution_count": null,
   "metadata": {},
   "outputs": [],
   "source": [
    "(train == 1).sum().item()/((train > 0) & (train < 4)).sum().item() + (train == 2).sum().item()/(((train > 0) & (train < 4))).sum().item() + (train == 3).sum().item()/((train > 0) & (train < 4)).sum().item()"
   ]
  },
  {
   "cell_type": "code",
   "execution_count": null,
   "metadata": {},
   "outputs": [],
   "source": [
    "np.random.randint(1,4, 10)"
   ]
  },
  {
   "cell_type": "code",
   "execution_count": null,
   "metadata": {},
   "outputs": [],
   "source": [
    "del augmented_train"
   ]
  },
  {
   "cell_type": "code",
   "execution_count": null,
   "metadata": {},
   "outputs": [],
   "source": [
    "np.random.choice(np.arange(1, 4), train.shape, p=p_probs)"
   ]
  },
  {
   "cell_type": "code",
   "execution_count": null,
   "metadata": {},
   "outputs": [],
   "source": [
    "((train > 0).cpu().numpy().astype(float)  * (new_matrix_2 > threshold).astype(float) * (train == 0).cpu().numpy().astype(float)*np.random.choice(np.arange(1, 4), train.shape, p=p_probs)).sum() # should be zero"
   ]
  },
  {
   "cell_type": "code",
   "execution_count": null,
   "metadata": {},
   "outputs": [],
   "source": [
    "aug_train = train.cpu().numpy().astype(float) + (new_matrix_2 > threshold).astype(float) * (train == 0).cpu().numpy().astype(float)*np.random.choice(np.arange(1, 4), train.shape, p=p_probs)"
   ]
  },
  {
   "cell_type": "code",
   "execution_count": null,
   "metadata": {},
   "outputs": [],
   "source": [
    "(aug_train > 0).sum()"
   ]
  },
  {
   "cell_type": "code",
   "execution_count": null,
   "metadata": {},
   "outputs": [],
   "source": [
    "get_sparsity(aug_train)"
   ]
  },
  {
   "cell_type": "code",
   "execution_count": null,
   "metadata": {},
   "outputs": [],
   "source": []
  }
 ],
 "metadata": {
  "kernelspec": {
   "display_name": "Python 3",
   "language": "python",
   "name": "python3"
  },
  "language_info": {
   "codemirror_mode": {
    "name": "ipython",
    "version": 3
   },
   "file_extension": ".py",
   "mimetype": "text/x-python",
   "name": "python",
   "nbconvert_exporter": "python",
   "pygments_lexer": "ipython3",
   "version": "3.7.3"
  }
 },
 "nbformat": 4,
 "nbformat_minor": 2
}
