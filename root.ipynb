{
 "cells": [
  {
   "cell_type": "code",
   "execution_count": null,
   "metadata": {},
   "outputs": [],
   "source": [
    "!pip install nbimporter"
   ]
  },
  {
   "cell_type": "code",
   "execution_count": 1,
   "metadata": {},
   "outputs": [],
   "source": [
    "import numpy as np\n",
    "import os\n",
    "import torch\n",
    "import torch.nn as nn\n",
    "import torch.nn.functional as F\n",
    "import torch.optim as optim\n",
    "# import torch.nn.init as init\n",
    "from torch.autograd import Variable\n",
    "from dataLoader import loadData\n",
    "from tensorflow import keras"
   ]
  },
  {
   "cell_type": "code",
   "execution_count": 2,
   "metadata": {},
   "outputs": [],
   "source": [
    "# # Downloading Movielens-1m\n",
    "# !curl -O http://files.grouplens.org/datasets/movielens/ml-1m.zip\n",
    "# #     http://www.grouplens.org/system/files/ml-1m.zip\n",
    "# !unzip ml-1m.zip\n",
    "# !cd ml-1m/"
   ]
  },
  {
   "cell_type": "code",
   "execution_count": 3,
   "metadata": {},
   "outputs": [],
   "source": [
    "# import zipfile\n",
    "# with zipfile.ZipFile('ml-1m.zip', 'r') as zip_ref:\n",
    "#     zip_ref.extractall('./')"
   ]
  },
  {
   "cell_type": "code",
   "execution_count": 4,
   "metadata": {},
   "outputs": [],
   "source": [
    "seed = 47\n",
    "np.random.seed(seed)"
   ]
  },
  {
   "cell_type": "code",
   "execution_count": 5,
   "metadata": {},
   "outputs": [
    {
     "name": "stdout",
     "output_type": "stream",
     "text": [
      "reading data...\n",
      "data read in 5.028218030929565 seconds\n",
      "loaded dense data matrix\n"
     ]
    }
   ],
   "source": [
    "# load data\n",
    "tr, vr = loadData('./ml-1m/ratings.dat', delimiter='::', seed=seed, transpose=False, valfrac=0.1)"
   ]
  },
  {
   "cell_type": "code",
   "execution_count": 6,
   "metadata": {},
   "outputs": [],
   "source": [
    "np.save('./tr_movielens_1m', tr)\n",
    "np.save('./vr_movielens_1m', vr)"
   ]
  },
  {
   "cell_type": "code",
   "execution_count": 7,
   "metadata": {},
   "outputs": [
    {
     "data": {
      "text/plain": [
       "array([[5., 0., 0., ..., 0., 0., 0.],\n",
       "       [0., 0., 0., ..., 0., 0., 0.],\n",
       "       [0., 0., 0., ..., 0., 0., 0.],\n",
       "       ...,\n",
       "       [0., 0., 0., ..., 0., 0., 0.],\n",
       "       [0., 0., 0., ..., 0., 0., 0.],\n",
       "       [3., 0., 0., ..., 0., 0., 0.]], dtype=float32)"
      ]
     },
     "execution_count": 7,
     "metadata": {},
     "output_type": "execute_result"
    }
   ],
   "source": [
    "tr"
   ]
  },
  {
   "cell_type": "code",
   "execution_count": 8,
   "metadata": {},
   "outputs": [
    {
     "data": {
      "text/plain": [
       "array([[0., 0., 0., ..., 0., 0., 0.],\n",
       "       [0., 0., 0., ..., 0., 0., 0.],\n",
       "       [0., 0., 0., ..., 0., 0., 0.],\n",
       "       ...,\n",
       "       [0., 0., 0., ..., 0., 0., 0.],\n",
       "       [0., 0., 0., ..., 0., 0., 0.],\n",
       "       [0., 0., 0., ..., 0., 0., 0.]], dtype=float32)"
      ]
     },
     "execution_count": 8,
     "metadata": {},
     "output_type": "execute_result"
    }
   ],
   "source": [
    "vr"
   ]
  },
  {
   "cell_type": "code",
   "execution_count": 9,
   "metadata": {},
   "outputs": [],
   "source": [
    "def get_sparsity(mat):\n",
    "    sparsity = float(len(mat.nonzero()[0]))\n",
    "    sparsity /= (mat.shape[0] * mat.shape[1])\n",
    "    sparsity *= 100\n",
    "    return sparsity"
   ]
  },
  {
   "cell_type": "code",
   "execution_count": 10,
   "metadata": {},
   "outputs": [
    {
     "data": {
      "text/plain": [
       "4.021525859265269"
      ]
     },
     "execution_count": 10,
     "metadata": {},
     "output_type": "execute_result"
    }
   ],
   "source": [
    "get_sparsity(tr)"
   ]
  },
  {
   "cell_type": "code",
   "execution_count": 11,
   "metadata": {},
   "outputs": [
    {
     "data": {
      "text/plain": [
       "0.44683670296601535"
      ]
     },
     "execution_count": 11,
     "metadata": {},
     "output_type": "execute_result"
    }
   ],
   "source": [
    "get_sparsity(vr)"
   ]
  },
  {
   "cell_type": "code",
   "execution_count": 12,
   "metadata": {},
   "outputs": [],
   "source": [
    "train = tr.copy()"
   ]
  },
  {
   "cell_type": "code",
   "execution_count": 13,
   "metadata": {},
   "outputs": [],
   "source": [
    "if torch.cuda.is_available() == True:\n",
    "    device = \"cuda\"\n",
    "else:\n",
    "    device = \"cpu\""
   ]
  },
  {
   "cell_type": "markdown",
   "metadata": {},
   "source": [
    "# Training Denoising Autoencoder"
   ]
  },
  {
   "cell_type": "code",
   "execution_count": 14,
   "metadata": {},
   "outputs": [
    {
     "name": "stderr",
     "output_type": "stream",
     "text": [
      "Using TensorFlow backend.\n"
     ]
    }
   ],
   "source": [
    "############## Pytorch model doesn't converge - to do - check #################\n",
    "\n",
    "from keras.optimizers import Adam\n",
    "from keras.layers import Input, Dense, Dropout\n",
    "from keras.models import Model\n",
    "from keras import regularizers\n",
    "\n",
    "def autoEncoder(X):\n",
    "    '''\n",
    "    Autoencoder for Collaborative Filter Model\n",
    "    '''\n",
    "\n",
    "    # Input\n",
    "    input_layer = Input(shape=(X.shape[1],), name='UserScore')\n",
    "    \n",
    "    # Encoder\n",
    "    # -----------------------------\n",
    "    enc = Dense(512, activation='selu', name='EncLayer1', kernel_regularizer=regularizers.l2(0.000001))(input_layer)\n",
    "\n",
    "    # Latent Space\n",
    "    # -----------------------------\n",
    "    lat_space = Dense(512, activation='selu', name='LatentSpace', kernel_regularizer=regularizers.l2(0.000001))(enc)\n",
    "    lat_space = Dropout(0.5, name='Dropout')(lat_space) # Dropout\n",
    "\n",
    "    # Decoder\n",
    "    # -----------------------------\n",
    "    dec = Dense(512, activation='selu', name='DecLayer1', kernel_regularizer=regularizers.l2(0.000001))(lat_space)\n",
    "\n",
    "    # Output\n",
    "    output_layer = Dense(X.shape[1], activation='linear', name='UserScorePred', kernel_regularizer=regularizers.l2(0.000001))(dec)\n",
    "\n",
    "    # this model maps an input to its reconstruction\n",
    "    model = Model(input_layer, output_layer)    \n",
    "    \n",
    "    return model"
   ]
  },
  {
   "cell_type": "code",
   "execution_count": 15,
   "metadata": {},
   "outputs": [],
   "source": [
    "zero_mask = (train == 0)\n",
    "positive_feedback_mask = (train > 3)\n",
    "negative_feedback_mask = ((train < 4) * (1 - zero_mask))"
   ]
  },
  {
   "cell_type": "code",
   "execution_count": 16,
   "metadata": {},
   "outputs": [],
   "source": [
    "assert (positive_feedback_mask + negative_feedback_mask != zero_mask).all()\n",
    "assert (positive_feedback_mask + negative_feedback_mask == 1 - zero_mask).all()"
   ]
  },
  {
   "cell_type": "code",
   "execution_count": 17,
   "metadata": {},
   "outputs": [
    {
     "data": {
      "text/plain": [
       "(95.97847414073473, 2.3124349989099473, 1.7090908603553212)"
      ]
     },
     "execution_count": 17,
     "metadata": {},
     "output_type": "execute_result"
    }
   ],
   "source": [
    "get_sparsity(zero_mask), get_sparsity(positive_feedback_mask), get_sparsity(negative_feedback_mask)"
   ]
  },
  {
   "cell_type": "code",
   "execution_count": 18,
   "metadata": {},
   "outputs": [
    {
     "data": {
      "text/plain": [
       "(4.021525859265267, 2.3124349989099473, 1.7090908603553212, 4.021525859265268)"
      ]
     },
     "execution_count": 18,
     "metadata": {},
     "output_type": "execute_result"
    }
   ],
   "source": [
    "100 - get_sparsity(zero_mask), get_sparsity(positive_feedback_mask), get_sparsity(negative_feedback_mask), get_sparsity(positive_feedback_mask) + get_sparsity(negative_feedback_mask)"
   ]
  },
  {
   "cell_type": "code",
   "execution_count": 19,
   "metadata": {},
   "outputs": [],
   "source": [
    "P = 0.4\n",
    "mask_arr_neg = (np.random.rand(negative_feedback_mask.shape[0], negative_feedback_mask.shape[1]) > P)\n",
    "y_neg = negative_feedback_mask\n",
    "X_neg = negative_feedback_mask*mask_arr_neg # corrupting "
   ]
  },
  {
   "cell_type": "code",
   "execution_count": 20,
   "metadata": {},
   "outputs": [],
   "source": [
    "mask_arr_pos = (np.random.rand(positive_feedback_mask.shape[0], positive_feedback_mask.shape[1]) > P)\n",
    "y_pos = positive_feedback_mask\n",
    "X_pos = positive_feedback_mask*mask_arr_pos # corrupting "
   ]
  },
  {
   "cell_type": "code",
   "execution_count": 21,
   "metadata": {},
   "outputs": [],
   "source": [
    "corrupted_tr = (mask_arr_neg*(tr>0)).astype(int)"
   ]
  },
  {
   "cell_type": "code",
   "execution_count": 22,
   "metadata": {},
   "outputs": [
    {
     "data": {
      "text/plain": [
       "(4.021525859265269,\n",
       " 1.026195215919772,\n",
       " 1.7090908603553212,\n",
       " 1.3870741200058612,\n",
       " 2.3124349989099473,\n",
       " 2.4134703702247653)"
      ]
     },
     "execution_count": 22,
     "metadata": {},
     "output_type": "execute_result"
    }
   ],
   "source": [
    "get_sparsity(tr), get_sparsity(X_neg), get_sparsity(y_neg), get_sparsity(X_pos), get_sparsity(y_pos), get_sparsity(corrupted_tr)"
   ]
  },
  {
   "cell_type": "code",
   "execution_count": 23,
   "metadata": {},
   "outputs": [],
   "source": [
    "model_neg = autoEncoder(X_neg)\n",
    "model_neg.compile(optimizer = Adam(lr=0.0001), loss='mse')\n",
    "\n",
    "model_pos = autoEncoder(X_pos)\n",
    "model_pos.compile(optimizer = Adam(lr=0.0001), loss='mse')"
   ]
  },
  {
   "cell_type": "code",
   "execution_count": 24,
   "metadata": {},
   "outputs": [],
   "source": [
    "model_neg = keras.models.load_model('./model_neg')\n",
    "model_pos = keras.models.load_model('./model_pos')"
   ]
  },
  {
   "cell_type": "code",
   "execution_count": 25,
   "metadata": {},
   "outputs": [
    {
     "name": "stdout",
     "output_type": "stream",
     "text": [
      "Model: \"model_1\"\n",
      "_________________________________________________________________\n",
      "Layer (type)                 Output Shape              Param #   \n",
      "=================================================================\n",
      "UserScore (InputLayer)       [(None, 3706)]            0         \n",
      "_________________________________________________________________\n",
      "EncLayer1 (Dense)            (None, 512)               1897984   \n",
      "_________________________________________________________________\n",
      "LatentSpace (Dense)          (None, 512)               262656    \n",
      "_________________________________________________________________\n",
      "Dropout (Dropout)            (None, 512)               0         \n",
      "_________________________________________________________________\n",
      "DecLayer1 (Dense)            (None, 512)               262656    \n",
      "_________________________________________________________________\n",
      "UserScorePred (Dense)        (None, 3706)              1901178   \n",
      "=================================================================\n",
      "Total params: 4,324,474\n",
      "Trainable params: 4,324,474\n",
      "Non-trainable params: 0\n",
      "_________________________________________________________________\n"
     ]
    }
   ],
   "source": [
    "model_neg.summary()"
   ]
  },
  {
   "cell_type": "code",
   "execution_count": null,
   "metadata": {},
   "outputs": [],
   "source": [
    "# predicted_tr = np.load('predicted_tr.npy')\n",
    "# augmented_train = np.load('augmented_train.npy')"
   ]
  },
  {
   "cell_type": "code",
   "execution_count": null,
   "metadata": {},
   "outputs": [],
   "source": [
    "hist_neg = model_neg.fit(x=X_neg, y=y_neg,\n",
    "                  epochs=300,\n",
    "                  batch_size=128,\n",
    "                  shuffle=True,\n",
    "# augmented_train = np.load('augmented_train.npy')\n",
    "                  validation_split=0.0)"
   ]
  },
  {
   "cell_type": "code",
   "execution_count": null,
   "metadata": {},
   "outputs": [],
   "source": [
    "hist_pos = model_pos.fit(x=X_pos, y=y_pos,\n",
    "                  epochs=300,\n",
    "                  batch_size=128,\n",
    "                  shuffle=True,\n",
    "                  validation_split=0.0)"
   ]
  },
  {
   "cell_type": "code",
   "execution_count": null,
   "metadata": {},
   "outputs": [],
   "source": [
    "import matplotlib.pyplot as plt \n",
    "\n",
    "def plot_hist(hist):\n",
    "    # summarize history for loss\n",
    "    fig, ax = plt.subplots()  # create figure & 1 axis\n",
    "\n",
    "    plt.title('model loss')\n",
    "    plt.ylabel('loss')\n",
    "    plt.xlabel('epoch')\n",
    "    plt.legend(['train', 'test'], loc='upper left')\n",
    "\n",
    "    plt.plot(hist.history['loss'])\n",
    "    #plt.plot(hist.history['val_loss'])"
   ]
  },
  {
   "cell_type": "code",
   "execution_count": null,
   "metadata": {},
   "outputs": [],
   "source": [
    "plot_hist(hist_neg)"
   ]
  },
  {
   "cell_type": "code",
   "execution_count": null,
   "metadata": {},
   "outputs": [],
   "source": [
    "plot_hist(hist_pos)"
   ]
  },
  {
   "cell_type": "code",
   "execution_count": null,
   "metadata": {},
   "outputs": [],
   "source": [
    "model_neg.save('./model_neg')\n",
    "model_pos.save('./model_pos')"
   ]
  },
  {
   "cell_type": "code",
   "execution_count": 26,
   "metadata": {},
   "outputs": [],
   "source": [
    "np.set_printoptions(precision=3)\n",
    "predicted_neg = model_neg.predict(X_neg)\n",
    "predicted_pos = model_pos.predict(X_pos)"
   ]
  },
  {
   "cell_type": "code",
   "execution_count": 27,
   "metadata": {},
   "outputs": [
    {
     "data": {
      "text/plain": [
       "(170143, 382567)"
      ]
     },
     "execution_count": 27,
     "metadata": {},
     "output_type": "execute_result"
    }
   ],
   "source": [
    "(predicted_neg > 0.4).sum(), (y_neg == 1).sum() # predicted vs real"
   ]
  },
  {
   "cell_type": "code",
   "execution_count": 28,
   "metadata": {},
   "outputs": [
    {
     "data": {
      "text/plain": [
       "(115775, 214496)"
      ]
     },
     "execution_count": 28,
     "metadata": {},
     "output_type": "execute_result"
    }
   ],
   "source": [
    "(predicted_neg>0.5).sum(), (predicted_pos>0.5).sum() # trained on"
   ]
  },
  {
   "cell_type": "code",
   "execution_count": 29,
   "metadata": {},
   "outputs": [
    {
     "name": "stdout",
     "output_type": "stream",
     "text": [
      "0.9528337927508037\n",
      "0.9187441580985445\n"
     ]
    }
   ],
   "source": [
    "print((y_neg * (predicted_neg>0.4)).sum()/(predicted_neg>0.4).sum()) # accuracy on actual \n",
    "print((y_pos * (predicted_pos>0.4)).sum()/(predicted_pos>0.4).sum())"
   ]
  },
  {
   "cell_type": "code",
   "execution_count": 30,
   "metadata": {},
   "outputs": [
    {
     "name": "stdout",
     "output_type": "stream",
     "text": [
      "0.004936043939484681\n",
      "0.016499070751005707\n"
     ]
    }
   ],
   "source": [
    "print((y_pos * (predicted_neg>0.4)).sum()/(y_pos>0.4).sum()) # just to see that it's a low number\n",
    "print((y_neg * (predicted_pos>0.4)).sum()/(y_neg>0.4).sum())"
   ]
  },
  {
   "cell_type": "code",
   "execution_count": 31,
   "metadata": {},
   "outputs": [
    {
     "data": {
      "text/plain": [
       "0.9862405527963722"
      ]
     },
     "execution_count": 31,
     "metadata": {},
     "output_type": "execute_result"
    }
   ],
   "source": [
    "(y_neg * (predicted_neg>0.5)).sum()/((predicted_neg>0.5).sum())"
   ]
  },
  {
   "cell_type": "code",
   "execution_count": 32,
   "metadata": {},
   "outputs": [
    {
     "data": {
      "text/plain": [
       "0.9698642398925854"
      ]
     },
     "execution_count": 32,
     "metadata": {},
     "output_type": "execute_result"
    }
   ],
   "source": [
    "(y_pos * (predicted_pos>0.5)).sum()/((predicted_pos>0.5).sum())"
   ]
  },
  {
   "cell_type": "code",
   "execution_count": 33,
   "metadata": {},
   "outputs": [
    {
     "data": {
      "text/plain": [
       "39637"
      ]
     },
     "execution_count": 33,
     "metadata": {},
     "output_type": "execute_result"
    }
   ],
   "source": [
    "((predicted_neg>0.5)  * (X_neg<0.5)).sum() # predicted values which were not in the train matrix"
   ]
  },
  {
   "cell_type": "code",
   "execution_count": 34,
   "metadata": {},
   "outputs": [
    {
     "data": {
      "text/plain": [
       "69892"
      ]
     },
     "execution_count": 34,
     "metadata": {},
     "output_type": "execute_result"
    }
   ],
   "source": [
    "((predicted_pos>0.5)  * (X_pos<0.5)).sum() # predicted values which were not in the train matrix"
   ]
  },
  {
   "cell_type": "code",
   "execution_count": 35,
   "metadata": {},
   "outputs": [
    {
     "data": {
      "text/plain": [
       "0.9598102782753488"
      ]
     },
     "execution_count": 35,
     "metadata": {},
     "output_type": "execute_result"
    }
   ],
   "source": [
    "((y_neg * (((predicted_neg>0.5)  * (X_neg<0.5)))) == 1).sum()/(((predicted_neg>0.5)  * (X_neg<0.5))).sum()"
   ]
  },
  {
   "cell_type": "code",
   "execution_count": 36,
   "metadata": {},
   "outputs": [
    {
     "data": {
      "text/plain": [
       "0.9075144508670521"
      ]
     },
     "execution_count": 36,
     "metadata": {},
     "output_type": "execute_result"
    }
   ],
   "source": [
    "((y_pos * (((predicted_pos>0.5)  * (X_pos<0.5)))) == 1).sum()/(((predicted_pos>0.5)  * (X_pos<0.5))).sum()"
   ]
  },
  {
   "cell_type": "code",
   "execution_count": 37,
   "metadata": {},
   "outputs": [],
   "source": [
    "to_add_negative = model_neg.predict(y_neg)\n",
    "to_add_positive = model_neg.predict(y_pos)"
   ]
  },
  {
   "cell_type": "code",
   "execution_count": 38,
   "metadata": {},
   "outputs": [
    {
     "data": {
      "text/plain": [
       "(207742, 234140)"
      ]
     },
     "execution_count": 38,
     "metadata": {},
     "output_type": "execute_result"
    }
   ],
   "source": [
    "(to_add_negative>0.5).sum(), (to_add_positive>0.5).sum()"
   ]
  },
  {
   "cell_type": "code",
   "execution_count": 39,
   "metadata": {},
   "outputs": [
    {
     "data": {
      "text/plain": [
       "(0.9874735206891682, 0.9078462031914041)"
      ]
     },
     "execution_count": 39,
     "metadata": {},
     "output_type": "execute_result"
    }
   ],
   "source": [
    "(y_neg* (to_add_negative>0.8)).sum()/(((to_add_negative>0.8)).sum()), (y_pos* (to_add_positive>0.8)).sum()/(((to_add_positive>0.8)).sum())"
   ]
  },
  {
   "cell_type": "code",
   "execution_count": 40,
   "metadata": {},
   "outputs": [],
   "source": [
    "# to keep the balance\n",
    "threshold_neg = 0.2\n",
    "threshold_pos = 0.3 "
   ]
  },
  {
   "cell_type": "code",
   "execution_count": 41,
   "metadata": {},
   "outputs": [
    {
     "data": {
      "text/plain": [
       "(345157, 240626)"
      ]
     },
     "execution_count": 41,
     "metadata": {},
     "output_type": "execute_result"
    }
   ],
   "source": [
    "((to_add_negative > threshold_neg) * (tr==0)).sum(), ((to_add_positive > threshold_pos) * (tr==0)).sum() # new values # new values"
   ]
  },
  {
   "cell_type": "code",
   "execution_count": 42,
   "metadata": {},
   "outputs": [
    {
     "data": {
      "text/plain": [
       "[0.13207882540835983, 0.25313474502505445, 0.6147864295665857]"
      ]
     },
     "execution_count": 42,
     "metadata": {},
     "output_type": "execute_result"
    }
   ],
   "source": [
    "p_probs_neg = [(tr == 1).sum()/((tr > 0) & (tr < 4)).sum(), (tr == 2).sum()/(((tr > 0) & (tr < 4))).sum(), (tr == 3).sum()/((tr > 0) & (tr < 4)).sum()]\n",
    "p_probs_neg"
   ]
  },
  {
   "cell_type": "code",
   "execution_count": 43,
   "metadata": {},
   "outputs": [
    {
     "data": {
      "text/plain": [
       "[0.6064147320143503, 0.39358526798564974]"
      ]
     },
     "execution_count": 43,
     "metadata": {},
     "output_type": "execute_result"
    }
   ],
   "source": [
    "p_probs_pos = [(tr == 4).sum()/((tr > 3) & (tr <= 5)).sum(), (tr == 5).sum()/((tr > 3) & (tr <= 5)).sum()]\n",
    "p_probs_pos"
   ]
  },
  {
   "cell_type": "code",
   "execution_count": 44,
   "metadata": {},
   "outputs": [],
   "source": [
    "augmented_train = tr + (to_add_negative > threshold_neg) * (tr == 0) * np.random.choice(np.arange(1, 4), tr.shape, p=p_probs_neg) + (to_add_positive > threshold_pos) * (tr == 0) * np.random.choice(np.arange(4, 6), tr.shape, p=p_probs_pos)"
   ]
  },
  {
   "cell_type": "code",
   "execution_count": 45,
   "metadata": {},
   "outputs": [
    {
     "data": {
      "text/plain": [
       "(4.021525859265269, 6.412851184583439)"
      ]
     },
     "execution_count": 45,
     "metadata": {},
     "output_type": "execute_result"
    }
   ],
   "source": [
    "get_sparsity(tr), get_sparsity(augmented_train) # reduced sparsity"
   ]
  },
  {
   "cell_type": "code",
   "execution_count": 46,
   "metadata": {},
   "outputs": [
    {
     "data": {
      "text/plain": [
       "True"
      ]
     },
     "execution_count": 46,
     "metadata": {},
     "output_type": "execute_result"
    }
   ],
   "source": [
    "(np.isin(tr, augmented_train)).all()"
   ]
  },
  {
   "cell_type": "code",
   "execution_count": 47,
   "metadata": {},
   "outputs": [
    {
     "name": "stdout",
     "output_type": "stream",
     "text": [
      "5 203728\n",
      "4 313893\n",
      "3 235197\n",
      "2 96841\n",
      "1 50529\n",
      "0 21484052\n"
     ]
    }
   ],
   "source": [
    "print(5, (5 == tr).sum())\n",
    "print(4, (4 == tr).sum())\n",
    "print(3, (3 == tr).sum())\n",
    "print(2, (2 == tr).sum())\n",
    "print(1, (1 == tr).sum())\n",
    "print(0, (0 == tr).sum())"
   ]
  },
  {
   "cell_type": "code",
   "execution_count": 48,
   "metadata": {},
   "outputs": [
    {
     "name": "stdout",
     "output_type": "stream",
     "text": [
      "5 282704\n",
      "4 429003\n",
      "3 416147\n",
      "2 171461\n",
      "1 89613\n",
      "0 20948772\n"
     ]
    }
   ],
   "source": [
    "print(5, (5 == augmented_train).sum())\n",
    "print(4, (4 == augmented_train).sum())\n",
    "print(3, (3 == augmented_train).sum())\n",
    "print(2, (2 == augmented_train).sum())\n",
    "print(1, (1 == augmented_train).sum())\n",
    "print(0, (0 == augmented_train).sum())"
   ]
  },
  {
   "cell_type": "code",
   "execution_count": 49,
   "metadata": {},
   "outputs": [
    {
     "data": {
      "text/plain": [
       "535280"
      ]
     },
     "execution_count": 49,
     "metadata": {},
     "output_type": "execute_result"
    }
   ],
   "source": [
    "((tr == 0) * (augmented_train > 0)).sum() # new values"
   ]
  },
  {
   "cell_type": "code",
   "execution_count": 50,
   "metadata": {},
   "outputs": [],
   "source": [
    "# np.save('predicted_tr', predicted_tr)\n",
    "np.save('augmented_train', augmented_train)"
   ]
  },
  {
   "cell_type": "code",
   "execution_count": 51,
   "metadata": {},
   "outputs": [],
   "source": [
    "features_length = train.shape[1]\n",
    "class NetD(torch.nn.Module):\n",
    "    def __init__(self, feat_size):\n",
    "        super(NetD, self).__init__()\n",
    "        self.feat_size = feat_size\n",
    "#         self.use_cuda = True\n",
    "#         self.feat_size = feat_size\n",
    "        # top\n",
    "#         print(self.feat_size*2)\n",
    "        self.t1 = torch.nn.Linear(self.feat_size, 1024)\n",
    "        # bottom\n",
    "        self.b1 = torch.nn.Linear(self.feat_size, 1024)\n",
    "        # combined\n",
    "        self.fc = torch.nn.Linear(2 * 1024, self.feat_size)\n",
    "    def forward(self, xr, xf):\n",
    "        # get filt\n",
    "        \n",
    "        filt = 1 - (xr * (xf >= 0.5).float()) - ((1-xr) * (xf < 0.5).float())\n",
    "        # random swap\n",
    "        idr = torch.multinomial(torch.Tensor([0.5,0.5]), xr.size(0), replacement=True)\n",
    "        idrx = idr.float().unsqueeze(1).expand_as(xr)\n",
    "#         if self.use_cuda: \n",
    "        idrx = idrx.cuda()\n",
    "        idrx = Variable(idrx)\n",
    "        xt = xr * idrx + xf * (1 - idrx)\n",
    "        xb = xr * (1 - idrx) + xf * idrx\n",
    "        # top : real\n",
    "        xt = F.relu(self.t1(xt))\n",
    "        # bottom : fake\n",
    "        xb = F.relu(self.b1(xb))\n",
    "        # combined\n",
    "        x = torch.cat((xt, xb), 1)\n",
    "        x = F.tanh(self.fc(x))\n",
    "        # apply filter, aggregate\n",
    "        x = filt * x\n",
    "        x = x.mean(dim = 1).squeeze()\n",
    "        # use sign, because of swapping\n",
    "        sgn = idr * 2 - 1\n",
    "        sgn = sgn.cuda()\n",
    "        sgn = Variable(sgn.float())\n",
    "        x = sgn * x\n",
    "        return x\n",
    "\n",
    "\n",
    "class NetG(nn.Module):\n",
    "    \n",
    "    def __init__(self, feat_size):\n",
    "\n",
    "        super(NetG, self).__init__()\n",
    "        self.feat_size = feat_size\n",
    "        self.netGen = torch.nn.Sequential( \n",
    "                                torch.nn.Linear(nz + self.feat_size, 1024), \n",
    "#                                 torch.nn.BatchNorm1d(1024),\n",
    "                                torch.nn.ReLU(), \n",
    "#                                 nn.Dropout(0.5),\n",
    "#                                 torch.nn.Linear(1024, 1024),\n",
    "# #                                 torch.nn.BatchNorm1d(1024),\n",
    "#                                 torch.nn.ReLU(), \n",
    "#                                 nn.Dropout(0.6),\n",
    "                                torch.nn.Linear(1024, features_length), \n",
    "                                torch.nn.Sigmoid()\n",
    "#                                 torch.nn.BatchNorm1d(features_length),\n",
    "#                                 nn.Dropout(0.7),\n",
    "#                                 torch.nn.Sigmoid()\n",
    "                                )\n",
    "\n",
    "        \n",
    "    def forward(self, e_mask, x):\n",
    "        x = self.netGen(x)\n",
    "        x = x * e_mask\n",
    "        return x\n",
    "#         return F.dropout(x, 0.7)\n",
    "#         return 5 * self.netGen(x)\n",
    "#         return torch.sigmoid(x) \n",
    "#         return x*5 # to get values in range [0,5]"
   ]
  },
  {
   "cell_type": "code",
   "execution_count": 52,
   "metadata": {},
   "outputs": [],
   "source": [
    "def get_random_batch(mat, batch_size=64):\n",
    "    '''\n",
    "    returns random rows of size batch_size\n",
    "    '''\n",
    "    rand_rows = np.random.randint(mat.shape[0], size=batch_size)\n",
    "#     print(mat.shape, rand_rows)\n",
    "#     print(mat[rand_rows].shape)\n",
    "    return mat[rand_rows]"
   ]
  },
  {
   "cell_type": "code",
   "execution_count": 53,
   "metadata": {},
   "outputs": [],
   "source": [
    "train = torch.autograd.Variable(torch.Tensor(train))\n",
    "augmented_train = torch.autograd.Variable(torch.Tensor(augmented_train))"
   ]
  },
  {
   "cell_type": "code",
   "execution_count": 57,
   "metadata": {},
   "outputs": [],
   "source": [
    "del train\n",
    "del augmented_train"
   ]
  },
  {
   "cell_type": "code",
   "execution_count": 54,
   "metadata": {},
   "outputs": [
    {
     "data": {
      "text/plain": [
       "(4.021525859265269, 6.412851184583439)"
      ]
     },
     "execution_count": 54,
     "metadata": {},
     "output_type": "execute_result"
    }
   ],
   "source": [
    "get_sparsity(train.cpu().numpy()), get_sparsity(augmented_train.cpu().numpy())"
   ]
  },
  {
   "cell_type": "code",
   "execution_count": 55,
   "metadata": {},
   "outputs": [],
   "source": [
    "# xx = get_random_batch(train)\n",
    "# xy = get_random_batch(train)"
   ]
  },
  {
   "cell_type": "code",
   "execution_count": 56,
   "metadata": {},
   "outputs": [],
   "source": [
    "# d_my(xx, xy)"
   ]
  },
  {
   "cell_type": "code",
   "execution_count": null,
   "metadata": {},
   "outputs": [],
   "source": [
    "# torch.sum(torch.abs(torch.abs(xx != 0).float()*xy - xy), 1)"
   ]
  },
  {
   "cell_type": "code",
   "execution_count": null,
   "metadata": {},
   "outputs": [],
   "source": [
    "# xx > xy"
   ]
  },
  {
   "cell_type": "code",
   "execution_count": null,
   "metadata": {},
   "outputs": [],
   "source": [
    "# # def d_my(x_r, x_g): # custom loss -todo\n",
    "# #     return torch.sum(torch.abs((x_r != 0).float() * x_g - x_r), 1)/x_r.shape[1]\n",
    "\n",
    "# def d_my(x_r, x_g): # custom loss -todo\n",
    "#     return torch.sum(torch.abs(x_g - x_r), 1)/x_r.shape[1]"
   ]
  },
  {
   "cell_type": "code",
   "execution_count": 92,
   "metadata": {},
   "outputs": [],
   "source": [
    "def batch_generator(corrupted, original, batch_size=64):\n",
    "    rand_rows = np.random.randint(corrupted.shape[0], size=batch_size)\n",
    "    return torch.Tensor(corrupted[rand_rows]).cuda().float(), torch.Tensor(original[rand_rows]).cuda().float(), rand_rows\n",
    "#     return torch.from_numpy(corrupted[rand_rows]).float(), torch.from_numpy(original[rand_rows]).float()"
   ]
  },
  {
   "cell_type": "code",
   "execution_count": 93,
   "metadata": {},
   "outputs": [
    {
     "data": {
      "text/plain": [
       "(1.026195215919772, 1.7090908603553212)"
      ]
     },
     "execution_count": 93,
     "metadata": {},
     "output_type": "execute_result"
    }
   ],
   "source": [
    "get_sparsity(X_neg), get_sparsity(y_neg)"
   ]
  },
  {
   "cell_type": "code",
   "execution_count": 94,
   "metadata": {},
   "outputs": [
    {
     "data": {
      "text/plain": [
       "(1.1033627900701564,\n",
       " 4.1528939557474365,\n",
       " torch.Size([64, 3706]),\n",
       " torch.Size([64, 3706]))"
      ]
     },
     "execution_count": 94,
     "metadata": {},
     "output_type": "execute_result"
    }
   ],
   "source": [
    "a,b,_ = batch_generator(X_neg, (tr > 0).astype(float))\n",
    "\n",
    "get_sparsity(a.cpu().numpy()), get_sparsity(b.cpu().numpy()), a.shape, b.shape"
   ]
  },
  {
   "cell_type": "code",
   "execution_count": 266,
   "metadata": {},
   "outputs": [],
   "source": [
    "gen_losses = []\n",
    "disc_losses = []\n",
    "def train_GAN(netD, netG, negative, steps_per_epoch = 100, epochs = 100):\n",
    "    d_iter = 5\n",
    "    g_iter = 1\n",
    "    gen_iterations = 0\n",
    "#     gen_losses = []\n",
    "#     disc_losses = []\n",
    "#     train_losses = []\n",
    "    for epoch in range(epochs):\n",
    "        for c in range(steps_per_epoch):\n",
    "            data_iter = 100\n",
    "            i = 0\n",
    "            while i < 100:\n",
    "                ############################\n",
    "                # (1) Update D network\n",
    "                ###########################\n",
    "                for p in netD.parameters(): # reset requires_grad\n",
    "                    p.requires_grad = True # they are set to False below in netG update\n",
    "    #             d_iter = d_iter\n",
    "                j = 0\n",
    "                while j < d_iter*5:\n",
    "                    j += 1\n",
    "                    # load real data\n",
    "                    i += 1\n",
    "                    if negative:\n",
    "                        condition, X, idxs = batch_generator(X_neg, y_neg)\n",
    "    #                 X, _ = data_iter.next()\n",
    "    #                 X = X.view(X.size(0), -1)\n",
    "    #                 X = (X >= 0.5).float()\n",
    "#                     if cuda: \n",
    "                    X = X.cuda()\n",
    "                    condition = condition.cuda()\n",
    "    #                 print(condition.shape, X_neg.shape, y_neg.shape)\n",
    "                    real = Variable(X)\n",
    "\n",
    "                    # generate fake data\n",
    "                    noise = torch.randn(batch_size, nz)\n",
    "#                     if cuda: \n",
    "                    noise = noise.cuda()\n",
    "                    noisev = Variable(noise, volatile = True) # totally freeze netG\n",
    "                    concated = torch.cat((noisev, condition), 1)\n",
    "    #                 print(condition.shape, condition.shape, X.shape, noisev.shape, )\n",
    "                    e_mask = torch.Tensor(tr[idxs]>0).cuda()\n",
    "                    fake = Variable(netG(e_mask, concated).data)\n",
    "\n",
    "                    # compute gradient, take step\n",
    "                    netD.zero_grad()\n",
    "    #                 concated_real = torch.cat((real, condition), 1)\n",
    "    #                 print(concated_real)\n",
    "                    out = netD(real, fake)\n",
    "                    outputD = torch.mean(out) + lamba * out.norm()\n",
    "                    stdD = torch.std(out)\n",
    "                    outputD.backward(mone)\n",
    "                    optimizerD.step()\n",
    "#                     print('AAAAAAAAA mse:=WWWWWWWWWWWWWWWWWWWWWW')\n",
    "            ############################\n",
    "            # (2) Update G network\n",
    "            ###########################\n",
    "\n",
    "    #         g_iter = g_iter\n",
    "            j = 0\n",
    "            while j < g_iter*5:\n",
    "                j += 1\n",
    "                for p in netD.parameters():\n",
    "                    p.requires_grad = False # to avoid computation\n",
    "                netG.zero_grad()\n",
    "                # load real data\n",
    "\n",
    "                i += 1\n",
    "\n",
    "                if negative:\n",
    "                    condition, X, idxs = batch_generator(X_neg, y_neg)\n",
    "                    \n",
    "                X = X.cuda()\n",
    "                condition = condition.cuda()\n",
    "                real = Variable(X)\n",
    "\n",
    "                # update generator\n",
    "                noise = torch.randn(batch_size, nz)\n",
    "                noise = noise.cuda()\n",
    "                noisev = Variable(noise)\n",
    "                concated_ = torch.cat((noisev, condition), 1)\n",
    "                e_mask_ = torch.Tensor(tr[idxs]>0).cuda()\n",
    " \n",
    "                fake = netG(e_mask_, concated_)\n",
    "                out = netD(real, fake)\n",
    "                outputG = torch.mean(out) + lamba * out.norm()\n",
    "                stdG = torch.std(out)\n",
    "                outputG.backward(one)\n",
    "                optimizerG.step()\n",
    "                gen_iterations += 1\n",
    "#             print('AAAAAA')\n",
    "            eval_loss = F.mse_loss(fake, real, reduction='mean')\n",
    "#             eval_losses.append(eval_loss)\n",
    "#             print('mse:', eval_loss)\n",
    "#             print(outputG.item(), outputD.item())\n",
    "            gen_losses.append(outputG.item())\n",
    "            disc_losses.append(outputD.item())\n",
    "            print('[%d/%d][%d/%d][%d] Loss_D: %f Loss_G: %f '% (epoch, epochs, i, 100, gen_iterations, outputD.item(), outputG.item()))\n",
    "    return gen_losses, disc_losses"
   ]
  },
  {
   "cell_type": "code",
   "execution_count": 267,
   "metadata": {},
   "outputs": [
    {
     "data": {
      "text/plain": [
       "(1.026195215919772, 1.7090908603553212)"
      ]
     },
     "execution_count": 267,
     "metadata": {},
     "output_type": "execute_result"
    }
   ],
   "source": [
    "get_sparsity(X_neg), get_sparsity(y_neg)"
   ]
  },
  {
   "cell_type": "code",
   "execution_count": 272,
   "metadata": {},
   "outputs": [],
   "source": [
    "# lrD = 5e-4\n",
    "# lrG = 5e-4\n",
    "# batch_size = 128\n",
    "# cuda = True\n",
    "# epochs = 1000 #change\n",
    "# seed = 1\n",
    "# nz = 16\n",
    "# d_iter = 5\n",
    "# g_iter = 1\n",
    "# lamba = 2e-4\n",
    "\n",
    "lrD = 1e-4\n",
    "lrG = 1e-4\n",
    "batch_size = 64\n",
    "cuda = True\n",
    "epochs = 1000\n",
    "device = 5\n",
    "seed = 1\n",
    "nz = 20\n",
    "lamba = 1e-4 \n",
    "# lamba = 0"
   ]
  },
  {
   "cell_type": "code",
   "execution_count": 273,
   "metadata": {},
   "outputs": [
    {
     "data": {
      "text/plain": [
       "3706"
      ]
     },
     "execution_count": 273,
     "metadata": {},
     "output_type": "execute_result"
    }
   ],
   "source": [
    "negative_feedback_mask.shape[1]"
   ]
  },
  {
   "cell_type": "code",
   "execution_count": 274,
   "metadata": {
    "scrolled": true
   },
   "outputs": [
    {
     "name": "stdout",
     "output_type": "stream",
     "text": [
      "NetD(\n",
      "  (t1): Linear(in_features=3706, out_features=1024, bias=True)\n",
      "  (b1): Linear(in_features=3706, out_features=1024, bias=True)\n",
      "  (fc): Linear(in_features=2048, out_features=3706, bias=True)\n",
      ")\n",
      "NetG(\n",
      "  (netGen): Sequential(\n",
      "    (0): Linear(in_features=3726, out_features=1024, bias=True)\n",
      "    (1): ReLU()\n",
      "    (2): Linear(in_features=1024, out_features=3706, bias=True)\n",
      "    (3): Sigmoid()\n",
      "  )\n",
      ")\n"
     ]
    }
   ],
   "source": [
    "# networks\n",
    "netD_neg = NetD(negative_feedback_mask.shape[1]).cuda()\n",
    "netG_neg = NetG(negative_feedback_mask.shape[1]).cuda()\n",
    "print(netD_neg)\n",
    "print(netG_neg)\n",
    "optimizerG = optim.Adam(netG_neg.parameters(), lr=lrG, weight_decay=1e-5)\n",
    "optimizerD = optim.Adam(netD_neg.parameters(), lr=lrD, weight_decay=1e-5)\n",
    "one = torch.FloatTensor([1]).cuda()\n",
    "mone = (-1 * one).cuda()"
   ]
  },
  {
   "cell_type": "code",
   "execution_count": 275,
   "metadata": {},
   "outputs": [
    {
     "name": "stderr",
     "output_type": "stream",
     "text": [
      "C:\\Users\\David\\Anaconda3\\lib\\site-packages\\ipykernel_launcher.py:41: UserWarning: volatile was removed and now has no effect. Use `with torch.no_grad():` instead.\n",
      "C:\\Users\\David\\Anaconda3\\lib\\site-packages\\torch\\nn\\functional.py:1374: UserWarning: nn.functional.tanh is deprecated. Use torch.tanh instead.\n",
      "  warnings.warn(\"nn.functional.tanh is deprecated. Use torch.tanh instead.\")\n"
     ]
    },
    {
     "name": "stdout",
     "output_type": "stream",
     "text": [
      "[0/100][105/100][5] Loss_D: 0.004765 Loss_G: 0.005677 \n",
      "[0/100][105/100][10] Loss_D: 0.011974 Loss_G: 0.013254 \n",
      "[0/100][105/100][15] Loss_D: 0.015144 Loss_G: 0.014056 \n",
      "[0/100][105/100][20] Loss_D: 0.012693 Loss_G: 0.013647 \n",
      "[0/100][105/100][25] Loss_D: 0.010267 Loss_G: 0.011395 \n",
      "[0/100][105/100][30] Loss_D: 0.015602 Loss_G: 0.014241 \n",
      "[0/100][105/100][35] Loss_D: 0.014503 Loss_G: 0.011896 \n",
      "[0/100][105/100][40] Loss_D: 0.016728 Loss_G: 0.007080 \n",
      "[0/100][105/100][45] Loss_D: 0.010229 Loss_G: 0.008234 \n",
      "[0/100][105/100][50] Loss_D: 0.010473 Loss_G: 0.012013 \n",
      "[0/100][105/100][55] Loss_D: 0.012195 Loss_G: 0.007282 \n",
      "[0/100][105/100][60] Loss_D: 0.007312 Loss_G: 0.004856 \n",
      "[0/100][105/100][65] Loss_D: 0.005318 Loss_G: 0.005430 \n",
      "[0/100][105/100][70] Loss_D: 0.010276 Loss_G: 0.004839 \n",
      "[0/100][105/100][75] Loss_D: 0.008518 Loss_G: 0.006709 \n",
      "[0/100][105/100][80] Loss_D: 0.005113 Loss_G: 0.010600 \n",
      "[0/100][105/100][85] Loss_D: 0.003609 Loss_G: 0.006810 \n",
      "[0/100][105/100][90] Loss_D: 0.009268 Loss_G: 0.002448 \n",
      "[0/100][105/100][95] Loss_D: 0.004614 Loss_G: 0.003286 \n",
      "[0/100][105/100][100] Loss_D: 0.005863 Loss_G: 0.006309 \n",
      "[0/100][105/100][105] Loss_D: 0.008524 Loss_G: 0.001467 \n",
      "[0/100][105/100][110] Loss_D: 0.007723 Loss_G: 0.008898 \n",
      "[0/100][105/100][115] Loss_D: 0.009716 Loss_G: 0.005213 \n",
      "[0/100][105/100][120] Loss_D: 0.006994 Loss_G: 0.005800 \n",
      "[0/100][105/100][125] Loss_D: 0.007310 Loss_G: 0.008497 \n",
      "[0/100][105/100][130] Loss_D: 0.007380 Loss_G: 0.007435 \n",
      "[0/100][105/100][135] Loss_D: 0.009637 Loss_G: 0.008087 \n",
      "[0/100][105/100][140] Loss_D: 0.010601 Loss_G: 0.006396 \n",
      "[0/100][105/100][145] Loss_D: 0.010147 Loss_G: 0.008018 \n",
      "[0/100][105/100][150] Loss_D: 0.008254 Loss_G: 0.006409 \n",
      "[0/100][105/100][155] Loss_D: 0.008711 Loss_G: 0.005750 \n",
      "[0/100][105/100][160] Loss_D: 0.007867 Loss_G: 0.003856 \n",
      "[0/100][105/100][165] Loss_D: 0.004592 Loss_G: 0.002450 \n",
      "[0/100][105/100][170] Loss_D: 0.004924 Loss_G: 0.001735 \n",
      "[0/100][105/100][175] Loss_D: 0.005749 Loss_G: 0.002267 \n",
      "[0/100][105/100][180] Loss_D: 0.008470 Loss_G: 0.005225 \n",
      "[0/100][105/100][185] Loss_D: 0.009308 Loss_G: 0.005048 \n",
      "[0/100][105/100][190] Loss_D: 0.012003 Loss_G: 0.005276 \n",
      "[0/100][105/100][195] Loss_D: 0.007419 Loss_G: 0.010286 \n",
      "[0/100][105/100][200] Loss_D: 0.010147 Loss_G: 0.006359 \n",
      "[0/100][105/100][205] Loss_D: 0.009144 Loss_G: 0.012661 \n",
      "[0/100][105/100][210] Loss_D: 0.011903 Loss_G: 0.008842 \n",
      "[0/100][105/100][215] Loss_D: 0.006963 Loss_G: 0.011008 \n",
      "[0/100][105/100][220] Loss_D: 0.007314 Loss_G: 0.008057 \n",
      "[0/100][105/100][225] Loss_D: 0.011273 Loss_G: 0.005902 \n",
      "[0/100][105/100][230] Loss_D: 0.007471 Loss_G: 0.010098 \n",
      "[0/100][105/100][235] Loss_D: 0.006250 Loss_G: 0.010512 \n",
      "[0/100][105/100][240] Loss_D: 0.007812 Loss_G: 0.010695 \n",
      "[0/100][105/100][245] Loss_D: 0.006226 Loss_G: 0.009619 \n",
      "[0/100][105/100][250] Loss_D: 0.009828 Loss_G: 0.006211 \n",
      "[0/100][105/100][255] Loss_D: 0.005572 Loss_G: 0.010830 \n",
      "[0/100][105/100][260] Loss_D: 0.008757 Loss_G: 0.009427 \n",
      "[0/100][105/100][265] Loss_D: 0.010097 Loss_G: 0.006341 \n",
      "[0/100][105/100][270] Loss_D: 0.010831 Loss_G: 0.005314 \n",
      "[0/100][105/100][275] Loss_D: 0.007435 Loss_G: 0.007053 \n",
      "[0/100][105/100][280] Loss_D: 0.007473 Loss_G: 0.004991 \n",
      "[0/100][105/100][285] Loss_D: 0.003049 Loss_G: 0.002740 \n",
      "[0/100][105/100][290] Loss_D: 0.005656 Loss_G: 0.003775 \n",
      "[0/100][105/100][295] Loss_D: 0.007502 Loss_G: 0.003997 \n",
      "[0/100][105/100][300] Loss_D: 0.006558 Loss_G: 0.005823 \n",
      "[0/100][105/100][305] Loss_D: 0.009917 Loss_G: 0.004511 \n",
      "[0/100][105/100][310] Loss_D: 0.008806 Loss_G: 0.010171 \n",
      "[0/100][105/100][315] Loss_D: 0.008641 Loss_G: 0.007118 \n",
      "[0/100][105/100][320] Loss_D: 0.004551 Loss_G: 0.002788 \n",
      "[0/100][105/100][325] Loss_D: 0.008045 Loss_G: 0.002504 \n",
      "[0/100][105/100][330] Loss_D: 0.008578 Loss_G: 0.004169 \n",
      "[0/100][105/100][335] Loss_D: 0.006377 Loss_G: 0.007051 \n",
      "[0/100][105/100][340] Loss_D: 0.003255 Loss_G: 0.003629 \n",
      "[0/100][105/100][345] Loss_D: 0.007181 Loss_G: 0.003196 \n",
      "[0/100][105/100][350] Loss_D: 0.005838 Loss_G: 0.003063 \n",
      "[0/100][105/100][355] Loss_D: 0.003809 Loss_G: 0.003954 \n",
      "[0/100][105/100][360] Loss_D: 0.006910 Loss_G: 0.006803 \n",
      "[0/100][105/100][365] Loss_D: 0.010304 Loss_G: 0.004450 \n",
      "[0/100][105/100][370] Loss_D: 0.006917 Loss_G: 0.005561 \n",
      "[0/100][105/100][375] Loss_D: 0.005044 Loss_G: 0.009377 \n",
      "[0/100][105/100][380] Loss_D: 0.006214 Loss_G: 0.004987 \n",
      "[0/100][105/100][385] Loss_D: 0.006157 Loss_G: 0.005162 \n",
      "[0/100][105/100][390] Loss_D: 0.005155 Loss_G: 0.000983 \n",
      "[0/100][105/100][395] Loss_D: 0.003345 Loss_G: 0.000278 \n",
      "[0/100][105/100][400] Loss_D: 0.002268 Loss_G: 0.001573 \n",
      "[0/100][105/100][405] Loss_D: 0.003236 Loss_G: 0.002025 \n",
      "[0/100][105/100][410] Loss_D: 0.003834 Loss_G: 0.001958 \n",
      "[0/100][105/100][415] Loss_D: 0.003705 Loss_G: 0.001624 \n",
      "[0/100][105/100][420] Loss_D: 0.003046 Loss_G: 0.002533 \n",
      "[0/100][105/100][425] Loss_D: 0.002798 Loss_G: 0.004155 \n",
      "[0/100][105/100][430] Loss_D: 0.005347 Loss_G: 0.003177 \n",
      "[0/100][105/100][435] Loss_D: 0.005806 Loss_G: 0.005989 \n",
      "[0/100][105/100][440] Loss_D: 0.004559 Loss_G: 0.005850 \n",
      "[0/100][105/100][445] Loss_D: 0.004565 Loss_G: 0.006597 \n",
      "[0/100][105/100][450] Loss_D: 0.006322 Loss_G: 0.009532 \n",
      "[0/100][105/100][455] Loss_D: 0.007852 Loss_G: 0.005734 \n",
      "[0/100][105/100][460] Loss_D: 0.008138 Loss_G: 0.003991 \n",
      "[0/100][105/100][465] Loss_D: 0.004912 Loss_G: 0.006208 \n",
      "[0/100][105/100][470] Loss_D: 0.004823 Loss_G: 0.002720 \n",
      "[0/100][105/100][475] Loss_D: 0.007763 Loss_G: 0.004374 \n",
      "[0/100][105/100][480] Loss_D: 0.004083 Loss_G: 0.006082 \n",
      "[0/100][105/100][485] Loss_D: 0.002800 Loss_G: 0.002064 \n",
      "[0/100][105/100][490] Loss_D: 0.003909 Loss_G: 0.002452 \n",
      "[0/100][105/100][495] Loss_D: 0.003140 Loss_G: 0.002380 \n",
      "[0/100][105/100][500] Loss_D: 0.001390 Loss_G: 0.001712 \n",
      "[1/100][105/100][505] Loss_D: 0.002810 Loss_G: 0.002469 \n",
      "[1/100][105/100][510] Loss_D: 0.004955 Loss_G: 0.004089 \n",
      "[1/100][105/100][515] Loss_D: 0.006229 Loss_G: 0.005192 \n",
      "[1/100][105/100][520] Loss_D: 0.005332 Loss_G: 0.004823 \n",
      "[1/100][105/100][525] Loss_D: 0.009587 Loss_G: 0.006541 \n",
      "[1/100][105/100][530] Loss_D: 0.006361 Loss_G: 0.005613 \n",
      "[1/100][105/100][535] Loss_D: 0.008134 Loss_G: 0.007215 \n",
      "[1/100][105/100][540] Loss_D: 0.007399 Loss_G: 0.005017 \n",
      "[1/100][105/100][545] Loss_D: 0.007817 Loss_G: 0.006431 \n",
      "[1/100][105/100][550] Loss_D: 0.003002 Loss_G: 0.003684 \n",
      "[1/100][105/100][555] Loss_D: 0.003929 Loss_G: 0.001528 \n",
      "[1/100][105/100][560] Loss_D: 0.004736 Loss_G: 0.002270 \n",
      "[1/100][105/100][565] Loss_D: 0.002547 Loss_G: 0.005077 \n",
      "[1/100][105/100][570] Loss_D: 0.003517 Loss_G: 0.001918 \n",
      "[1/100][105/100][575] Loss_D: 0.001666 Loss_G: 0.002976 \n",
      "[1/100][105/100][580] Loss_D: 0.002921 Loss_G: 0.002467 \n",
      "[1/100][105/100][585] Loss_D: 0.002159 Loss_G: 0.001965 \n",
      "[1/100][105/100][590] Loss_D: 0.003740 Loss_G: 0.002569 \n",
      "[1/100][105/100][595] Loss_D: 0.004713 Loss_G: 0.003544 \n",
      "[1/100][105/100][600] Loss_D: 0.003669 Loss_G: 0.003813 \n",
      "[1/100][105/100][605] Loss_D: 0.005083 Loss_G: 0.001559 \n",
      "[1/100][105/100][610] Loss_D: 0.005861 Loss_G: 0.005287 \n",
      "[1/100][105/100][615] Loss_D: 0.005334 Loss_G: 0.004023 \n",
      "[1/100][105/100][620] Loss_D: 0.004479 Loss_G: 0.008119 \n",
      "[1/100][105/100][625] Loss_D: 0.006925 Loss_G: 0.006862 \n",
      "[1/100][105/100][630] Loss_D: 0.005529 Loss_G: 0.003781 \n",
      "[1/100][105/100][635] Loss_D: 0.005802 Loss_G: 0.002893 \n",
      "[1/100][105/100][640] Loss_D: 0.005148 Loss_G: 0.005629 \n",
      "[1/100][105/100][645] Loss_D: 0.004335 Loss_G: 0.006208 \n",
      "[1/100][105/100][650] Loss_D: 0.004244 Loss_G: 0.004776 \n",
      "[1/100][105/100][655] Loss_D: 0.001250 Loss_G: 0.002451 \n",
      "[1/100][105/100][660] Loss_D: 0.002156 Loss_G: 0.003117 \n",
      "[1/100][105/100][665] Loss_D: 0.005583 Loss_G: 0.002327 \n",
      "[1/100][105/100][670] Loss_D: 0.004029 Loss_G: 0.002995 \n",
      "[1/100][105/100][675] Loss_D: 0.002725 Loss_G: 0.002631 \n",
      "[1/100][105/100][680] Loss_D: 0.004232 Loss_G: 0.003170 \n",
      "[1/100][105/100][685] Loss_D: 0.004919 Loss_G: 0.005781 \n",
      "[1/100][105/100][690] Loss_D: 0.004062 Loss_G: 0.004255 \n",
      "[1/100][105/100][695] Loss_D: 0.006577 Loss_G: 0.005265 \n",
      "[1/100][105/100][700] Loss_D: 0.006870 Loss_G: 0.005576 \n",
      "[1/100][105/100][705] Loss_D: 0.006288 Loss_G: 0.006891 \n",
      "[1/100][105/100][710] Loss_D: 0.005133 Loss_G: 0.003190 \n",
      "[1/100][105/100][715] Loss_D: 0.011080 Loss_G: 0.003636 \n",
      "[1/100][105/100][720] Loss_D: 0.005581 Loss_G: 0.003342 \n"
     ]
    },
    {
     "name": "stdout",
     "output_type": "stream",
     "text": [
      "[1/100][105/100][725] Loss_D: 0.003820 Loss_G: 0.003263 \n",
      "[1/100][105/100][730] Loss_D: 0.005123 Loss_G: 0.003017 \n",
      "[1/100][105/100][735] Loss_D: 0.002285 Loss_G: 0.004440 \n",
      "[1/100][105/100][740] Loss_D: 0.007313 Loss_G: 0.004237 \n",
      "[1/100][105/100][745] Loss_D: 0.004081 Loss_G: 0.002286 \n",
      "[1/100][105/100][750] Loss_D: 0.005370 Loss_G: 0.003664 \n",
      "[1/100][105/100][755] Loss_D: 0.004580 Loss_G: 0.003621 \n",
      "[1/100][105/100][760] Loss_D: 0.004311 Loss_G: 0.003937 \n",
      "[1/100][105/100][765] Loss_D: 0.007531 Loss_G: 0.006046 \n",
      "[1/100][105/100][770] Loss_D: 0.004024 Loss_G: 0.005351 \n",
      "[1/100][105/100][775] Loss_D: 0.005362 Loss_G: 0.003614 \n",
      "[1/100][105/100][780] Loss_D: 0.003904 Loss_G: 0.004471 \n",
      "[1/100][105/100][785] Loss_D: 0.005751 Loss_G: 0.003906 \n",
      "[1/100][105/100][790] Loss_D: 0.005085 Loss_G: 0.003947 \n",
      "[1/100][105/100][795] Loss_D: 0.003909 Loss_G: 0.004857 \n",
      "[1/100][105/100][800] Loss_D: 0.003367 Loss_G: 0.003488 \n",
      "[1/100][105/100][805] Loss_D: 0.002750 Loss_G: 0.006251 \n",
      "[1/100][105/100][810] Loss_D: 0.002780 Loss_G: 0.005443 \n",
      "[1/100][105/100][815] Loss_D: 0.003736 Loss_G: 0.002905 \n",
      "[1/100][105/100][820] Loss_D: 0.004194 Loss_G: 0.005602 \n",
      "[1/100][105/100][825] Loss_D: 0.006196 Loss_G: 0.003591 \n",
      "[1/100][105/100][830] Loss_D: 0.003170 Loss_G: 0.003957 \n",
      "[1/100][105/100][835] Loss_D: 0.006197 Loss_G: 0.002880 \n",
      "[1/100][105/100][840] Loss_D: 0.007462 Loss_G: 0.003604 \n",
      "[1/100][105/100][845] Loss_D: 0.003586 Loss_G: 0.007417 \n",
      "[1/100][105/100][850] Loss_D: 0.005047 Loss_G: 0.002782 \n",
      "[1/100][105/100][855] Loss_D: 0.003901 Loss_G: 0.004133 \n",
      "[1/100][105/100][860] Loss_D: 0.004315 Loss_G: 0.003425 \n",
      "[1/100][105/100][865] Loss_D: 0.004666 Loss_G: 0.004608 \n",
      "[1/100][105/100][870] Loss_D: 0.005316 Loss_G: 0.004585 \n",
      "[1/100][105/100][875] Loss_D: 0.005240 Loss_G: 0.004585 \n",
      "[1/100][105/100][880] Loss_D: 0.002568 Loss_G: 0.004235 \n",
      "[1/100][105/100][885] Loss_D: 0.005030 Loss_G: 0.005196 \n",
      "[1/100][105/100][890] Loss_D: 0.006249 Loss_G: 0.004404 \n",
      "[1/100][105/100][895] Loss_D: 0.005602 Loss_G: 0.004620 \n",
      "[1/100][105/100][900] Loss_D: 0.006514 Loss_G: 0.005429 \n",
      "[1/100][105/100][905] Loss_D: 0.006323 Loss_G: 0.004597 \n",
      "[1/100][105/100][910] Loss_D: 0.005794 Loss_G: 0.006749 \n",
      "[1/100][105/100][915] Loss_D: 0.005240 Loss_G: 0.004392 \n",
      "[1/100][105/100][920] Loss_D: 0.002791 Loss_G: 0.005362 \n",
      "[1/100][105/100][925] Loss_D: 0.002664 Loss_G: 0.006733 \n",
      "[1/100][105/100][930] Loss_D: 0.006345 Loss_G: 0.003925 \n",
      "[1/100][105/100][935] Loss_D: 0.005781 Loss_G: 0.004888 \n",
      "[1/100][105/100][940] Loss_D: 0.003748 Loss_G: 0.005122 \n",
      "[1/100][105/100][945] Loss_D: 0.005353 Loss_G: 0.006663 \n",
      "[1/100][105/100][950] Loss_D: 0.004226 Loss_G: 0.007326 \n",
      "[1/100][105/100][955] Loss_D: 0.004176 Loss_G: 0.002958 \n",
      "[1/100][105/100][960] Loss_D: 0.003679 Loss_G: 0.004058 \n",
      "[1/100][105/100][965] Loss_D: 0.005351 Loss_G: 0.006668 \n",
      "[1/100][105/100][970] Loss_D: 0.005505 Loss_G: 0.004006 \n",
      "[1/100][105/100][975] Loss_D: 0.005480 Loss_G: 0.004532 \n",
      "[1/100][105/100][980] Loss_D: 0.005003 Loss_G: 0.008500 \n",
      "[1/100][105/100][985] Loss_D: 0.003764 Loss_G: 0.005324 \n",
      "[1/100][105/100][990] Loss_D: 0.004079 Loss_G: 0.006346 \n",
      "[1/100][105/100][995] Loss_D: 0.006518 Loss_G: 0.005593 \n",
      "[1/100][105/100][1000] Loss_D: 0.006087 Loss_G: 0.004551 \n",
      "[2/100][105/100][1005] Loss_D: 0.005494 Loss_G: 0.006819 \n",
      "[2/100][105/100][1010] Loss_D: 0.004715 Loss_G: 0.002446 \n",
      "[2/100][105/100][1015] Loss_D: 0.006522 Loss_G: 0.007095 \n",
      "[2/100][105/100][1020] Loss_D: 0.007510 Loss_G: 0.004963 \n",
      "[2/100][105/100][1025] Loss_D: 0.005829 Loss_G: 0.005544 \n",
      "[2/100][105/100][1030] Loss_D: 0.006777 Loss_G: 0.005407 \n",
      "[2/100][105/100][1035] Loss_D: 0.006217 Loss_G: 0.007371 \n",
      "[2/100][105/100][1040] Loss_D: 0.003768 Loss_G: 0.007845 \n",
      "[2/100][105/100][1045] Loss_D: 0.004863 Loss_G: 0.004056 \n",
      "[2/100][105/100][1050] Loss_D: 0.006246 Loss_G: 0.005839 \n",
      "[2/100][105/100][1055] Loss_D: 0.006585 Loss_G: 0.004161 \n",
      "[2/100][105/100][1060] Loss_D: 0.006610 Loss_G: 0.008560 \n",
      "[2/100][105/100][1065] Loss_D: 0.006260 Loss_G: 0.006343 \n",
      "[2/100][105/100][1070] Loss_D: 0.004413 Loss_G: 0.005701 \n",
      "[2/100][105/100][1075] Loss_D: 0.005858 Loss_G: 0.004811 \n",
      "[2/100][105/100][1080] Loss_D: 0.005065 Loss_G: 0.005671 \n",
      "[2/100][105/100][1085] Loss_D: 0.005473 Loss_G: 0.002987 \n",
      "[2/100][105/100][1090] Loss_D: 0.006817 Loss_G: 0.002427 \n",
      "[2/100][105/100][1095] Loss_D: 0.004912 Loss_G: 0.004134 \n",
      "[2/100][105/100][1100] Loss_D: 0.007148 Loss_G: 0.004555 \n",
      "[2/100][105/100][1105] Loss_D: 0.007471 Loss_G: 0.006923 \n",
      "[2/100][105/100][1110] Loss_D: 0.005863 Loss_G: 0.004848 \n",
      "[2/100][105/100][1115] Loss_D: 0.007082 Loss_G: 0.011250 \n",
      "[2/100][105/100][1120] Loss_D: 0.008321 Loss_G: 0.006928 \n",
      "[2/100][105/100][1125] Loss_D: 0.006398 Loss_G: 0.003837 \n",
      "[2/100][105/100][1130] Loss_D: 0.006977 Loss_G: 0.012239 \n",
      "[2/100][105/100][1135] Loss_D: 0.007289 Loss_G: 0.006559 \n",
      "[2/100][105/100][1140] Loss_D: 0.009034 Loss_G: 0.006457 \n",
      "[2/100][105/100][1145] Loss_D: 0.007692 Loss_G: 0.006702 \n",
      "[2/100][105/100][1150] Loss_D: 0.007194 Loss_G: 0.007572 \n",
      "[2/100][105/100][1155] Loss_D: 0.005896 Loss_G: 0.004150 \n",
      "[2/100][105/100][1160] Loss_D: 0.006144 Loss_G: 0.007482 \n",
      "[2/100][105/100][1165] Loss_D: 0.004463 Loss_G: 0.004948 \n",
      "[2/100][105/100][1170] Loss_D: 0.007433 Loss_G: 0.006804 \n",
      "[2/100][105/100][1175] Loss_D: 0.005882 Loss_G: 0.009635 \n",
      "[2/100][105/100][1180] Loss_D: 0.007440 Loss_G: 0.005426 \n",
      "[2/100][105/100][1185] Loss_D: 0.004961 Loss_G: 0.004519 \n",
      "[2/100][105/100][1190] Loss_D: 0.006377 Loss_G: 0.006899 \n",
      "[2/100][105/100][1195] Loss_D: 0.006499 Loss_G: 0.008307 \n",
      "[2/100][105/100][1200] Loss_D: 0.003781 Loss_G: 0.006692 \n",
      "[2/100][105/100][1205] Loss_D: 0.005551 Loss_G: 0.005154 \n",
      "[2/100][105/100][1210] Loss_D: 0.005966 Loss_G: 0.006808 \n",
      "[2/100][105/100][1215] Loss_D: 0.006457 Loss_G: 0.007116 \n",
      "[2/100][105/100][1220] Loss_D: 0.007133 Loss_G: 0.006886 \n",
      "[2/100][105/100][1225] Loss_D: 0.003719 Loss_G: 0.006995 \n",
      "[2/100][105/100][1230] Loss_D: 0.005770 Loss_G: 0.007537 \n",
      "[2/100][105/100][1235] Loss_D: 0.006906 Loss_G: 0.007249 \n",
      "[2/100][105/100][1240] Loss_D: 0.005217 Loss_G: 0.006803 \n",
      "[2/100][105/100][1245] Loss_D: 0.007142 Loss_G: 0.004977 \n",
      "[2/100][105/100][1250] Loss_D: 0.008250 Loss_G: 0.006835 \n",
      "[2/100][105/100][1255] Loss_D: 0.004725 Loss_G: 0.006848 \n",
      "[2/100][105/100][1260] Loss_D: 0.007817 Loss_G: 0.007436 \n",
      "[2/100][105/100][1265] Loss_D: 0.007893 Loss_G: 0.008004 \n",
      "[2/100][105/100][1270] Loss_D: 0.004865 Loss_G: 0.009270 \n",
      "[2/100][105/100][1275] Loss_D: 0.007151 Loss_G: 0.006108 \n",
      "[2/100][105/100][1280] Loss_D: 0.006407 Loss_G: 0.006238 \n",
      "[2/100][105/100][1285] Loss_D: 0.008744 Loss_G: 0.006158 \n",
      "[2/100][105/100][1290] Loss_D: 0.006753 Loss_G: 0.007577 \n",
      "[2/100][105/100][1295] Loss_D: 0.007896 Loss_G: 0.004853 \n",
      "[2/100][105/100][1300] Loss_D: 0.005784 Loss_G: 0.005408 \n",
      "[2/100][105/100][1305] Loss_D: 0.005730 Loss_G: 0.007639 \n",
      "[2/100][105/100][1310] Loss_D: 0.007536 Loss_G: 0.007928 \n",
      "[2/100][105/100][1315] Loss_D: 0.006734 Loss_G: 0.007009 \n",
      "[2/100][105/100][1320] Loss_D: 0.006127 Loss_G: 0.006740 \n",
      "[2/100][105/100][1325] Loss_D: 0.006568 Loss_G: 0.007676 \n",
      "[2/100][105/100][1330] Loss_D: 0.008368 Loss_G: 0.005291 \n",
      "[2/100][105/100][1335] Loss_D: 0.009728 Loss_G: 0.006865 \n",
      "[2/100][105/100][1340] Loss_D: 0.006513 Loss_G: 0.007843 \n",
      "[2/100][105/100][1345] Loss_D: 0.006788 Loss_G: 0.004652 \n",
      "[2/100][105/100][1350] Loss_D: 0.004077 Loss_G: 0.004648 \n",
      "[2/100][105/100][1355] Loss_D: 0.008040 Loss_G: 0.004541 \n",
      "[2/100][105/100][1360] Loss_D: 0.006524 Loss_G: 0.003012 \n",
      "[2/100][105/100][1365] Loss_D: 0.004533 Loss_G: 0.008717 \n",
      "[2/100][105/100][1370] Loss_D: 0.010156 Loss_G: 0.008419 \n",
      "[2/100][105/100][1375] Loss_D: 0.008358 Loss_G: 0.010661 \n",
      "[2/100][105/100][1380] Loss_D: 0.009020 Loss_G: 0.008569 \n",
      "[2/100][105/100][1385] Loss_D: 0.010322 Loss_G: 0.007272 \n",
      "[2/100][105/100][1390] Loss_D: 0.009715 Loss_G: 0.008901 \n",
      "[2/100][105/100][1395] Loss_D: 0.008144 Loss_G: 0.005715 \n",
      "[2/100][105/100][1400] Loss_D: 0.007411 Loss_G: 0.004020 \n",
      "[2/100][105/100][1405] Loss_D: 0.006571 Loss_G: 0.004045 \n",
      "[2/100][105/100][1410] Loss_D: 0.007758 Loss_G: 0.003569 \n",
      "[2/100][105/100][1415] Loss_D: 0.006183 Loss_G: 0.003426 \n",
      "[2/100][105/100][1420] Loss_D: 0.005155 Loss_G: 0.007355 \n",
      "[2/100][105/100][1425] Loss_D: 0.007629 Loss_G: 0.005266 \n",
      "[2/100][105/100][1430] Loss_D: 0.007544 Loss_G: 0.010518 \n"
     ]
    },
    {
     "name": "stdout",
     "output_type": "stream",
     "text": [
      "[2/100][105/100][1435] Loss_D: 0.004806 Loss_G: 0.008301 \n",
      "[2/100][105/100][1440] Loss_D: 0.007686 Loss_G: 0.004062 \n",
      "[2/100][105/100][1445] Loss_D: 0.004203 Loss_G: 0.003995 \n",
      "[2/100][105/100][1450] Loss_D: 0.006330 Loss_G: 0.006498 \n",
      "[2/100][105/100][1455] Loss_D: 0.005980 Loss_G: 0.006398 \n",
      "[2/100][105/100][1460] Loss_D: 0.007376 Loss_G: 0.005464 \n",
      "[2/100][105/100][1465] Loss_D: 0.006165 Loss_G: 0.006619 \n",
      "[2/100][105/100][1470] Loss_D: 0.007495 Loss_G: 0.007382 \n",
      "[2/100][105/100][1475] Loss_D: 0.005264 Loss_G: 0.008153 \n",
      "[2/100][105/100][1480] Loss_D: 0.007551 Loss_G: 0.005735 \n",
      "[2/100][105/100][1485] Loss_D: 0.007449 Loss_G: 0.007875 \n",
      "[2/100][105/100][1490] Loss_D: 0.007589 Loss_G: 0.003581 \n",
      "[2/100][105/100][1495] Loss_D: 0.005790 Loss_G: 0.004218 \n",
      "[2/100][105/100][1500] Loss_D: 0.006050 Loss_G: 0.004989 \n",
      "[3/100][105/100][1505] Loss_D: 0.004186 Loss_G: 0.005205 \n",
      "[3/100][105/100][1510] Loss_D: 0.002844 Loss_G: 0.003980 \n",
      "[3/100][105/100][1515] Loss_D: 0.008137 Loss_G: 0.005705 \n",
      "[3/100][105/100][1520] Loss_D: 0.007861 Loss_G: 0.004546 \n",
      "[3/100][105/100][1525] Loss_D: 0.006840 Loss_G: 0.006081 \n",
      "[3/100][105/100][1530] Loss_D: 0.005784 Loss_G: 0.007150 \n",
      "[3/100][105/100][1535] Loss_D: 0.006808 Loss_G: 0.005247 \n",
      "[3/100][105/100][1540] Loss_D: 0.005868 Loss_G: 0.003132 \n",
      "[3/100][105/100][1545] Loss_D: 0.006041 Loss_G: 0.006190 \n",
      "[3/100][105/100][1550] Loss_D: 0.007401 Loss_G: 0.005969 \n",
      "[3/100][105/100][1555] Loss_D: 0.005678 Loss_G: 0.005039 \n",
      "[3/100][105/100][1560] Loss_D: 0.006856 Loss_G: 0.007219 \n",
      "[3/100][105/100][1565] Loss_D: 0.008716 Loss_G: 0.005767 \n",
      "[3/100][105/100][1570] Loss_D: 0.005379 Loss_G: 0.007573 \n",
      "[3/100][105/100][1575] Loss_D: 0.004351 Loss_G: 0.006002 \n",
      "[3/100][105/100][1580] Loss_D: 0.007075 Loss_G: 0.007665 \n",
      "[3/100][105/100][1585] Loss_D: 0.006285 Loss_G: 0.003998 \n",
      "[3/100][105/100][1590] Loss_D: 0.004953 Loss_G: 0.005709 \n",
      "[3/100][105/100][1595] Loss_D: 0.006812 Loss_G: 0.004235 \n",
      "[3/100][105/100][1600] Loss_D: 0.006322 Loss_G: 0.006106 \n",
      "[3/100][105/100][1605] Loss_D: 0.007164 Loss_G: 0.005647 \n",
      "[3/100][105/100][1610] Loss_D: 0.005533 Loss_G: 0.005976 \n",
      "[3/100][105/100][1615] Loss_D: 0.008715 Loss_G: 0.004795 \n",
      "[3/100][105/100][1620] Loss_D: 0.007902 Loss_G: 0.006211 \n",
      "[3/100][105/100][1625] Loss_D: 0.008260 Loss_G: 0.005168 \n",
      "[3/100][105/100][1630] Loss_D: 0.005479 Loss_G: 0.006634 \n",
      "[3/100][105/100][1635] Loss_D: 0.006497 Loss_G: 0.005720 \n",
      "[3/100][105/100][1640] Loss_D: 0.006026 Loss_G: 0.007182 \n",
      "[3/100][105/100][1645] Loss_D: 0.003279 Loss_G: 0.004105 \n",
      "[3/100][105/100][1650] Loss_D: 0.004988 Loss_G: 0.006648 \n",
      "[3/100][105/100][1655] Loss_D: 0.005719 Loss_G: 0.008072 \n",
      "[3/100][105/100][1660] Loss_D: 0.005543 Loss_G: 0.005817 \n",
      "[3/100][105/100][1665] Loss_D: 0.008401 Loss_G: 0.003523 \n",
      "[3/100][105/100][1670] Loss_D: 0.006083 Loss_G: 0.005446 \n",
      "[3/100][105/100][1675] Loss_D: 0.007196 Loss_G: 0.008709 \n",
      "[3/100][105/100][1680] Loss_D: 0.005963 Loss_G: 0.004706 \n",
      "[3/100][105/100][1685] Loss_D: 0.006784 Loss_G: 0.004553 \n",
      "[3/100][105/100][1690] Loss_D: 0.003983 Loss_G: 0.006372 \n",
      "[3/100][105/100][1695] Loss_D: 0.004589 Loss_G: 0.006957 \n",
      "[3/100][105/100][1700] Loss_D: 0.006863 Loss_G: 0.005765 \n",
      "[3/100][105/100][1705] Loss_D: 0.006603 Loss_G: 0.007444 \n",
      "[3/100][105/100][1710] Loss_D: 0.005112 Loss_G: 0.005397 \n",
      "[3/100][105/100][1715] Loss_D: 0.005585 Loss_G: 0.005366 \n",
      "[3/100][105/100][1720] Loss_D: 0.007450 Loss_G: 0.009215 \n",
      "[3/100][105/100][1725] Loss_D: 0.008803 Loss_G: 0.006999 \n",
      "[3/100][105/100][1730] Loss_D: 0.004827 Loss_G: 0.005199 \n",
      "[3/100][105/100][1735] Loss_D: 0.006144 Loss_G: 0.008260 \n",
      "[3/100][105/100][1740] Loss_D: 0.004133 Loss_G: 0.006141 \n",
      "[3/100][105/100][1745] Loss_D: 0.008354 Loss_G: 0.003727 \n",
      "[3/100][105/100][1750] Loss_D: 0.008270 Loss_G: 0.006555 \n",
      "[3/100][105/100][1755] Loss_D: 0.007731 Loss_G: 0.006667 \n",
      "[3/100][105/100][1760] Loss_D: 0.004137 Loss_G: 0.005003 \n",
      "[3/100][105/100][1765] Loss_D: 0.006461 Loss_G: 0.006701 \n",
      "[3/100][105/100][1770] Loss_D: 0.005271 Loss_G: 0.006496 \n",
      "[3/100][105/100][1775] Loss_D: 0.005419 Loss_G: 0.004352 \n",
      "[3/100][105/100][1780] Loss_D: 0.005364 Loss_G: 0.004723 \n",
      "[3/100][105/100][1785] Loss_D: 0.006108 Loss_G: 0.004932 \n",
      "[3/100][105/100][1790] Loss_D: 0.006960 Loss_G: 0.007351 \n",
      "[3/100][105/100][1795] Loss_D: 0.005309 Loss_G: 0.006354 \n",
      "[3/100][105/100][1800] Loss_D: 0.006572 Loss_G: 0.008073 \n",
      "[3/100][105/100][1805] Loss_D: 0.008754 Loss_G: 0.004946 \n",
      "[3/100][105/100][1810] Loss_D: 0.004224 Loss_G: 0.004648 \n",
      "[3/100][105/100][1815] Loss_D: 0.005913 Loss_G: 0.007137 \n",
      "[3/100][105/100][1820] Loss_D: 0.008535 Loss_G: 0.005972 \n",
      "[3/100][105/100][1825] Loss_D: 0.005179 Loss_G: 0.008332 \n",
      "[3/100][105/100][1830] Loss_D: 0.005971 Loss_G: 0.006852 \n",
      "[3/100][105/100][1835] Loss_D: 0.007387 Loss_G: 0.008080 \n",
      "[3/100][105/100][1840] Loss_D: 0.007242 Loss_G: 0.005586 \n",
      "[3/100][105/100][1845] Loss_D: 0.005248 Loss_G: 0.005263 \n",
      "[3/100][105/100][1850] Loss_D: 0.006246 Loss_G: 0.008793 \n",
      "[3/100][105/100][1855] Loss_D: 0.005362 Loss_G: 0.003054 \n",
      "[3/100][105/100][1860] Loss_D: 0.007997 Loss_G: 0.007083 \n",
      "[3/100][105/100][1865] Loss_D: 0.008480 Loss_G: 0.005279 \n",
      "[3/100][105/100][1870] Loss_D: 0.006797 Loss_G: 0.008905 \n",
      "[3/100][105/100][1875] Loss_D: 0.004793 Loss_G: 0.006033 \n",
      "[3/100][105/100][1880] Loss_D: 0.004202 Loss_G: 0.008041 \n",
      "[3/100][105/100][1885] Loss_D: 0.004566 Loss_G: 0.006782 \n",
      "[3/100][105/100][1890] Loss_D: 0.005228 Loss_G: 0.005879 \n",
      "[3/100][105/100][1895] Loss_D: 0.007273 Loss_G: 0.004238 \n",
      "[3/100][105/100][1900] Loss_D: 0.005938 Loss_G: 0.005515 \n",
      "[3/100][105/100][1905] Loss_D: 0.007128 Loss_G: 0.005897 \n",
      "[3/100][105/100][1910] Loss_D: 0.006966 Loss_G: 0.005800 \n",
      "[3/100][105/100][1915] Loss_D: 0.011432 Loss_G: 0.007788 \n",
      "[3/100][105/100][1920] Loss_D: 0.009916 Loss_G: 0.006599 \n",
      "[3/100][105/100][1925] Loss_D: 0.005667 Loss_G: 0.005839 \n",
      "[3/100][105/100][1930] Loss_D: 0.005570 Loss_G: 0.007103 \n",
      "[3/100][105/100][1935] Loss_D: 0.006248 Loss_G: 0.008118 \n",
      "[3/100][105/100][1940] Loss_D: 0.006548 Loss_G: 0.004804 \n",
      "[3/100][105/100][1945] Loss_D: 0.005125 Loss_G: 0.005240 \n",
      "[3/100][105/100][1950] Loss_D: 0.006176 Loss_G: 0.003670 \n",
      "[3/100][105/100][1955] Loss_D: 0.008307 Loss_G: 0.005359 \n",
      "[3/100][105/100][1960] Loss_D: 0.004469 Loss_G: 0.006233 \n",
      "[3/100][105/100][1965] Loss_D: 0.007059 Loss_G: 0.005878 \n",
      "[3/100][105/100][1970] Loss_D: 0.006121 Loss_G: 0.008668 \n",
      "[3/100][105/100][1975] Loss_D: 0.006075 Loss_G: 0.012312 \n",
      "[3/100][105/100][1980] Loss_D: 0.011865 Loss_G: 0.009999 \n",
      "[3/100][105/100][1985] Loss_D: 0.005769 Loss_G: 0.007181 \n",
      "[3/100][105/100][1990] Loss_D: 0.007943 Loss_G: 0.005250 \n",
      "[3/100][105/100][1995] Loss_D: 0.006565 Loss_G: 0.005964 \n",
      "[3/100][105/100][2000] Loss_D: 0.006448 Loss_G: 0.004931 \n",
      "[4/100][105/100][2005] Loss_D: 0.005188 Loss_G: 0.006450 \n",
      "[4/100][105/100][2010] Loss_D: 0.006941 Loss_G: 0.005740 \n",
      "[4/100][105/100][2015] Loss_D: 0.009004 Loss_G: 0.007755 \n",
      "[4/100][105/100][2020] Loss_D: 0.006970 Loss_G: 0.008086 \n",
      "[4/100][105/100][2025] Loss_D: 0.006230 Loss_G: 0.010195 \n",
      "[4/100][105/100][2030] Loss_D: 0.008085 Loss_G: 0.005736 \n",
      "[4/100][105/100][2035] Loss_D: 0.006289 Loss_G: 0.008748 \n",
      "[4/100][105/100][2040] Loss_D: 0.006044 Loss_G: 0.008070 \n",
      "[4/100][105/100][2045] Loss_D: 0.003617 Loss_G: 0.007775 \n",
      "[4/100][105/100][2050] Loss_D: 0.006695 Loss_G: 0.007431 \n",
      "[4/100][105/100][2055] Loss_D: 0.004839 Loss_G: 0.005708 \n",
      "[4/100][105/100][2060] Loss_D: 0.005094 Loss_G: 0.004796 \n",
      "[4/100][105/100][2065] Loss_D: 0.006488 Loss_G: 0.004702 \n",
      "[4/100][105/100][2070] Loss_D: 0.007279 Loss_G: 0.005253 \n",
      "[4/100][105/100][2075] Loss_D: 0.009107 Loss_G: 0.008272 \n",
      "[4/100][105/100][2080] Loss_D: 0.007303 Loss_G: 0.006318 \n",
      "[4/100][105/100][2085] Loss_D: 0.005811 Loss_G: 0.008038 \n",
      "[4/100][105/100][2090] Loss_D: 0.008286 Loss_G: 0.004815 \n",
      "[4/100][105/100][2095] Loss_D: 0.006507 Loss_G: 0.005714 \n",
      "[4/100][105/100][2100] Loss_D: 0.005327 Loss_G: 0.006017 \n",
      "[4/100][105/100][2105] Loss_D: 0.007205 Loss_G: 0.003540 \n",
      "[4/100][105/100][2110] Loss_D: 0.006060 Loss_G: 0.003794 \n",
      "[4/100][105/100][2115] Loss_D: 0.006151 Loss_G: 0.005992 \n",
      "[4/100][105/100][2120] Loss_D: 0.004443 Loss_G: 0.006607 \n",
      "[4/100][105/100][2125] Loss_D: 0.006824 Loss_G: 0.006317 \n",
      "[4/100][105/100][2130] Loss_D: 0.005841 Loss_G: 0.006547 \n",
      "[4/100][105/100][2135] Loss_D: 0.009133 Loss_G: 0.006111 \n"
     ]
    },
    {
     "name": "stdout",
     "output_type": "stream",
     "text": [
      "[4/100][105/100][2140] Loss_D: 0.005397 Loss_G: 0.008067 \n",
      "[4/100][105/100][2145] Loss_D: 0.006114 Loss_G: 0.006646 \n",
      "[4/100][105/100][2150] Loss_D: 0.002982 Loss_G: 0.006516 \n",
      "[4/100][105/100][2155] Loss_D: 0.003202 Loss_G: 0.003983 \n",
      "[4/100][105/100][2160] Loss_D: 0.004661 Loss_G: 0.005527 \n",
      "[4/100][105/100][2165] Loss_D: 0.009507 Loss_G: 0.006536 \n",
      "[4/100][105/100][2170] Loss_D: 0.009770 Loss_G: 0.005267 \n",
      "[4/100][105/100][2175] Loss_D: 0.009493 Loss_G: 0.006496 \n",
      "[4/100][105/100][2180] Loss_D: 0.008079 Loss_G: 0.005069 \n",
      "[4/100][105/100][2185] Loss_D: 0.006594 Loss_G: 0.005928 \n",
      "[4/100][105/100][2190] Loss_D: 0.005231 Loss_G: 0.005411 \n",
      "[4/100][105/100][2195] Loss_D: 0.006604 Loss_G: 0.007546 \n",
      "[4/100][105/100][2200] Loss_D: 0.005046 Loss_G: 0.005359 \n",
      "[4/100][105/100][2205] Loss_D: 0.007615 Loss_G: 0.005027 \n",
      "[4/100][105/100][2210] Loss_D: 0.005627 Loss_G: 0.006062 \n",
      "[4/100][105/100][2215] Loss_D: 0.007993 Loss_G: 0.006666 \n",
      "[4/100][105/100][2220] Loss_D: 0.006909 Loss_G: 0.005164 \n",
      "[4/100][105/100][2225] Loss_D: 0.003445 Loss_G: 0.005321 \n",
      "[4/100][105/100][2230] Loss_D: 0.007432 Loss_G: 0.003975 \n",
      "[4/100][105/100][2235] Loss_D: 0.004600 Loss_G: 0.006573 \n",
      "[4/100][105/100][2240] Loss_D: 0.005064 Loss_G: 0.005651 \n",
      "[4/100][105/100][2245] Loss_D: 0.006183 Loss_G: 0.007258 \n",
      "[4/100][105/100][2250] Loss_D: 0.008220 Loss_G: 0.006276 \n",
      "[4/100][105/100][2255] Loss_D: 0.005216 Loss_G: 0.005909 \n",
      "[4/100][105/100][2260] Loss_D: 0.004835 Loss_G: 0.006557 \n",
      "[4/100][105/100][2265] Loss_D: 0.005118 Loss_G: 0.004982 \n",
      "[4/100][105/100][2270] Loss_D: 0.005598 Loss_G: 0.007681 \n",
      "[4/100][105/100][2275] Loss_D: 0.006968 Loss_G: 0.008220 \n",
      "[4/100][105/100][2280] Loss_D: 0.005009 Loss_G: 0.007160 \n",
      "[4/100][105/100][2285] Loss_D: 0.008795 Loss_G: 0.006812 \n",
      "[4/100][105/100][2290] Loss_D: 0.006647 Loss_G: 0.006301 \n",
      "[4/100][105/100][2295] Loss_D: 0.006952 Loss_G: 0.006195 \n",
      "[4/100][105/100][2300] Loss_D: 0.007239 Loss_G: 0.006032 \n",
      "[4/100][105/100][2305] Loss_D: 0.006863 Loss_G: 0.005569 \n",
      "[4/100][105/100][2310] Loss_D: 0.006868 Loss_G: 0.006899 \n",
      "[4/100][105/100][2315] Loss_D: 0.005011 Loss_G: 0.005564 \n",
      "[4/100][105/100][2320] Loss_D: 0.004817 Loss_G: 0.004607 \n",
      "[4/100][105/100][2325] Loss_D: 0.005150 Loss_G: 0.005950 \n",
      "[4/100][105/100][2330] Loss_D: 0.007561 Loss_G: 0.007623 \n",
      "[4/100][105/100][2335] Loss_D: 0.005866 Loss_G: 0.007018 \n",
      "[4/100][105/100][2340] Loss_D: 0.005518 Loss_G: 0.006878 \n",
      "[4/100][105/100][2345] Loss_D: 0.004438 Loss_G: 0.005939 \n",
      "[4/100][105/100][2350] Loss_D: 0.004227 Loss_G: 0.007733 \n",
      "[4/100][105/100][2355] Loss_D: 0.007218 Loss_G: 0.005595 \n",
      "[4/100][105/100][2360] Loss_D: 0.004146 Loss_G: 0.005007 \n",
      "[4/100][105/100][2365] Loss_D: 0.007558 Loss_G: 0.007610 \n",
      "[4/100][105/100][2370] Loss_D: 0.006786 Loss_G: 0.005649 \n",
      "[4/100][105/100][2375] Loss_D: 0.006178 Loss_G: 0.005589 \n",
      "[4/100][105/100][2380] Loss_D: 0.003341 Loss_G: 0.008351 \n",
      "[4/100][105/100][2385] Loss_D: 0.006178 Loss_G: 0.006054 \n",
      "[4/100][105/100][2390] Loss_D: 0.008122 Loss_G: 0.004796 \n",
      "[4/100][105/100][2395] Loss_D: 0.006722 Loss_G: 0.005125 \n",
      "[4/100][105/100][2400] Loss_D: 0.004604 Loss_G: 0.003277 \n",
      "[4/100][105/100][2405] Loss_D: 0.004073 Loss_G: 0.007707 \n",
      "[4/100][105/100][2410] Loss_D: 0.005867 Loss_G: 0.005886 \n",
      "[4/100][105/100][2415] Loss_D: 0.007389 Loss_G: 0.006102 \n",
      "[4/100][105/100][2420] Loss_D: 0.004931 Loss_G: 0.007507 \n",
      "[4/100][105/100][2425] Loss_D: 0.007500 Loss_G: 0.008135 \n",
      "[4/100][105/100][2430] Loss_D: 0.003298 Loss_G: 0.007325 \n",
      "[4/100][105/100][2435] Loss_D: 0.006459 Loss_G: 0.008482 \n",
      "[4/100][105/100][2440] Loss_D: 0.005157 Loss_G: 0.007180 \n",
      "[4/100][105/100][2445] Loss_D: 0.005765 Loss_G: 0.006104 \n",
      "[4/100][105/100][2450] Loss_D: 0.005342 Loss_G: 0.007415 \n",
      "[4/100][105/100][2455] Loss_D: 0.006759 Loss_G: 0.003860 \n",
      "[4/100][105/100][2460] Loss_D: 0.004420 Loss_G: 0.005262 \n",
      "[4/100][105/100][2465] Loss_D: 0.004976 Loss_G: 0.004583 \n",
      "[4/100][105/100][2470] Loss_D: 0.006040 Loss_G: 0.006390 \n",
      "[4/100][105/100][2475] Loss_D: 0.006375 Loss_G: 0.007975 \n",
      "[4/100][105/100][2480] Loss_D: 0.009130 Loss_G: 0.005833 \n",
      "[4/100][105/100][2485] Loss_D: 0.004172 Loss_G: 0.005609 \n",
      "[4/100][105/100][2490] Loss_D: 0.007166 Loss_G: 0.006036 \n",
      "[4/100][105/100][2495] Loss_D: 0.004670 Loss_G: 0.004933 \n",
      "[4/100][105/100][2500] Loss_D: 0.007752 Loss_G: 0.004697 \n",
      "[5/100][105/100][2505] Loss_D: 0.005438 Loss_G: 0.004865 \n",
      "[5/100][105/100][2510] Loss_D: 0.006681 Loss_G: 0.005556 \n",
      "[5/100][105/100][2515] Loss_D: 0.007035 Loss_G: 0.005077 \n",
      "[5/100][105/100][2520] Loss_D: 0.004545 Loss_G: 0.006400 \n",
      "[5/100][105/100][2525] Loss_D: 0.007402 Loss_G: 0.008654 \n",
      "[5/100][105/100][2530] Loss_D: 0.008872 Loss_G: 0.009713 \n",
      "[5/100][105/100][2535] Loss_D: 0.004252 Loss_G: 0.007224 \n",
      "[5/100][105/100][2540] Loss_D: 0.005654 Loss_G: 0.008444 \n",
      "[5/100][105/100][2545] Loss_D: 0.009410 Loss_G: 0.005330 \n",
      "[5/100][105/100][2550] Loss_D: 0.007082 Loss_G: 0.006761 \n",
      "[5/100][105/100][2555] Loss_D: 0.007298 Loss_G: 0.005002 \n",
      "[5/100][105/100][2560] Loss_D: 0.007910 Loss_G: 0.003414 \n",
      "[5/100][105/100][2565] Loss_D: 0.005925 Loss_G: 0.004688 \n",
      "[5/100][105/100][2570] Loss_D: 0.006123 Loss_G: 0.006430 \n",
      "[5/100][105/100][2575] Loss_D: 0.004332 Loss_G: 0.003777 \n",
      "[5/100][105/100][2580] Loss_D: 0.009213 Loss_G: 0.006784 \n",
      "[5/100][105/100][2585] Loss_D: 0.010970 Loss_G: 0.011150 \n",
      "[5/100][105/100][2590] Loss_D: 0.008771 Loss_G: 0.005955 \n",
      "[5/100][105/100][2595] Loss_D: 0.006010 Loss_G: 0.006761 \n",
      "[5/100][105/100][2600] Loss_D: 0.006828 Loss_G: 0.006893 \n",
      "[5/100][105/100][2605] Loss_D: 0.006008 Loss_G: 0.005544 \n",
      "[5/100][105/100][2610] Loss_D: 0.005352 Loss_G: 0.005594 \n",
      "[5/100][105/100][2615] Loss_D: 0.004650 Loss_G: 0.005750 \n",
      "[5/100][105/100][2620] Loss_D: 0.005846 Loss_G: 0.006947 \n",
      "[5/100][105/100][2625] Loss_D: 0.005333 Loss_G: 0.010425 \n",
      "[5/100][105/100][2630] Loss_D: 0.007282 Loss_G: 0.005706 \n",
      "[5/100][105/100][2635] Loss_D: 0.005989 Loss_G: 0.008683 \n",
      "[5/100][105/100][2640] Loss_D: 0.009390 Loss_G: 0.007706 \n",
      "[5/100][105/100][2645] Loss_D: 0.007153 Loss_G: 0.006343 \n",
      "[5/100][105/100][2650] Loss_D: 0.010398 Loss_G: 0.008382 \n",
      "[5/100][105/100][2655] Loss_D: 0.005856 Loss_G: 0.005915 \n",
      "[5/100][105/100][2660] Loss_D: 0.007827 Loss_G: 0.005559 \n",
      "[5/100][105/100][2665] Loss_D: 0.008194 Loss_G: 0.004992 \n",
      "[5/100][105/100][2670] Loss_D: 0.003708 Loss_G: 0.003529 \n",
      "[5/100][105/100][2675] Loss_D: 0.006671 Loss_G: 0.005525 \n",
      "[5/100][105/100][2680] Loss_D: 0.004480 Loss_G: 0.006007 \n",
      "[5/100][105/100][2685] Loss_D: 0.006728 Loss_G: 0.008486 \n",
      "[5/100][105/100][2690] Loss_D: 0.005353 Loss_G: 0.006389 \n",
      "[5/100][105/100][2695] Loss_D: 0.007179 Loss_G: 0.005247 \n",
      "[5/100][105/100][2700] Loss_D: 0.008288 Loss_G: 0.008352 \n",
      "[5/100][105/100][2705] Loss_D: 0.006265 Loss_G: 0.005970 \n",
      "[5/100][105/100][2710] Loss_D: 0.006500 Loss_G: 0.007352 \n",
      "[5/100][105/100][2715] Loss_D: 0.006744 Loss_G: 0.005958 \n",
      "[5/100][105/100][2720] Loss_D: 0.006090 Loss_G: 0.007769 \n",
      "[5/100][105/100][2725] Loss_D: 0.005583 Loss_G: 0.007706 \n",
      "[5/100][105/100][2730] Loss_D: 0.005142 Loss_G: 0.005390 \n",
      "[5/100][105/100][2735] Loss_D: 0.004932 Loss_G: 0.005661 \n",
      "[5/100][105/100][2740] Loss_D: 0.005548 Loss_G: 0.005325 \n",
      "[5/100][105/100][2745] Loss_D: 0.007238 Loss_G: 0.008111 \n",
      "[5/100][105/100][2750] Loss_D: 0.006966 Loss_G: 0.005467 \n",
      "[5/100][105/100][2755] Loss_D: 0.004252 Loss_G: 0.006486 \n",
      "[5/100][105/100][2760] Loss_D: 0.006141 Loss_G: 0.008330 \n",
      "[5/100][105/100][2765] Loss_D: 0.006700 Loss_G: 0.007864 \n",
      "[5/100][105/100][2770] Loss_D: 0.009847 Loss_G: 0.004150 \n",
      "[5/100][105/100][2775] Loss_D: 0.004891 Loss_G: 0.003973 \n",
      "[5/100][105/100][2780] Loss_D: 0.005203 Loss_G: 0.003926 \n",
      "[5/100][105/100][2785] Loss_D: 0.005257 Loss_G: 0.004671 \n",
      "[5/100][105/100][2790] Loss_D: 0.004890 Loss_G: 0.005420 \n",
      "[5/100][105/100][2795] Loss_D: 0.006118 Loss_G: 0.004226 \n",
      "[5/100][105/100][2800] Loss_D: 0.004360 Loss_G: 0.009630 \n",
      "[5/100][105/100][2805] Loss_D: 0.008728 Loss_G: 0.004756 \n",
      "[5/100][105/100][2810] Loss_D: 0.005516 Loss_G: 0.008005 \n",
      "[5/100][105/100][2815] Loss_D: 0.009004 Loss_G: 0.006132 \n",
      "[5/100][105/100][2820] Loss_D: 0.005632 Loss_G: 0.004621 \n",
      "[5/100][105/100][2825] Loss_D: 0.007280 Loss_G: 0.005454 \n",
      "[5/100][105/100][2830] Loss_D: 0.007027 Loss_G: 0.004863 \n",
      "[5/100][105/100][2835] Loss_D: 0.007105 Loss_G: 0.004901 \n",
      "[5/100][105/100][2840] Loss_D: 0.007802 Loss_G: 0.005125 \n"
     ]
    },
    {
     "name": "stdout",
     "output_type": "stream",
     "text": [
      "[5/100][105/100][2845] Loss_D: 0.004119 Loss_G: 0.004469 \n",
      "[5/100][105/100][2850] Loss_D: 0.005417 Loss_G: 0.004402 \n",
      "[5/100][105/100][2855] Loss_D: 0.007087 Loss_G: 0.004485 \n",
      "[5/100][105/100][2860] Loss_D: 0.009024 Loss_G: 0.007040 \n",
      "[5/100][105/100][2865] Loss_D: 0.008499 Loss_G: 0.004693 \n",
      "[5/100][105/100][2870] Loss_D: 0.008288 Loss_G: 0.009006 \n",
      "[5/100][105/100][2875] Loss_D: 0.006770 Loss_G: 0.005942 \n",
      "[5/100][105/100][2880] Loss_D: 0.006273 Loss_G: 0.005287 \n",
      "[5/100][105/100][2885] Loss_D: 0.004838 Loss_G: 0.003887 \n",
      "[5/100][105/100][2890] Loss_D: 0.003881 Loss_G: 0.003454 \n",
      "[5/100][105/100][2895] Loss_D: 0.004680 Loss_G: 0.005334 \n",
      "[5/100][105/100][2900] Loss_D: 0.005735 Loss_G: 0.005706 \n",
      "[5/100][105/100][2905] Loss_D: 0.005310 Loss_G: 0.006628 \n",
      "[5/100][105/100][2910] Loss_D: 0.004858 Loss_G: 0.006431 \n",
      "[5/100][105/100][2915] Loss_D: 0.004043 Loss_G: 0.006606 \n",
      "[5/100][105/100][2920] Loss_D: 0.008372 Loss_G: 0.007513 \n",
      "[5/100][105/100][2925] Loss_D: 0.006713 Loss_G: 0.008142 \n",
      "[5/100][105/100][2930] Loss_D: 0.008248 Loss_G: 0.006099 \n",
      "[5/100][105/100][2935] Loss_D: 0.008368 Loss_G: 0.006750 \n",
      "[5/100][105/100][2940] Loss_D: 0.006002 Loss_G: 0.003917 \n",
      "[5/100][105/100][2945] Loss_D: 0.005826 Loss_G: 0.003483 \n",
      "[5/100][105/100][2950] Loss_D: 0.007546 Loss_G: 0.006296 \n",
      "[5/100][105/100][2955] Loss_D: 0.009289 Loss_G: 0.009323 \n",
      "[5/100][105/100][2960] Loss_D: 0.011485 Loss_G: 0.006006 \n",
      "[5/100][105/100][2965] Loss_D: 0.005049 Loss_G: 0.007352 \n",
      "[5/100][105/100][2970] Loss_D: 0.005659 Loss_G: 0.006805 \n",
      "[5/100][105/100][2975] Loss_D: 0.004772 Loss_G: 0.006853 \n",
      "[5/100][105/100][2980] Loss_D: 0.008352 Loss_G: 0.005745 \n",
      "[5/100][105/100][2985] Loss_D: 0.006254 Loss_G: 0.004558 \n",
      "[5/100][105/100][2990] Loss_D: 0.006653 Loss_G: 0.003017 \n",
      "[5/100][105/100][2995] Loss_D: 0.007242 Loss_G: 0.004030 \n",
      "[5/100][105/100][3000] Loss_D: 0.006687 Loss_G: 0.004246 \n",
      "[6/100][105/100][3005] Loss_D: 0.007062 Loss_G: 0.006575 \n",
      "[6/100][105/100][3010] Loss_D: 0.007806 Loss_G: 0.009303 \n",
      "[6/100][105/100][3015] Loss_D: 0.008591 Loss_G: 0.007584 \n",
      "[6/100][105/100][3020] Loss_D: 0.007028 Loss_G: 0.006201 \n",
      "[6/100][105/100][3025] Loss_D: 0.006610 Loss_G: 0.007947 \n",
      "[6/100][105/100][3030] Loss_D: 0.007711 Loss_G: 0.005480 \n",
      "[6/100][105/100][3035] Loss_D: 0.004752 Loss_G: 0.005390 \n",
      "[6/100][105/100][3040] Loss_D: 0.006498 Loss_G: 0.007153 \n",
      "[6/100][105/100][3045] Loss_D: 0.004283 Loss_G: 0.004674 \n",
      "[6/100][105/100][3050] Loss_D: 0.004766 Loss_G: 0.006946 \n",
      "[6/100][105/100][3055] Loss_D: 0.008220 Loss_G: 0.005211 \n",
      "[6/100][105/100][3060] Loss_D: 0.007203 Loss_G: 0.005198 \n",
      "[6/100][105/100][3065] Loss_D: 0.007857 Loss_G: 0.006411 \n",
      "[6/100][105/100][3070] Loss_D: 0.007370 Loss_G: 0.007176 \n",
      "[6/100][105/100][3075] Loss_D: 0.007891 Loss_G: 0.004534 \n",
      "[6/100][105/100][3080] Loss_D: 0.004372 Loss_G: 0.005344 \n",
      "[6/100][105/100][3085] Loss_D: 0.004434 Loss_G: 0.005425 \n",
      "[6/100][105/100][3090] Loss_D: 0.006385 Loss_G: 0.005416 \n",
      "[6/100][105/100][3095] Loss_D: 0.004844 Loss_G: 0.004959 \n",
      "[6/100][105/100][3100] Loss_D: 0.005983 Loss_G: 0.006948 \n",
      "[6/100][105/100][3105] Loss_D: 0.006698 Loss_G: 0.006080 \n",
      "[6/100][105/100][3110] Loss_D: 0.004562 Loss_G: 0.006014 \n",
      "[6/100][105/100][3115] Loss_D: 0.006611 Loss_G: 0.006916 \n",
      "[6/100][105/100][3120] Loss_D: 0.003639 Loss_G: 0.008335 \n",
      "[6/100][105/100][3125] Loss_D: 0.007559 Loss_G: 0.006367 \n",
      "[6/100][105/100][3130] Loss_D: 0.006746 Loss_G: 0.006306 \n",
      "[6/100][105/100][3135] Loss_D: 0.007286 Loss_G: 0.009663 \n",
      "[6/100][105/100][3140] Loss_D: 0.006098 Loss_G: 0.004213 \n",
      "[6/100][105/100][3145] Loss_D: 0.005139 Loss_G: 0.005387 \n",
      "[6/100][105/100][3150] Loss_D: 0.004915 Loss_G: 0.004436 \n",
      "[6/100][105/100][3155] Loss_D: 0.006668 Loss_G: 0.004635 \n",
      "[6/100][105/100][3160] Loss_D: 0.005522 Loss_G: 0.004151 \n",
      "[6/100][105/100][3165] Loss_D: 0.005225 Loss_G: 0.005551 \n",
      "[6/100][105/100][3170] Loss_D: 0.006582 Loss_G: 0.005902 \n",
      "[6/100][105/100][3175] Loss_D: 0.007714 Loss_G: 0.005952 \n",
      "[6/100][105/100][3180] Loss_D: 0.006459 Loss_G: 0.006093 \n",
      "[6/100][105/100][3185] Loss_D: 0.007166 Loss_G: 0.005159 \n",
      "[6/100][105/100][3190] Loss_D: 0.005934 Loss_G: 0.004569 \n",
      "[6/100][105/100][3195] Loss_D: 0.006291 Loss_G: 0.006093 \n",
      "[6/100][105/100][3200] Loss_D: 0.006813 Loss_G: 0.005507 \n",
      "[6/100][105/100][3205] Loss_D: 0.004786 Loss_G: 0.004779 \n",
      "[6/100][105/100][3210] Loss_D: 0.004523 Loss_G: 0.006149 \n",
      "[6/100][105/100][3215] Loss_D: 0.006888 Loss_G: 0.005496 \n",
      "[6/100][105/100][3220] Loss_D: 0.005537 Loss_G: 0.007686 \n",
      "[6/100][105/100][3225] Loss_D: 0.010850 Loss_G: 0.006005 \n",
      "[6/100][105/100][3230] Loss_D: 0.007648 Loss_G: 0.004879 \n",
      "[6/100][105/100][3235] Loss_D: 0.004515 Loss_G: 0.007163 \n",
      "[6/100][105/100][3240] Loss_D: 0.007173 Loss_G: 0.007250 \n",
      "[6/100][105/100][3245] Loss_D: 0.006094 Loss_G: 0.007224 \n",
      "[6/100][105/100][3250] Loss_D: 0.006538 Loss_G: 0.008140 \n",
      "[6/100][105/100][3255] Loss_D: 0.004919 Loss_G: 0.005912 \n",
      "[6/100][105/100][3260] Loss_D: 0.003268 Loss_G: 0.005909 \n",
      "[6/100][105/100][3265] Loss_D: 0.005841 Loss_G: 0.007153 \n",
      "[6/100][105/100][3270] Loss_D: 0.007099 Loss_G: 0.006304 \n",
      "[6/100][105/100][3275] Loss_D: 0.006444 Loss_G: 0.006340 \n",
      "[6/100][105/100][3280] Loss_D: 0.004695 Loss_G: 0.005170 \n",
      "[6/100][105/100][3285] Loss_D: 0.006198 Loss_G: 0.004117 \n",
      "[6/100][105/100][3290] Loss_D: 0.005449 Loss_G: 0.006934 \n",
      "[6/100][105/100][3295] Loss_D: 0.007063 Loss_G: 0.005837 \n",
      "[6/100][105/100][3300] Loss_D: 0.006391 Loss_G: 0.005079 \n",
      "[6/100][105/100][3305] Loss_D: 0.007440 Loss_G: 0.004817 \n",
      "[6/100][105/100][3310] Loss_D: 0.005793 Loss_G: 0.006522 \n",
      "[6/100][105/100][3315] Loss_D: 0.006958 Loss_G: 0.006119 \n",
      "[6/100][105/100][3320] Loss_D: 0.003465 Loss_G: 0.006949 \n",
      "[6/100][105/100][3325] Loss_D: 0.005759 Loss_G: 0.005563 \n",
      "[6/100][105/100][3330] Loss_D: 0.005522 Loss_G: 0.006295 \n",
      "[6/100][105/100][3335] Loss_D: 0.006488 Loss_G: 0.005556 \n",
      "[6/100][105/100][3340] Loss_D: 0.007302 Loss_G: 0.006059 \n",
      "[6/100][105/100][3345] Loss_D: 0.005854 Loss_G: 0.006526 \n",
      "[6/100][105/100][3350] Loss_D: 0.006858 Loss_G: 0.006568 \n",
      "[6/100][105/100][3355] Loss_D: 0.004749 Loss_G: 0.006942 \n",
      "[6/100][105/100][3360] Loss_D: 0.005683 Loss_G: 0.004352 \n",
      "[6/100][105/100][3365] Loss_D: 0.004617 Loss_G: 0.004413 \n",
      "[6/100][105/100][3370] Loss_D: 0.004314 Loss_G: 0.007675 \n",
      "[6/100][105/100][3375] Loss_D: 0.007757 Loss_G: 0.005617 \n",
      "[6/100][105/100][3380] Loss_D: 0.006665 Loss_G: 0.006061 \n",
      "[6/100][105/100][3385] Loss_D: 0.007027 Loss_G: 0.005816 \n",
      "[6/100][105/100][3390] Loss_D: 0.008256 Loss_G: 0.004829 \n",
      "[6/100][105/100][3395] Loss_D: 0.006242 Loss_G: 0.004862 \n",
      "[6/100][105/100][3400] Loss_D: 0.006311 Loss_G: 0.009593 \n",
      "[6/100][105/100][3405] Loss_D: 0.007847 Loss_G: 0.004517 \n",
      "[6/100][105/100][3410] Loss_D: 0.006209 Loss_G: 0.004291 \n",
      "[6/100][105/100][3415] Loss_D: 0.005989 Loss_G: 0.006423 \n",
      "[6/100][105/100][3420] Loss_D: 0.005422 Loss_G: 0.003643 \n",
      "[6/100][105/100][3425] Loss_D: 0.004434 Loss_G: 0.005894 \n",
      "[6/100][105/100][3430] Loss_D: 0.005649 Loss_G: 0.009120 \n",
      "[6/100][105/100][3435] Loss_D: 0.007208 Loss_G: 0.007118 \n",
      "[6/100][105/100][3440] Loss_D: 0.007316 Loss_G: 0.005134 \n",
      "[6/100][105/100][3445] Loss_D: 0.006039 Loss_G: 0.009180 \n",
      "[6/100][105/100][3450] Loss_D: 0.005344 Loss_G: 0.004796 \n",
      "[6/100][105/100][3455] Loss_D: 0.004087 Loss_G: 0.007295 \n",
      "[6/100][105/100][3460] Loss_D: 0.004952 Loss_G: 0.005567 \n",
      "[6/100][105/100][3465] Loss_D: 0.004745 Loss_G: 0.004652 \n",
      "[6/100][105/100][3470] Loss_D: 0.004007 Loss_G: 0.003518 \n",
      "[6/100][105/100][3475] Loss_D: 0.006777 Loss_G: 0.005256 \n",
      "[6/100][105/100][3480] Loss_D: 0.005683 Loss_G: 0.004988 \n",
      "[6/100][105/100][3485] Loss_D: 0.004880 Loss_G: 0.006704 \n",
      "[6/100][105/100][3490] Loss_D: 0.004658 Loss_G: 0.004227 \n",
      "[6/100][105/100][3495] Loss_D: 0.006572 Loss_G: 0.007057 \n",
      "[6/100][105/100][3500] Loss_D: 0.005368 Loss_G: 0.005418 \n",
      "[7/100][105/100][3505] Loss_D: 0.009533 Loss_G: 0.007407 \n",
      "[7/100][105/100][3510] Loss_D: 0.008810 Loss_G: 0.006634 \n",
      "[7/100][105/100][3515] Loss_D: 0.006126 Loss_G: 0.006254 \n",
      "[7/100][105/100][3520] Loss_D: 0.003852 Loss_G: 0.003240 \n",
      "[7/100][105/100][3525] Loss_D: 0.003455 Loss_G: 0.004649 \n",
      "[7/100][105/100][3530] Loss_D: 0.003843 Loss_G: 0.005616 \n",
      "[7/100][105/100][3535] Loss_D: 0.003571 Loss_G: 0.007563 \n",
      "[7/100][105/100][3540] Loss_D: 0.005447 Loss_G: 0.007786 \n",
      "[7/100][105/100][3545] Loss_D: 0.006440 Loss_G: 0.005306 \n"
     ]
    },
    {
     "name": "stdout",
     "output_type": "stream",
     "text": [
      "[7/100][105/100][3550] Loss_D: 0.006843 Loss_G: 0.006590 \n",
      "[7/100][105/100][3555] Loss_D: 0.010885 Loss_G: 0.008217 \n",
      "[7/100][105/100][3560] Loss_D: 0.007823 Loss_G: 0.005529 \n",
      "[7/100][105/100][3565] Loss_D: 0.006486 Loss_G: 0.006630 \n",
      "[7/100][105/100][3570] Loss_D: 0.004492 Loss_G: 0.006928 \n",
      "[7/100][105/100][3575] Loss_D: 0.004888 Loss_G: 0.004890 \n",
      "[7/100][105/100][3580] Loss_D: 0.003998 Loss_G: 0.004077 \n",
      "[7/100][105/100][3585] Loss_D: 0.005253 Loss_G: 0.004575 \n",
      "[7/100][105/100][3590] Loss_D: 0.006821 Loss_G: 0.007693 \n",
      "[7/100][105/100][3595] Loss_D: 0.007880 Loss_G: 0.004962 \n",
      "[7/100][105/100][3600] Loss_D: 0.004799 Loss_G: 0.005597 \n",
      "[7/100][105/100][3605] Loss_D: 0.010919 Loss_G: 0.007115 \n",
      "[7/100][105/100][3610] Loss_D: 0.007371 Loss_G: 0.009385 \n",
      "[7/100][105/100][3615] Loss_D: 0.003818 Loss_G: 0.006177 \n",
      "[7/100][105/100][3620] Loss_D: 0.005859 Loss_G: 0.006213 \n",
      "[7/100][105/100][3625] Loss_D: 0.006285 Loss_G: 0.005348 \n",
      "[7/100][105/100][3630] Loss_D: 0.003143 Loss_G: 0.003901 \n",
      "[7/100][105/100][3635] Loss_D: 0.006407 Loss_G: 0.003196 \n",
      "[7/100][105/100][3640] Loss_D: 0.003588 Loss_G: 0.005830 \n",
      "[7/100][105/100][3645] Loss_D: 0.007379 Loss_G: 0.005447 \n",
      "[7/100][105/100][3650] Loss_D: 0.005793 Loss_G: 0.006855 \n",
      "[7/100][105/100][3655] Loss_D: 0.004817 Loss_G: 0.006241 \n",
      "[7/100][105/100][3660] Loss_D: 0.006523 Loss_G: 0.011121 \n",
      "[7/100][105/100][3665] Loss_D: 0.005378 Loss_G: 0.007758 \n",
      "[7/100][105/100][3670] Loss_D: 0.010207 Loss_G: 0.007416 \n",
      "[7/100][105/100][3675] Loss_D: 0.009404 Loss_G: 0.004029 \n",
      "[7/100][105/100][3680] Loss_D: 0.005860 Loss_G: 0.005103 \n",
      "[7/100][105/100][3685] Loss_D: 0.003409 Loss_G: 0.003207 \n",
      "[7/100][105/100][3690] Loss_D: 0.006507 Loss_G: 0.002291 \n",
      "[7/100][105/100][3695] Loss_D: 0.003569 Loss_G: 0.005277 \n",
      "[7/100][105/100][3700] Loss_D: 0.005917 Loss_G: 0.008755 \n",
      "[7/100][105/100][3705] Loss_D: 0.009718 Loss_G: 0.006557 \n",
      "[7/100][105/100][3710] Loss_D: 0.006841 Loss_G: 0.011194 \n",
      "[7/100][105/100][3715] Loss_D: 0.005956 Loss_G: 0.010134 \n",
      "[7/100][105/100][3720] Loss_D: 0.009742 Loss_G: 0.007549 \n",
      "[7/100][105/100][3725] Loss_D: 0.007505 Loss_G: 0.007677 \n",
      "[7/100][105/100][3730] Loss_D: 0.007096 Loss_G: 0.008345 \n",
      "[7/100][105/100][3735] Loss_D: 0.009799 Loss_G: 0.007556 \n",
      "[7/100][105/100][3740] Loss_D: 0.008461 Loss_G: 0.008394 \n"
     ]
    },
    {
     "ename": "KeyboardInterrupt",
     "evalue": "",
     "output_type": "error",
     "traceback": [
      "\u001b[1;31m---------------------------------------------------------------------------\u001b[0m",
      "\u001b[1;31mKeyboardInterrupt\u001b[0m                         Traceback (most recent call last)",
      "\u001b[1;32m<ipython-input-275-1201038fbbae>\u001b[0m in \u001b[0;36m<module>\u001b[1;34m\u001b[0m\n\u001b[0;32m      2\u001b[0m \u001b[0mnetG_neg\u001b[0m\u001b[1;33m.\u001b[0m\u001b[0mtrain\u001b[0m\u001b[1;33m(\u001b[0m\u001b[1;33m)\u001b[0m\u001b[1;33m\u001b[0m\u001b[1;33m\u001b[0m\u001b[0m\n\u001b[0;32m      3\u001b[0m \u001b[1;31m# gen_losses, disc_losses = train_GAN(netD_neg, netG_neg, negative=True)\u001b[0m\u001b[1;33m\u001b[0m\u001b[1;33m\u001b[0m\u001b[1;33m\u001b[0m\u001b[0m\n\u001b[1;32m----> 4\u001b[1;33m \u001b[0mtrain_GAN\u001b[0m\u001b[1;33m(\u001b[0m\u001b[0mnetD_neg\u001b[0m\u001b[1;33m,\u001b[0m \u001b[0mnetG_neg\u001b[0m\u001b[1;33m,\u001b[0m \u001b[0mnegative\u001b[0m\u001b[1;33m=\u001b[0m\u001b[1;32mTrue\u001b[0m\u001b[1;33m)\u001b[0m\u001b[1;33m\u001b[0m\u001b[1;33m\u001b[0m\u001b[0m\n\u001b[0m",
      "\u001b[1;32m<ipython-input-266-95cba275f224>\u001b[0m in \u001b[0;36mtrain_GAN\u001b[1;34m(netD, netG, negative, steps_per_epoch, epochs)\u001b[0m\n\u001b[0;32m     53\u001b[0m                     \u001b[0mstdD\u001b[0m \u001b[1;33m=\u001b[0m \u001b[0mtorch\u001b[0m\u001b[1;33m.\u001b[0m\u001b[0mstd\u001b[0m\u001b[1;33m(\u001b[0m\u001b[0mout\u001b[0m\u001b[1;33m)\u001b[0m\u001b[1;33m\u001b[0m\u001b[1;33m\u001b[0m\u001b[0m\n\u001b[0;32m     54\u001b[0m                     \u001b[0moutputD\u001b[0m\u001b[1;33m.\u001b[0m\u001b[0mbackward\u001b[0m\u001b[1;33m(\u001b[0m\u001b[0mmone\u001b[0m\u001b[1;33m)\u001b[0m\u001b[1;33m\u001b[0m\u001b[1;33m\u001b[0m\u001b[0m\n\u001b[1;32m---> 55\u001b[1;33m                     \u001b[0moptimizerD\u001b[0m\u001b[1;33m.\u001b[0m\u001b[0mstep\u001b[0m\u001b[1;33m(\u001b[0m\u001b[1;33m)\u001b[0m\u001b[1;33m\u001b[0m\u001b[1;33m\u001b[0m\u001b[0m\n\u001b[0m\u001b[0;32m     56\u001b[0m \u001b[1;31m#                     print('AAAAAAAAA mse:=WWWWWWWWWWWWWWWWWWWWWW')\u001b[0m\u001b[1;33m\u001b[0m\u001b[1;33m\u001b[0m\u001b[1;33m\u001b[0m\u001b[0m\n\u001b[0;32m     57\u001b[0m             \u001b[1;31m############################\u001b[0m\u001b[1;33m\u001b[0m\u001b[1;33m\u001b[0m\u001b[1;33m\u001b[0m\u001b[0m\n",
      "\u001b[1;32m~\\Anaconda3\\lib\\site-packages\\torch\\optim\\adam.py\u001b[0m in \u001b[0;36mstep\u001b[1;34m(self, closure)\u001b[0m\n\u001b[0;32m     91\u001b[0m \u001b[1;33m\u001b[0m\u001b[0m\n\u001b[0;32m     92\u001b[0m                 \u001b[1;31m# Decay the first and second moment running average coefficient\u001b[0m\u001b[1;33m\u001b[0m\u001b[1;33m\u001b[0m\u001b[1;33m\u001b[0m\u001b[0m\n\u001b[1;32m---> 93\u001b[1;33m                 \u001b[0mexp_avg\u001b[0m\u001b[1;33m.\u001b[0m\u001b[0mmul_\u001b[0m\u001b[1;33m(\u001b[0m\u001b[0mbeta1\u001b[0m\u001b[1;33m)\u001b[0m\u001b[1;33m.\u001b[0m\u001b[0madd_\u001b[0m\u001b[1;33m(\u001b[0m\u001b[1;36m1\u001b[0m \u001b[1;33m-\u001b[0m \u001b[0mbeta1\u001b[0m\u001b[1;33m,\u001b[0m \u001b[0mgrad\u001b[0m\u001b[1;33m)\u001b[0m\u001b[1;33m\u001b[0m\u001b[1;33m\u001b[0m\u001b[0m\n\u001b[0m\u001b[0;32m     94\u001b[0m                 \u001b[0mexp_avg_sq\u001b[0m\u001b[1;33m.\u001b[0m\u001b[0mmul_\u001b[0m\u001b[1;33m(\u001b[0m\u001b[0mbeta2\u001b[0m\u001b[1;33m)\u001b[0m\u001b[1;33m.\u001b[0m\u001b[0maddcmul_\u001b[0m\u001b[1;33m(\u001b[0m\u001b[1;36m1\u001b[0m \u001b[1;33m-\u001b[0m \u001b[0mbeta2\u001b[0m\u001b[1;33m,\u001b[0m \u001b[0mgrad\u001b[0m\u001b[1;33m,\u001b[0m \u001b[0mgrad\u001b[0m\u001b[1;33m)\u001b[0m\u001b[1;33m\u001b[0m\u001b[1;33m\u001b[0m\u001b[0m\n\u001b[0;32m     95\u001b[0m                 \u001b[1;32mif\u001b[0m \u001b[0mamsgrad\u001b[0m\u001b[1;33m:\u001b[0m\u001b[1;33m\u001b[0m\u001b[1;33m\u001b[0m\u001b[0m\n",
      "\u001b[1;31mKeyboardInterrupt\u001b[0m: "
     ]
    }
   ],
   "source": [
    "netD_neg.train()\n",
    "netG_neg.train()\n",
    "# gen_losses, disc_losses = train_GAN(netD_neg, netG_neg, negative=True)\n",
    "train_GAN(netD_neg, netG_neg, negative=True)"
   ]
  },
  {
   "cell_type": "code",
   "execution_count": 276,
   "metadata": {},
   "outputs": [
    {
     "data": {
      "image/png": "[encoded data removed]",
      "text/plain": [
       "<Figure size 432x288 with 1 Axes>"
      ]
     },
     "metadata": {
      "needs_background": "light"
     },
     "output_type": "display_data"
    }
   ],
   "source": [
    "import matplotlib.pyplot as plt\n",
    "\n",
    "plt.plot(gen_losses)\n",
    "plt.show()"
   ]
  },
  {
   "cell_type": "code",
   "execution_count": 277,
   "metadata": {},
   "outputs": [
    {
     "data": {
      "image/png": "[encoded data removed]",
      "text/plain": [
       "<Figure size 432x288 with 1 Axes>"
      ]
     },
     "metadata": {
      "needs_background": "light"
     },
     "output_type": "display_data"
    }
   ],
   "source": [
    "plt.plot(disc_losses)\n",
    "plt.show()"
   ]
  },
  {
   "cell_type": "code",
   "execution_count": 278,
   "metadata": {},
   "outputs": [],
   "source": [
    "torch.save(netD_neg.state_dict(), './netD_neg-1m')\n",
    "torch.save(netG_neg.state_dict(), './netG_neg-1m')"
   ]
  },
  {
   "cell_type": "code",
   "execution_count": 279,
   "metadata": {},
   "outputs": [
    {
     "data": {
      "text/plain": [
       "NetD(\n",
       "  (t1): Linear(in_features=3706, out_features=1024, bias=True)\n",
       "  (b1): Linear(in_features=3706, out_features=1024, bias=True)\n",
       "  (fc): Linear(in_features=2048, out_features=3706, bias=True)\n",
       ")"
      ]
     },
     "execution_count": 279,
     "metadata": {},
     "output_type": "execute_result"
    }
   ],
   "source": [
    "netD_neg.eval()"
   ]
  },
  {
   "cell_type": "code",
   "execution_count": 280,
   "metadata": {},
   "outputs": [
    {
     "data": {
      "text/plain": [
       "7561"
      ]
     },
     "execution_count": 280,
     "metadata": {},
     "output_type": "execute_result"
    }
   ],
   "source": [
    "import gc\n",
    "gc.collect()"
   ]
  },
  {
   "cell_type": "code",
   "execution_count": 281,
   "metadata": {},
   "outputs": [
    {
     "data": {
      "text/plain": [
       "NetG(\n",
       "  (netGen): Sequential(\n",
       "    (0): Linear(in_features=3726, out_features=1024, bias=True)\n",
       "    (1): ReLU()\n",
       "    (2): Linear(in_features=1024, out_features=3706, bias=True)\n",
       "    (3): Sigmoid()\n",
       "  )\n",
       ")"
      ]
     },
     "execution_count": 281,
     "metadata": {},
     "output_type": "execute_result"
    }
   ],
   "source": [
    "# networks\n",
    "netD_neg_test = NetD(negative_feedback_mask.shape[1]).cuda()\n",
    "netG_neg_test = NetG(negative_feedback_mask.shape[1]).cuda()\n",
    "\n",
    "netD_neg_test.eval()\n",
    "netG_neg_test.eval()"
   ]
  },
  {
   "cell_type": "code",
   "execution_count": 346,
   "metadata": {},
   "outputs": [],
   "source": [
    "condition, X, idxs = batch_generator(X_neg, y_neg, batch_size=256)\n",
    "\n",
    "X = X.cuda()\n",
    "condition = condition.cuda()\n",
    "# real = Variable(X)\n",
    "\n",
    "noise = torch.randn(256, nz).cuda()\n",
    "e_mask = torch.Tensor(tr[idxs]>0).cuda()\n",
    "\n",
    "concated = torch.cat((noise, condition), 1)\n",
    "fake = netG_neg(e_mask, concated)"
   ]
  },
  {
   "cell_type": "code",
   "execution_count": 353,
   "metadata": {},
   "outputs": [],
   "source": [
    "fake_test = netG_neg_test(e_mask, concated)"
   ]
  },
  {
   "cell_type": "code",
   "execution_count": 354,
   "metadata": {},
   "outputs": [
    {
     "data": {
      "text/plain": [
       "(tensor(14022, device='cuda:0'),\n",
       " tensor(8502, device='cuda:0'),\n",
       " tensor(10039., device='cuda:0'),\n",
       " tensor(16809., device='cuda:0'),\n",
       " tensor(38566., device='cuda:0'))"
      ]
     },
     "execution_count": 354,
     "metadata": {},
     "output_type": "execute_result"
    }
   ],
   "source": [
    "(fake >= 0.5).sum(), ((fake >= 0.5) * (condition==0)).sum(), condition.sum(), X.sum(), e_mask.sum()"
   ]
  },
  {
   "cell_type": "code",
   "execution_count": 384,
   "metadata": {},
   "outputs": [],
   "source": [
    "fake = (fake > 0.5).float()"
   ]
  },
  {
   "cell_type": "code",
   "execution_count": 389,
   "metadata": {},
   "outputs": [],
   "source": [
    "fake_test = (fake_test > 0.5).float()"
   ]
  },
  {
   "cell_type": "code",
   "execution_count": 385,
   "metadata": {},
   "outputs": [
    {
     "data": {
      "text/plain": [
       "(tensor(0.5498, device='cuda:0'), tensor(0.5527, device='cuda:0'))"
      ]
     },
     "execution_count": 385,
     "metadata": {},
     "output_type": "execute_result"
    }
   ],
   "source": [
    "(fake * condition).sum()/condition.sum(), (fake * X).sum()/X.sum()"
   ]
  },
  {
   "cell_type": "code",
   "execution_count": 390,
   "metadata": {},
   "outputs": [
    {
     "data": {
      "text/plain": [
       "(tensor(0.4833, device='cuda:0'), tensor(0.4881, device='cuda:0'))"
      ]
     },
     "execution_count": 390,
     "metadata": {},
     "output_type": "execute_result"
    }
   ],
   "source": [
    "(fake_test * condition).sum()/condition.sum(), (fake_test * X).sum()/X.sum()"
   ]
  },
  {
   "cell_type": "code",
   "execution_count": 413,
   "metadata": {},
   "outputs": [
    {
     "data": {
      "text/plain": [
       "tensor(0.5572, device='cuda:0')"
      ]
     },
     "execution_count": 413,
     "metadata": {},
     "output_type": "execute_result"
    }
   ],
   "source": [
    "# accuraccy on zeros (positive feedbacks)\n",
    "(fake * (1-condition)*X).sum()/(X * (1 - condition)).sum()"
   ]
  },
  {
   "cell_type": "code",
   "execution_count": 398,
   "metadata": {},
   "outputs": [
    {
     "data": {
      "text/plain": [
       "tensor(0.4953, device='cuda:0')"
      ]
     },
     "execution_count": 398,
     "metadata": {},
     "output_type": "execute_result"
    }
   ],
   "source": [
    "(fake_test * (1-condition)*X).sum()/(X * (1 - condition)).sum()"
   ]
  },
  {
   "cell_type": "code",
   "execution_count": 439,
   "metadata": {},
   "outputs": [
    {
     "data": {
      "text/plain": [
       "0.7825987038654226"
      ]
     },
     "execution_count": 439,
     "metadata": {},
     "output_type": "execute_result"
    }
   ],
   "source": [
    "# accuraccy on zeros (positive feedbacks)\n",
    "((1 - fake)*(1-condition)*(torch.from_numpy(positive_feedback_mask[idxs]).float().cuda())).cpu().numpy().sum()/((positive_feedback_mask[idxs]).astype(float)*(1-condition).cpu().numpy()).sum()"
   ]
  },
  {
   "cell_type": "code",
   "execution_count": 428,
   "metadata": {},
   "outputs": [
    {
     "data": {
      "text/plain": [
       "tensor(1, device='cuda:0', dtype=torch.uint8)"
      ]
     },
     "execution_count": 428,
     "metadata": {},
     "output_type": "execute_result"
    }
   ],
   "source": [
    "(X == torch.from_numpy(negative_feedback_mask[idxs]).float().cuda()).all()"
   ]
  },
  {
   "cell_type": "code",
   "execution_count": 434,
   "metadata": {},
   "outputs": [
    {
     "data": {
      "text/plain": [
       "0.519327113113021"
      ]
     },
     "execution_count": 434,
     "metadata": {},
     "output_type": "execute_result"
    }
   ],
   "source": [
    "((1 - fake_test)*(1-condition)*(torch.from_numpy(positive_feedback_mask[idxs]).float().cuda())).cpu().numpy().sum()/((positive_feedback_mask[idxs]).astype(float)*(1-condition).cpu().numpy()).sum()"
   ]
  },
  {
   "cell_type": "code",
   "execution_count": 355,
   "metadata": {},
   "outputs": [
    {
     "data": {
      "text/plain": [
       "(tensor(18663, device='cuda:0'),\n",
       " tensor(13811, device='cuda:0'),\n",
       " tensor(10039., device='cuda:0'),\n",
       " tensor(16809., device='cuda:0'))"
      ]
     },
     "execution_count": 355,
     "metadata": {},
     "output_type": "execute_result"
    }
   ],
   "source": [
    "(fake_test >= 0.5).sum(), ((fake_test >= 0.5) * (condition==0)).sum(), condition.sum(), X.sum()"
   ]
  },
  {
   "cell_type": "code",
   "execution_count": 356,
   "metadata": {},
   "outputs": [
    {
     "data": {
      "text/plain": [
       "(tensor(14022, device='cuda:0'),\n",
       " tensor(8502, device='cuda:0'),\n",
       " tensor(10039., device='cuda:0'),\n",
       " tensor(16809., device='cuda:0'))"
      ]
     },
     "execution_count": 356,
     "metadata": {},
     "output_type": "execute_result"
    }
   ],
   "source": [
    "(fake >= 0.5).sum(), ((fake >= 0.5) * (condition==0)).sum(), condition.sum(), X.sum()"
   ]
  },
  {
   "cell_type": "code",
   "execution_count": 357,
   "metadata": {},
   "outputs": [
    {
     "data": {
      "text/plain": [
       "tensor(14021, device='cuda:0')"
      ]
     },
     "execution_count": 357,
     "metadata": {},
     "output_type": "execute_result"
    }
   ],
   "source": [
    "(fake > 0.5).sum()"
   ]
  },
  {
   "cell_type": "code",
   "execution_count": 358,
   "metadata": {},
   "outputs": [
    {
     "data": {
      "text/plain": [
       "tensor(18663, device='cuda:0')"
      ]
     },
     "execution_count": 358,
     "metadata": {},
     "output_type": "execute_result"
    }
   ],
   "source": [
    "(fake_test > 0.5).sum()"
   ]
  },
  {
   "cell_type": "code",
   "execution_count": 290,
   "metadata": {},
   "outputs": [
    {
     "data": {
      "text/plain": [
       "torch.Size([256, 3706])"
      ]
     },
     "execution_count": 290,
     "metadata": {},
     "output_type": "execute_result"
    }
   ],
   "source": [
    "X.shape"
   ]
  },
  {
   "cell_type": "code",
   "execution_count": 291,
   "metadata": {},
   "outputs": [
    {
     "data": {
      "text/plain": [
       "(tensor(34164, device='cuda:0'),\n",
       " tensor(24892, device='cuda:0'),\n",
       " tensor(10422., device='cuda:0'))"
      ]
     },
     "execution_count": 291,
     "metadata": {},
     "output_type": "execute_result"
    }
   ],
   "source": [
    "(fake > 0.48).sum(), ((fake > 0.48) * (condition==0)).sum(), condition.sum()"
   ]
  },
  {
   "cell_type": "code",
   "execution_count": 292,
   "metadata": {},
   "outputs": [],
   "source": [
    "e_mask = torch.Tensor(tr[idxs]).cuda()"
   ]
  },
  {
   "cell_type": "code",
   "execution_count": 293,
   "metadata": {},
   "outputs": [
    {
     "data": {
      "text/plain": [
       "True"
      ]
     },
     "execution_count": 293,
     "metadata": {},
     "output_type": "execute_result"
    }
   ],
   "source": [
    "np.isin(condition.cpu().numpy(), X.cpu().numpy()).all()"
   ]
  },
  {
   "cell_type": "code",
   "execution_count": 294,
   "metadata": {},
   "outputs": [
    {
     "data": {
      "text/plain": [
       "tensor(35208., device='cuda:0')"
      ]
     },
     "execution_count": 294,
     "metadata": {},
     "output_type": "execute_result"
    }
   ],
   "source": [
    "(fake > 0.4).float().sum()"
   ]
  },
  {
   "cell_type": "code",
   "execution_count": 295,
   "metadata": {},
   "outputs": [
    {
     "data": {
      "text/plain": [
       "(tensor(6323., device='cuda:0'),)"
      ]
     },
     "execution_count": 295,
     "metadata": {},
     "output_type": "execute_result"
    }
   ],
   "source": [
    "((fake > 0.4).float() * (condition==0).float() * X).sum(), "
   ]
  },
  {
   "cell_type": "code",
   "execution_count": 296,
   "metadata": {},
   "outputs": [
    {
     "data": {
      "text/plain": [
       "tensor(24702., device='cuda:0')"
      ]
     },
     "execution_count": 296,
     "metadata": {},
     "output_type": "execute_result"
    }
   ],
   "source": [
    "((fake > 0.5).float() * (condition==0).float()).sum()"
   ]
  },
  {
   "cell_type": "code",
   "execution_count": 298,
   "metadata": {},
   "outputs": [
    {
     "data": {
      "text/plain": [
       "tensor(1.9492, device='cuda:0')"
      ]
     },
     "execution_count": 298,
     "metadata": {},
     "output_type": "execute_result"
    }
   ],
   "source": [
    "((fake > 0.5).float()).sum()/X.sum() # predicted accuraccy"
   ]
  },
  {
   "cell_type": "code",
   "execution_count": 299,
   "metadata": {},
   "outputs": [
    {
     "data": {
      "text/plain": [
       "tensor(33895, device='cuda:0')"
      ]
     },
     "execution_count": 299,
     "metadata": {},
     "output_type": "execute_result"
    }
   ],
   "source": [
    "(fake > 0.5).sum()"
   ]
  },
  {
   "cell_type": "code",
   "execution_count": 300,
   "metadata": {},
   "outputs": [
    {
     "data": {
      "text/plain": [
       "tensor(6068., device='cuda:0')"
      ]
     },
     "execution_count": 300,
     "metadata": {},
     "output_type": "execute_result"
    }
   ],
   "source": [
    "((fake > 0.5).float() *(condition==0).float()* X).sum()"
   ]
  },
  {
   "cell_type": "code",
   "execution_count": 368,
   "metadata": {},
   "outputs": [
    {
     "data": {
      "text/plain": [
       "tensor(0.4437, device='cuda:0')"
      ]
     },
     "execution_count": 368,
     "metadata": {},
     "output_type": "execute_result"
    }
   ],
   "source": [
    "((fake > 0.5).float() *(condition==0).float()* X).sum()/((fake > 0.5) * (condition==0)).sum() # predicted accuraccy"
   ]
  },
  {
   "cell_type": "code",
   "execution_count": 370,
   "metadata": {},
   "outputs": [
    {
     "data": {
      "text/plain": [
       "tensor(0.2428, device='cuda:0')"
      ]
     },
     "execution_count": 370,
     "metadata": {},
     "output_type": "execute_result"
    }
   ],
   "source": [
    "((fake_test > 0.5).float() *(condition==0).float()* X).sum()/((fake_test > 0.5) * (condition==0)).sum() # predicted accuraccy"
   ]
  },
  {
   "cell_type": "code",
   "execution_count": 369,
   "metadata": {},
   "outputs": [
    {
     "data": {
      "text/plain": [
       "tensor(1.2558, device='cuda:0')"
      ]
     },
     "execution_count": 369,
     "metadata": {},
     "output_type": "execute_result"
    }
   ],
   "source": [
    "((fake > 0.5).float() * (condition==0).float()).sum()/(X * (1 - condition)).sum() # predicted accuraccy"
   ]
  },
  {
   "cell_type": "code",
   "execution_count": 306,
   "metadata": {},
   "outputs": [
    {
     "data": {
      "text/plain": [
       "tensor(3.5456, device='cuda:0')"
      ]
     },
     "execution_count": 306,
     "metadata": {},
     "output_type": "execute_result"
    }
   ],
   "source": [
    "((fake > 0.5).float() * (condition==0).float()).sum()/(X * (1 - condition)).sum() # predicted accuraccy"
   ]
  },
  {
   "cell_type": "code",
   "execution_count": 307,
   "metadata": {},
   "outputs": [
    {
     "data": {
      "text/plain": [
       "tensor(3.2523, device='cuda:0')"
      ]
     },
     "execution_count": 307,
     "metadata": {},
     "output_type": "execute_result"
    }
   ],
   "source": [
    "((fake > 0.5).float()).sum()/((condition)).sum() # predicted accuraccy"
   ]
  },
  {
   "cell_type": "code",
   "execution_count": 308,
   "metadata": {},
   "outputs": [
    {
     "data": {
      "text/plain": [
       "tensor(3.2523, device='cuda:0')"
      ]
     },
     "execution_count": 308,
     "metadata": {},
     "output_type": "execute_result"
    }
   ],
   "source": [
    "((fake > 0.5).float()).sum()/((condition)).sum() # predicted accuraccy"
   ]
  },
  {
   "cell_type": "code",
   "execution_count": 309,
   "metadata": {},
   "outputs": [
    {
     "data": {
      "text/plain": [
       "tensor(0.4956, device='cuda:0')"
      ]
     },
     "execution_count": 309,
     "metadata": {},
     "output_type": "execute_result"
    }
   ],
   "source": [
    "((fake_test > 0.5).float() * (condition==0).float() * X).sum()/(X * (1 - condition)).sum() # predicted accuraccy"
   ]
  },
  {
   "cell_type": "code",
   "execution_count": 310,
   "metadata": {},
   "outputs": [
    {
     "data": {
      "text/plain": [
       "tensor(1.9492, device='cuda:0')"
      ]
     },
     "execution_count": 310,
     "metadata": {},
     "output_type": "execute_result"
    }
   ],
   "source": [
    "((fake > 0.5).float() ).sum()/X.sum() # whole accuraccy"
   ]
  },
  {
   "cell_type": "code",
   "execution_count": 311,
   "metadata": {},
   "outputs": [
    {
     "data": {
      "text/plain": [
       "tensor(0.4893, device='cuda:0')"
      ]
     },
     "execution_count": 311,
     "metadata": {},
     "output_type": "execute_result"
    }
   ],
   "source": [
    "((fake_test > 0.5).float() ).sum()/X.sum() # whole accuraccy"
   ]
  },
  {
   "cell_type": "code",
   "execution_count": null,
   "metadata": {},
   "outputs": [],
   "source": []
  },
  {
   "cell_type": "code",
   "execution_count": null,
   "metadata": {},
   "outputs": [],
   "source": []
  },
  {
   "cell_type": "code",
   "execution_count": null,
   "metadata": {},
   "outputs": [],
   "source": []
  },
  {
   "cell_type": "code",
   "execution_count": 382,
   "metadata": {},
   "outputs": [],
   "source": [
    "# ((fake > 0.5).float() * (condition==0).float() * X).sum()/(X * (1 - fake)).sum()"
   ]
  },
  {
   "cell_type": "code",
   "execution_count": null,
   "metadata": {},
   "outputs": [],
   "source": [
    "import matplotlib.pyplot as plt\n",
    "\n",
    "plt.plot(eval_losses_tr)\n",
    "plt.show()"
   ]
  },
  {
   "cell_type": "code",
   "execution_count": null,
   "metadata": {},
   "outputs": [],
   "source": [
    "# noise = torch.randn(train.shape[0], nz).to(device)\n",
    "# noisev = Variable(noise)\n",
    "# fake = netG_tr(noisev)"
   ]
  },
  {
   "cell_type": "code",
   "execution_count": null,
   "metadata": {},
   "outputs": [],
   "source": [
    "fake.shape"
   ]
  },
  {
   "cell_type": "code",
   "execution_count": null,
   "metadata": {},
   "outputs": [],
   "source": [
    "fake = np.around(fake.detach().cpu().numpy())"
   ]
  },
  {
   "cell_type": "code",
   "execution_count": null,
   "metadata": {},
   "outputs": [],
   "source": [
    "np.unique(fake)"
   ]
  },
  {
   "cell_type": "code",
   "execution_count": null,
   "metadata": {},
   "outputs": [],
   "source": [
    "fake = fake * (fake <= 5).astype(int)"
   ]
  },
  {
   "cell_type": "code",
   "execution_count": null,
   "metadata": {},
   "outputs": [],
   "source": [
    "np.unique(fake)"
   ]
  },
  {
   "cell_type": "code",
   "execution_count": null,
   "metadata": {},
   "outputs": [],
   "source": [
    "get_sparsity(fake)"
   ]
  },
  {
   "cell_type": "code",
   "execution_count": null,
   "metadata": {},
   "outputs": [],
   "source": [
    "print(5, (5 == fake.round()).sum(), (5 == (tr + vr)[:fake.shape[0], :].round()).sum())\n",
    "print(4, (4 == fake.round()).sum(), (4 == (tr + vr)[:fake.shape[0], :].round()).sum())\n",
    "print(3, (3 == fake.round()).sum(), (3 == (tr + vr)[:fake.shape[0], :].round()).sum())\n",
    "print(2, (2 == fake.round()).sum(), (2 == (tr + vr)[:fake.shape[0], :].round()).sum())\n",
    "print(1, (1 == fake.round()).sum(), (1 == (tr + vr)[:fake.shape[0], :].round()).sum())\n",
    "print(0, (0 == fake.round()).sum(), (0 == (tr + vr)[:fake.shape[0], :].round()).sum())"
   ]
  },
  {
   "cell_type": "markdown",
   "metadata": {},
   "source": [
    "As we see there is a significant bias towards higher ratings"
   ]
  },
  {
   "cell_type": "code",
   "execution_count": null,
   "metadata": {},
   "outputs": [],
   "source": [
    "# networks\n",
    "netD_augm = NetD().to(device)\n",
    "netG_augm = NetG().to(device)\n",
    "print(netD_augm)\n",
    "print(netG_augm)\n",
    "optimizerG = optim.RMSprop(netG_augm.parameters(), lr=lrG)\n",
    "optimizerD = optim.RMSprop(netD_augm.parameters(), lr=lrD)\n",
    "one = torch.FloatTensor([1]).to(device)\n",
    "mone = (-1 * one).to(device)"
   ]
  },
  {
   "cell_type": "code",
   "execution_count": null,
   "metadata": {},
   "outputs": [],
   "source": [
    "noise = torch.randn(train.shape[0], nz).to(device)\n",
    "noisev = Variable(noise)\n",
    "fake = netG_augm(noisev)"
   ]
  },
  {
   "cell_type": "code",
   "execution_count": null,
   "metadata": {},
   "outputs": [],
   "source": [
    "fake = np.around(fake.detach().cpu().numpy())\n",
    "np.unique(fake)"
   ]
  },
  {
   "cell_type": "code",
   "execution_count": null,
   "metadata": {},
   "outputs": [],
   "source": [
    "# without train\n",
    "print(5, (5 == fake.round()).sum(), (5 == (tr + vr)[:fake.shape[0], :].round()).sum())\n",
    "print(4, (4 == fake.round()).sum(), (4 == (tr + vr)[:fake.shape[0], :].round()).sum())\n",
    "print(3, (3 == fake.round()).sum(), (3 == (tr + vr)[:fake.shape[0], :].round()).sum())\n",
    "print(2, (2 == fake.round()).sum(), (2 == (tr + vr)[:fake.shape[0], :].round()).sum())\n",
    "print(1, (1 == fake.round()).sum(), (1 == (tr + vr)[:fake.shape[0], :].round()).sum())\n",
    "print(0, (0 == fake.round()).sum(), (0 == (tr + vr)[:fake.shape[0], :].round()).sum())"
   ]
  },
  {
   "cell_type": "code",
   "execution_count": null,
   "metadata": {},
   "outputs": [],
   "source": [
    "# netD_augm.load_state_dict(torch.load('./netG_augm-1m'))\n",
    "# netD_augm.load_state_dict(torch.load('./netD_augm-1m'))"
   ]
  },
  {
   "cell_type": "code",
   "execution_count": null,
   "metadata": {},
   "outputs": [],
   "source": [
    "netD_augm.train()\n",
    "netG_augm.train()\n",
    "eval_losses_aug = train_GAN(netD_augm, netG_augm, augmented_train)"
   ]
  },
  {
   "cell_type": "code",
   "execution_count": null,
   "metadata": {},
   "outputs": [],
   "source": [
    "import matplotlib.pyplot as plt\n",
    "\n",
    "plt.plot(eval_losses_aug)\n",
    "plt.show()"
   ]
  },
  {
   "cell_type": "code",
   "execution_count": null,
   "metadata": {},
   "outputs": [],
   "source": [
    "# netG_tr.eval()\n",
    "netG_augm.eval()"
   ]
  },
  {
   "cell_type": "code",
   "execution_count": null,
   "metadata": {},
   "outputs": [],
   "source": [
    "noise = torch.randn(train.shape[0], nz).to(device)\n",
    "noisev = Variable(noise)\n",
    "fake = netG_augm(noisev)"
   ]
  },
  {
   "cell_type": "code",
   "execution_count": null,
   "metadata": {},
   "outputs": [],
   "source": [
    "fake = np.around(fake.detach().cpu().numpy())"
   ]
  },
  {
   "cell_type": "code",
   "execution_count": null,
   "metadata": {},
   "outputs": [],
   "source": [
    "np.unique(fake)"
   ]
  },
  {
   "cell_type": "code",
   "execution_count": null,
   "metadata": {},
   "outputs": [],
   "source": [
    "# fake = fake * (fake <= 5).astype(int)\n",
    "\n",
    "fake = fake.clip(0,5)"
   ]
  },
  {
   "cell_type": "code",
   "execution_count": null,
   "metadata": {},
   "outputs": [],
   "source": [
    "print(5, (5 == fake.round()).sum(), (5 == (tr + vr)[:fake.shape[0], :].round()).sum())\n",
    "print(4, (4 == fake.round()).sum(), (4 == (tr + vr)[:fake.shape[0], :].round()).sum())\n",
    "print(3, (3 == fake.round()).sum(), (3 == (tr + vr)[:fake.shape[0], :].round()).sum())\n",
    "print(2, (2 == fake.round()).sum(), (2 == (tr + vr)[:fake.shape[0], :].round()).sum())\n",
    "print(1, (1 == fake.round()).sum(), (1 == (tr + vr)[:fake.shape[0], :].round()).sum())\n",
    "print(0, (0 == fake.round()).sum(), (0 == (tr + vr)[:fake.shape[0], :].round()).sum())"
   ]
  },
  {
   "cell_type": "code",
   "execution_count": null,
   "metadata": {},
   "outputs": [],
   "source": [
    "noise = torch.randn(train.shape[0], nz).to(device)\n",
    "noisev = Variable(noise)\n",
    "\n",
    "fake_tr = netG_tr(noisev)\n",
    "fake_aug = netG_augm(noisev)"
   ]
  },
  {
   "cell_type": "code",
   "execution_count": null,
   "metadata": {},
   "outputs": [],
   "source": [
    "torch.unique(fake_tr.round()), torch.unique(fake_aug.round())"
   ]
  },
  {
   "cell_type": "code",
   "execution_count": null,
   "metadata": {},
   "outputs": [],
   "source": [
    "fake_tr = fake_tr.clamp(0,5).detach().cpu().numpy().round()\n",
    "fake_aug = fake_aug.clamp(0,5).detach().cpu().numpy().round()"
   ]
  },
  {
   "cell_type": "code",
   "execution_count": null,
   "metadata": {},
   "outputs": [],
   "source": [
    "print(5, (5 == fake_tr).sum(), (5 == (tr + vr)[:fake.shape[0], :]).sum())\n",
    "print(4, (4 == fake_tr).sum(), (4 == (tr + vr)[:fake.shape[0], :]).sum())\n",
    "print(3, (3 == fake_tr).sum(), (3 == (tr + vr)[:fake.shape[0], :]).sum())\n",
    "print(2, (2 == fake_tr).sum(), (2 == (tr + vr)[:fake.shape[0], :]).sum())\n",
    "print(1, (1 == fake_tr).sum(), (1 == (tr + vr)[:fake.shape[0], :]).sum())\n",
    "print(0, (0 == fake_tr).sum(), (0 == (tr + vr)[:fake.shape[0], :]).sum())"
   ]
  },
  {
   "cell_type": "code",
   "execution_count": null,
   "metadata": {},
   "outputs": [],
   "source": [
    "print(5, (5 == fake_aug).sum(), (5 == (tr + vr)[:fake.shape[0], :]).sum())\n",
    "print(4, (4 == fake_aug).sum(), (4 == (tr + vr)[:fake.shape[0], :]).sum())\n",
    "print(3, (3 == fake_aug).sum(), (3 == (tr + vr)[:fake.shape[0], :]).sum())\n",
    "print(2, (2 == fake_aug).sum(), (2 == (tr + vr)[:fake.shape[0], :]).sum())\n",
    "print(1, (1 == fake_aug).sum(), (1 == (tr + vr)[:fake.shape[0], :]).sum())\n",
    "print(0, (0 == fake_aug).sum(), (0 == (tr + vr)[:fake.shape[0], :]).sum())"
   ]
  },
  {
   "cell_type": "code",
   "execution_count": null,
   "metadata": {},
   "outputs": [],
   "source": [
    "get_sparsity(tr), get_sparsity(fake_tr), get_sparsity(fake_aug)"
   ]
  },
  {
   "cell_type": "code",
   "execution_count": null,
   "metadata": {},
   "outputs": [],
   "source": []
  },
  {
   "cell_type": "code",
   "execution_count": null,
   "metadata": {},
   "outputs": [],
   "source": [
    "# tr_orig, vr_1 = loadData('./ml-1m/ratings.dat', delimiter='::', seed=seed,  transpose=False, valfrac=0.1)"
   ]
  },
  {
   "cell_type": "code",
   "execution_count": null,
   "metadata": {},
   "outputs": [],
   "source": [
    "import nbimporter \n",
    "import matrix_factorization"
   ]
  },
  {
   "cell_type": "code",
   "execution_count": null,
   "metadata": {},
   "outputs": [],
   "source": [
    "rand_ix = np.random.randint(0, fake.shape[0], 300)"
   ]
  },
  {
   "cell_type": "code",
   "execution_count": null,
   "metadata": {},
   "outputs": [],
   "source": [
    "# adding_fake_autoenc = fake_tr[rand_ix,:]\n",
    "adding_fake_autoenc_lus_gan = fake_aug[rand_ix,:]"
   ]
  },
  {
   "cell_type": "code",
   "execution_count": null,
   "metadata": {},
   "outputs": [],
   "source": [
    "np.unique(fake_aug)"
   ]
  },
  {
   "cell_type": "code",
   "execution_count": null,
   "metadata": {},
   "outputs": [],
   "source": [
    "np.unique(adding_fake_autoenc_lus_gan[0,:])"
   ]
  },
  {
   "cell_type": "code",
   "execution_count": null,
   "metadata": {},
   "outputs": [],
   "source": [
    "(adding_fake_autoenc == 1).sum()"
   ]
  },
  {
   "cell_type": "code",
   "execution_count": null,
   "metadata": {},
   "outputs": [],
   "source": [
    "(adding_fake_autoenc_lus_gan == 1).sum()"
   ]
  },
  {
   "cell_type": "code",
   "execution_count": null,
   "metadata": {},
   "outputs": [],
   "source": [
    "np.unique(adding_fake_autoenc_lus_gan[0,:])"
   ]
  },
  {
   "cell_type": "code",
   "execution_count": null,
   "metadata": {},
   "outputs": [],
   "source": [
    "adding_fake[0,0:200]"
   ]
  },
  {
   "cell_type": "code",
   "execution_count": null,
   "metadata": {},
   "outputs": [],
   "source": [
    "adding_fake_autoenc_lus_gan[0,0:200]"
   ]
  },
  {
   "cell_type": "code",
   "execution_count": null,
   "metadata": {},
   "outputs": [],
   "source": [
    "tr_auto_enc = np.append(tr, adding_fake_autoenc, axis=0)\n",
    "tr_auto_enc_plus_gan = np.append(tr, adding_fake_autoenc_lus_gan, axis=0)"
   ]
  },
  {
   "cell_type": "code",
   "execution_count": null,
   "metadata": {},
   "outputs": [],
   "source": [
    "iter_array = [1, 2, 5, 10, 25]\n",
    "MF_SGD = matrix_factorization.ExplicitMF(tr, 40, learning='sgd', verbose=True)\n",
    "# iter_array = [1, 2, 5, 10, 25, 50, 100, 200]\n",
    "\n",
    "# iter_array = [10]\n",
    "# iter_array = [1, 2, 5, 10, 25]\n",
    "MF_SGD.calculate_learning_curve([60], vr, learning_rate=0.001)"
   ]
  },
  {
   "cell_type": "code",
   "execution_count": null,
   "metadata": {},
   "outputs": [],
   "source": [
    "get_sparsity(augmented_train.cpu().numpy())"
   ]
  },
  {
   "cell_type": "code",
   "execution_count": null,
   "metadata": {},
   "outputs": [],
   "source": [
    "# iter_array = [1, 2, 5, 10, 25]\n",
    "MF_SGD = matrix_factorization.ExplicitMF(augmented_train.cpu().numpy(), 40, learning='sgd', verbose=True)\n",
    "# iter_array = [1, 2, 5, 10, 25, 50, 100, 200]\n",
    "\n",
    "# iter_array = [10]\n",
    "# iter_array = [1, 2, 5, 10, 25]\n",
    "MF_SGD.calculate_learning_curve([60], vr, learning_rate=0.001)"
   ]
  },
  {
   "cell_type": "code",
   "execution_count": null,
   "metadata": {},
   "outputs": [],
   "source": [
    "# iter_array = [1, 2, 5, 10, 25]\n",
    "MF_SGD = matrix_factorization.ExplicitMF(tr, 40, learning='sgd', verbose=True)\n",
    "# iter_array = [1, 2, 5, 10, 25, 50, 100, 200]\n",
    "\n",
    "# iter_array = [10]\n",
    "# iter_array = [1, 2, 5, 10, 25]\n",
    "MF_SGD.calculate_learning_curve([50], vr, learning_rate=0.001)"
   ]
  },
  {
   "cell_type": "code",
   "execution_count": null,
   "metadata": {},
   "outputs": [],
   "source": [
    "# iter_array = [1, 2, 5, 10, 25]\n",
    "MF_SGD = matrix_factorization.ExplicitMF(augmented_train.cpu().numpy(), 40, learning='sgd', verbose=True)\n",
    "# iter_array = [1, 2, 5, 10, 25, 50, 100, 200]\n",
    "\n",
    "# iter_array = [10]\n",
    "# iter_array = [1, 2, 5, 10, 25]\n",
    "MF_SGD.calculate_learning_curve([50], vr, learning_rate=0.001)"
   ]
  },
  {
   "cell_type": "code",
   "execution_count": null,
   "metadata": {},
   "outputs": [],
   "source": [
    "tr.shape, augmented_train.cpu().numpy().shape, tr_auto_enc.shape, tr_auto_enc_plus_gan.shape"
   ]
  },
  {
   "cell_type": "code",
   "execution_count": null,
   "metadata": {},
   "outputs": [],
   "source": [
    "get_sparsity(tr_auto_enc), get_sparsity(tr_auto_enc_plus_gan)"
   ]
  },
  {
   "cell_type": "code",
   "execution_count": null,
   "metadata": {},
   "outputs": [],
   "source": [
    "# iter_array = [1, 2, 5, 10, 25, 40]\n",
    "\n",
    "MF_SGD = matrix_factorization.ExplicitMF(tr_auto_enc, 40, learning='sgd', verbose=True)\n",
    "# iter_array = [1, 2, 5, 10, 25, 50, 100, 200]\n",
    "\n",
    "# iter_array = [10]\n",
    "# iter_array = [1, 2, 5, 10, 25]\n",
    "MF_SGD.calculate_learning_curve(iter_array, vr, learning_rate=0.001)"
   ]
  },
  {
   "cell_type": "code",
   "execution_count": null,
   "metadata": {},
   "outputs": [],
   "source": [
    "# iter_array = [1, 2, 5, 10, 25, 40]\n",
    "\n",
    "MF_SGD = matrix_factorization.ExplicitMF(tr_auto_enc_plus_gan, 40, learning='sgd', verbose=True)\n",
    "# iter_array = [1, 2, 5, 10, 25, 50, 100, 200]\n",
    "\n",
    "# iter_array = [10]\n",
    "# iter_array = [1, 2, 5, 10, 25]\n",
    "MF_SGD.calculate_learning_curve([60], vr, learning_rate=0.001)"
   ]
  },
  {
   "cell_type": "code",
   "execution_count": null,
   "metadata": {},
   "outputs": [],
   "source": [
    "get_sparsity(tr_auto_enc_plus_gan), tr_auto_enc_plus_gan.shape"
   ]
  },
  {
   "cell_type": "code",
   "execution_count": null,
   "metadata": {},
   "outputs": [],
   "source": [
    "MF_SGD = matrix_factorization.ExplicitMF(tr_auto_enc_plus_gan, 40, learning='sgd', verbose=True)\n",
    "# iter_array = [1, 2, 5, 10, 25, 50, 100, 200]\n",
    "\n",
    "# iter_array = [10]\n",
    "# iter_array = [1, 2, 5, 10, 25]\n",
    "MF_SGD.calculate_learning_curve([60], vr, learning_rate=0.001)"
   ]
  },
  {
   "cell_type": "code",
   "execution_count": null,
   "metadata": {},
   "outputs": [],
   "source": [
    "MF_SGD = matrix_factorization.ExplicitMF(tr_auto_enc_plus_gan, 40, learning='sgd', verbose=True)\n",
    "# iter_array = [1, 2, 5, 10, 25, 50, 100, 200]\n",
    "\n",
    "# iter_array = [10]\n",
    "# iter_array = [1, 2, 5, 10, 25]\n",
    "MF_SGD.calculate_learning_curve([60], vr, learning_rate=0.001)"
   ]
  },
  {
   "cell_type": "code",
   "execution_count": null,
   "metadata": {},
   "outputs": [],
   "source": [
    "MF_SGD = matrix_factorization.ExplicitMF(fake_aug, 40, learning='sgd', verbose=True)\n",
    "iter_array = [1, 2, 5, 10, 25, 50, 60]\n",
    "\n",
    "# iter_array = [10]\n",
    "# iter_array = [1, 2, 5, 10, 25]\n",
    "MF_SGD.calculate_learning_curve(iter_array, vr, learning_rate=0.001)"
   ]
  },
  {
   "cell_type": "code",
   "execution_count": null,
   "metadata": {},
   "outputs": [],
   "source": [
    "augmented_tr = augmented_train.cpu().numpy()"
   ]
  },
  {
   "cell_type": "code",
   "execution_count": null,
   "metadata": {},
   "outputs": [],
   "source": [
    "MF_SGD = matrix_factorization.ExplicitMF(augmented_tr, 40, learning='sgd', verbose=True)\n",
    "iter_array = [1, 2, 5, 10, 25, 50, 60]\n",
    "\n",
    "# iter_array = [10]\n",
    "# iter_array = [1, 2, 5, 10, 25]\n",
    "MF_SGD.calculate_learning_curve(iter_array, vr, learning_rate=0.001)"
   ]
  },
  {
   "cell_type": "code",
   "execution_count": null,
   "metadata": {},
   "outputs": [],
   "source": [
    "MF_SGD = matrix_factorization.ExplicitMF(tr, 40, learning='sgd', verbose=True)\n",
    "iter_array = [1, 2, 5, 10, 25, 50, 60]\n",
    "\n",
    "# iter_array = [10]\n",
    "# iter_array = [1, 2, 5, 10, 25]\n",
    "MF_SGD.calculate_learning_curve(iter_array, vr, learning_rate=0.001)"
   ]
  },
  {
   "cell_type": "code",
   "execution_count": null,
   "metadata": {},
   "outputs": [],
   "source": [
    "MF_SGD = matrix_factorization.ExplicitMF(tr, 40, learning='als', verbose=True)\n",
    "iter_array = [1, 2, 5, 10, 25, 50, 60]\n",
    "\n",
    "# iter_array = [10]\n",
    "# iter_array = [1, 2, 5, 10, 25]\n",
    "MF_SGD.calculate_learning_curve(iter_array, vr, learning_rate=0.001)"
   ]
  },
  {
   "cell_type": "code",
   "execution_count": null,
   "metadata": {},
   "outputs": [],
   "source": [
    "MF_SGD = matrix_factorization.ExplicitMF(augmented_tr, 40, learning='als', verbose=True)\n",
    "iter_array = [1, 2, 5, 10, 25, 50, 60]\n",
    "\n",
    "# iter_array = [10]\n",
    "# iter_array = [1, 2, 5, 10, 25]\n",
    "MF_SGD.calculate_learning_curve(iter_array, vr, learning_rate=0.001)"
   ]
  },
  {
   "cell_type": "code",
   "execution_count": null,
   "metadata": {},
   "outputs": [],
   "source": []
  }
 ],
 "metadata": {
  "kernelspec": {
   "display_name": "Python 3",
   "language": "python",
   "name": "python3"
  },
  "language_info": {
   "codemirror_mode": {
    "name": "ipython",
    "version": 3
   },
   "file_extension": ".py",
   "mimetype": "text/x-python",
   "name": "python",
   "nbconvert_exporter": "python",
   "pygments_lexer": "ipython3",
   "version": "3.7.3"
  }
 },
 "nbformat": 4,
 "nbformat_minor": 2
}
