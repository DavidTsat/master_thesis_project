{
 "cells": [
  {
   "cell_type": "code",
   "execution_count": 1,
   "metadata": {},
   "outputs": [],
   "source": [
    "'''\n",
    "written by Lorenz Muller\n",
    "'''\n",
    "\n",
    "import numpy as np\n",
    "import tensorflow as tf\n",
    "from time import time\n",
    "import sys\n",
    "from dataLoader import loadData\n",
    "import os"
   ]
  },
  {
   "cell_type": "code",
   "execution_count": 2,
   "metadata": {},
   "outputs": [],
   "source": [
    "seed = 47\n",
    "np.random.seed(seed)"
   ]
  },
  {
   "cell_type": "code",
   "execution_count": 3,
   "metadata": {},
   "outputs": [],
   "source": [
    "# # Downloading Movielens-1m\n",
    "# !curl -O http://files.grouplens.org/datasets/movielens/ml-1m.zip\n",
    "# #     http://www.grouplens.org/system/files/ml-1m.zip\n",
    "# !unzip ml-1m.zip\n",
    "# !cd ml-1m/"
   ]
  },
  {
   "cell_type": "code",
   "execution_count": 4,
   "metadata": {},
   "outputs": [],
   "source": [
    "# import zipfile\n",
    "# with zipfile.ZipFile('ml-1m.zip', 'r') as zip_ref:\n",
    "#     zip_ref.extractall('./')"
   ]
  },
  {
   "cell_type": "code",
   "execution_count": 5,
   "metadata": {},
   "outputs": [
    {
     "name": "stdout",
     "output_type": "stream",
     "text": [
      "reading data...\n",
      "data read in 5.004207611083984 seconds\n",
      "loaded dense data matrix\n"
     ]
    }
   ],
   "source": [
    "# load data\n",
    "tr, vr = loadData('./ml-1m/ratings.dat', delimiter='::', seed=seed, transpose=False, valfrac=0.1)"
   ]
  },
  {
   "cell_type": "code",
   "execution_count": 6,
   "metadata": {},
   "outputs": [],
   "source": [
    "# tr_1 = tr.copy()\n",
    "# vr_1 = vr.copy()"
   ]
  },
  {
   "cell_type": "code",
   "execution_count": 7,
   "metadata": {},
   "outputs": [],
   "source": [
    "# (vr_1 > 0).sum(), (tr_1 > 0).sum() "
   ]
  },
  {
   "cell_type": "code",
   "execution_count": 8,
   "metadata": {},
   "outputs": [],
   "source": [
    "# np.save('./tr', tr_1)\n",
    "# np.save('./vr', vr_1)"
   ]
  },
  {
   "cell_type": "code",
   "execution_count": 9,
   "metadata": {},
   "outputs": [],
   "source": [
    "tr_2 = np.load('./tr.npy')\n",
    "vr_2 = np.load('./vr.npy')"
   ]
  },
  {
   "cell_type": "code",
   "execution_count": 10,
   "metadata": {},
   "outputs": [
    {
     "data": {
      "text/plain": [
       "(True, True)"
      ]
     },
     "execution_count": 10,
     "metadata": {},
     "output_type": "execute_result"
    }
   ],
   "source": [
    "(tr_2 == tr).all(), (vr_2 == vr).all()"
   ]
  },
  {
   "cell_type": "code",
   "execution_count": 11,
   "metadata": {},
   "outputs": [],
   "source": [
    "del tr_2\n",
    "del vr_2"
   ]
  },
  {
   "cell_type": "code",
   "execution_count": 12,
   "metadata": {},
   "outputs": [],
   "source": [
    "# np.random.seed(seed)\n",
    "# path = './ml-1m/ratings.dat'\n",
    "# delimiter='::'\n",
    "\n",
    "# tic = time()\n",
    "# print('reading data...')\n",
    "# data = np.loadtxt(path, skiprows=0, delimiter=delimiter).astype('int32')\n",
    "# print('data read in', time() - tic, 'seconds')\n",
    "\n",
    "# n_u = np.unique(data[:, 0]).shape[0]  # number of users\n",
    "# n_m = np.unique(data[:, 1]).shape[0]  # number of movies\n",
    "# n_r = data.shape[0]  # number of ratings\n",
    "\n",
    "# # these dictionaries define a mapping from user/movie id to to user/movie number (contiguous from zero)\n",
    "# udict = {}\n",
    "# for i, u in enumerate(np.unique(data[:, 0]).tolist()):\n",
    "#     udict[u] = i\n",
    "# mdict = {}\n",
    "# for i, m in enumerate(np.unique(data[:, 1]).tolist()):\n",
    "#     mdict[m] = i\n",
    "\n",
    "# # shuffle indices\n",
    "# idx = np.arange(n_r)\n",
    "# np.random.shuffle(idx)\n",
    "\n",
    "# trainRatings = np.zeros((n_u, n_m), dtype='float32')\n",
    "# validRatings = np.zeros((n_u, n_m), dtype='float32')"
   ]
  },
  {
   "cell_type": "code",
   "execution_count": 13,
   "metadata": {},
   "outputs": [
    {
     "data": {
      "text/plain": [
       "array([[5., 0., 0., ..., 0., 0., 0.],\n",
       "       [0., 0., 0., ..., 0., 0., 0.],\n",
       "       [0., 0., 0., ..., 0., 0., 0.],\n",
       "       ...,\n",
       "       [0., 0., 0., ..., 0., 0., 0.],\n",
       "       [0., 0., 0., ..., 0., 0., 0.],\n",
       "       [3., 0., 0., ..., 0., 0., 0.]], dtype=float32)"
      ]
     },
     "execution_count": 13,
     "metadata": {},
     "output_type": "execute_result"
    }
   ],
   "source": [
    "tr"
   ]
  },
  {
   "cell_type": "code",
   "execution_count": 14,
   "metadata": {},
   "outputs": [
    {
     "data": {
      "text/plain": [
       "array([[0., 0., 0., ..., 0., 0., 0.],\n",
       "       [0., 0., 0., ..., 0., 0., 0.],\n",
       "       [0., 0., 0., ..., 0., 0., 0.],\n",
       "       ...,\n",
       "       [0., 0., 0., ..., 0., 0., 0.],\n",
       "       [0., 0., 0., ..., 0., 0., 0.],\n",
       "       [0., 0., 0., ..., 0., 0., 0.]], dtype=float32)"
      ]
     },
     "execution_count": 14,
     "metadata": {},
     "output_type": "execute_result"
    }
   ],
   "source": [
    "vr"
   ]
  },
  {
   "cell_type": "code",
   "execution_count": 15,
   "metadata": {},
   "outputs": [],
   "source": [
    "# import pandas as pd \n",
    "\n",
    "# ratings_list = [i.strip().split(\"::\") for i in open('./ml-1m/ratings.dat', 'r').readlines()]\n",
    "# users_list = [i.strip().split(\"::\") for i in open('./ml-1m/users.dat', 'r').readlines()]\n",
    "# movies_list = [i.strip().split(\"::\") for i in open('./ml-1m/movies.dat', 'r').readlines()]\n",
    "\n",
    "# ratings_df = pd.DataFrame(ratings_list, columns = ['UserID', 'MovieID', 'Rating', 'Timestamp'], dtype = int)\n",
    "# movies_df = pd.DataFrame(movies_list, columns = ['MovieID', 'Title', 'Genres'])\n",
    "# movies_df['MovieID'] = movies_df['MovieID'].apply(pd.to_numeric)"
   ]
  },
  {
   "cell_type": "code",
   "execution_count": 16,
   "metadata": {},
   "outputs": [],
   "source": [
    "# R_df = ratings_df.pivot(index = 'UserID', columns ='MovieID', values = 'Rating').fillna(0)\n",
    "# R_df.head()"
   ]
  },
  {
   "cell_type": "code",
   "execution_count": 17,
   "metadata": {},
   "outputs": [],
   "source": [
    "# ratings = np.array(R_df.values, dtype=int)\n",
    "# n_users = ratings.shape[0]\n",
    "# n_items = ratings.shape[1]"
   ]
  },
  {
   "cell_type": "code",
   "execution_count": 18,
   "metadata": {},
   "outputs": [],
   "source": [
    "# t = tr + vr"
   ]
  },
  {
   "cell_type": "code",
   "execution_count": 19,
   "metadata": {},
   "outputs": [
    {
     "data": {
      "text/plain": [
       "((6040, 3706), (6040, 3706))"
      ]
     },
     "execution_count": 19,
     "metadata": {},
     "output_type": "execute_result"
    }
   ],
   "source": [
    "tr.shape, vr.shape"
   ]
  },
  {
   "cell_type": "code",
   "execution_count": 20,
   "metadata": {},
   "outputs": [],
   "source": [
    "def get_sparsity(mat):\n",
    "    sparsity = float(len(mat.nonzero()[0]))\n",
    "    sparsity /= (mat.shape[0] * mat.shape[1])\n",
    "    sparsity *= 100\n",
    "    return sparsity"
   ]
  },
  {
   "cell_type": "code",
   "execution_count": 21,
   "metadata": {},
   "outputs": [
    {
     "data": {
      "text/plain": [
       "4.021525859265269"
      ]
     },
     "execution_count": 21,
     "metadata": {},
     "output_type": "execute_result"
    }
   ],
   "source": [
    "get_sparsity(tr)"
   ]
  },
  {
   "cell_type": "code",
   "execution_count": 22,
   "metadata": {},
   "outputs": [
    {
     "data": {
      "text/plain": [
       "0.44683670296601535"
      ]
     },
     "execution_count": 22,
     "metadata": {},
     "output_type": "execute_result"
    }
   ],
   "source": [
    "get_sparsity(vr)"
   ]
  },
  {
   "cell_type": "code",
   "execution_count": 23,
   "metadata": {},
   "outputs": [],
   "source": [
    "import torch\n",
    "import torch.nn as nn\n",
    "import torch.nn.functional as F\n",
    "import torch.optim as optim\n",
    "from torchvision import datasets, transforms\n",
    "import torchvision.utils as vutils\n",
    "from torch.autograd import Variable\n",
    "import torch.nn.init as init\n",
    "from os.path import isfile, isdir, join\n",
    "import os\n",
    "# from tensorboard_logger import configure, log_value"
   ]
  },
  {
   "cell_type": "code",
   "execution_count": 27,
   "metadata": {},
   "outputs": [
    {
     "data": {
      "text/plain": [
       "<torch._C.Generator at 0x13ff870f770>"
      ]
     },
     "execution_count": 27,
     "metadata": {},
     "output_type": "execute_result"
    }
   ],
   "source": [
    "lrD = 5e-4\n",
    "lrG = 5e-4\n",
    "batch_size = 100\n",
    "cuda = True\n",
    "epochs = 1000 #change\n",
    "device = 5\n",
    "seed = 1\n",
    "nz = 10\n",
    "d_iter = 5\n",
    "g_iter = 1\n",
    "lamba = 1e-3 # constant for L2 penalty (diversity)\n",
    "name = \"mnist-experiment\"\n",
    "# configure(\"runs/run-\" + args.name, flush_secs=5)\n",
    "torch.manual_seed(seed)\n",
    "\n",
    "\n",
    "# data_loader = torch.utils.data.DataLoader(\n",
    "#     datasets.MNIST('../data', train=True, download=True,\n",
    "#     transform=transforms.Compose([\n",
    "#     transforms.ToTensor(),\n",
    "#     ])), batch_size=batch_size, shuffle=True)"
   ]
  },
  {
   "cell_type": "code",
   "execution_count": 28,
   "metadata": {},
   "outputs": [],
   "source": [
    "train = tr.copy()"
   ]
  },
  {
   "cell_type": "code",
   "execution_count": 29,
   "metadata": {},
   "outputs": [
    {
     "name": "stdout",
     "output_type": "stream",
     "text": [
      "NetG(\n",
      "  (net): Sequential(\n",
      "    (0): Linear(in_features=10, out_features=1024, bias=True)\n",
      "    (1): ReLU()\n",
      "    (2): Linear(in_features=1024, out_features=1024, bias=True)\n",
      "    (3): Sigmoid()\n",
      "    (4): Dropout(p=0.5)\n",
      "    (5): Linear(in_features=1024, out_features=3706, bias=True)\n",
      "    (6): Sigmoid()\n",
      "    (7): Dropout(p=0.6)\n",
      "  )\n",
      ")\n",
      "NetD(\n",
      "  (t1): Linear(in_features=3706, out_features=1024, bias=True)\n",
      "  (b1): Linear(in_features=3706, out_features=1024, bias=True)\n",
      "  (fc): Linear(in_features=2048, out_features=3706, bias=True)\n",
      ")\n"
     ]
    }
   ],
   "source": [
    "features_length = train.shape[1]\n",
    "class NetD(torch.nn.Module):\n",
    "    def __init__(self, use_cuda=True):\n",
    "        super(NetD, self).__init__()\n",
    "        self.use_cuda = use_cuda\n",
    "        # top\n",
    "        self.t1 = torch.nn.Linear(features_length, 1024)\n",
    "        # bottom\n",
    "        self.b1 = torch.nn.Linear(features_length, 1024)\n",
    "        # combined\n",
    "        self.fc = torch.nn.Linear(2 * 1024, features_length)\n",
    "    def forward(self, xr, xf):\n",
    "        # get filt\n",
    "#         filt = (torch.abs((real > 0.3).float() * fake - real))/real.shape[0]\n",
    "        filt = torch.abs((real != 0).float().cuda() * fake.cuda() - real.cuda())/(fake == 0).sum()\n",
    "#         filt = torch.abs((real != 0).float().cuda() * fake.cuda() - real.cuda())\n",
    "\n",
    "#         filt = torch.abs((xr != 0).int() * xf - xr)\n",
    "#         filt = 1 - (xr * (xf >= 0.5).float()) - ((1-xr) * (xf < 0.5).float())\n",
    "        # random swap\n",
    "        idr = torch.multinomial(torch.Tensor([0.5,0.5]), xr.size(0), replacement=True)\n",
    "        idrx = idr.float().unsqueeze(1).expand_as(xr)\n",
    "        if self.use_cuda: \n",
    "            idrx = idrx.cuda()\n",
    "        idrx = Variable(idrx)\n",
    "        xt = xr * idrx + xf * (1 - idrx)\n",
    "        xb = xr * (1 - idrx) + xf * idrx\n",
    "        # top : real\n",
    "        xt = F.relu(self.t1(xt))\n",
    "        # bottom : fake\n",
    "        xb = F.relu(self.b1(xb))\n",
    "        # combined\n",
    "        x = torch.cat((xt, xb), 1)\n",
    "        x = torch.tanh(self.fc(x))\n",
    "        # apply filter, aggregate\n",
    "#         print(filt.type(), x.type())\n",
    "        x = filt * x\n",
    "\n",
    "        x = x.mean(dim = 1).squeeze()\n",
    "        # use sign, because of swapping\n",
    "        sgn = idr * 2 - 1\n",
    "        if self.use_cuda: \n",
    "            sgn = sgn.cuda()\n",
    "        sgn = Variable(sgn.float())\n",
    "        x = sgn * x\n",
    "        return x\n",
    "        \n",
    "# netG = torch.nn.Sequential(\n",
    "#     torch.nn.Linear(nz, 1024),\n",
    "#     torch.nn.ReLU(),\n",
    "#     torch.nn.Linear(1024, features_length),\n",
    "#     torch.nn.Sigmoid()*5\n",
    "#     )\n",
    "\n",
    "class NetG(nn.Module):\n",
    "    \n",
    "    def __init__(self):\n",
    "\n",
    "        super(NetG, self).__init__()\n",
    "\n",
    "        self.net = torch.nn.Sequential( \n",
    "                                torch.nn.Linear(nz, 1024), \n",
    "                                torch.nn.ReLU(), \n",
    "                                torch.nn.Linear(1024, 1024), \n",
    "                                torch.nn.Sigmoid(), \n",
    "                                nn.Dropout(0.5),\n",
    "                                torch.nn.Linear(1024, features_length), \n",
    "                                torch.nn.Sigmoid(), \n",
    "                                nn.Dropout(0.6)\n",
    "                                )\n",
    "\n",
    "#         self.net = nn.Sequential(\n",
    "#                                  nn.Linear(nz,1024),\n",
    "# #                                  nn.Dropout(0.3)\n",
    "#                                  nn.ReLU(),\n",
    "#                                  nn.Linear(1024,2048),\n",
    "#                                  nn.Sigmoid(),\n",
    "#                                  nn.Dropout(0.3),\n",
    "#                                  nn.Linear(2048,features_length),\n",
    "# #                                  nn.Sigmoid()\n",
    "#                                  nn.Dropout(0.5)\n",
    "#                                     )\n",
    "        \n",
    "    def forward(self, x):\n",
    "        x = self.net(x)\n",
    "#         return x\n",
    "        return x*5 # to get values in range [0,5]\n",
    "    \n",
    "# networks\n",
    "netD = NetD(use_cuda=True)\n",
    "netG = NetG()\n",
    "print(netG)\n",
    "print(netD)\n",
    "optimizerG = optim.RMSprop(netG.parameters(), lr=lrG)\n",
    "optimizerD = optim.RMSprop(netD.parameters(), lr=lrD)\n",
    "one = torch.FloatTensor([1])\n",
    "mone = one * -1"
   ]
  },
  {
   "cell_type": "code",
   "execution_count": 30,
   "metadata": {},
   "outputs": [],
   "source": [
    "# netD.load_state_dict(torch.load('./netD-1m'))\n",
    "# netG.load_state_dict(torch.load('./netG-1m'))"
   ]
  },
  {
   "cell_type": "code",
   "execution_count": 31,
   "metadata": {},
   "outputs": [],
   "source": [
    "one = torch.FloatTensor([1])\n",
    "mone = one * -1\n",
    "cuda = True\n",
    "if cuda is True:\n",
    "    netD.cuda()\n",
    "    netG.cuda()\n",
    "    one, mone = one.cuda(), mone.cuda()"
   ]
  },
  {
   "cell_type": "code",
   "execution_count": 32,
   "metadata": {},
   "outputs": [],
   "source": [
    "for p in netD.parameters(): # reset requires_grad\n",
    "    p.requires_grad = True #\n",
    "    \n",
    "for p in netG.parameters(): # reset requires_grad\n",
    "    p.requires_grad = True #"
   ]
  },
  {
   "cell_type": "code",
   "execution_count": 33,
   "metadata": {},
   "outputs": [],
   "source": [
    "def getRealSample(length=6):\n",
    "     return Variable(torch.IntTensor(np.random.choice([0, 1], size=(batch_size, length))))"
   ]
  },
  {
   "cell_type": "code",
   "execution_count": 34,
   "metadata": {},
   "outputs": [],
   "source": [
    "def get_random_batch(mat, batch_size=16):\n",
    "    rand_rows = np.random.randint(mat.shape[0], size=batch_size)\n",
    "#     print(mat.shape, rand_rows)\n",
    "#     print(mat[rand_rows].shape)\n",
    "    return mat[rand_rows]"
   ]
  },
  {
   "cell_type": "code",
   "execution_count": 35,
   "metadata": {},
   "outputs": [
    {
     "data": {
      "text/plain": [
       "(100, 3706)"
      ]
     },
     "execution_count": 35,
     "metadata": {},
     "output_type": "execute_result"
    }
   ],
   "source": [
    "get_random_batch(train, batch_size=batch_size).shape"
   ]
  },
  {
   "cell_type": "code",
   "execution_count": 36,
   "metadata": {},
   "outputs": [],
   "source": [
    "train = torch.autograd.Variable(torch.Tensor(train))"
   ]
  },
  {
   "cell_type": "code",
   "execution_count": 37,
   "metadata": {},
   "outputs": [],
   "source": [
    "def d_my(x_r, x_g):\n",
    "    return torch.sum(torch.abs((x_r != 0).float() * x_g - x_r))"
   ]
  },
  {
   "cell_type": "code",
   "execution_count": 38,
   "metadata": {},
   "outputs": [
    {
     "data": {
      "text/plain": [
       "torch.Size([6040, 3706])"
      ]
     },
     "execution_count": 38,
     "metadata": {},
     "output_type": "execute_result"
    }
   ],
   "source": [
    "train.shape"
   ]
  },
  {
   "cell_type": "code",
   "execution_count": 39,
   "metadata": {},
   "outputs": [],
   "source": [
    "# import pandas as pd \n",
    "\n",
    "# ratings_list = [i.strip().split(\"::\") for i in open('./ml-1m/ratings.dat', 'r').readlines()]\n",
    "# users_list = [i.strip().split(\"::\") for i in open('./ml-1m/users.dat', 'r').readlines()]\n",
    "# movies_list = [i.strip().split(\"::\") for i in open('./ml-1m/movies.dat', 'r').readlines()]\n",
    "\n",
    "# ratings_df = pd.DataFrame(ratings_list, columns = ['UserID', 'MovieID', 'Rating', 'Timestamp'], dtype = int)\n",
    "# movies_df = pd.DataFrame(movies_list, columns = ['MovieID', 'Title', 'Genres'])\n",
    "# movies_df['MovieID'] = movies_df['MovieID'].apply(pd.to_numeric)\n",
    "\n",
    "# R_df = ratings_df.pivot(index = 'UserID', columns ='MovieID', values = 'Rating').fillna(0)\n",
    "\n",
    "# ratings = np.array(R_df.values, dtype=int)\n",
    "# n_users = ratings.shape[0]\n",
    "# n_items = ratings.shape[1]"
   ]
  },
  {
   "cell_type": "code",
   "execution_count": 40,
   "metadata": {},
   "outputs": [],
   "source": [
    "# ratings"
   ]
  },
  {
   "cell_type": "code",
   "execution_count": 41,
   "metadata": {
    "scrolled": true
   },
   "outputs": [],
   "source": [
    "# get_sparsity(ratings)"
   ]
  },
  {
   "cell_type": "code",
   "execution_count": 42,
   "metadata": {},
   "outputs": [
    {
     "data": {
      "text/plain": [
       "4.021525859265269"
      ]
     },
     "execution_count": 42,
     "metadata": {},
     "output_type": "execute_result"
    }
   ],
   "source": [
    "get_sparsity(tr)"
   ]
  },
  {
   "cell_type": "code",
   "execution_count": 43,
   "metadata": {},
   "outputs": [
    {
     "data": {
      "text/plain": [
       "0.44683670296601535"
      ]
     },
     "execution_count": 43,
     "metadata": {},
     "output_type": "execute_result"
    }
   ],
   "source": [
    "get_sparsity(vr)"
   ]
  },
  {
   "cell_type": "code",
   "execution_count": 44,
   "metadata": {},
   "outputs": [
    {
     "ename": "NameError",
     "evalue": "name 'real' is not defined",
     "output_type": "error",
     "traceback": [
      "\u001b[1;31m---------------------------------------------------------------------------\u001b[0m",
      "\u001b[1;31mNameError\u001b[0m                                 Traceback (most recent call last)",
      "\u001b[1;32m<ipython-input-44-d71e7adef36b>\u001b[0m in \u001b[0;36m<module>\u001b[1;34m\u001b[0m\n\u001b[1;32m----> 1\u001b[1;33m \u001b[0mreal\u001b[0m\u001b[1;33m[\u001b[0m\u001b[1;36m1\u001b[0m\u001b[1;33m,\u001b[0m\u001b[1;33m:\u001b[0m\u001b[1;36m20\u001b[0m\u001b[1;33m]\u001b[0m\u001b[1;33m\u001b[0m\u001b[1;33m\u001b[0m\u001b[0m\n\u001b[0m",
      "\u001b[1;31mNameError\u001b[0m: name 'real' is not defined"
     ]
    }
   ],
   "source": [
    "real[1,:20]"
   ]
  },
  {
   "cell_type": "code",
   "execution_count": 45,
   "metadata": {},
   "outputs": [
    {
     "ename": "NameError",
     "evalue": "name 'real' is not defined",
     "output_type": "error",
     "traceback": [
      "\u001b[1;31m---------------------------------------------------------------------------\u001b[0m",
      "\u001b[1;31mNameError\u001b[0m                                 Traceback (most recent call last)",
      "\u001b[1;32m<ipython-input-45-fecaed0b8293>\u001b[0m in \u001b[0;36m<module>\u001b[1;34m\u001b[0m\n\u001b[0;32m      1\u001b[0m \u001b[1;31m# real[1,:20] + (fake[1,:20] * ((real[1,:20] != 0).float()))\u001b[0m\u001b[1;33m\u001b[0m\u001b[1;33m\u001b[0m\u001b[1;33m\u001b[0m\u001b[0m\n\u001b[1;32m----> 2\u001b[1;33m \u001b[0mreal\u001b[0m\u001b[1;33m[\u001b[0m\u001b[1;36m1\u001b[0m\u001b[1;33m,\u001b[0m\u001b[1;33m:\u001b[0m\u001b[1;36m20\u001b[0m\u001b[1;33m]\u001b[0m \u001b[1;33m+\u001b[0m \u001b[0mfake\u001b[0m\u001b[1;33m[\u001b[0m\u001b[1;36m1\u001b[0m\u001b[1;33m,\u001b[0m\u001b[1;33m:\u001b[0m\u001b[1;36m20\u001b[0m\u001b[1;33m]\u001b[0m\u001b[1;33m*\u001b[0m \u001b[1;33m(\u001b[0m\u001b[0mreal\u001b[0m\u001b[1;33m[\u001b[0m\u001b[1;36m1\u001b[0m\u001b[1;33m,\u001b[0m\u001b[1;33m:\u001b[0m\u001b[1;36m20\u001b[0m\u001b[1;33m]\u001b[0m \u001b[1;33m==\u001b[0m \u001b[1;36m0\u001b[0m\u001b[1;33m)\u001b[0m\u001b[1;33m.\u001b[0m\u001b[0mfloat\u001b[0m\u001b[1;33m(\u001b[0m\u001b[1;33m)\u001b[0m\u001b[1;33m\u001b[0m\u001b[1;33m\u001b[0m\u001b[0m\n\u001b[0m",
      "\u001b[1;31mNameError\u001b[0m: name 'real' is not defined"
     ]
    }
   ],
   "source": [
    "# real[1,:20] + (fake[1,:20] * ((real[1,:20] != 0).float()))\n",
    "real[1,:20] + fake[1,:20]* (real[1,:20] == 0).float()"
   ]
  },
  {
   "cell_type": "code",
   "execution_count": 46,
   "metadata": {},
   "outputs": [
    {
     "ename": "NameError",
     "evalue": "name 'fake' is not defined",
     "output_type": "error",
     "traceback": [
      "\u001b[1;31m---------------------------------------------------------------------------\u001b[0m",
      "\u001b[1;31mNameError\u001b[0m                                 Traceback (most recent call last)",
      "\u001b[1;32m<ipython-input-46-93f1749f3db3>\u001b[0m in \u001b[0;36m<module>\u001b[1;34m\u001b[0m\n\u001b[1;32m----> 1\u001b[1;33m \u001b[1;33m(\u001b[0m\u001b[0mfake\u001b[0m\u001b[1;33m[\u001b[0m\u001b[1;36m1\u001b[0m\u001b[1;33m,\u001b[0m\u001b[1;33m:\u001b[0m\u001b[1;36m20\u001b[0m\u001b[1;33m]\u001b[0m \u001b[1;33m*\u001b[0m \u001b[1;33m(\u001b[0m\u001b[1;33m(\u001b[0m\u001b[0mreal\u001b[0m\u001b[1;33m[\u001b[0m\u001b[1;36m1\u001b[0m\u001b[1;33m,\u001b[0m\u001b[1;33m:\u001b[0m\u001b[1;36m20\u001b[0m\u001b[1;33m]\u001b[0m \u001b[1;33m!=\u001b[0m \u001b[1;36m0\u001b[0m\u001b[1;33m)\u001b[0m\u001b[1;33m.\u001b[0m\u001b[0mfloat\u001b[0m\u001b[1;33m(\u001b[0m\u001b[1;33m)\u001b[0m\u001b[1;33m)\u001b[0m\u001b[1;33m)\u001b[0m\u001b[1;33m\u001b[0m\u001b[1;33m\u001b[0m\u001b[0m\n\u001b[0m",
      "\u001b[1;31mNameError\u001b[0m: name 'fake' is not defined"
     ]
    }
   ],
   "source": [
    "(fake[1,:20] * ((real[1,:20] != 0).float()))"
   ]
  },
  {
   "cell_type": "code",
   "execution_count": 47,
   "metadata": {},
   "outputs": [
    {
     "ename": "NameError",
     "evalue": "name 'fake' is not defined",
     "output_type": "error",
     "traceback": [
      "\u001b[1;31m---------------------------------------------------------------------------\u001b[0m",
      "\u001b[1;31mNameError\u001b[0m                                 Traceback (most recent call last)",
      "\u001b[1;32m<ipython-input-47-64b5a74d9edc>\u001b[0m in \u001b[0;36m<module>\u001b[1;34m\u001b[0m\n\u001b[1;32m----> 1\u001b[1;33m \u001b[0mfake\u001b[0m \u001b[1;33m=\u001b[0m \u001b[0mfake\u001b[0m\u001b[1;33m[\u001b[0m\u001b[1;33m:\u001b[0m\u001b[1;36m100\u001b[0m\u001b[1;33m,\u001b[0m \u001b[1;33m:\u001b[0m\u001b[1;33m]\u001b[0m\u001b[1;33m\u001b[0m\u001b[1;33m\u001b[0m\u001b[0m\n\u001b[0m",
      "\u001b[1;31mNameError\u001b[0m: name 'fake' is not defined"
     ]
    }
   ],
   "source": [
    "fake = fake[:100, :]"
   ]
  },
  {
   "cell_type": "code",
   "execution_count": 48,
   "metadata": {},
   "outputs": [],
   "source": [
    "# fake.type(), real.type()"
   ]
  },
  {
   "cell_type": "code",
   "execution_count": 49,
   "metadata": {},
   "outputs": [],
   "source": [
    "# (fake * ((real != 0).float()))"
   ]
  },
  {
   "cell_type": "code",
   "execution_count": 50,
   "metadata": {},
   "outputs": [],
   "source": [
    "# real\n",
    "# # fake = fake * Variable(real != 0).float().cuda()"
   ]
  },
  {
   "cell_type": "code",
   "execution_count": 51,
   "metadata": {},
   "outputs": [],
   "source": [
    "# fake"
   ]
  },
  {
   "cell_type": "code",
   "execution_count": 383,
   "metadata": {
    "scrolled": false
   },
   "outputs": [
    {
     "name": "stdout",
     "output_type": "stream",
     "text": [
      "Epoch number 1. my distance between random real and fake samples 30490.83203125\n",
      "Epoch number 1. MSE distance between random real and fake samples 0.29879799485206604\n",
      "Epoch number 3. my distance between random real and fake samples 41031.34375\n",
      "Epoch number 3. MSE distance between random real and fake samples 0.39401862025260925\n",
      "Epoch number 5. my distance between random real and fake samples 34724.3359375\n",
      "Epoch number 5. MSE distance between random real and fake samples 0.33573490381240845\n",
      "Epoch number 7. my distance between random real and fake samples 36062.71875\n",
      "Epoch number 7. MSE distance between random real and fake samples 0.35354113578796387\n",
      "Epoch number 9. my distance between random real and fake samples 41684.0546875\n",
      "Epoch number 9. MSE distance between random real and fake samples 0.3983769416809082\n",
      "Epoch number 11. my distance between random real and fake samples 35929.921875\n",
      "Epoch number 11. MSE distance between random real and fake samples 0.3460485637187958\n",
      "Epoch number 13. my distance between random real and fake samples 41826.47265625\n",
      "Epoch number 13. MSE distance between random real and fake samples 0.4076785147190094\n",
      "Epoch number 15. my distance between random real and fake samples 31271.470703125\n",
      "Epoch number 15. MSE distance between random real and fake samples 0.3066383898258209\n",
      "Epoch number 17. my distance between random real and fake samples 39322.5703125\n",
      "Epoch number 17. MSE distance between random real and fake samples 0.3793068528175354\n",
      "Epoch number 19. my distance between random real and fake samples 31118.94140625\n",
      "Epoch number 19. MSE distance between random real and fake samples 0.30283287167549133\n",
      "Epoch number 21. my distance between random real and fake samples 34460.5234375\n",
      "Epoch number 21. MSE distance between random real and fake samples 0.3377142548561096\n",
      "Epoch number 23. my distance between random real and fake samples 35095.125\n",
      "Epoch number 23. MSE distance between random real and fake samples 0.34509414434432983\n",
      "Epoch number 25. my distance between random real and fake samples 34636.265625\n",
      "Epoch number 25. MSE distance between random real and fake samples 0.3356204330921173\n",
      "Epoch number 27. my distance between random real and fake samples 39045.73828125\n",
      "Epoch number 27. MSE distance between random real and fake samples 0.38776856660842896\n",
      "Epoch number 29. my distance between random real and fake samples 36684.8203125\n",
      "Epoch number 29. MSE distance between random real and fake samples 0.35458117723464966\n",
      "Epoch number 31. my distance between random real and fake samples 42725.40625\n",
      "Epoch number 31. MSE distance between random real and fake samples 0.41498225927352905\n",
      "Epoch number 33. my distance between random real and fake samples 38793.34375\n",
      "Epoch number 33. MSE distance between random real and fake samples 0.373796284198761\n",
      "Epoch number 35. my distance between random real and fake samples 40465.4296875\n",
      "Epoch number 35. MSE distance between random real and fake samples 0.38696110248565674\n",
      "Epoch number 37. my distance between random real and fake samples 39093.66796875\n",
      "Epoch number 37. MSE distance between random real and fake samples 0.37898778915405273\n",
      "Epoch number 39. my distance between random real and fake samples 31918.72265625\n",
      "Epoch number 39. MSE distance between random real and fake samples 0.3110373914241791\n",
      "Epoch number 41. my distance between random real and fake samples 35898.484375\n",
      "Epoch number 41. MSE distance between random real and fake samples 0.352412611246109\n",
      "Epoch number 43. my distance between random real and fake samples 37057.0625\n",
      "Epoch number 43. MSE distance between random real and fake samples 0.3598294258117676\n",
      "Epoch number 45. my distance between random real and fake samples 42890.59375\n",
      "Epoch number 45. MSE distance between random real and fake samples 0.4221033453941345\n",
      "Epoch number 47. my distance between random real and fake samples 33031.3046875\n",
      "Epoch number 47. MSE distance between random real and fake samples 0.31973469257354736\n",
      "Epoch number 49. my distance between random real and fake samples 34773.7109375\n",
      "Epoch number 49. MSE distance between random real and fake samples 0.3384571075439453\n",
      "Epoch number 51. my distance between random real and fake samples 32412.8828125\n",
      "Epoch number 51. MSE distance between random real and fake samples 0.3129149377346039\n",
      "Epoch number 53. my distance between random real and fake samples 43878.8828125\n",
      "Epoch number 53. MSE distance between random real and fake samples 0.4252782166004181\n",
      "Epoch number 55. my distance between random real and fake samples 35606.75\n",
      "Epoch number 55. MSE distance between random real and fake samples 0.34634095430374146\n",
      "Epoch number 57. my distance between random real and fake samples 34007.0859375\n",
      "Epoch number 57. MSE distance between random real and fake samples 0.3365330398082733\n",
      "Epoch number 59. my distance between random real and fake samples 33447.3515625\n",
      "Epoch number 59. MSE distance between random real and fake samples 0.3250306248664856\n",
      "Epoch number 61. my distance between random real and fake samples 31519.4453125\n",
      "Epoch number 61. MSE distance between random real and fake samples 0.2970711886882782\n",
      "Epoch number 63. my distance between random real and fake samples 33619.90625\n",
      "Epoch number 63. MSE distance between random real and fake samples 0.32719433307647705\n",
      "Epoch number 65. my distance between random real and fake samples 36340.453125\n",
      "Epoch number 65. MSE distance between random real and fake samples 0.35312703251838684\n",
      "Epoch number 67. my distance between random real and fake samples 40353.88671875\n",
      "Epoch number 67. MSE distance between random real and fake samples 0.38977381587028503\n",
      "Epoch number 69. my distance between random real and fake samples 36044.9765625\n",
      "Epoch number 69. MSE distance between random real and fake samples 0.3380891680717468\n",
      "Epoch number 71. my distance between random real and fake samples 40731.42578125\n",
      "Epoch number 71. MSE distance between random real and fake samples 0.39360901713371277\n",
      "Epoch number 73. my distance between random real and fake samples 33014.44140625\n",
      "Epoch number 73. MSE distance between random real and fake samples 0.31210950016975403\n",
      "Epoch number 75. my distance between random real and fake samples 36281.18359375\n",
      "Epoch number 75. MSE distance between random real and fake samples 0.35949525237083435\n",
      "Epoch number 77. my distance between random real and fake samples 31283.42578125\n",
      "Epoch number 77. MSE distance between random real and fake samples 0.30463308095932007\n",
      "Epoch number 79. my distance between random real and fake samples 32013.25390625\n",
      "Epoch number 79. MSE distance between random real and fake samples 0.3056493401527405\n",
      "Epoch number 81. my distance between random real and fake samples 33806.74609375\n",
      "Epoch number 81. MSE distance between random real and fake samples 0.31926652789115906\n",
      "Epoch number 83. my distance between random real and fake samples 35905.359375\n",
      "Epoch number 83. MSE distance between random real and fake samples 0.3532533347606659\n",
      "Epoch number 85. my distance between random real and fake samples 44094.43359375\n",
      "Epoch number 85. MSE distance between random real and fake samples 0.42192012071609497\n",
      "Epoch number 87. my distance between random real and fake samples 38574.3671875\n",
      "Epoch number 87. MSE distance between random real and fake samples 0.37127685546875\n",
      "Epoch number 89. my distance between random real and fake samples 34862.1875\n",
      "Epoch number 89. MSE distance between random real and fake samples 0.33813485503196716\n",
      "Epoch number 91. my distance between random real and fake samples 37984.94921875\n",
      "Epoch number 91. MSE distance between random real and fake samples 0.3668116629123688\n",
      "Epoch number 93. my distance between random real and fake samples 43110.015625\n",
      "Epoch number 93. MSE distance between random real and fake samples 0.4192558526992798\n",
      "Epoch number 95. my distance between random real and fake samples 30855.48828125\n",
      "Epoch number 95. MSE distance between random real and fake samples 0.30077049136161804\n",
      "Epoch number 97. my distance between random real and fake samples 35190.203125\n",
      "Epoch number 97. MSE distance between random real and fake samples 0.341291218996048\n"
     ]
    },
    {
     "name": "stdout",
     "output_type": "stream",
     "text": [
      "Epoch number 99. my distance between random real and fake samples 35254.609375\n",
      "Epoch number 99. MSE distance between random real and fake samples 0.3350379765033722\n",
      "Epoch number 101. my distance between random real and fake samples 34184.23828125\n",
      "Epoch number 101. MSE distance between random real and fake samples 0.3319316506385803\n",
      "Epoch number 103. my distance between random real and fake samples 36081.421875\n",
      "Epoch number 103. MSE distance between random real and fake samples 0.3446906507015228\n",
      "Epoch number 105. my distance between random real and fake samples 37437.671875\n",
      "Epoch number 105. MSE distance between random real and fake samples 0.35950973629951477\n",
      "Epoch number 107. my distance between random real and fake samples 46220.1328125\n",
      "Epoch number 107. MSE distance between random real and fake samples 0.4566962718963623\n",
      "Epoch number 109. my distance between random real and fake samples 46585.3828125\n",
      "Epoch number 109. MSE distance between random real and fake samples 0.44969701766967773\n",
      "Epoch number 111. my distance between random real and fake samples 29871.9296875\n",
      "Epoch number 111. MSE distance between random real and fake samples 0.288261353969574\n",
      "Epoch number 113. my distance between random real and fake samples 33389.51171875\n",
      "Epoch number 113. MSE distance between random real and fake samples 0.32509100437164307\n",
      "Epoch number 115. my distance between random real and fake samples 39399.875\n",
      "Epoch number 115. MSE distance between random real and fake samples 0.3872392773628235\n",
      "Epoch number 117. my distance between random real and fake samples 31348.66015625\n",
      "Epoch number 117. MSE distance between random real and fake samples 0.3078770041465759\n",
      "Epoch number 119. my distance between random real and fake samples 39148.47265625\n",
      "Epoch number 119. MSE distance between random real and fake samples 0.3801524043083191\n",
      "Epoch number 121. my distance between random real and fake samples 36640.359375\n",
      "Epoch number 121. MSE distance between random real and fake samples 0.3601045608520508\n",
      "Epoch number 123. my distance between random real and fake samples 42172.65234375\n",
      "Epoch number 123. MSE distance between random real and fake samples 0.40680551528930664\n",
      "Epoch number 125. my distance between random real and fake samples 39260.84375\n",
      "Epoch number 125. MSE distance between random real and fake samples 0.3694186806678772\n",
      "Epoch number 127. my distance between random real and fake samples 34868.58203125\n",
      "Epoch number 127. MSE distance between random real and fake samples 0.34397152066230774\n",
      "Epoch number 129. my distance between random real and fake samples 43790.7734375\n",
      "Epoch number 129. MSE distance between random real and fake samples 0.4252394735813141\n",
      "Epoch number 131. my distance between random real and fake samples 30508.53515625\n",
      "Epoch number 131. MSE distance between random real and fake samples 0.29581087827682495\n",
      "Epoch number 133. my distance between random real and fake samples 32870.0625\n",
      "Epoch number 133. MSE distance between random real and fake samples 0.3290196359157562\n",
      "Epoch number 135. my distance between random real and fake samples 33551.765625\n",
      "Epoch number 135. MSE distance between random real and fake samples 0.33173057436943054\n",
      "Epoch number 137. my distance between random real and fake samples 31955.216796875\n",
      "Epoch number 137. MSE distance between random real and fake samples 0.31471291184425354\n",
      "Epoch number 139. my distance between random real and fake samples 30395.537109375\n",
      "Epoch number 139. MSE distance between random real and fake samples 0.29692697525024414\n",
      "Epoch number 141. my distance between random real and fake samples 40599.62890625\n",
      "Epoch number 141. MSE distance between random real and fake samples 0.392442524433136\n",
      "Epoch number 143. my distance between random real and fake samples 35377.8828125\n",
      "Epoch number 143. MSE distance between random real and fake samples 0.3425733745098114\n",
      "Epoch number 145. my distance between random real and fake samples 41633.16796875\n",
      "Epoch number 145. MSE distance between random real and fake samples 0.39907050132751465\n",
      "Epoch number 147. my distance between random real and fake samples 30390.55078125\n",
      "Epoch number 147. MSE distance between random real and fake samples 0.2948078513145447\n",
      "Epoch number 149. my distance between random real and fake samples 41349.71484375\n",
      "Epoch number 149. MSE distance between random real and fake samples 0.40631672739982605\n",
      "Epoch number 151. my distance between random real and fake samples 35866.15625\n",
      "Epoch number 151. MSE distance between random real and fake samples 0.3517005443572998\n",
      "Epoch number 153. my distance between random real and fake samples 40951.9375\n",
      "Epoch number 153. MSE distance between random real and fake samples 0.40191301703453064\n",
      "Epoch number 155. my distance between random real and fake samples 35279.671875\n",
      "Epoch number 155. MSE distance between random real and fake samples 0.34446266293525696\n",
      "Epoch number 157. my distance between random real and fake samples 34704.49609375\n",
      "Epoch number 157. MSE distance between random real and fake samples 0.33793386816978455\n",
      "Epoch number 159. my distance between random real and fake samples 38325.20703125\n",
      "Epoch number 159. MSE distance between random real and fake samples 0.37188780307769775\n",
      "Epoch number 161. my distance between random real and fake samples 39111.66015625\n",
      "Epoch number 161. MSE distance between random real and fake samples 0.37854358553886414\n",
      "Epoch number 163. my distance between random real and fake samples 36756.17578125\n",
      "Epoch number 163. MSE distance between random real and fake samples 0.3510454595088959\n",
      "Epoch number 165. my distance between random real and fake samples 42091.828125\n",
      "Epoch number 165. MSE distance between random real and fake samples 0.41615158319473267\n",
      "Epoch number 167. my distance between random real and fake samples 40863.98828125\n",
      "Epoch number 167. MSE distance between random real and fake samples 0.400334894657135\n",
      "Epoch number 169. my distance between random real and fake samples 41085.90234375\n",
      "Epoch number 169. MSE distance between random real and fake samples 0.40387940406799316\n",
      "Epoch number 171. my distance between random real and fake samples 34729.65625\n",
      "Epoch number 171. MSE distance between random real and fake samples 0.33570802211761475\n",
      "Epoch number 173. my distance between random real and fake samples 45510.33984375\n",
      "Epoch number 173. MSE distance between random real and fake samples 0.4494597017765045\n",
      "Epoch number 175. my distance between random real and fake samples 34023.4375\n",
      "Epoch number 175. MSE distance between random real and fake samples 0.3220501244068146\n",
      "Epoch number 177. my distance between random real and fake samples 35231.1171875\n",
      "Epoch number 177. MSE distance between random real and fake samples 0.33629804849624634\n",
      "Epoch number 179. my distance between random real and fake samples 38324.66015625\n",
      "Epoch number 179. MSE distance between random real and fake samples 0.3700106143951416\n",
      "Epoch number 181. my distance between random real and fake samples 38823.87890625\n",
      "Epoch number 181. MSE distance between random real and fake samples 0.3742360472679138\n",
      "Epoch number 183. my distance between random real and fake samples 33250.4921875\n",
      "Epoch number 183. MSE distance between random real and fake samples 0.3207995891571045\n",
      "Epoch number 185. my distance between random real and fake samples 39416.6171875\n",
      "Epoch number 185. MSE distance between random real and fake samples 0.39086687564849854\n",
      "Epoch number 187. my distance between random real and fake samples 37450.61328125\n",
      "Epoch number 187. MSE distance between random real and fake samples 0.3648151755332947\n",
      "Epoch number 189. my distance between random real and fake samples 46360.421875\n",
      "Epoch number 189. MSE distance between random real and fake samples 0.4506756067276001\n",
      "Epoch number 191. my distance between random real and fake samples 33368.94921875\n",
      "Epoch number 191. MSE distance between random real and fake samples 0.32942330837249756\n",
      "Epoch number 193. my distance between random real and fake samples 42078.34765625\n",
      "Epoch number 193. MSE distance between random real and fake samples 0.40791767835617065\n",
      "Epoch number 195. my distance between random real and fake samples 44634.09375\n"
     ]
    },
    {
     "name": "stdout",
     "output_type": "stream",
     "text": [
      "Epoch number 195. MSE distance between random real and fake samples 0.43550172448158264\n",
      "Epoch number 197. my distance between random real and fake samples 42006.21484375\n",
      "Epoch number 197. MSE distance between random real and fake samples 0.39960578083992004\n",
      "Epoch number 199. my distance between random real and fake samples 31970.09765625\n",
      "Epoch number 199. MSE distance between random real and fake samples 0.30986618995666504\n",
      "Epoch number 201. my distance between random real and fake samples 37655.6171875\n",
      "Epoch number 201. MSE distance between random real and fake samples 0.36410096287727356\n",
      "Epoch number 203. my distance between random real and fake samples 45243.67578125\n",
      "Epoch number 203. MSE distance between random real and fake samples 0.43759220838546753\n",
      "Epoch number 205. my distance between random real and fake samples 42947.359375\n",
      "Epoch number 205. MSE distance between random real and fake samples 0.4145495593547821\n",
      "Epoch number 207. my distance between random real and fake samples 32353.521484375\n",
      "Epoch number 207. MSE distance between random real and fake samples 0.30234232544898987\n",
      "Epoch number 209. my distance between random real and fake samples 41476.2734375\n",
      "Epoch number 209. MSE distance between random real and fake samples 0.39927634596824646\n",
      "Epoch number 211. my distance between random real and fake samples 42751.15625\n",
      "Epoch number 211. MSE distance between random real and fake samples 0.4105037748813629\n",
      "Epoch number 213. my distance between random real and fake samples 37540.73828125\n",
      "Epoch number 213. MSE distance between random real and fake samples 0.3612455427646637\n",
      "Epoch number 215. my distance between random real and fake samples 34293.84765625\n",
      "Epoch number 215. MSE distance between random real and fake samples 0.33026134967803955\n",
      "Epoch number 217. my distance between random real and fake samples 41136.20703125\n",
      "Epoch number 217. MSE distance between random real and fake samples 0.4040079712867737\n",
      "Epoch number 219. my distance between random real and fake samples 30725.205078125\n",
      "Epoch number 219. MSE distance between random real and fake samples 0.29993703961372375\n",
      "Epoch number 221. my distance between random real and fake samples 41158.68359375\n",
      "Epoch number 221. MSE distance between random real and fake samples 0.39867720007896423\n",
      "Epoch number 223. my distance between random real and fake samples 36559.88671875\n",
      "Epoch number 223. MSE distance between random real and fake samples 0.357774019241333\n",
      "Epoch number 225. my distance between random real and fake samples 39069.25\n",
      "Epoch number 225. MSE distance between random real and fake samples 0.3732597529888153\n",
      "Epoch number 227. my distance between random real and fake samples 35400.7109375\n",
      "Epoch number 227. MSE distance between random real and fake samples 0.34219518303871155\n",
      "Epoch number 229. my distance between random real and fake samples 32688.736328125\n",
      "Epoch number 229. MSE distance between random real and fake samples 0.3192416727542877\n",
      "Epoch number 231. my distance between random real and fake samples 31287.158203125\n",
      "Epoch number 231. MSE distance between random real and fake samples 0.31025415658950806\n",
      "Epoch number 233. my distance between random real and fake samples 32792.765625\n",
      "Epoch number 233. MSE distance between random real and fake samples 0.3207750618457794\n",
      "Epoch number 235. my distance between random real and fake samples 37368.46875\n",
      "Epoch number 235. MSE distance between random real and fake samples 0.36499646306037903\n",
      "Epoch number 237. my distance between random real and fake samples 37850.46484375\n",
      "Epoch number 237. MSE distance between random real and fake samples 0.36744675040245056\n",
      "Epoch number 239. my distance between random real and fake samples 34733.1015625\n",
      "Epoch number 239. MSE distance between random real and fake samples 0.33214718103408813\n",
      "Epoch number 241. my distance between random real and fake samples 34336.90625\n",
      "Epoch number 241. MSE distance between random real and fake samples 0.3294113874435425\n",
      "Epoch number 243. my distance between random real and fake samples 46136.953125\n",
      "Epoch number 243. MSE distance between random real and fake samples 0.43919506669044495\n",
      "Epoch number 245. my distance between random real and fake samples 40027.546875\n",
      "Epoch number 245. MSE distance between random real and fake samples 0.3832545280456543\n",
      "Epoch number 247. my distance between random real and fake samples 36337.8046875\n",
      "Epoch number 247. MSE distance between random real and fake samples 0.34968116879463196\n",
      "Epoch number 249. my distance between random real and fake samples 41184.01171875\n",
      "Epoch number 249. MSE distance between random real and fake samples 0.3868972063064575\n",
      "Epoch number 251. my distance between random real and fake samples 39359.51953125\n",
      "Epoch number 251. MSE distance between random real and fake samples 0.373290091753006\n",
      "Epoch number 253. my distance between random real and fake samples 26736.369140625\n",
      "Epoch number 253. MSE distance between random real and fake samples 0.2665228247642517\n",
      "Epoch number 255. my distance between random real and fake samples 36457.72265625\n",
      "Epoch number 255. MSE distance between random real and fake samples 0.3536880612373352\n",
      "Epoch number 257. my distance between random real and fake samples 37701.83984375\n",
      "Epoch number 257. MSE distance between random real and fake samples 0.36519867181777954\n",
      "Epoch number 259. my distance between random real and fake samples 41463.359375\n",
      "Epoch number 259. MSE distance between random real and fake samples 0.39495745301246643\n",
      "Epoch number 261. my distance between random real and fake samples 33091.2265625\n",
      "Epoch number 261. MSE distance between random real and fake samples 0.325405478477478\n",
      "Epoch number 263. my distance between random real and fake samples 30169.181640625\n",
      "Epoch number 263. MSE distance between random real and fake samples 0.296555757522583\n",
      "Epoch number 265. my distance between random real and fake samples 39351.25390625\n",
      "Epoch number 265. MSE distance between random real and fake samples 0.3810643255710602\n",
      "Epoch number 267. my distance between random real and fake samples 40493.671875\n",
      "Epoch number 267. MSE distance between random real and fake samples 0.3948250412940979\n",
      "Epoch number 269. my distance between random real and fake samples 39122.046875\n",
      "Epoch number 269. MSE distance between random real and fake samples 0.38542959094047546\n",
      "Epoch number 271. my distance between random real and fake samples 39705.140625\n",
      "Epoch number 271. MSE distance between random real and fake samples 0.37575215101242065\n",
      "Epoch number 273. my distance between random real and fake samples 28791.41015625\n",
      "Epoch number 273. MSE distance between random real and fake samples 0.284467488527298\n",
      "Epoch number 275. my distance between random real and fake samples 26856.86328125\n",
      "Epoch number 275. MSE distance between random real and fake samples 0.2607112526893616\n",
      "Epoch number 277. my distance between random real and fake samples 37139.82421875\n",
      "Epoch number 277. MSE distance between random real and fake samples 0.3593297302722931\n",
      "Epoch number 279. my distance between random real and fake samples 34731.6953125\n",
      "Epoch number 279. MSE distance between random real and fake samples 0.3403279185295105\n",
      "Epoch number 281. my distance between random real and fake samples 41568.14453125\n",
      "Epoch number 281. MSE distance between random real and fake samples 0.39007142186164856\n",
      "Epoch number 283. my distance between random real and fake samples 41346.4375\n",
      "Epoch number 283. MSE distance between random real and fake samples 0.4080144166946411\n",
      "Epoch number 285. my distance between random real and fake samples 41530.80859375\n",
      "Epoch number 285. MSE distance between random real and fake samples 0.40325307846069336\n",
      "Epoch number 287. my distance between random real and fake samples 33013.33984375\n",
      "Epoch number 287. MSE distance between random real and fake samples 0.31599196791648865\n",
      "Epoch number 289. my distance between random real and fake samples 35791.56640625\n",
      "Epoch number 289. MSE distance between random real and fake samples 0.3425752818584442\n",
      "Epoch number 291. my distance between random real and fake samples 35734.3515625\n",
      "Epoch number 291. MSE distance between random real and fake samples 0.345909982919693\n"
     ]
    },
    {
     "name": "stdout",
     "output_type": "stream",
     "text": [
      "Epoch number 293. my distance between random real and fake samples 36289.06640625\n",
      "Epoch number 293. MSE distance between random real and fake samples 0.36039799451828003\n",
      "Epoch number 295. my distance between random real and fake samples 39519.5546875\n",
      "Epoch number 295. MSE distance between random real and fake samples 0.3748885989189148\n",
      "Epoch number 297. my distance between random real and fake samples 42058.3515625\n",
      "Epoch number 297. MSE distance between random real and fake samples 0.4064984619617462\n",
      "Epoch number 299. my distance between random real and fake samples 39804.7734375\n",
      "Epoch number 299. MSE distance between random real and fake samples 0.37555548548698425\n",
      "Epoch number 301. my distance between random real and fake samples 30905.21875\n",
      "Epoch number 301. MSE distance between random real and fake samples 0.29429003596305847\n",
      "Epoch number 303. my distance between random real and fake samples 35796.1640625\n",
      "Epoch number 303. MSE distance between random real and fake samples 0.350257009267807\n",
      "Epoch number 305. my distance between random real and fake samples 41095.3828125\n",
      "Epoch number 305. MSE distance between random real and fake samples 0.4012467861175537\n",
      "Epoch number 307. my distance between random real and fake samples 34103.734375\n",
      "Epoch number 307. MSE distance between random real and fake samples 0.3260153830051422\n",
      "Epoch number 309. my distance between random real and fake samples 37983.1484375\n",
      "Epoch number 309. MSE distance between random real and fake samples 0.36367884278297424\n",
      "Epoch number 311. my distance between random real and fake samples 40398.62890625\n",
      "Epoch number 311. MSE distance between random real and fake samples 0.39511942863464355\n",
      "Epoch number 313. my distance between random real and fake samples 35420.203125\n",
      "Epoch number 313. MSE distance between random real and fake samples 0.34011659026145935\n",
      "Epoch number 315. my distance between random real and fake samples 35608.3359375\n",
      "Epoch number 315. MSE distance between random real and fake samples 0.3503056764602661\n",
      "Epoch number 317. my distance between random real and fake samples 38799.1796875\n",
      "Epoch number 317. MSE distance between random real and fake samples 0.3750734329223633\n",
      "Epoch number 319. my distance between random real and fake samples 41698.5859375\n",
      "Epoch number 319. MSE distance between random real and fake samples 0.4075136184692383\n",
      "Epoch number 321. my distance between random real and fake samples 37518.921875\n",
      "Epoch number 321. MSE distance between random real and fake samples 0.3495074212551117\n",
      "Epoch number 323. my distance between random real and fake samples 35915.66796875\n",
      "Epoch number 323. MSE distance between random real and fake samples 0.3518124222755432\n",
      "Epoch number 325. my distance between random real and fake samples 36056.0859375\n",
      "Epoch number 325. MSE distance between random real and fake samples 0.34685656428337097\n",
      "Epoch number 327. my distance between random real and fake samples 32171.958984375\n",
      "Epoch number 327. MSE distance between random real and fake samples 0.3090239465236664\n",
      "Epoch number 329. my distance between random real and fake samples 33450.8671875\n",
      "Epoch number 329. MSE distance between random real and fake samples 0.3300623893737793\n",
      "Epoch number 331. my distance between random real and fake samples 42646.0859375\n",
      "Epoch number 331. MSE distance between random real and fake samples 0.4121912121772766\n",
      "Epoch number 333. my distance between random real and fake samples 29711.90625\n",
      "Epoch number 333. MSE distance between random real and fake samples 0.28443387150764465\n",
      "Epoch number 335. my distance between random real and fake samples 34593.3046875\n",
      "Epoch number 335. MSE distance between random real and fake samples 0.3317859172821045\n",
      "Epoch number 337. my distance between random real and fake samples 41853.4296875\n",
      "Epoch number 337. MSE distance between random real and fake samples 0.3993074595928192\n",
      "Epoch number 339. my distance between random real and fake samples 37782.984375\n",
      "Epoch number 339. MSE distance between random real and fake samples 0.36054691672325134\n",
      "Epoch number 341. my distance between random real and fake samples 38454.515625\n",
      "Epoch number 341. MSE distance between random real and fake samples 0.37469854950904846\n",
      "Epoch number 343. my distance between random real and fake samples 44475.6015625\n",
      "Epoch number 343. MSE distance between random real and fake samples 0.4208790361881256\n",
      "Epoch number 345. my distance between random real and fake samples 32683.841796875\n",
      "Epoch number 345. MSE distance between random real and fake samples 0.3193714916706085\n",
      "Epoch number 347. my distance between random real and fake samples 35799.05859375\n",
      "Epoch number 347. MSE distance between random real and fake samples 0.34591856598854065\n",
      "Epoch number 349. my distance between random real and fake samples 35610.94921875\n",
      "Epoch number 349. MSE distance between random real and fake samples 0.33449625968933105\n",
      "Epoch number 351. my distance between random real and fake samples 33858.12109375\n",
      "Epoch number 351. MSE distance between random real and fake samples 0.3301374316215515\n",
      "Epoch number 353. my distance between random real and fake samples 40397.9453125\n",
      "Epoch number 353. MSE distance between random real and fake samples 0.3807852268218994\n",
      "Epoch number 355. my distance between random real and fake samples 39738.10546875\n",
      "Epoch number 355. MSE distance between random real and fake samples 0.38034796714782715\n",
      "Epoch number 357. my distance between random real and fake samples 34722.578125\n",
      "Epoch number 357. MSE distance between random real and fake samples 0.3374391198158264\n",
      "Epoch number 359. my distance between random real and fake samples 35289.125\n",
      "Epoch number 359. MSE distance between random real and fake samples 0.33911553025245667\n",
      "Epoch number 361. my distance between random real and fake samples 30260.21875\n",
      "Epoch number 361. MSE distance between random real and fake samples 0.30018550157546997\n",
      "Epoch number 363. my distance between random real and fake samples 35299.171875\n",
      "Epoch number 363. MSE distance between random real and fake samples 0.34406378865242004\n",
      "Epoch number 365. my distance between random real and fake samples 35425.49609375\n",
      "Epoch number 365. MSE distance between random real and fake samples 0.3401111662387848\n",
      "Epoch number 367. my distance between random real and fake samples 42558.7578125\n",
      "Epoch number 367. MSE distance between random real and fake samples 0.40961477160453796\n",
      "Epoch number 369. my distance between random real and fake samples 41543.41015625\n",
      "Epoch number 369. MSE distance between random real and fake samples 0.4077903926372528\n",
      "Epoch number 371. my distance between random real and fake samples 32760.818359375\n",
      "Epoch number 371. MSE distance between random real and fake samples 0.317300409078598\n",
      "Epoch number 373. my distance between random real and fake samples 34185.8046875\n",
      "Epoch number 373. MSE distance between random real and fake samples 0.33740130066871643\n",
      "Epoch number 375. my distance between random real and fake samples 40178.328125\n",
      "Epoch number 375. MSE distance between random real and fake samples 0.3824457824230194\n",
      "Epoch number 377. my distance between random real and fake samples 35360.87109375\n",
      "Epoch number 377. MSE distance between random real and fake samples 0.343753457069397\n",
      "Epoch number 379. my distance between random real and fake samples 37950.90625\n",
      "Epoch number 379. MSE distance between random real and fake samples 0.3662234842777252\n",
      "Epoch number 381. my distance between random real and fake samples 42924.4921875\n",
      "Epoch number 381. MSE distance between random real and fake samples 0.4150587320327759\n",
      "Epoch number 383. my distance between random real and fake samples 30326.23046875\n",
      "Epoch number 383. MSE distance between random real and fake samples 0.2946096658706665\n",
      "Epoch number 385. my distance between random real and fake samples 40957.046875\n",
      "Epoch number 385. MSE distance between random real and fake samples 0.39121314883232117\n",
      "Epoch number 387. my distance between random real and fake samples 48161.64453125\n",
      "Epoch number 387. MSE distance between random real and fake samples 0.457163006067276\n",
      "Epoch number 389. my distance between random real and fake samples 38479.8984375\n"
     ]
    },
    {
     "name": "stdout",
     "output_type": "stream",
     "text": [
      "Epoch number 389. MSE distance between random real and fake samples 0.3701592981815338\n",
      "Epoch number 391. my distance between random real and fake samples 48896.625\n",
      "Epoch number 391. MSE distance between random real and fake samples 0.4645906090736389\n",
      "Epoch number 393. my distance between random real and fake samples 36071.78125\n",
      "Epoch number 393. MSE distance between random real and fake samples 0.35312896966934204\n",
      "Epoch number 395. my distance between random real and fake samples 37955.9296875\n",
      "Epoch number 395. MSE distance between random real and fake samples 0.36549460887908936\n",
      "Epoch number 397. my distance between random real and fake samples 38492.8515625\n",
      "Epoch number 397. MSE distance between random real and fake samples 0.37894800305366516\n",
      "Epoch number 399. my distance between random real and fake samples 38120.20703125\n",
      "Epoch number 399. MSE distance between random real and fake samples 0.3677344024181366\n",
      "Epoch number 401. my distance between random real and fake samples 40662.89453125\n",
      "Epoch number 401. MSE distance between random real and fake samples 0.39436694979667664\n",
      "Epoch number 403. my distance between random real and fake samples 37483.61328125\n",
      "Epoch number 403. MSE distance between random real and fake samples 0.36136937141418457\n",
      "Epoch number 405. my distance between random real and fake samples 37097.875\n",
      "Epoch number 405. MSE distance between random real and fake samples 0.3573912978172302\n",
      "Epoch number 407. my distance between random real and fake samples 40268.3671875\n",
      "Epoch number 407. MSE distance between random real and fake samples 0.38360795378685\n",
      "Epoch number 409. my distance between random real and fake samples 35672.35546875\n",
      "Epoch number 409. MSE distance between random real and fake samples 0.3471965789794922\n",
      "Epoch number 411. my distance between random real and fake samples 36736.4296875\n",
      "Epoch number 411. MSE distance between random real and fake samples 0.3539923429489136\n",
      "Epoch number 413. my distance between random real and fake samples 35804.328125\n",
      "Epoch number 413. MSE distance between random real and fake samples 0.346298485994339\n",
      "Epoch number 415. my distance between random real and fake samples 42668.09375\n",
      "Epoch number 415. MSE distance between random real and fake samples 0.41553807258605957\n",
      "Epoch number 417. my distance between random real and fake samples 45347.0390625\n",
      "Epoch number 417. MSE distance between random real and fake samples 0.43287912011146545\n",
      "Epoch number 419. my distance between random real and fake samples 42777.90234375\n",
      "Epoch number 419. MSE distance between random real and fake samples 0.4123797118663788\n",
      "Epoch number 421. my distance between random real and fake samples 32657.73046875\n",
      "Epoch number 421. MSE distance between random real and fake samples 0.3205347955226898\n",
      "Epoch number 423. my distance between random real and fake samples 44286.3828125\n",
      "Epoch number 423. MSE distance between random real and fake samples 0.413479745388031\n",
      "Epoch number 425. my distance between random real and fake samples 36428.58203125\n",
      "Epoch number 425. MSE distance between random real and fake samples 0.35507217049598694\n",
      "Epoch number 427. my distance between random real and fake samples 32556.6796875\n",
      "Epoch number 427. MSE distance between random real and fake samples 0.31319913268089294\n",
      "Epoch number 429. my distance between random real and fake samples 39903.546875\n",
      "Epoch number 429. MSE distance between random real and fake samples 0.38170090317726135\n",
      "Epoch number 431. my distance between random real and fake samples 35565.7578125\n",
      "Epoch number 431. MSE distance between random real and fake samples 0.3406953513622284\n",
      "Epoch number 433. my distance between random real and fake samples 36809.4765625\n",
      "Epoch number 433. MSE distance between random real and fake samples 0.3525993824005127\n",
      "Epoch number 435. my distance between random real and fake samples 41656.1953125\n",
      "Epoch number 435. MSE distance between random real and fake samples 0.4110492169857025\n",
      "Epoch number 437. my distance between random real and fake samples 29239.953125\n",
      "Epoch number 437. MSE distance between random real and fake samples 0.2835583984851837\n",
      "Epoch number 439. my distance between random real and fake samples 33339.76171875\n",
      "Epoch number 439. MSE distance between random real and fake samples 0.3312389850616455\n",
      "Epoch number 441. my distance between random real and fake samples 40075.140625\n",
      "Epoch number 441. MSE distance between random real and fake samples 0.38178157806396484\n",
      "Epoch number 443. my distance between random real and fake samples 40855.4453125\n",
      "Epoch number 443. MSE distance between random real and fake samples 0.39260077476501465\n",
      "Epoch number 445. my distance between random real and fake samples 39849.2734375\n",
      "Epoch number 445. MSE distance between random real and fake samples 0.3819981515407562\n",
      "Epoch number 447. my distance between random real and fake samples 37140.53125\n",
      "Epoch number 447. MSE distance between random real and fake samples 0.3537055253982544\n",
      "Epoch number 449. my distance between random real and fake samples 40769.38671875\n",
      "Epoch number 449. MSE distance between random real and fake samples 0.3922179341316223\n",
      "Epoch number 451. my distance between random real and fake samples 33547.8515625\n",
      "Epoch number 451. MSE distance between random real and fake samples 0.3326233923435211\n",
      "Epoch number 453. my distance between random real and fake samples 32930.9140625\n",
      "Epoch number 453. MSE distance between random real and fake samples 0.3281785249710083\n",
      "Epoch number 455. my distance between random real and fake samples 30830.7265625\n",
      "Epoch number 455. MSE distance between random real and fake samples 0.29963111877441406\n",
      "Epoch number 457. my distance between random real and fake samples 34732.12890625\n",
      "Epoch number 457. MSE distance between random real and fake samples 0.33171239495277405\n",
      "Epoch number 459. my distance between random real and fake samples 39204.53125\n",
      "Epoch number 459. MSE distance between random real and fake samples 0.38219642639160156\n",
      "Epoch number 461. my distance between random real and fake samples 34898.734375\n",
      "Epoch number 461. MSE distance between random real and fake samples 0.34182167053222656\n",
      "Epoch number 463. my distance between random real and fake samples 36569.57421875\n",
      "Epoch number 463. MSE distance between random real and fake samples 0.3505631983280182\n",
      "Epoch number 465. my distance between random real and fake samples 39129.58984375\n",
      "Epoch number 465. MSE distance between random real and fake samples 0.38538041710853577\n",
      "Epoch number 467. my distance between random real and fake samples 33790.40234375\n",
      "Epoch number 467. MSE distance between random real and fake samples 0.326797217130661\n",
      "Epoch number 469. my distance between random real and fake samples 34455.6171875\n",
      "Epoch number 469. MSE distance between random real and fake samples 0.3362828493118286\n",
      "Epoch number 471. my distance between random real and fake samples 39020.2890625\n",
      "Epoch number 471. MSE distance between random real and fake samples 0.38140398263931274\n",
      "Epoch number 473. my distance between random real and fake samples 40133.23046875\n",
      "Epoch number 473. MSE distance between random real and fake samples 0.3945121467113495\n",
      "Epoch number 475. my distance between random real and fake samples 31403.921875\n",
      "Epoch number 475. MSE distance between random real and fake samples 0.3061622381210327\n",
      "Epoch number 477. my distance between random real and fake samples 36408.75390625\n",
      "Epoch number 477. MSE distance between random real and fake samples 0.35065633058547974\n",
      "Epoch number 479. my distance between random real and fake samples 46969.0625\n",
      "Epoch number 479. MSE distance between random real and fake samples 0.4549141228199005\n",
      "Epoch number 481. my distance between random real and fake samples 27269.896484375\n",
      "Epoch number 481. MSE distance between random real and fake samples 0.2656833827495575\n",
      "Epoch number 483. my distance between random real and fake samples 36478.9765625\n",
      "Epoch number 483. MSE distance between random real and fake samples 0.34333336353302\n",
      "Epoch number 485. my distance between random real and fake samples 39697.41796875\n",
      "Epoch number 485. MSE distance between random real and fake samples 0.38160908222198486\n"
     ]
    },
    {
     "name": "stdout",
     "output_type": "stream",
     "text": [
      "Epoch number 487. my distance between random real and fake samples 35782.18359375\n",
      "Epoch number 487. MSE distance between random real and fake samples 0.3416317403316498\n",
      "Epoch number 489. my distance between random real and fake samples 39111.7265625\n",
      "Epoch number 489. MSE distance between random real and fake samples 0.3774130642414093\n",
      "Epoch number 491. my distance between random real and fake samples 42902.0859375\n",
      "Epoch number 491. MSE distance between random real and fake samples 0.4133308231830597\n",
      "Epoch number 493. my distance between random real and fake samples 43424.6328125\n",
      "Epoch number 493. MSE distance between random real and fake samples 0.4062785804271698\n",
      "Epoch number 495. my distance between random real and fake samples 36645.2109375\n",
      "Epoch number 495. MSE distance between random real and fake samples 0.3537876605987549\n",
      "Epoch number 497. my distance between random real and fake samples 49420.5390625\n",
      "Epoch number 497. MSE distance between random real and fake samples 0.46727773547172546\n",
      "Epoch number 499. my distance between random real and fake samples 32379.16796875\n",
      "Epoch number 499. MSE distance between random real and fake samples 0.3179914653301239\n",
      "Epoch number 501. my distance between random real and fake samples 46357.0\n",
      "Epoch number 501. MSE distance between random real and fake samples 0.44479966163635254\n",
      "Epoch number 503. my distance between random real and fake samples 38991.6171875\n",
      "Epoch number 503. MSE distance between random real and fake samples 0.3723309636116028\n",
      "Epoch number 505. my distance between random real and fake samples 36226.6953125\n",
      "Epoch number 505. MSE distance between random real and fake samples 0.35097625851631165\n",
      "Epoch number 507. my distance between random real and fake samples 31256.0078125\n",
      "Epoch number 507. MSE distance between random real and fake samples 0.3027530908584595\n",
      "Epoch number 509. my distance between random real and fake samples 39670.3671875\n",
      "Epoch number 509. MSE distance between random real and fake samples 0.39001166820526123\n",
      "Epoch number 511. my distance between random real and fake samples 33636.07421875\n",
      "Epoch number 511. MSE distance between random real and fake samples 0.32380178570747375\n",
      "Epoch number 513. my distance between random real and fake samples 35150.0703125\n",
      "Epoch number 513. MSE distance between random real and fake samples 0.34254002571105957\n",
      "Epoch number 515. my distance between random real and fake samples 43177.953125\n",
      "Epoch number 515. MSE distance between random real and fake samples 0.4135161340236664\n",
      "Epoch number 517. my distance between random real and fake samples 35900.7109375\n",
      "Epoch number 517. MSE distance between random real and fake samples 0.33687758445739746\n",
      "Epoch number 519. my distance between random real and fake samples 39133.3046875\n",
      "Epoch number 519. MSE distance between random real and fake samples 0.37900376319885254\n",
      "Epoch number 521. my distance between random real and fake samples 34858.6015625\n",
      "Epoch number 521. MSE distance between random real and fake samples 0.3354916274547577\n",
      "Epoch number 523. my distance between random real and fake samples 40681.6015625\n",
      "Epoch number 523. MSE distance between random real and fake samples 0.39866113662719727\n",
      "Epoch number 525. my distance between random real and fake samples 37341.35546875\n",
      "Epoch number 525. MSE distance between random real and fake samples 0.34948575496673584\n",
      "Epoch number 527. my distance between random real and fake samples 29625.494140625\n",
      "Epoch number 527. MSE distance between random real and fake samples 0.2836121618747711\n",
      "Epoch number 529. my distance between random real and fake samples 32843.640625\n",
      "Epoch number 529. MSE distance between random real and fake samples 0.3130556344985962\n",
      "Epoch number 531. my distance between random real and fake samples 32738.10546875\n",
      "Epoch number 531. MSE distance between random real and fake samples 0.3230139911174774\n",
      "Epoch number 533. my distance between random real and fake samples 34506.203125\n",
      "Epoch number 533. MSE distance between random real and fake samples 0.33622321486473083\n",
      "Epoch number 535. my distance between random real and fake samples 36875.24609375\n",
      "Epoch number 535. MSE distance between random real and fake samples 0.34806329011917114\n",
      "Epoch number 537. my distance between random real and fake samples 33664.67578125\n",
      "Epoch number 537. MSE distance between random real and fake samples 0.32651349902153015\n",
      "Epoch number 539. my distance between random real and fake samples 39110.16015625\n",
      "Epoch number 539. MSE distance between random real and fake samples 0.37314721941947937\n",
      "Epoch number 541. my distance between random real and fake samples 44123.328125\n",
      "Epoch number 541. MSE distance between random real and fake samples 0.42806684970855713\n",
      "Epoch number 543. my distance between random real and fake samples 43368.8671875\n",
      "Epoch number 543. MSE distance between random real and fake samples 0.4148017168045044\n",
      "Epoch number 545. my distance between random real and fake samples 32335.173828125\n",
      "Epoch number 545. MSE distance between random real and fake samples 0.31270456314086914\n",
      "Epoch number 547. my distance between random real and fake samples 38219.04296875\n",
      "Epoch number 547. MSE distance between random real and fake samples 0.3698858320713043\n",
      "Epoch number 549. my distance between random real and fake samples 33538.08203125\n",
      "Epoch number 549. MSE distance between random real and fake samples 0.3270165026187897\n",
      "Epoch number 551. my distance between random real and fake samples 37259.91015625\n",
      "Epoch number 551. MSE distance between random real and fake samples 0.3601054847240448\n",
      "Epoch number 553. my distance between random real and fake samples 34752.515625\n",
      "Epoch number 553. MSE distance between random real and fake samples 0.33409014344215393\n",
      "Epoch number 555. my distance between random real and fake samples 39560.19921875\n",
      "Epoch number 555. MSE distance between random real and fake samples 0.3817337453365326\n",
      "Epoch number 557. my distance between random real and fake samples 33759.61328125\n",
      "Epoch number 557. MSE distance between random real and fake samples 0.3279949426651001\n",
      "Epoch number 559. my distance between random real and fake samples 37219.91015625\n",
      "Epoch number 559. MSE distance between random real and fake samples 0.3602035641670227\n",
      "Epoch number 561. my distance between random real and fake samples 30669.734375\n",
      "Epoch number 561. MSE distance between random real and fake samples 0.29696494340896606\n",
      "Epoch number 563. my distance between random real and fake samples 39655.78515625\n",
      "Epoch number 563. MSE distance between random real and fake samples 0.37734535336494446\n",
      "Epoch number 565. my distance between random real and fake samples 37909.2421875\n",
      "Epoch number 565. MSE distance between random real and fake samples 0.3600601255893707\n",
      "Epoch number 567. my distance between random real and fake samples 29801.447265625\n",
      "Epoch number 567. MSE distance between random real and fake samples 0.28636229038238525\n",
      "Epoch number 569. my distance between random real and fake samples 39032.15625\n",
      "Epoch number 569. MSE distance between random real and fake samples 0.38476860523223877\n",
      "Epoch number 571. my distance between random real and fake samples 36683.33984375\n",
      "Epoch number 571. MSE distance between random real and fake samples 0.3580608367919922\n",
      "Epoch number 573. my distance between random real and fake samples 45580.1171875\n",
      "Epoch number 573. MSE distance between random real and fake samples 0.4300079643726349\n",
      "Epoch number 575. my distance between random real and fake samples 33288.1875\n",
      "Epoch number 575. MSE distance between random real and fake samples 0.3207637667655945\n",
      "Epoch number 577. my distance between random real and fake samples 43658.59765625\n",
      "Epoch number 577. MSE distance between random real and fake samples 0.4109976291656494\n",
      "Epoch number 579. my distance between random real and fake samples 31023.86328125\n",
      "Epoch number 579. MSE distance between random real and fake samples 0.3037017285823822\n",
      "Epoch number 581. my distance between random real and fake samples 36689.6171875\n",
      "Epoch number 581. MSE distance between random real and fake samples 0.356656551361084\n",
      "Epoch number 583. my distance between random real and fake samples 38307.57421875\n"
     ]
    },
    {
     "name": "stdout",
     "output_type": "stream",
     "text": [
      "Epoch number 583. MSE distance between random real and fake samples 0.3665417432785034\n",
      "Epoch number 585. my distance between random real and fake samples 39345.51171875\n",
      "Epoch number 585. MSE distance between random real and fake samples 0.3750907778739929\n",
      "Epoch number 587. my distance between random real and fake samples 35746.296875\n",
      "Epoch number 587. MSE distance between random real and fake samples 0.34427767992019653\n",
      "Epoch number 589. my distance between random real and fake samples 33646.3203125\n",
      "Epoch number 589. MSE distance between random real and fake samples 0.32478389143943787\n",
      "Epoch number 591. my distance between random real and fake samples 44672.0859375\n",
      "Epoch number 591. MSE distance between random real and fake samples 0.4299521744251251\n",
      "Epoch number 593. my distance between random real and fake samples 33217.51171875\n",
      "Epoch number 593. MSE distance between random real and fake samples 0.31621626019477844\n",
      "Epoch number 595. my distance between random real and fake samples 38141.38671875\n",
      "Epoch number 595. MSE distance between random real and fake samples 0.36359238624572754\n",
      "Epoch number 597. my distance between random real and fake samples 40004.375\n",
      "Epoch number 597. MSE distance between random real and fake samples 0.39020898938179016\n",
      "Epoch number 599. my distance between random real and fake samples 36042.77734375\n",
      "Epoch number 599. MSE distance between random real and fake samples 0.343295156955719\n",
      "Epoch number 601. my distance between random real and fake samples 33614.3359375\n",
      "Epoch number 601. MSE distance between random real and fake samples 0.32595956325531006\n",
      "Epoch number 603. my distance between random real and fake samples 35243.05078125\n",
      "Epoch number 603. MSE distance between random real and fake samples 0.3450973331928253\n",
      "Epoch number 605. my distance between random real and fake samples 31585.14453125\n",
      "Epoch number 605. MSE distance between random real and fake samples 0.3082900941371918\n",
      "Epoch number 607. my distance between random real and fake samples 43454.14453125\n",
      "Epoch number 607. MSE distance between random real and fake samples 0.410897821187973\n",
      "Epoch number 609. my distance between random real and fake samples 36524.140625\n",
      "Epoch number 609. MSE distance between random real and fake samples 0.3527383804321289\n",
      "Epoch number 611. my distance between random real and fake samples 34786.4609375\n",
      "Epoch number 611. MSE distance between random real and fake samples 0.3399135172367096\n",
      "Epoch number 613. my distance between random real and fake samples 30632.734375\n",
      "Epoch number 613. MSE distance between random real and fake samples 0.29452040791511536\n",
      "Epoch number 615. my distance between random real and fake samples 35327.7578125\n",
      "Epoch number 615. MSE distance between random real and fake samples 0.3384034335613251\n",
      "Epoch number 617. my distance between random real and fake samples 39341.421875\n",
      "Epoch number 617. MSE distance between random real and fake samples 0.3843279778957367\n",
      "Epoch number 619. my distance between random real and fake samples 42721.40625\n",
      "Epoch number 619. MSE distance between random real and fake samples 0.41444894671440125\n",
      "Epoch number 621. my distance between random real and fake samples 32712.8828125\n",
      "Epoch number 621. MSE distance between random real and fake samples 0.3225322961807251\n",
      "Epoch number 623. my distance between random real and fake samples 35812.30078125\n",
      "Epoch number 623. MSE distance between random real and fake samples 0.34635046124458313\n",
      "Epoch number 625. my distance between random real and fake samples 39356.6640625\n",
      "Epoch number 625. MSE distance between random real and fake samples 0.37781310081481934\n",
      "Epoch number 627. my distance between random real and fake samples 37316.92578125\n",
      "Epoch number 627. MSE distance between random real and fake samples 0.36121296882629395\n",
      "Epoch number 629. my distance between random real and fake samples 36960.265625\n",
      "Epoch number 629. MSE distance between random real and fake samples 0.36388465762138367\n",
      "Epoch number 631. my distance between random real and fake samples 37025.5859375\n",
      "Epoch number 631. MSE distance between random real and fake samples 0.35995158553123474\n",
      "Epoch number 633. my distance between random real and fake samples 34463.31640625\n",
      "Epoch number 633. MSE distance between random real and fake samples 0.33423399925231934\n",
      "Epoch number 635. my distance between random real and fake samples 39206.0546875\n",
      "Epoch number 635. MSE distance between random real and fake samples 0.38301798701286316\n",
      "Epoch number 637. my distance between random real and fake samples 34494.0\n",
      "Epoch number 637. MSE distance between random real and fake samples 0.3393881618976593\n",
      "Epoch number 639. my distance between random real and fake samples 39167.0\n",
      "Epoch number 639. MSE distance between random real and fake samples 0.376736044883728\n",
      "Epoch number 641. my distance between random real and fake samples 41429.078125\n",
      "Epoch number 641. MSE distance between random real and fake samples 0.40484678745269775\n",
      "Epoch number 643. my distance between random real and fake samples 43407.66015625\n",
      "Epoch number 643. MSE distance between random real and fake samples 0.4203389286994934\n",
      "Epoch number 645. my distance between random real and fake samples 31927.626953125\n",
      "Epoch number 645. MSE distance between random real and fake samples 0.3080628216266632\n",
      "Epoch number 647. my distance between random real and fake samples 33760.39453125\n",
      "Epoch number 647. MSE distance between random real and fake samples 0.3254079222679138\n",
      "Epoch number 649. my distance between random real and fake samples 36657.94140625\n",
      "Epoch number 649. MSE distance between random real and fake samples 0.35019856691360474\n",
      "Epoch number 651. my distance between random real and fake samples 39621.74609375\n",
      "Epoch number 651. MSE distance between random real and fake samples 0.3895707130432129\n",
      "Epoch number 653. my distance between random real and fake samples 39756.00390625\n",
      "Epoch number 653. MSE distance between random real and fake samples 0.38584011793136597\n",
      "Epoch number 655. my distance between random real and fake samples 38250.77734375\n",
      "Epoch number 655. MSE distance between random real and fake samples 0.3660016655921936\n",
      "Epoch number 657. my distance between random real and fake samples 41147.734375\n",
      "Epoch number 657. MSE distance between random real and fake samples 0.3982998728752136\n",
      "Epoch number 659. my distance between random real and fake samples 34292.35546875\n",
      "Epoch number 659. MSE distance between random real and fake samples 0.32921576499938965\n",
      "Epoch number 661. my distance between random real and fake samples 44327.62890625\n",
      "Epoch number 661. MSE distance between random real and fake samples 0.4310389757156372\n",
      "Epoch number 663. my distance between random real and fake samples 36314.47265625\n",
      "Epoch number 663. MSE distance between random real and fake samples 0.34129202365875244\n",
      "Epoch number 665. my distance between random real and fake samples 42593.33984375\n",
      "Epoch number 665. MSE distance between random real and fake samples 0.4045834541320801\n",
      "Epoch number 667. my distance between random real and fake samples 34203.5234375\n",
      "Epoch number 667. MSE distance between random real and fake samples 0.3357401490211487\n",
      "Epoch number 669. my distance between random real and fake samples 38068.0390625\n",
      "Epoch number 669. MSE distance between random real and fake samples 0.3624023497104645\n",
      "Epoch number 671. my distance between random real and fake samples 35399.5390625\n",
      "Epoch number 671. MSE distance between random real and fake samples 0.3428622782230377\n",
      "Epoch number 673. my distance between random real and fake samples 32510.474609375\n",
      "Epoch number 673. MSE distance between random real and fake samples 0.30718883872032166\n",
      "Epoch number 675. my distance between random real and fake samples 36800.8359375\n",
      "Epoch number 675. MSE distance between random real and fake samples 0.35635867714881897\n",
      "Epoch number 677. my distance between random real and fake samples 37837.484375\n",
      "Epoch number 677. MSE distance between random real and fake samples 0.3719961643218994\n",
      "Epoch number 679. my distance between random real and fake samples 35267.5703125\n",
      "Epoch number 679. MSE distance between random real and fake samples 0.3447868227958679\n"
     ]
    },
    {
     "name": "stdout",
     "output_type": "stream",
     "text": [
      "Epoch number 681. my distance between random real and fake samples 34736.9140625\n",
      "Epoch number 681. MSE distance between random real and fake samples 0.3389429748058319\n",
      "Epoch number 683. my distance between random real and fake samples 40959.109375\n",
      "Epoch number 683. MSE distance between random real and fake samples 0.39568617939949036\n",
      "Epoch number 685. my distance between random real and fake samples 31351.1953125\n",
      "Epoch number 685. MSE distance between random real and fake samples 0.2988829016685486\n",
      "Epoch number 687. my distance between random real and fake samples 37079.32421875\n",
      "Epoch number 687. MSE distance between random real and fake samples 0.3623746633529663\n",
      "Epoch number 689. my distance between random real and fake samples 33528.79296875\n",
      "Epoch number 689. MSE distance between random real and fake samples 0.31683892011642456\n",
      "Epoch number 691. my distance between random real and fake samples 37603.65625\n",
      "Epoch number 691. MSE distance between random real and fake samples 0.3822821378707886\n",
      "Epoch number 693. my distance between random real and fake samples 38922.078125\n",
      "Epoch number 693. MSE distance between random real and fake samples 0.37077251076698303\n",
      "Epoch number 695. my distance between random real and fake samples 35326.58203125\n",
      "Epoch number 695. MSE distance between random real and fake samples 0.3319072127342224\n",
      "Epoch number 697. my distance between random real and fake samples 32113.150390625\n",
      "Epoch number 697. MSE distance between random real and fake samples 0.3213668465614319\n",
      "Epoch number 699. my distance between random real and fake samples 35438.09375\n",
      "Epoch number 699. MSE distance between random real and fake samples 0.34769099950790405\n",
      "Epoch number 701. my distance between random real and fake samples 36302.15625\n",
      "Epoch number 701. MSE distance between random real and fake samples 0.35164758563041687\n",
      "Epoch number 703. my distance between random real and fake samples 36559.0390625\n",
      "Epoch number 703. MSE distance between random real and fake samples 0.35077953338623047\n",
      "Epoch number 705. my distance between random real and fake samples 42021.8515625\n",
      "Epoch number 705. MSE distance between random real and fake samples 0.39900752902030945\n",
      "Epoch number 707. my distance between random real and fake samples 30911.498046875\n",
      "Epoch number 707. MSE distance between random real and fake samples 0.3041517734527588\n",
      "Epoch number 709. my distance between random real and fake samples 31794.5\n",
      "Epoch number 709. MSE distance between random real and fake samples 0.31675904989242554\n",
      "Epoch number 711. my distance between random real and fake samples 30765.0390625\n",
      "Epoch number 711. MSE distance between random real and fake samples 0.2988947033882141\n",
      "Epoch number 713. my distance between random real and fake samples 32679.81640625\n",
      "Epoch number 713. MSE distance between random real and fake samples 0.3189556300640106\n",
      "Epoch number 715. my distance between random real and fake samples 40719.609375\n",
      "Epoch number 715. MSE distance between random real and fake samples 0.3955933451652527\n",
      "Epoch number 717. my distance between random real and fake samples 37923.4609375\n",
      "Epoch number 717. MSE distance between random real and fake samples 0.3660869896411896\n",
      "Epoch number 719. my distance between random real and fake samples 34826.6640625\n",
      "Epoch number 719. MSE distance between random real and fake samples 0.33982616662979126\n",
      "Epoch number 721. my distance between random real and fake samples 39449.59765625\n",
      "Epoch number 721. MSE distance between random real and fake samples 0.3839564919471741\n",
      "Epoch number 723. my distance between random real and fake samples 33582.99609375\n",
      "Epoch number 723. MSE distance between random real and fake samples 0.32380130887031555\n",
      "Epoch number 725. my distance between random real and fake samples 33573.0078125\n",
      "Epoch number 725. MSE distance between random real and fake samples 0.33088240027427673\n",
      "Epoch number 727. my distance between random real and fake samples 37101.9765625\n",
      "Epoch number 727. MSE distance between random real and fake samples 0.3636082410812378\n",
      "Epoch number 729. my distance between random real and fake samples 31117.400390625\n",
      "Epoch number 729. MSE distance between random real and fake samples 0.310102254152298\n",
      "Epoch number 731. my distance between random real and fake samples 30267.73828125\n",
      "Epoch number 731. MSE distance between random real and fake samples 0.2912900149822235\n",
      "Epoch number 733. my distance between random real and fake samples 36474.05078125\n",
      "Epoch number 733. MSE distance between random real and fake samples 0.34155017137527466\n",
      "Epoch number 735. my distance between random real and fake samples 36522.50390625\n",
      "Epoch number 735. MSE distance between random real and fake samples 0.35030752420425415\n",
      "Epoch number 737. my distance between random real and fake samples 46877.0\n",
      "Epoch number 737. MSE distance between random real and fake samples 0.461197167634964\n",
      "Epoch number 739. my distance between random real and fake samples 37662.5\n",
      "Epoch number 739. MSE distance between random real and fake samples 0.3600216805934906\n",
      "Epoch number 741. my distance between random real and fake samples 41093.46875\n",
      "Epoch number 741. MSE distance between random real and fake samples 0.3944583237171173\n",
      "Epoch number 743. my distance between random real and fake samples 31755.453125\n",
      "Epoch number 743. MSE distance between random real and fake samples 0.3082905113697052\n",
      "Epoch number 745. my distance between random real and fake samples 37160.33203125\n",
      "Epoch number 745. MSE distance between random real and fake samples 0.3577343225479126\n",
      "Epoch number 747. my distance between random real and fake samples 36336.56640625\n",
      "Epoch number 747. MSE distance between random real and fake samples 0.3531942367553711\n",
      "Epoch number 749. my distance between random real and fake samples 37936.73046875\n",
      "Epoch number 749. MSE distance between random real and fake samples 0.35843712091445923\n",
      "Epoch number 751. my distance between random real and fake samples 37812.546875\n",
      "Epoch number 751. MSE distance between random real and fake samples 0.36195072531700134\n",
      "Epoch number 753. my distance between random real and fake samples 34485.67578125\n",
      "Epoch number 753. MSE distance between random real and fake samples 0.3263186514377594\n",
      "Epoch number 755. my distance between random real and fake samples 44441.03125\n",
      "Epoch number 755. MSE distance between random real and fake samples 0.4305327236652374\n",
      "Epoch number 757. my distance between random real and fake samples 32516.01953125\n",
      "Epoch number 757. MSE distance between random real and fake samples 0.3171384632587433\n",
      "Epoch number 759. my distance between random real and fake samples 33945.546875\n",
      "Epoch number 759. MSE distance between random real and fake samples 0.32737335562705994\n",
      "Epoch number 761. my distance between random real and fake samples 41341.10546875\n",
      "Epoch number 761. MSE distance between random real and fake samples 0.3906940221786499\n",
      "Epoch number 763. my distance between random real and fake samples 44341.1484375\n",
      "Epoch number 763. MSE distance between random real and fake samples 0.42992010712623596\n",
      "Epoch number 765. my distance between random real and fake samples 39594.6640625\n",
      "Epoch number 765. MSE distance between random real and fake samples 0.38276106119155884\n",
      "Epoch number 767. my distance between random real and fake samples 35467.79296875\n",
      "Epoch number 767. MSE distance between random real and fake samples 0.34405073523521423\n",
      "Epoch number 769. my distance between random real and fake samples 35981.875\n",
      "Epoch number 769. MSE distance between random real and fake samples 0.3436437249183655\n",
      "Epoch number 771. my distance between random real and fake samples 29655.31640625\n",
      "Epoch number 771. MSE distance between random real and fake samples 0.28326478600502014\n",
      "Epoch number 773. my distance between random real and fake samples 44199.9921875\n",
      "Epoch number 773. MSE distance between random real and fake samples 0.43200308084487915\n",
      "Epoch number 775. my distance between random real and fake samples 41343.5\n",
      "Epoch number 775. MSE distance between random real and fake samples 0.392927348613739\n",
      "Epoch number 777. my distance between random real and fake samples 38536.921875\n"
     ]
    },
    {
     "name": "stdout",
     "output_type": "stream",
     "text": [
      "Epoch number 777. MSE distance between random real and fake samples 0.37689921259880066\n",
      "Epoch number 779. my distance between random real and fake samples 36349.734375\n",
      "Epoch number 779. MSE distance between random real and fake samples 0.3506777882575989\n",
      "Epoch number 781. my distance between random real and fake samples 37089.20703125\n",
      "Epoch number 781. MSE distance between random real and fake samples 0.3582298457622528\n",
      "Epoch number 783. my distance between random real and fake samples 38731.34375\n",
      "Epoch number 783. MSE distance between random real and fake samples 0.37313908338546753\n",
      "Epoch number 785. my distance between random real and fake samples 38854.0390625\n",
      "Epoch number 785. MSE distance between random real and fake samples 0.38149482011795044\n",
      "Epoch number 787. my distance between random real and fake samples 31315.470703125\n",
      "Epoch number 787. MSE distance between random real and fake samples 0.3008478581905365\n",
      "Epoch number 789. my distance between random real and fake samples 40666.5234375\n",
      "Epoch number 789. MSE distance between random real and fake samples 0.3972059190273285\n",
      "Epoch number 791. my distance between random real and fake samples 35416.640625\n",
      "Epoch number 791. MSE distance between random real and fake samples 0.33884555101394653\n",
      "Epoch number 793. my distance between random real and fake samples 35942.8984375\n",
      "Epoch number 793. MSE distance between random real and fake samples 0.34936314821243286\n",
      "Epoch number 795. my distance between random real and fake samples 33622.5078125\n",
      "Epoch number 795. MSE distance between random real and fake samples 0.3194115459918976\n",
      "Epoch number 797. my distance between random real and fake samples 43218.609375\n",
      "Epoch number 797. MSE distance between random real and fake samples 0.42040207982063293\n",
      "Epoch number 799. my distance between random real and fake samples 35276.078125\n",
      "Epoch number 799. MSE distance between random real and fake samples 0.34119534492492676\n",
      "Epoch number 801. my distance between random real and fake samples 39577.796875\n",
      "Epoch number 801. MSE distance between random real and fake samples 0.3845369815826416\n",
      "Epoch number 803. my distance between random real and fake samples 34194.2421875\n",
      "Epoch number 803. MSE distance between random real and fake samples 0.33611682057380676\n",
      "Epoch number 805. my distance between random real and fake samples 32056.5078125\n",
      "Epoch number 805. MSE distance between random real and fake samples 0.31140491366386414\n",
      "Epoch number 807. my distance between random real and fake samples 39801.3984375\n",
      "Epoch number 807. MSE distance between random real and fake samples 0.3782197833061218\n",
      "Epoch number 809. my distance between random real and fake samples 39291.203125\n",
      "Epoch number 809. MSE distance between random real and fake samples 0.3820076286792755\n",
      "Epoch number 811. my distance between random real and fake samples 51883.421875\n",
      "Epoch number 811. MSE distance between random real and fake samples 0.500823438167572\n",
      "Epoch number 813. my distance between random real and fake samples 35322.546875\n",
      "Epoch number 813. MSE distance between random real and fake samples 0.33826178312301636\n",
      "Epoch number 815. my distance between random real and fake samples 37911.0390625\n",
      "Epoch number 815. MSE distance between random real and fake samples 0.3730475604534149\n",
      "Epoch number 817. my distance between random real and fake samples 37291.7265625\n",
      "Epoch number 817. MSE distance between random real and fake samples 0.3605632781982422\n",
      "Epoch number 819. my distance between random real and fake samples 32240.013671875\n",
      "Epoch number 819. MSE distance between random real and fake samples 0.31845659017562866\n",
      "Epoch number 821. my distance between random real and fake samples 45510.26953125\n",
      "Epoch number 821. MSE distance between random real and fake samples 0.4426162838935852\n",
      "Epoch number 823. my distance between random real and fake samples 33020.765625\n",
      "Epoch number 823. MSE distance between random real and fake samples 0.3214372992515564\n",
      "Epoch number 825. my distance between random real and fake samples 28619.20703125\n",
      "Epoch number 825. MSE distance between random real and fake samples 0.2817634344100952\n",
      "Epoch number 827. my distance between random real and fake samples 34809.2578125\n",
      "Epoch number 827. MSE distance between random real and fake samples 0.3315638601779938\n",
      "Epoch number 829. my distance between random real and fake samples 43468.36328125\n",
      "Epoch number 829. MSE distance between random real and fake samples 0.41543349623680115\n",
      "Epoch number 831. my distance between random real and fake samples 35781.1875\n",
      "Epoch number 831. MSE distance between random real and fake samples 0.3424536883831024\n",
      "Epoch number 833. my distance between random real and fake samples 49172.6328125\n",
      "Epoch number 833. MSE distance between random real and fake samples 0.47704580426216125\n",
      "Epoch number 835. my distance between random real and fake samples 32090.94921875\n",
      "Epoch number 835. MSE distance between random real and fake samples 0.30949667096138\n",
      "Epoch number 837. my distance between random real and fake samples 40009.5078125\n",
      "Epoch number 837. MSE distance between random real and fake samples 0.38750553131103516\n",
      "Epoch number 839. my distance between random real and fake samples 41243.71875\n",
      "Epoch number 839. MSE distance between random real and fake samples 0.3948008418083191\n",
      "Epoch number 841. my distance between random real and fake samples 34767.03125\n",
      "Epoch number 841. MSE distance between random real and fake samples 0.33446004986763\n",
      "Epoch number 843. my distance between random real and fake samples 31333.77734375\n",
      "Epoch number 843. MSE distance between random real and fake samples 0.30497294664382935\n",
      "Epoch number 845. my distance between random real and fake samples 36522.359375\n",
      "Epoch number 845. MSE distance between random real and fake samples 0.3610905408859253\n",
      "Epoch number 847. my distance between random real and fake samples 41947.3515625\n",
      "Epoch number 847. MSE distance between random real and fake samples 0.40826117992401123\n",
      "Epoch number 849. my distance between random real and fake samples 38769.390625\n",
      "Epoch number 849. MSE distance between random real and fake samples 0.37042948603630066\n",
      "Epoch number 851. my distance between random real and fake samples 33411.78125\n",
      "Epoch number 851. MSE distance between random real and fake samples 0.3209861218929291\n",
      "Epoch number 853. my distance between random real and fake samples 35149.14453125\n",
      "Epoch number 853. MSE distance between random real and fake samples 0.3398105204105377\n",
      "Epoch number 855. my distance between random real and fake samples 37270.953125\n",
      "Epoch number 855. MSE distance between random real and fake samples 0.3550492525100708\n",
      "Epoch number 857. my distance between random real and fake samples 35007.5703125\n",
      "Epoch number 857. MSE distance between random real and fake samples 0.3392895460128784\n",
      "Epoch number 859. my distance between random real and fake samples 29949.638671875\n",
      "Epoch number 859. MSE distance between random real and fake samples 0.29288363456726074\n",
      "Epoch number 861. my distance between random real and fake samples 33171.69140625\n",
      "Epoch number 861. MSE distance between random real and fake samples 0.32637184858322144\n",
      "Epoch number 863. my distance between random real and fake samples 36605.42578125\n",
      "Epoch number 863. MSE distance between random real and fake samples 0.3526843786239624\n",
      "Epoch number 865. my distance between random real and fake samples 38507.98046875\n",
      "Epoch number 865. MSE distance between random real and fake samples 0.3728201687335968\n",
      "Epoch number 867. my distance between random real and fake samples 38387.546875\n",
      "Epoch number 867. MSE distance between random real and fake samples 0.36952412128448486\n",
      "Epoch number 869. my distance between random real and fake samples 33667.3359375\n",
      "Epoch number 869. MSE distance between random real and fake samples 0.33277642726898193\n",
      "Epoch number 871. my distance between random real and fake samples 35322.34765625\n",
      "Epoch number 871. MSE distance between random real and fake samples 0.34182390570640564\n",
      "Epoch number 873. my distance between random real and fake samples 41819.96875\n",
      "Epoch number 873. MSE distance between random real and fake samples 0.4103408753871918\n"
     ]
    },
    {
     "name": "stdout",
     "output_type": "stream",
     "text": [
      "Epoch number 875. my distance between random real and fake samples 45568.76171875\n",
      "Epoch number 875. MSE distance between random real and fake samples 0.4274243712425232\n",
      "Epoch number 877. my distance between random real and fake samples 36822.5078125\n",
      "Epoch number 877. MSE distance between random real and fake samples 0.3602216839790344\n",
      "Epoch number 879. my distance between random real and fake samples 39838.8671875\n",
      "Epoch number 879. MSE distance between random real and fake samples 0.3790971636772156\n",
      "Epoch number 881. my distance between random real and fake samples 44668.3515625\n",
      "Epoch number 881. MSE distance between random real and fake samples 0.43487903475761414\n",
      "Epoch number 883. my distance between random real and fake samples 42613.87890625\n",
      "Epoch number 883. MSE distance between random real and fake samples 0.41438886523246765\n",
      "Epoch number 885. my distance between random real and fake samples 34694.60546875\n",
      "Epoch number 885. MSE distance between random real and fake samples 0.34022805094718933\n",
      "Epoch number 887. my distance between random real and fake samples 39630.859375\n",
      "Epoch number 887. MSE distance between random real and fake samples 0.3788309395313263\n",
      "Epoch number 889. my distance between random real and fake samples 40499.359375\n",
      "Epoch number 889. MSE distance between random real and fake samples 0.39206966757774353\n",
      "Epoch number 891. my distance between random real and fake samples 38768.66015625\n",
      "Epoch number 891. MSE distance between random real and fake samples 0.3811006546020508\n",
      "Epoch number 893. my distance between random real and fake samples 40573.14453125\n",
      "Epoch number 893. MSE distance between random real and fake samples 0.38748809695243835\n",
      "Epoch number 895. my distance between random real and fake samples 39447.046875\n",
      "Epoch number 895. MSE distance between random real and fake samples 0.38403138518333435\n",
      "Epoch number 897. my distance between random real and fake samples 39904.6640625\n",
      "Epoch number 897. MSE distance between random real and fake samples 0.38638558983802795\n",
      "Epoch number 899. my distance between random real and fake samples 38730.734375\n",
      "Epoch number 899. MSE distance between random real and fake samples 0.36561036109924316\n",
      "Epoch number 901. my distance between random real and fake samples 44315.3203125\n",
      "Epoch number 901. MSE distance between random real and fake samples 0.43113359808921814\n",
      "Epoch number 903. my distance between random real and fake samples 35161.2578125\n",
      "Epoch number 903. MSE distance between random real and fake samples 0.3324943482875824\n",
      "Epoch number 905. my distance between random real and fake samples 35310.90625\n",
      "Epoch number 905. MSE distance between random real and fake samples 0.3396620750427246\n",
      "Epoch number 907. my distance between random real and fake samples 32887.93359375\n",
      "Epoch number 907. MSE distance between random real and fake samples 0.3096163272857666\n",
      "Epoch number 909. my distance between random real and fake samples 31349.966796875\n",
      "Epoch number 909. MSE distance between random real and fake samples 0.307390034198761\n",
      "Epoch number 911. my distance between random real and fake samples 33089.765625\n",
      "Epoch number 911. MSE distance between random real and fake samples 0.32083481550216675\n",
      "Epoch number 913. my distance between random real and fake samples 35526.140625\n",
      "Epoch number 913. MSE distance between random real and fake samples 0.34899255633354187\n",
      "Epoch number 915. my distance between random real and fake samples 30422.67578125\n",
      "Epoch number 915. MSE distance between random real and fake samples 0.29130181670188904\n",
      "Epoch number 917. my distance between random real and fake samples 37360.77734375\n",
      "Epoch number 917. MSE distance between random real and fake samples 0.35785529017448425\n",
      "Epoch number 919. my distance between random real and fake samples 37669.640625\n",
      "Epoch number 919. MSE distance between random real and fake samples 0.3721361458301544\n",
      "Epoch number 921. my distance between random real and fake samples 34620.71484375\n",
      "Epoch number 921. MSE distance between random real and fake samples 0.3400256633758545\n",
      "Epoch number 923. my distance between random real and fake samples 42942.40234375\n",
      "Epoch number 923. MSE distance between random real and fake samples 0.41110530495643616\n",
      "Epoch number 925. my distance between random real and fake samples 37649.46875\n",
      "Epoch number 925. MSE distance between random real and fake samples 0.35629966855049133\n",
      "Epoch number 927. my distance between random real and fake samples 34477.55859375\n",
      "Epoch number 927. MSE distance between random real and fake samples 0.3323468565940857\n",
      "Epoch number 929. my distance between random real and fake samples 37955.453125\n",
      "Epoch number 929. MSE distance between random real and fake samples 0.36903855204582214\n",
      "Epoch number 931. my distance between random real and fake samples 37425.0\n",
      "Epoch number 931. MSE distance between random real and fake samples 0.3662721812725067\n",
      "Epoch number 933. my distance between random real and fake samples 40458.7421875\n",
      "Epoch number 933. MSE distance between random real and fake samples 0.39235952496528625\n",
      "Epoch number 935. my distance between random real and fake samples 42584.03125\n",
      "Epoch number 935. MSE distance between random real and fake samples 0.4129246473312378\n",
      "Epoch number 937. my distance between random real and fake samples 34158.4921875\n",
      "Epoch number 937. MSE distance between random real and fake samples 0.32062849402427673\n",
      "Epoch number 939. my distance between random real and fake samples 34532.44140625\n",
      "Epoch number 939. MSE distance between random real and fake samples 0.3396779000759125\n",
      "Epoch number 941. my distance between random real and fake samples 33107.75390625\n",
      "Epoch number 941. MSE distance between random real and fake samples 0.3183377981185913\n",
      "Epoch number 943. my distance between random real and fake samples 33466.5078125\n",
      "Epoch number 943. MSE distance between random real and fake samples 0.3251408040523529\n",
      "Epoch number 945. my distance between random real and fake samples 32205.98828125\n",
      "Epoch number 945. MSE distance between random real and fake samples 0.3054068684577942\n",
      "Epoch number 947. my distance between random real and fake samples 44573.90234375\n",
      "Epoch number 947. MSE distance between random real and fake samples 0.42884308099746704\n",
      "Epoch number 949. my distance between random real and fake samples 46258.4296875\n",
      "Epoch number 949. MSE distance between random real and fake samples 0.4531261920928955\n",
      "Epoch number 951. my distance between random real and fake samples 33330.078125\n",
      "Epoch number 951. MSE distance between random real and fake samples 0.32808801531791687\n",
      "Epoch number 953. my distance between random real and fake samples 32560.078125\n",
      "Epoch number 953. MSE distance between random real and fake samples 0.31357109546661377\n",
      "Epoch number 955. my distance between random real and fake samples 39206.984375\n",
      "Epoch number 955. MSE distance between random real and fake samples 0.3763081729412079\n",
      "Epoch number 957. my distance between random real and fake samples 46150.5703125\n",
      "Epoch number 957. MSE distance between random real and fake samples 0.4393302798271179\n",
      "Epoch number 959. my distance between random real and fake samples 37075.5390625\n",
      "Epoch number 959. MSE distance between random real and fake samples 0.34694647789001465\n",
      "Epoch number 961. my distance between random real and fake samples 33995.2421875\n",
      "Epoch number 961. MSE distance between random real and fake samples 0.3365899920463562\n",
      "Epoch number 963. my distance between random real and fake samples 32380.65625\n",
      "Epoch number 963. MSE distance between random real and fake samples 0.3125423192977905\n",
      "Epoch number 965. my distance between random real and fake samples 39353.703125\n",
      "Epoch number 965. MSE distance between random real and fake samples 0.37513163685798645\n",
      "Epoch number 967. my distance between random real and fake samples 46384.953125\n",
      "Epoch number 967. MSE distance between random real and fake samples 0.44547903537750244\n",
      "Epoch number 969. my distance between random real and fake samples 33985.00390625\n",
      "Epoch number 969. MSE distance between random real and fake samples 0.3342094421386719\n",
      "Epoch number 971. my distance between random real and fake samples 41239.91015625\n"
     ]
    },
    {
     "name": "stdout",
     "output_type": "stream",
     "text": [
      "Epoch number 971. MSE distance between random real and fake samples 0.39706045389175415\n",
      "Epoch number 973. my distance between random real and fake samples 36773.52734375\n",
      "Epoch number 973. MSE distance between random real and fake samples 0.3529961109161377\n",
      "Epoch number 975. my distance between random real and fake samples 35207.6015625\n",
      "Epoch number 975. MSE distance between random real and fake samples 0.33127766847610474\n",
      "Epoch number 977. my distance between random real and fake samples 34847.0859375\n",
      "Epoch number 977. MSE distance between random real and fake samples 0.33463242650032043\n",
      "Epoch number 979. my distance between random real and fake samples 37086.10546875\n",
      "Epoch number 979. MSE distance between random real and fake samples 0.36316952109336853\n",
      "Epoch number 981. my distance between random real and fake samples 34486.38671875\n",
      "Epoch number 981. MSE distance between random real and fake samples 0.3275338113307953\n",
      "Epoch number 983. my distance between random real and fake samples 35450.75\n",
      "Epoch number 983. MSE distance between random real and fake samples 0.3463088572025299\n",
      "Epoch number 985. my distance between random real and fake samples 33388.37890625\n",
      "Epoch number 985. MSE distance between random real and fake samples 0.3283618986606598\n",
      "Epoch number 987. my distance between random real and fake samples 36180.953125\n",
      "Epoch number 987. MSE distance between random real and fake samples 0.3552900552749634\n",
      "Epoch number 989. my distance between random real and fake samples 35419.390625\n",
      "Epoch number 989. MSE distance between random real and fake samples 0.3461156487464905\n",
      "Epoch number 991. my distance between random real and fake samples 34493.42578125\n",
      "Epoch number 991. MSE distance between random real and fake samples 0.3334387242794037\n",
      "Epoch number 993. my distance between random real and fake samples 35374.6796875\n",
      "Epoch number 993. MSE distance between random real and fake samples 0.3462265729904175\n",
      "Epoch number 995. my distance between random real and fake samples 37303.359375\n",
      "Epoch number 995. MSE distance between random real and fake samples 0.3567878007888794\n",
      "Epoch number 997. my distance between random real and fake samples 34009.3046875\n",
      "Epoch number 997. MSE distance between random real and fake samples 0.3282089829444885\n",
      "Epoch number 999. my distance between random real and fake samples 37926.09765625\n",
      "Epoch number 999. MSE distance between random real and fake samples 0.3709380030632019\n"
     ]
    }
   ],
   "source": [
    "steps_per_epoch = 300\n",
    "gen_iterations = 0\n",
    "eval_losses = []\n",
    "for epoch in range(epochs):\n",
    "#     data_iter = iter(data_loader)\n",
    "    i = 0\n",
    "    while i < steps_per_epoch:\n",
    "        ############################\n",
    "        # (1) Update D network\n",
    "        ###########################\n",
    "        for p in netD.parameters(): # reset requires_grad\n",
    "            p.requires_grad = True # they are set to False below in netG update\n",
    "        d_iter = d_iter\n",
    "        j = 0\n",
    "        while j < d_iter*5:\n",
    "            j += 1\n",
    "            # load real data\n",
    "            i += 1\n",
    "#             X, _ = data_iter.next()\n",
    "            X = get_random_batch(train, batch_size=batch_size)\n",
    "#             X += torch.Tensor(np.random.normal(0, 0.2, X.shape))\n",
    "#             print(X >= 0.5)\n",
    "# #             X = X.view(X.size(0), -1)\n",
    "#             X = (X >= 0.5).float()\n",
    "            if cuda: \n",
    "                X = X.cuda()\n",
    "            real = Variable(X)\n",
    "            # generate fake data\n",
    "            noise = torch.randn(batch_size, nz)\n",
    "            if cuda: \n",
    "                noise = noise.cuda()\n",
    "            with torch.no_grad():\n",
    "                noisev = Variable(noise) # totally freeze netG\n",
    "            fake = Variable(netG(noisev).data)\n",
    "#             print(real[0,:20], fake[0,:20])\n",
    "            real + fake * (real == 0).float()\n",
    "            fake = fake * Variable(real != 0).float().cuda()\n",
    "#             real + fake * (real == 0).float()\n",
    "#             print(real[0,:20], fake[0,:20])\n",
    "            fake.requires_grad = False\n",
    "#             print(real.shape, fake.shape)\n",
    "    \n",
    "            # compute gradient, take step\n",
    "            netD.zero_grad()\n",
    "#             print('real', real[:10, :20])\n",
    "#             print('fake', fake[:10, :20])\n",
    "#             print(real.type(), fake.type())\n",
    "#             print(fake)\n",
    "            out = netD(real, fake)\n",
    "            \n",
    "            outputD = torch.mean(out) + lamba * out.norm()\n",
    "            stdD = torch.std(out)\n",
    "            outputD.backward(mone)\n",
    "            optimizerD.step()\n",
    "#             print(out.shape)\n",
    "        ############################\n",
    "        # (2) Update G network\n",
    "        ###########################\n",
    "        g_iter = g_iter\n",
    "        j = 0\n",
    "        while j < g_iter*5:\n",
    "            j += 1\n",
    "            for p in netD.parameters():\n",
    "                p.requires_grad = False # to avoid computation\n",
    "            netG.zero_grad()\n",
    "            \n",
    "            # load real data\n",
    "            i += 1\n",
    "            X = get_random_batch(train, batch_size=batch_size)\n",
    "#             X += torch.Tensor(np.random.normal(0, 0.2, X.shape))\n",
    "#             X = X.view(X.size(0), -1)\n",
    "#             X = (X >= 0.5).float()\n",
    "            if cuda: \n",
    "                X = X.cuda()\n",
    "            real = Variable(X)\n",
    "            \n",
    "            # update generator\n",
    "            noise = torch.randn(batch_size, nz)\n",
    "            if cuda: \n",
    "                noise = noise.cuda()\n",
    "            noisev = Variable(noise)\n",
    "            \n",
    "            fake = netG(noisev)\n",
    "            real + fake * (real == 0).float()\n",
    "            fake = fake * Variable(real != 0).float().cuda()\n",
    "#             fake = fake * Variable(real != 0).float().cuda()\n",
    "#             fake.requires_grad = False\n",
    "#             fake = Variable(netG(noisev)).data\n",
    "#             fake = fake * Variable(((real != 0) & (fake > 0.8))).float().cuda()\n",
    "#             fake.requires_grad = True\n",
    "            \n",
    "            out = netD(real, fake)\n",
    "            outputG = torch.mean(out) + lamba * out.norm()\n",
    "            stdG = torch.std(out)\n",
    "            outputG.backward(one)\n",
    "            optimizerG.step()\n",
    "\n",
    "            gen_iterations += 1\n",
    "\n",
    "#             print('[%d/%d][%d/%d][%d] Loss_D: %f Loss_G: %f '% (epoch, epochs, i, len(data_loader), gen_iterations, outputD.item(), outputG.item()))\n",
    "#             print('output_D', outputD.item(), gen_iterations)\n",
    "#             print('output_G', outputG.item(), gen_iterations)\n",
    "#             print('std_D', stdD.item(), gen_iterations)\n",
    "#             print('std_G', stdG.item(), gen_iterations)\n",
    "            \n",
    "            # evaluation\n",
    "            if gen_iterations % 100 == 0: # todo- to change\n",
    "#                 gen.eval()\n",
    "#                 z_vector_eval = make_some_noise(128)\n",
    "#                 fake_rows_eval = gen(z_vector_eval)\n",
    "#                 real_rows_eval = get_random_batch(train, 128)\n",
    "        #         print(fake_rows[0][:10]) enable to see some results\n",
    "#                 fake = Variable(netG(noisev).data).round()\n",
    "#                 fake = ((real != 0) & (fake != 0))\n",
    "#                 print(fake)\n",
    "                eval_loss = F.mse_loss(fake, real, reduction='mean')\n",
    "                eval_losses.append(eval_loss)\n",
    "                print('Epoch number {}. my distance between random real and fake samples {}'.format(epoch, d_my(real, fake)))\n",
    "                print('Epoch number {}. MSE distance between random real and fake samples {}'.format(epoch, eval_loss))"
   ]
  },
  {
   "cell_type": "code",
   "execution_count": 384,
   "metadata": {},
   "outputs": [],
   "source": [
    "# # fake\n",
    "\n",
    "# noisev = Variable(noise)\n",
    "# fake = netG(noisev)\n",
    "# out = netD(fake, fake)"
   ]
  },
  {
   "cell_type": "code",
   "execution_count": 385,
   "metadata": {},
   "outputs": [],
   "source": [
    "torch.save(netG.state_dict(), './netG-1m')\n",
    "torch.save(netD.state_dict(), './netD-1m')"
   ]
  },
  {
   "cell_type": "code",
   "execution_count": 386,
   "metadata": {},
   "outputs": [],
   "source": [
    "# # netD(Variable(torch.Tensor(tr)), Variable(torch.Tensor(fake.clip(0,5))))\n",
    "\n",
    "# Variable(torch.Tensor(fake.clip(0,5)))"
   ]
  },
  {
   "cell_type": "code",
   "execution_count": 387,
   "metadata": {},
   "outputs": [],
   "source": [
    "eval_loss = [c.item() for c in eval_losses]"
   ]
  },
  {
   "cell_type": "code",
   "execution_count": 388,
   "metadata": {},
   "outputs": [
    {
     "data": {
      "image/png": "[encoded data removed]",
      "text/plain": [
       "<Figure size 432x288 with 1 Axes>"
      ]
     },
     "metadata": {
      "needs_background": "light"
     },
     "output_type": "display_data"
    }
   ],
   "source": [
    "import matplotlib.pyplot as plt\n",
    "\n",
    "plt.plot(eval_loss)\n",
    "plt.show()"
   ]
  },
  {
   "cell_type": "code",
   "execution_count": 389,
   "metadata": {},
   "outputs": [],
   "source": [
    "noise = torch.randn(tr_orig.shape[0], nz)\n",
    "if cuda: \n",
    "    noise = noise.cuda()\n",
    "noisev = Variable(noise)\n",
    "fake = netG(noisev)"
   ]
  },
  {
   "cell_type": "code",
   "execution_count": 390,
   "metadata": {},
   "outputs": [
    {
     "data": {
      "text/plain": [
       "torch.Size([6040, 3706])"
      ]
     },
     "execution_count": 390,
     "metadata": {},
     "output_type": "execute_result"
    }
   ],
   "source": [
    "fake.shape"
   ]
  },
  {
   "cell_type": "code",
   "execution_count": 391,
   "metadata": {},
   "outputs": [],
   "source": [
    "fake = np.around(fake.detach().cpu().numpy())"
   ]
  },
  {
   "cell_type": "code",
   "execution_count": 392,
   "metadata": {},
   "outputs": [
    {
     "data": {
      "text/plain": [
       "(6040, 3706)"
      ]
     },
     "execution_count": 392,
     "metadata": {},
     "output_type": "execute_result"
    }
   ],
   "source": [
    "fake.shape"
   ]
  },
  {
   "cell_type": "code",
   "execution_count": 393,
   "metadata": {},
   "outputs": [
    {
     "data": {
      "text/plain": [
       "array([0., 1., 2., 3., 4., 5., 6., 7., 8., 9.], dtype=float32)"
      ]
     },
     "execution_count": 393,
     "metadata": {},
     "output_type": "execute_result"
    }
   ],
   "source": [
    "np.unique(fake)"
   ]
  },
  {
   "cell_type": "code",
   "execution_count": 394,
   "metadata": {},
   "outputs": [],
   "source": [
    "# fake[np.where((fake <= 7).all(axis=1))[0].tolist(), :]"
   ]
  },
  {
   "cell_type": "code",
   "execution_count": 395,
   "metadata": {},
   "outputs": [],
   "source": [
    "# fake = fake[np.where((fake <= 7).all(axis=1))[0].tolist(), :]"
   ]
  },
  {
   "cell_type": "code",
   "execution_count": 396,
   "metadata": {},
   "outputs": [],
   "source": [
    "fake = fake * (fake <= 5).astype(int)"
   ]
  },
  {
   "cell_type": "code",
   "execution_count": 397,
   "metadata": {},
   "outputs": [
    {
     "data": {
      "text/plain": [
       "(6040, 3706)"
      ]
     },
     "execution_count": 397,
     "metadata": {},
     "output_type": "execute_result"
    }
   ],
   "source": [
    "fake.shape"
   ]
  },
  {
   "cell_type": "code",
   "execution_count": 398,
   "metadata": {},
   "outputs": [
    {
     "data": {
      "text/plain": [
       "array([0., 1., 2., 3., 4., 5.])"
      ]
     },
     "execution_count": 398,
     "metadata": {},
     "output_type": "execute_result"
    }
   ],
   "source": [
    "np.unique(fake)"
   ]
  },
  {
   "cell_type": "code",
   "execution_count": 399,
   "metadata": {},
   "outputs": [],
   "source": [
    "tr = tr_orig.copy()"
   ]
  },
  {
   "cell_type": "code",
   "execution_count": 400,
   "metadata": {},
   "outputs": [
    {
     "name": "stdout",
     "output_type": "stream",
     "text": [
      "5 853085 185455\n",
      "4 3497798 295858\n",
      "3 3158746 214267\n",
      "2 904104 93118\n",
      "1 76932 46109\n",
      "0 13893575 21474099\n"
     ]
    }
   ],
   "source": [
    "print(5, (5 == fake.round()).sum(), (5 == (tr + vr)[:fake.shape[0], :].round()).sum())\n",
    "print(4, (4 == fake.round()).sum(), (4 == (tr + vr)[:fake.shape[0], :].round()).sum())\n",
    "print(3, (3 == fake.round()).sum(), (3 == (tr + vr)[:fake.shape[0], :].round()).sum())\n",
    "print(2, (2 == fake.round()).sum(), (2 == (tr + vr)[:fake.shape[0], :].round()).sum())\n",
    "print(1, (1 == fake.round()).sum(), (1 == (tr + vr)[:fake.shape[0], :].round()).sum())\n",
    "print(0, (0 == fake.round()).sum(), (0 == (tr + vr)[:fake.shape[0], :].round()).sum())"
   ]
  },
  {
   "cell_type": "code",
   "execution_count": 401,
   "metadata": {},
   "outputs": [],
   "source": [
    "np.save('./fake', fake)"
   ]
  },
  {
   "cell_type": "code",
   "execution_count": 402,
   "metadata": {},
   "outputs": [],
   "source": [
    "# fake = fake.cpu().detach().int().numpy()"
   ]
  },
  {
   "cell_type": "code",
   "execution_count": 403,
   "metadata": {},
   "outputs": [
    {
     "data": {
      "text/plain": [
       "array([0., 1., 2., 3., 4., 5.])"
      ]
     },
     "execution_count": 403,
     "metadata": {},
     "output_type": "execute_result"
    }
   ],
   "source": [
    "np.unique(fake)"
   ]
  },
  {
   "cell_type": "code",
   "execution_count": 404,
   "metadata": {},
   "outputs": [
    {
     "data": {
      "text/plain": [
       "37.93144194308138"
      ]
     },
     "execution_count": 404,
     "metadata": {},
     "output_type": "execute_result"
    }
   ],
   "source": [
    "get_sparsity(fake)"
   ]
  },
  {
   "cell_type": "code",
   "execution_count": 405,
   "metadata": {},
   "outputs": [
    {
     "data": {
      "text/plain": [
       "4.065990178804373"
      ]
     },
     "execution_count": 405,
     "metadata": {},
     "output_type": "execute_result"
    }
   ],
   "source": [
    "get_sparsity(tr+vr)"
   ]
  },
  {
   "cell_type": "code",
   "execution_count": 406,
   "metadata": {},
   "outputs": [],
   "source": [
    "# np.clip(fake, 0, 5, out=fake)"
   ]
  },
  {
   "cell_type": "code",
   "execution_count": 407,
   "metadata": {},
   "outputs": [
    {
     "data": {
      "text/plain": [
       "array([0., 1., 2., 3., 4., 5.])"
      ]
     },
     "execution_count": 407,
     "metadata": {},
     "output_type": "execute_result"
    }
   ],
   "source": [
    "np.unique(fake)"
   ]
  },
  {
   "cell_type": "code",
   "execution_count": 408,
   "metadata": {},
   "outputs": [],
   "source": [
    "np.save('./fake', fake)"
   ]
  },
  {
   "cell_type": "code",
   "execution_count": 409,
   "metadata": {},
   "outputs": [],
   "source": [
    "rand_ix = np.random.randint(0, fake.shape[0], 300)"
   ]
  },
  {
   "cell_type": "code",
   "execution_count": 410,
   "metadata": {},
   "outputs": [],
   "source": [
    "adding_fake = fake[rand_ix,:]"
   ]
  },
  {
   "cell_type": "code",
   "execution_count": 411,
   "metadata": {},
   "outputs": [
    {
     "data": {
      "text/plain": [
       "array([[4., 0., 3., ..., 0., 0., 0.],\n",
       "       [0., 0., 0., ..., 0., 0., 0.],\n",
       "       [0., 4., 3., ..., 4., 0., 0.],\n",
       "       ...,\n",
       "       [0., 3., 3., ..., 4., 0., 0.],\n",
       "       [4., 0., 0., ..., 0., 0., 0.],\n",
       "       [0., 3., 0., ..., 4., 5., 0.]])"
      ]
     },
     "execution_count": 411,
     "metadata": {},
     "output_type": "execute_result"
    }
   ],
   "source": [
    "adding_fake"
   ]
  },
  {
   "cell_type": "code",
   "execution_count": 412,
   "metadata": {},
   "outputs": [
    {
     "data": {
      "text/plain": [
       "array([0., 4., 5.])"
      ]
     },
     "execution_count": 412,
     "metadata": {},
     "output_type": "execute_result"
    }
   ],
   "source": [
    "np.unique(adding_fake[:,0])"
   ]
  },
  {
   "cell_type": "code",
   "execution_count": 413,
   "metadata": {},
   "outputs": [
    {
     "data": {
      "text/plain": [
       "array([0., 2., 3., 4.])"
      ]
     },
     "execution_count": 413,
     "metadata": {},
     "output_type": "execute_result"
    }
   ],
   "source": [
    "np.unique(fake[:,3])"
   ]
  },
  {
   "cell_type": "code",
   "execution_count": 414,
   "metadata": {},
   "outputs": [
    {
     "data": {
      "text/plain": [
       "array([0., 1., 2., 3., 4., 5.], dtype=float32)"
      ]
     },
     "execution_count": 414,
     "metadata": {},
     "output_type": "execute_result"
    }
   ],
   "source": [
    "np.unique(tr[:,10])"
   ]
  },
  {
   "cell_type": "code",
   "execution_count": 415,
   "metadata": {},
   "outputs": [
    {
     "data": {
      "text/plain": [
       "4.021525859265269"
      ]
     },
     "execution_count": 415,
     "metadata": {},
     "output_type": "execute_result"
    }
   ],
   "source": [
    "get_sparsity(tr)"
   ]
  },
  {
   "cell_type": "code",
   "execution_count": 416,
   "metadata": {},
   "outputs": [
    {
     "name": "stdout",
     "output_type": "stream",
     "text": [
      "reading data...\n",
      "data read in 4.958484411239624 seconds\n",
      "loaded dense data matrix\n"
     ]
    }
   ],
   "source": [
    "tr_orig, vr_1 = loadData('./ml-1m/ratings.dat', delimiter='::', seed=seed,  transpose=False, valfrac=0.1)"
   ]
  },
  {
   "cell_type": "code",
   "execution_count": 417,
   "metadata": {},
   "outputs": [
    {
     "data": {
      "text/plain": [
       "False"
      ]
     },
     "execution_count": 417,
     "metadata": {},
     "output_type": "execute_result"
    }
   ],
   "source": [
    "(vr == vr_1).all()"
   ]
  },
  {
   "cell_type": "code",
   "execution_count": 418,
   "metadata": {},
   "outputs": [
    {
     "data": {
      "text/plain": [
       "0"
      ]
     },
     "execution_count": 418,
     "metadata": {},
     "output_type": "execute_result"
    }
   ],
   "source": [
    "(tr[:tr_orig.shape[0], :] != tr_orig).sum()"
   ]
  },
  {
   "cell_type": "code",
   "execution_count": 419,
   "metadata": {},
   "outputs": [
    {
     "data": {
      "text/plain": [
       "(6040, 3706)"
      ]
     },
     "execution_count": 419,
     "metadata": {},
     "output_type": "execute_result"
    }
   ],
   "source": [
    "tr_orig.shape"
   ]
  },
  {
   "cell_type": "code",
   "execution_count": 420,
   "metadata": {},
   "outputs": [
    {
     "data": {
      "text/plain": [
       "True"
      ]
     },
     "execution_count": 420,
     "metadata": {},
     "output_type": "execute_result"
    }
   ],
   "source": [
    "(tr[:tr_orig.shape[0], :] == tr_orig).all()"
   ]
  },
  {
   "cell_type": "code",
   "execution_count": 421,
   "metadata": {},
   "outputs": [
    {
     "data": {
      "text/plain": [
       "(300, 3706)"
      ]
     },
     "execution_count": 421,
     "metadata": {},
     "output_type": "execute_result"
    }
   ],
   "source": [
    "adding_fake.shape"
   ]
  },
  {
   "cell_type": "code",
   "execution_count": 422,
   "metadata": {},
   "outputs": [],
   "source": [
    "tr = np.append(tr_orig, adding_fake, axis=0)"
   ]
  },
  {
   "cell_type": "code",
   "execution_count": 423,
   "metadata": {},
   "outputs": [
    {
     "data": {
      "text/plain": [
       "5.625943776057583"
      ]
     },
     "execution_count": 423,
     "metadata": {},
     "output_type": "execute_result"
    }
   ],
   "source": [
    "get_sparsity(tr)"
   ]
  },
  {
   "cell_type": "code",
   "execution_count": 424,
   "metadata": {},
   "outputs": [
    {
     "data": {
      "text/plain": [
       "array([0., 4., 5.])"
      ]
     },
     "execution_count": 424,
     "metadata": {},
     "output_type": "execute_result"
    }
   ],
   "source": [
    "np.unique(adding_fake[:,0])"
   ]
  },
  {
   "cell_type": "code",
   "execution_count": 425,
   "metadata": {},
   "outputs": [],
   "source": [
    "np.save('./fake', adding_fake)"
   ]
  },
  {
   "cell_type": "code",
   "execution_count": 426,
   "metadata": {},
   "outputs": [],
   "source": [
    "to_concat = np.load('./fake.npy')"
   ]
  },
  {
   "cell_type": "code",
   "execution_count": 427,
   "metadata": {},
   "outputs": [
    {
     "data": {
      "text/plain": [
       "array([[4, 0, 3, ..., 0, 0, 0],\n",
       "       [0, 0, 0, ..., 0, 0, 0],\n",
       "       [0, 4, 3, ..., 4, 0, 0],\n",
       "       ...,\n",
       "       [0, 3, 3, ..., 4, 0, 0],\n",
       "       [4, 0, 0, ..., 0, 0, 0],\n",
       "       [0, 3, 0, ..., 4, 5, 0]])"
      ]
     },
     "execution_count": 427,
     "metadata": {},
     "output_type": "execute_result"
    }
   ],
   "source": [
    "to_concat.astype(int)"
   ]
  },
  {
   "cell_type": "code",
   "execution_count": 428,
   "metadata": {},
   "outputs": [
    {
     "data": {
      "text/plain": [
       "True"
      ]
     },
     "execution_count": 428,
     "metadata": {},
     "output_type": "execute_result"
    }
   ],
   "source": [
    "(adding_fake == to_concat).all()"
   ]
  },
  {
   "cell_type": "code",
   "execution_count": 429,
   "metadata": {},
   "outputs": [
    {
     "data": {
      "text/plain": [
       "array([0., 4., 5.])"
      ]
     },
     "execution_count": 429,
     "metadata": {},
     "output_type": "execute_result"
    }
   ],
   "source": [
    "np.unique(to_concat[:,0])"
   ]
  },
  {
   "cell_type": "code",
   "execution_count": 430,
   "metadata": {},
   "outputs": [
    {
     "name": "stdout",
     "output_type": "stream",
     "text": [
      "reading data...\n",
      "data read in 5.015613079071045 seconds\n",
      "loaded dense data matrix\n"
     ]
    }
   ],
   "source": [
    "# seed = 47\n",
    "\n",
    "# load data\n",
    "tr_1, vr_1 = loadData('./ml-1m/ratings.dat', delimiter='::', seed=seed,\n",
    " transpose=True, valfrac=0.1)\n",
    "\n",
    "tm_1 = np.greater(tr_1, 1e-12).astype('float32')  # masks indicating non-zero entries\n",
    "vm_1 = np.greater(vr_1, 1e-12).astype('float32')"
   ]
  },
  {
   "cell_type": "code",
   "execution_count": 431,
   "metadata": {},
   "outputs": [],
   "source": [
    "tr_2 = tr_1.copy()\n",
    "vr_2 = vr_1.copy()"
   ]
  },
  {
   "cell_type": "code",
   "execution_count": 432,
   "metadata": {},
   "outputs": [
    {
     "data": {
      "text/plain": [
       "(True, True)"
      ]
     },
     "execution_count": 432,
     "metadata": {},
     "output_type": "execute_result"
    }
   ],
   "source": [
    "(vr_1 == vr_2).all(), (tr_1 == tr_2).all()"
   ]
  },
  {
   "cell_type": "code",
   "execution_count": 433,
   "metadata": {},
   "outputs": [],
   "source": [
    "# (tr_1 == tr).all()"
   ]
  },
  {
   "cell_type": "code",
   "execution_count": 434,
   "metadata": {},
   "outputs": [],
   "source": [
    "# tr_2, vr_2 = loadData('./ml-1m/ratings.dat', delimiter='::',\n",
    "#                   seed=seed, transpose=False, valfrac=0.1)"
   ]
  },
  {
   "cell_type": "code",
   "execution_count": 435,
   "metadata": {},
   "outputs": [],
   "source": [
    "# tr_2.shape"
   ]
  },
  {
   "cell_type": "code",
   "execution_count": 436,
   "metadata": {},
   "outputs": [],
   "source": [
    "# !pip install nbimporter"
   ]
  },
  {
   "cell_type": "code",
   "execution_count": 437,
   "metadata": {},
   "outputs": [],
   "source": [
    "import nbimporter \n",
    "import matrix_factorization"
   ]
  },
  {
   "cell_type": "code",
   "execution_count": 438,
   "metadata": {},
   "outputs": [
    {
     "data": {
      "text/plain": [
       "((6340, 3706), (6040, 3706))"
      ]
     },
     "execution_count": 438,
     "metadata": {},
     "output_type": "execute_result"
    }
   ],
   "source": [
    "tr.shape, tr_orig.shape"
   ]
  },
  {
   "cell_type": "code",
   "execution_count": 439,
   "metadata": {},
   "outputs": [
    {
     "data": {
      "text/plain": [
       "5.625943776057583"
      ]
     },
     "execution_count": 439,
     "metadata": {},
     "output_type": "execute_result"
    }
   ],
   "source": [
    "get_sparsity(tr)"
   ]
  },
  {
   "cell_type": "code",
   "execution_count": 440,
   "metadata": {},
   "outputs": [
    {
     "data": {
      "text/plain": [
       "4.021525859265269"
      ]
     },
     "execution_count": 440,
     "metadata": {},
     "output_type": "execute_result"
    }
   ],
   "source": [
    "get_sparsity(tr_orig)"
   ]
  },
  {
   "cell_type": "code",
   "execution_count": 441,
   "metadata": {},
   "outputs": [
    {
     "data": {
      "text/plain": [
       "array([[5., 0., 0., ..., 0., 0., 0.],\n",
       "       [0., 0., 0., ..., 0., 0., 0.],\n",
       "       [0., 0., 0., ..., 0., 0., 0.],\n",
       "       ...,\n",
       "       [0., 3., 3., ..., 4., 0., 0.],\n",
       "       [4., 0., 0., ..., 0., 0., 0.],\n",
       "       [0., 3., 0., ..., 4., 5., 0.]])"
      ]
     },
     "execution_count": 441,
     "metadata": {},
     "output_type": "execute_result"
    }
   ],
   "source": [
    "tr"
   ]
  },
  {
   "cell_type": "code",
   "execution_count": 442,
   "metadata": {},
   "outputs": [
    {
     "data": {
      "text/plain": [
       "array([[5., 0., 0., ..., 0., 0., 0.],\n",
       "       [0., 0., 0., ..., 0., 0., 0.],\n",
       "       [0., 0., 0., ..., 0., 0., 0.],\n",
       "       ...,\n",
       "       [0., 0., 0., ..., 0., 0., 0.],\n",
       "       [0., 0., 0., ..., 0., 0., 0.],\n",
       "       [3., 0., 0., ..., 0., 0., 0.]], dtype=float32)"
      ]
     },
     "execution_count": 442,
     "metadata": {},
     "output_type": "execute_result"
    }
   ],
   "source": [
    "tr_orig"
   ]
  },
  {
   "cell_type": "code",
   "execution_count": 443,
   "metadata": {},
   "outputs": [
    {
     "data": {
      "text/plain": [
       "5.625943776057583"
      ]
     },
     "execution_count": 443,
     "metadata": {},
     "output_type": "execute_result"
    }
   ],
   "source": [
    "get_sparsity(np.append(tr_orig, adding_fake, axis=0))"
   ]
  },
  {
   "cell_type": "code",
   "execution_count": 444,
   "metadata": {},
   "outputs": [
    {
     "data": {
      "text/plain": [
       "((6340, 3706), (6040, 3706))"
      ]
     },
     "execution_count": 444,
     "metadata": {},
     "output_type": "execute_result"
    }
   ],
   "source": [
    "tr.shape, tr_orig.shape"
   ]
  },
  {
   "cell_type": "code",
   "execution_count": 445,
   "metadata": {},
   "outputs": [
    {
     "name": "stdout",
     "output_type": "stream",
     "text": [
      "Iteration: 1\n",
      "Train mse: 0.8297577528468786\n",
      "Test mse: 0.9775390275650826\n",
      "Iteration: 2\n",
      "Train mse: 0.748590887837662\n",
      "Test mse: 0.9036328106477802\n",
      "Iteration: 5\n",
      "Train mse: 0.6663414355973212\n",
      "Test mse: 0.8424220862035583\n",
      "Iteration: 10\n",
      "Train mse: 0.6334534266636088\n",
      "Test mse: 0.8227553506636661\n",
      "Iteration: 25\n",
      "\tcurrent iteration: 10\n",
      "Train mse: 0.617686052129385\n",
      "Test mse: 0.8125392294891656\n"
     ]
    }
   ],
   "source": [
    "iter_array = [1, 2, 5, 10, 25]\n",
    "MF_SGD = matrix_factorization.ExplicitMF(tr, 40, learning='sgd', verbose=True)\n",
    "# iter_array = [1, 2, 5, 10, 25, 50, 100, 200]\n",
    "\n",
    "# iter_array = [10]\n",
    "# iter_array = [1, 2, 5, 10, 25]\n",
    "MF_SGD.calculate_learning_curve(iter_array, vr, learning_rate=0.001)"
   ]
  },
  {
   "cell_type": "code",
   "execution_count": 315,
   "metadata": {},
   "outputs": [
    {
     "name": "stdout",
     "output_type": "stream",
     "text": [
      "Iteration: 1\n",
      "Train mse: 0.8836162728654132\n",
      "Test mse: 0.9868900094712868\n",
      "Iteration: 2\n",
      "Train mse: 0.8064381379616368\n",
      "Test mse: 0.912432169747945\n",
      "Iteration: 5\n",
      "Train mse: 0.7269976741664387\n",
      "Test mse: 0.8468386250023731\n",
      "Iteration: 10\n",
      "Train mse: 0.6918250711126741\n",
      "Test mse: 0.8235196558087808\n",
      "Iteration: 25\n",
      "\tcurrent iteration: 10\n",
      "Train mse: 0.6723376682891996\n",
      "Test mse: 0.8118159487414556\n"
     ]
    }
   ],
   "source": [
    "iter_array = [1, 2, 5, 10, 25]\n",
    "MF_SGD = matrix_factorization.ExplicitMF(tr, 40, learning='sgd', verbose=True)\n",
    "# iter_array = [1, 2, 5, 10, 25, 50, 100, 200]\n",
    "\n",
    "# iter_array = [10]\n",
    "# iter_array = [1, 2, 5, 10, 25]\n",
    "MF_SGD.calculate_learning_curve(iter_array, vr, learning_rate=0.001)"
   ]
  },
  {
   "cell_type": "code",
   "execution_count": 250,
   "metadata": {},
   "outputs": [
    {
     "name": "stdout",
     "output_type": "stream",
     "text": [
      "Iteration: 1\n",
      "Train mse: 0.8877403024140419\n",
      "Test mse: 0.9877646311507043\n",
      "Iteration: 2\n",
      "Train mse: 0.8109117404701001\n",
      "Test mse: 0.913184586195622\n",
      "Iteration: 5\n",
      "Train mse: 0.7324932553664418\n",
      "Test mse: 0.8475710442911681\n",
      "Iteration: 10\n",
      "Train mse: 0.6981602761542449\n",
      "Test mse: 0.8243449457302674\n",
      "Iteration: 25\n",
      "\tcurrent iteration: 10\n",
      "Train mse: 0.6789824303631368\n",
      "Test mse: 0.8126721986635405\n"
     ]
    }
   ],
   "source": [
    "iter_array = [1, 2, 5, 10, 25]\n",
    "MF_SGD = matrix_factorization.ExplicitMF(tr, 40, learning='sgd', verbose=True)\n",
    "# iter_array = [1, 2, 5, 10, 25, 50, 100, 200]\n",
    "\n",
    "# iter_array = [10]\n",
    "# iter_array = [1, 2, 5, 10, 25]\n",
    "MF_SGD.calculate_learning_curve(iter_array, vr, learning_rate=0.001)"
   ]
  },
  {
   "cell_type": "code",
   "execution_count": 184,
   "metadata": {},
   "outputs": [
    {
     "name": "stdout",
     "output_type": "stream",
     "text": [
      "Iteration: 1\n",
      "Train mse: 0.8984780320969817\n",
      "Test mse: 0.9881095400254272\n",
      "Iteration: 2\n",
      "Train mse: 0.8226084974770077\n",
      "Test mse: 0.9138558038837877\n",
      "Iteration: 5\n",
      "Train mse: 0.7457315999708153\n",
      "Test mse: 0.8487378397661497\n",
      "Iteration: 10\n",
      "Train mse: 0.7124193355040122\n",
      "Test mse: 0.8257099963841487\n",
      "Iteration: 25\n",
      "\tcurrent iteration: 10\n",
      "Train mse: 0.6935184540376451\n",
      "Test mse: 0.8141629708875354\n"
     ]
    }
   ],
   "source": [
    "iter_array = [1, 2, 5, 10, 25]\n",
    "MF_SGD = matrix_factorization.ExplicitMF(tr, 40, learning='sgd', verbose=True)\n",
    "# iter_array = [1, 2, 5, 10, 25, 50, 100, 200]\n",
    "\n",
    "# iter_array = [10]\n",
    "# iter_array = [1, 2, 5, 10, 25]\n",
    "MF_SGD.calculate_learning_curve(iter_array, vr, learning_rate=0.001)"
   ]
  },
  {
   "cell_type": "code",
   "execution_count": 106,
   "metadata": {},
   "outputs": [
    {
     "name": "stdout",
     "output_type": "stream",
     "text": [
      "Iteration: 1\n",
      "Train mse: 0.9305347546154136\n",
      "Test mse: 0.9921757785323428\n",
      "Iteration: 2\n",
      "Train mse: 0.856695009237703\n",
      "Test mse: 0.9181283703366954\n",
      "Iteration: 5\n",
      "Train mse: 0.7840446399021312\n",
      "Test mse: 0.853764585187775\n",
      "Iteration: 10\n",
      "Train mse: 0.7540869301984444\n",
      "Test mse: 0.8314347369690854\n",
      "Iteration: 25\n",
      "\tcurrent iteration: 10\n",
      "Train mse: 0.7368852800185531\n",
      "Test mse: 0.8203492654314485\n"
     ]
    }
   ],
   "source": [
    "iter_array = [1, 2, 5, 10, 25]\n",
    "MF_SGD = matrix_factorization.ExplicitMF(tr, 40, learning='sgd', verbose=True)\n",
    "# iter_array = [1, 2, 5, 10, 25, 50, 100, 200]\n",
    "\n",
    "# iter_array = [10]\n",
    "# iter_array = [1, 2, 5, 10, 25]\n",
    "MF_SGD.calculate_learning_curve(iter_array, vr, learning_rate=0.001)"
   ]
  },
  {
   "cell_type": "code",
   "execution_count": 380,
   "metadata": {},
   "outputs": [
    {
     "name": "stdout",
     "output_type": "stream",
     "text": [
      "Iteration: 1\n",
      "Train mse: 1.0081221649490966\n",
      "Test mse: 1.0065790926457936\n",
      "Iteration: 2\n",
      "Train mse: 0.9351036902876875\n",
      "Test mse: 0.9335066480326242\n",
      "Iteration: 5\n",
      "Train mse: 0.8641363109860711\n",
      "Test mse: 0.8631726972942693\n",
      "Iteration: 10\n",
      "Train mse: 0.8319570864115803\n",
      "Test mse: 0.8316635113258415\n",
      "Iteration: 25\n",
      "\tcurrent iteration: 10\n",
      "Train mse: 0.8090816725918839\n",
      "Test mse: 0.8099217632916137\n"
     ]
    }
   ],
   "source": [
    "MF_SGD = matrix_factorization.ExplicitMF(tr_orig, 40, learning='sgd', verbose=True)\n",
    "# iter_array = [1, 2, 5, 10, 25, 50, 100, 200]\n",
    "\n",
    "iter_array = [1, 2, 5, 10, 25]\n",
    "MF_SGD.calculate_learning_curve(iter_array, vr, learning_rate=0.001)"
   ]
  },
  {
   "cell_type": "code",
   "execution_count": 109,
   "metadata": {},
   "outputs": [
    {
     "name": "stdout",
     "output_type": "stream",
     "text": [
      "Iteration: 50\n",
      "\tcurrent iteration: 10\n",
      "\tcurrent iteration: 20\n",
      "\tcurrent iteration: 30\n",
      "\tcurrent iteration: 40\n",
      "\tcurrent iteration: 50\n",
      "Train mse: 0.7596166950039378\n",
      "Test mse: 0.7638189405418305\n"
     ]
    }
   ],
   "source": [
    "MF_SGD = matrix_factorization.ExplicitMF(tr_orig, 40, learning='sgd', verbose=True)\n",
    "# iter_array = [1, 2, 5, 10, 25, 50, 100, 200]\n",
    "\n",
    "iter_array = [50]\n",
    "MF_SGD.calculate_learning_curve(iter_array, vr, learning_rate=0.001)"
   ]
  },
  {
   "cell_type": "code",
   "execution_count": 251,
   "metadata": {},
   "outputs": [
    {
     "name": "stdout",
     "output_type": "stream",
     "text": [
      "Iteration: 50\n"
     ]
    },
    {
     "ename": "KeyboardInterrupt",
     "evalue": "",
     "output_type": "error",
     "traceback": [
      "\u001b[1;31m---------------------------------------------------------------------------\u001b[0m",
      "\u001b[1;31mKeyboardInterrupt\u001b[0m                         Traceback (most recent call last)",
      "\u001b[1;32m<ipython-input-251-ce41a6325072>\u001b[0m in \u001b[0;36m<module>\u001b[1;34m\u001b[0m\n\u001b[0;32m      3\u001b[0m \u001b[1;33m\u001b[0m\u001b[0m\n\u001b[0;32m      4\u001b[0m \u001b[0miter_array\u001b[0m \u001b[1;33m=\u001b[0m \u001b[1;33m[\u001b[0m\u001b[1;36m50\u001b[0m\u001b[1;33m]\u001b[0m\u001b[1;33m\u001b[0m\u001b[1;33m\u001b[0m\u001b[0m\n\u001b[1;32m----> 5\u001b[1;33m \u001b[0mMF_SGD\u001b[0m\u001b[1;33m.\u001b[0m\u001b[0mcalculate_learning_curve\u001b[0m\u001b[1;33m(\u001b[0m\u001b[0miter_array\u001b[0m\u001b[1;33m,\u001b[0m \u001b[0mvr\u001b[0m\u001b[1;33m,\u001b[0m \u001b[0mlearning_rate\u001b[0m\u001b[1;33m=\u001b[0m\u001b[1;36m0.001\u001b[0m\u001b[1;33m)\u001b[0m\u001b[1;33m\u001b[0m\u001b[1;33m\u001b[0m\u001b[0m\n\u001b[0m",
      "\u001b[1;32m~\\аспир\\master_thesis_project\\existing_CF_implementations\\kernelNetTaken\\matrix_factorization.ipynb\u001b[0m in \u001b[0;36mcalculate_learning_curve\u001b[1;34m(self, iter_array, test, learning_rate)\u001b[0m\n\u001b[0;32m    195\u001b[0m     \u001b[1;34m\"            \\n\"\u001b[0m\u001b[1;33m,\u001b[0m\u001b[1;33m\u001b[0m\u001b[1;33m\u001b[0m\u001b[0m\n\u001b[0;32m    196\u001b[0m     \u001b[1;34m\"            # Update biases\\n\"\u001b[0m\u001b[1;33m,\u001b[0m\u001b[1;33m\u001b[0m\u001b[1;33m\u001b[0m\u001b[0m\n\u001b[1;32m--> 197\u001b[1;33m     \u001b[1;34m\"            self.user_bias[u] += self.learning_rate * \\\\\\n\"\u001b[0m\u001b[1;33m,\u001b[0m\u001b[1;33m\u001b[0m\u001b[1;33m\u001b[0m\u001b[0m\n\u001b[0m\u001b[0;32m    198\u001b[0m     \u001b[1;34m\"                                (e - self.user_bias_reg * self.user_bias[u])\\n\"\u001b[0m\u001b[1;33m,\u001b[0m\u001b[1;33m\u001b[0m\u001b[1;33m\u001b[0m\u001b[0m\n\u001b[0;32m    199\u001b[0m     \u001b[1;34m\"            self.item_bias[i] += self.learning_rate * \\\\\\n\"\u001b[0m\u001b[1;33m,\u001b[0m\u001b[1;33m\u001b[0m\u001b[1;33m\u001b[0m\u001b[0m\n",
      "\u001b[1;32m~\\аспир\\master_thesis_project\\existing_CF_implementations\\kernelNetTaken\\matrix_factorization.ipynb\u001b[0m in \u001b[0;36mtrain\u001b[1;34m(self, n_iter, learning_rate)\u001b[0m\n\u001b[0;32m    100\u001b[0m     \u001b[1;34m\"        verbose : (bool)\\n\"\u001b[0m\u001b[1;33m,\u001b[0m\u001b[1;33m\u001b[0m\u001b[1;33m\u001b[0m\u001b[0m\n\u001b[0;32m    101\u001b[0m     \u001b[1;34m\"            Whether or not to printout training progress\\n\"\u001b[0m\u001b[1;33m,\u001b[0m\u001b[1;33m\u001b[0m\u001b[1;33m\u001b[0m\u001b[0m\n\u001b[1;32m--> 102\u001b[1;33m     \u001b[1;34m\"        \\\"\\\"\\\"\\n\"\u001b[0m\u001b[1;33m,\u001b[0m\u001b[1;33m\u001b[0m\u001b[1;33m\u001b[0m\u001b[0m\n\u001b[0m\u001b[0;32m    103\u001b[0m     \u001b[1;34m\"        \\n\"\u001b[0m\u001b[1;33m,\u001b[0m\u001b[1;33m\u001b[0m\u001b[1;33m\u001b[0m\u001b[0m\n\u001b[0;32m    104\u001b[0m     \u001b[1;34m\"        self.ratings = ratings\\n\"\u001b[0m\u001b[1;33m,\u001b[0m\u001b[1;33m\u001b[0m\u001b[1;33m\u001b[0m\u001b[0m\n",
      "\u001b[1;32m~\\аспир\\master_thesis_project\\existing_CF_implementations\\kernelNetTaken\\matrix_factorization.ipynb\u001b[0m in \u001b[0;36mpartial_train\u001b[1;34m(self, n_iter)\u001b[0m\n\u001b[0;32m    126\u001b[0m     \u001b[1;34m\"        \\\"\\\"\\\"\\n\"\u001b[0m\u001b[1;33m,\u001b[0m\u001b[1;33m\u001b[0m\u001b[1;33m\u001b[0m\u001b[0m\n\u001b[0;32m    127\u001b[0m     \u001b[1;34m\"        if type == 'user':\\n\"\u001b[0m\u001b[1;33m,\u001b[0m\u001b[1;33m\u001b[0m\u001b[1;33m\u001b[0m\u001b[0m\n\u001b[1;32m--> 128\u001b[1;33m     \u001b[1;34m\"            # Precompute\\n\"\u001b[0m\u001b[1;33m,\u001b[0m\u001b[1;33m\u001b[0m\u001b[1;33m\u001b[0m\u001b[0m\n\u001b[0m\u001b[0;32m    129\u001b[0m     \u001b[1;34m\"            YTY = fixed_vecs.T.dot(fixed_vecs)\\n\"\u001b[0m\u001b[1;33m,\u001b[0m\u001b[1;33m\u001b[0m\u001b[1;33m\u001b[0m\u001b[0m\n\u001b[0;32m    130\u001b[0m     \u001b[1;34m\"            lambdaI = np.eye(YTY.shape[0]) * _lambda\\n\"\u001b[0m\u001b[1;33m,\u001b[0m\u001b[1;33m\u001b[0m\u001b[1;33m\u001b[0m\u001b[0m\n",
      "\u001b[1;32m~\\аспир\\master_thesis_project\\existing_CF_implementations\\kernelNetTaken\\matrix_factorization.ipynb\u001b[0m in \u001b[0;36msgd\u001b[1;34m(self)\u001b[0m\n\u001b[0;32m    133\u001b[0m     \u001b[1;34m\"                latent_vectors[u, :] = solve((YTY + lambdaI), \\n\"\u001b[0m\u001b[1;33m,\u001b[0m\u001b[1;33m\u001b[0m\u001b[1;33m\u001b[0m\u001b[0m\n\u001b[0;32m    134\u001b[0m     \u001b[1;34m\"                                             ratings[u, :].dot(fixed_vecs))\\n\"\u001b[0m\u001b[1;33m,\u001b[0m\u001b[1;33m\u001b[0m\u001b[1;33m\u001b[0m\u001b[0m\n\u001b[1;32m--> 135\u001b[1;33m     \u001b[1;34m\"        elif type == 'item':\\n\"\u001b[0m\u001b[1;33m,\u001b[0m\u001b[1;33m\u001b[0m\u001b[1;33m\u001b[0m\u001b[0m\n\u001b[0m\u001b[0;32m    136\u001b[0m     \u001b[1;34m\"            # Precompute\\n\"\u001b[0m\u001b[1;33m,\u001b[0m\u001b[1;33m\u001b[0m\u001b[1;33m\u001b[0m\u001b[0m\n\u001b[0;32m    137\u001b[0m     \u001b[1;34m\"            XTX = fixed_vecs.T.dot(fixed_vecs)\\n\"\u001b[0m\u001b[1;33m,\u001b[0m\u001b[1;33m\u001b[0m\u001b[1;33m\u001b[0m\u001b[0m\n",
      "\u001b[1;32m~\\аспир\\master_thesis_project\\existing_CF_implementations\\kernelNetTaken\\matrix_factorization.ipynb\u001b[0m in \u001b[0;36mpredict\u001b[1;34m(self, u, i)\u001b[0m\n\u001b[0;32m    155\u001b[0m     \u001b[1;34m\"        elif self.learning == 'sgd':\\n\"\u001b[0m\u001b[1;33m,\u001b[0m\u001b[1;33m\u001b[0m\u001b[1;33m\u001b[0m\u001b[0m\n\u001b[0;32m    156\u001b[0m     \u001b[1;34m\"            self.learning_rate = learning_rate\\n\"\u001b[0m\u001b[1;33m,\u001b[0m\u001b[1;33m\u001b[0m\u001b[1;33m\u001b[0m\u001b[0m\n\u001b[1;32m--> 157\u001b[1;33m     \u001b[1;34m\"            self.user_bias = np.zeros(self.n_users)\\n\"\u001b[0m\u001b[1;33m,\u001b[0m\u001b[1;33m\u001b[0m\u001b[1;33m\u001b[0m\u001b[0m\n\u001b[0m\u001b[0;32m    158\u001b[0m     \u001b[1;34m\"            self.item_bias = np.zeros(self.n_items)\\n\"\u001b[0m\u001b[1;33m,\u001b[0m\u001b[1;33m\u001b[0m\u001b[1;33m\u001b[0m\u001b[0m\n\u001b[0;32m    159\u001b[0m     \u001b[1;34m\"            self.global_bias = np.mean(self.ratings[np.where(self.ratings != 0)])\\n\"\u001b[0m\u001b[1;33m,\u001b[0m\u001b[1;33m\u001b[0m\u001b[1;33m\u001b[0m\u001b[0m\n",
      "\u001b[1;31mKeyboardInterrupt\u001b[0m: "
     ]
    }
   ],
   "source": [
    "MF_SGD = matrix_factorization.ExplicitMF(tr, 40, learning='sgd', verbose=True)\n",
    "# iter_array = [1, 2, 5, 10, 25, 50, 100, 200]\n",
    "\n",
    "iter_array = [50]\n",
    "MF_SGD.calculate_learning_curve(iter_array, vr, learning_rate=0.001)"
   ]
  },
  {
   "cell_type": "code",
   "execution_count": 185,
   "metadata": {},
   "outputs": [
    {
     "name": "stdout",
     "output_type": "stream",
     "text": [
      "Iteration: 40\n",
      "\tcurrent iteration: 10\n",
      "\tcurrent iteration: 20\n",
      "\tcurrent iteration: 30\n",
      "\tcurrent iteration: 40\n",
      "Train mse: 5.539027135789662\n",
      "Test mse: 5.798524746250075\n"
     ]
    }
   ],
   "source": [
    "MF_SGD = matrix_factorization.ExplicitMF(tr, 40, learning='als', verbose=True)\n",
    "# iter_array = [1, 2, 5, 10, 25, 50, 100, 200]\n",
    "\n",
    "iter_array = [40]\n",
    "MF_SGD.calculate_learning_curve(iter_array, vr, learning_rate=0.001)"
   ]
  },
  {
   "cell_type": "code",
   "execution_count": 381,
   "metadata": {},
   "outputs": [
    {
     "name": "stdout",
     "output_type": "stream",
     "text": [
      "Iteration: 200\n",
      "\tcurrent iteration: 10\n",
      "\tcurrent iteration: 20\n",
      "\tcurrent iteration: 30\n",
      "\tcurrent iteration: 40\n",
      "\tcurrent iteration: 50\n",
      "\tcurrent iteration: 60\n",
      "\tcurrent iteration: 70\n",
      "\tcurrent iteration: 80\n",
      "\tcurrent iteration: 90\n",
      "\tcurrent iteration: 100\n",
      "\tcurrent iteration: 110\n",
      "\tcurrent iteration: 120\n",
      "\tcurrent iteration: 130\n",
      "\tcurrent iteration: 140\n",
      "\tcurrent iteration: 150\n",
      "\tcurrent iteration: 160\n",
      "\tcurrent iteration: 170\n",
      "\tcurrent iteration: 180\n",
      "\tcurrent iteration: 190\n",
      "\tcurrent iteration: 200\n",
      "Train mse: 5.432149262874834\n",
      "Test mse: 5.847738325764118\n"
     ]
    }
   ],
   "source": [
    "MF_SGD = matrix_factorization.ExplicitMF(np.append(tr_orig, adding_fake, axis=0), 40, learning='als', verbose=True)\n",
    "# iter_array = [1, 2, 5, 10, 25, 50, 100, 200]\n",
    "\n",
    "iter_array = [200]\n",
    "MF_SGD.calculate_learning_curve(iter_array, vr, learning_rate=0.001)"
   ]
  },
  {
   "cell_type": "code",
   "execution_count": 382,
   "metadata": {},
   "outputs": [
    {
     "name": "stdout",
     "output_type": "stream",
     "text": [
      "Iteration: 200\n",
      "\tcurrent iteration: 10\n",
      "\tcurrent iteration: 20\n",
      "\tcurrent iteration: 30\n",
      "\tcurrent iteration: 40\n",
      "\tcurrent iteration: 50\n",
      "\tcurrent iteration: 60\n",
      "\tcurrent iteration: 70\n",
      "\tcurrent iteration: 80\n",
      "\tcurrent iteration: 90\n",
      "\tcurrent iteration: 100\n",
      "\tcurrent iteration: 110\n",
      "\tcurrent iteration: 120\n",
      "\tcurrent iteration: 130\n",
      "\tcurrent iteration: 140\n",
      "\tcurrent iteration: 150\n",
      "\tcurrent iteration: 160\n",
      "\tcurrent iteration: 170\n",
      "\tcurrent iteration: 180\n",
      "\tcurrent iteration: 190\n",
      "\tcurrent iteration: 200\n",
      "Train mse: 5.432143338931888\n",
      "Test mse: 5.847738347913168\n"
     ]
    }
   ],
   "source": [
    "MF_SGD = matrix_factorization.ExplicitMF(tr, 40, learning='als', verbose=True)\n",
    "# iter_array = [1, 2, 5, 10, 25, 50, 100, 200]\n",
    "\n",
    "iter_array = [200]\n",
    "MF_SGD.calculate_learning_curve(iter_array, vr, learning_rate=0.001)"
   ]
  },
  {
   "cell_type": "code",
   "execution_count": null,
   "metadata": {},
   "outputs": [],
   "source": [
    "tr_orig"
   ]
  },
  {
   "cell_type": "code",
   "execution_count": null,
   "metadata": {},
   "outputs": [],
   "source": [
    "MF_SGD = matrix_factorization.ExplicitMF(np.append(tr_orig, adding_fake, axis=0), 40, learning='sgd', verbose=True)\n",
    "# iter_array = [1, 2, 5, 10, 25, 50, 100, 200]\n",
    "\n",
    "iter_array = [20]\n",
    "MF_SGD.calculate_learning_curve(iter_array, vr, learning_rate=0.001)"
   ]
  },
  {
   "cell_type": "code",
   "execution_count": null,
   "metadata": {},
   "outputs": [],
   "source": [
    "tr.shape, tr_orig.shape"
   ]
  },
  {
   "cell_type": "code",
   "execution_count": null,
   "metadata": {},
   "outputs": [],
   "source": [
    "MF_SGD = matrix_factorization.ExplicitMF(tr_orig, 40, learning='sgd', verbose=True)\n",
    "# iter_array = [1, 2, 5, 10, 25, 50, 100, 200]\n",
    "\n",
    "iter_array = [40]\n",
    "MF_SGD.calculate_learning_curve(iter_array, vr, learning_rate=0.001)"
   ]
  },
  {
   "cell_type": "code",
   "execution_count": null,
   "metadata": {},
   "outputs": [],
   "source": [
    "tr.shape"
   ]
  },
  {
   "cell_type": "code",
   "execution_count": null,
   "metadata": {},
   "outputs": [],
   "source": [
    "tr_2 = np.append(tr, to_concat[:2000,:], axis=0)"
   ]
  },
  {
   "cell_type": "code",
   "execution_count": null,
   "metadata": {},
   "outputs": [],
   "source": [
    "MF_SGD = matrix_factorization.ExplicitMF(tr_2, 40, learning='sgd', verbose=True)\n",
    "# iter_array = [1, 2, 5, 10, 25, 50, 100, 200]\n",
    "\n",
    "iter_array = [10]\n",
    "MF_SGD.calculate_learning_curve(iter_array, vr, learning_rate=0.001)"
   ]
  },
  {
   "cell_type": "code",
   "execution_count": null,
   "metadata": {},
   "outputs": [],
   "source": [
    "tm = np.greater(tr, 1e-12).astype('float32')  # masks indicating non-zero entries\n",
    "tm_orig = np.greater(tr_orig, 1e-12).astype('float32')\n",
    "vm = np.greater(vr, 1e-12).astype('float32')\n",
    "\n",
    "n_m = tr.shape[0]  # number of movies\n",
    "n_u = tr.shape[1]  # number of users (may be switched depending on 'transpose' in loadData)\n",
    "\n",
    "# Set hyper-parameters\n",
    "n_hid = 500\n",
    "# lambda_2 = float(sys.argv[1]) if len(sys.argv) > 1 else 60.\n",
    "# lambda_s = float(sys.argv[2]) if len(sys.argv) > 2 else 0.013\n",
    "n_layers = 2\n",
    "output_every = 50  # evaluate performance on test set; breaks l-bfgs loop\n",
    "n_epoch = n_layers * 10 * output_every\n",
    "verbose_bfgs = True\n",
    "use_gpu = True"
   ]
  },
  {
   "cell_type": "code",
   "execution_count": null,
   "metadata": {},
   "outputs": [],
   "source": [
    "if not use_gpu:\n",
    "    os.environ['CUDA_VISIBLE_DEVICES'] = ''\n",
    "    \n",
    "# Input placeholders\n",
    "R = tf.placeholder(\"float\", [None, n_u])"
   ]
  },
  {
   "cell_type": "code",
   "execution_count": null,
   "metadata": {},
   "outputs": [],
   "source": [
    "# define network functions\n",
    "def kernel(u, v):\n",
    "    \"\"\"\n",
    "    Sparsifying kernel function\n",
    "\n",
    "    :param u: input vectors [n_in, 1, n_dim]\n",
    "    :param v: output vectors [1, n_hid, n_dim]\n",
    "    :return: input to output connection matrix\n",
    "    \"\"\"\n",
    "    dist = tf.norm(u - v, ord=2, axis=2)\n",
    "    hat = tf.maximum(0., 1. - dist**2)\n",
    "    return hat\n",
    "\n",
    "\n",
    "def kernel_layer(x, n_hid=500, n_dim=5, activation=tf.nn.sigmoid, name=''):\n",
    "    \"\"\"\n",
    "    a kernel sparsified layer\n",
    "\n",
    "    :param x: input [batch, channels]\n",
    "    :param n_hid: number of hidden units\n",
    "    :param n_dim: number of dimensions to embed for kernelization\n",
    "    :param activation: output activation\n",
    "    :param name: layer name for scoping\n",
    "    :return: layer output, regularization term\n",
    "    \"\"\"\n",
    "\n",
    "    # define variables\n",
    "    with tf.variable_scope(name):\n",
    "        W = tf.get_variable('W', [x.shape[1], n_hid])\n",
    "        n_in = x.get_shape().as_list()[1]\n",
    "        u = tf.get_variable('u', initializer=tf.random.truncated_normal([n_in, 1, n_dim], 0., 1e-3))\n",
    "        v = tf.get_variable('v', initializer=tf.random.truncated_normal([1, n_hid, n_dim], 0., 1e-3))\n",
    "        b = tf.get_variable('b', [n_hid])\n",
    "\n",
    "    # compute sparsifying kernel\n",
    "    # as u and v move further from each other for some given pair of neurons, their connection\n",
    "    # decreases in strength and eventually goes to zero.\n",
    "    w_hat = kernel(u, v)\n",
    "\n",
    "    # compute regularization terms\n",
    "#     sparse_reg = tf.contrib.layers.l2_regularizer(lambda_s)\n",
    "    sparse_reg_term = tf.contrib.layers.apply_regularization(sparse_reg, [w_hat])\n",
    "\n",
    "    l2_reg = tf.contrib.layers.l2_regularizer(lambda_2)\n",
    "    l2_reg_term = tf.contrib.layers.apply_regularization(l2_reg, [W])\n",
    "\n",
    "    # compute output\n",
    "    W_eff = W * w_hat\n",
    "    y = tf.matmul(x, W_eff) + b\n",
    "    y = activation(y)\n",
    "    return y, sparse_reg_term + l2_reg_term\n",
    "\n",
    "\n",
    "# Instantiate network\n",
    "y = R\n",
    "reg_losses = None\n",
    "for i in range(n_layers):\n",
    "    y, reg_loss = kernel_layer(y, n_hid, name=str(i))\n",
    "    reg_losses = reg_loss if reg_losses is None else reg_losses + reg_loss\n",
    "prediction, reg_loss = kernel_layer(y, n_u, activation=tf.identity, name='out')\n",
    "reg_losses = reg_losses + reg_loss\n",
    "\n",
    "# Compute loss (symbolic)\n",
    "diff = tm*(R - prediction)\n",
    "sqE = tf.nn.l2_loss(diff)\n",
    "loss = sqE + reg_losses\n",
    "\n",
    "# Instantiate L-BFGS Optimizer\n",
    "optimizer = tf.contrib.opt.ScipyOptimizerInterface(loss, options={'maxiter': output_every,\n",
    "                                                                  'disp': verbose_bfgs,\n",
    "                                                                  'maxcor': 10},\n",
    "                                                   method='L-BFGS-B')"
   ]
  },
  {
   "cell_type": "code",
   "execution_count": null,
   "metadata": {},
   "outputs": [],
   "source": [
    "# Training and validation loop\n",
    "init = tf.global_variables_initializer()\n",
    "with tf.Session() as sess:\n",
    "    sess.run(init)\n",
    "    for i in range(int(n_epoch / output_every)):\n",
    "        optimizer.minimize(sess, feed_dict={R: tr}) #do maxiter optimization steps\n",
    "        pre = sess.run(prediction, feed_dict={R: tr}) #predict ratings\n",
    "\n",
    "        error = (vm * (np.clip(pre, 1., 5.) - vr) ** 2).sum() / vm.sum() #compute validation error\n",
    "        error_train = (tm * (np.clip(pre, 1., 5.) - tr) ** 2).sum() / tm.sum() #compute train error\n",
    "        error_train_orig = (tm_orig * (np.clip(pre, 1., 5.) - tr_orig) ** 2).sum() / tm_orig.sum() #compute train error\n",
    "\n",
    "        print('.-^-._' * 12)\n",
    "        print('epoch:', i, 'validation rmse:', np.sqrt(error), 'train rmse:', np.sqrt(error_train), 'train orig rmse:', np.sqrt(error_train_orig))\n",
    "        print('.-^-._' * 12)\n",
    "\n",
    "    with open('summary_ml1m.txt', 'a') as file:\n",
    "        for a in sys.argv[1:]:\n",
    "            file.write(a + ' ')\n",
    "        file.write(str(np.sqrt(error)) + ' ' + str(np.sqrt(error_train), + ' ' + str(np.sqrt(error_train))\n",
    "                   + ' ' + str(seed) + '\\n')\n",
    "        file.close()"
   ]
  },
  {
   "cell_type": "code",
   "execution_count": null,
   "metadata": {},
   "outputs": [],
   "source": []
  }
 ],
 "metadata": {
  "kernelspec": {
   "display_name": "Python 3",
   "language": "python",
   "name": "python3"
  },
  "language_info": {
   "codemirror_mode": {
    "name": "ipython",
    "version": 3
   },
   "file_extension": ".py",
   "mimetype": "text/x-python",
   "name": "python",
   "nbconvert_exporter": "python",
   "pygments_lexer": "ipython3",
   "version": "3.7.3"
  }
 },
 "nbformat": 4,
 "nbformat_minor": 2
}
